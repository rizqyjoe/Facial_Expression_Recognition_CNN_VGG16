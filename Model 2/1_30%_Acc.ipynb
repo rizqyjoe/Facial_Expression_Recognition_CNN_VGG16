{
  "nbformat": 4,
  "nbformat_minor": 0,
  "metadata": {
    "colab": {
      "name": "1.ipynb",
      "provenance": [],
      "mount_file_id": "1_N8ZFqSPhZQvJzP7d0vyvr5alKIsAfm8",
      "authorship_tag": "ABX9TyMXVPuDZ5vdJtKT7D3D0l6b",
      "include_colab_link": true
    },
    "kernelspec": {
      "name": "python3",
      "display_name": "Python 3"
    },
    "language_info": {
      "name": "python"
    }
  },
  "cells": [
    {
      "cell_type": "markdown",
      "metadata": {
        "id": "view-in-github",
        "colab_type": "text"
      },
      "source": [
        "<a href=\"https://colab.research.google.com/github/rizqyjoe/Facial_Expression_Recognition_CNN_VGG16/blob/main/Model%202/1_30%25_Acc.ipynb\" target=\"_parent\"><img src=\"https://colab.research.google.com/assets/colab-badge.svg\" alt=\"Open In Colab\"/></a>"
      ]
    },
     {
      "cell_type": "code",
      "metadata": {
        "id": "qiXLLA2ka-a9",
        "colab": {
          "base_uri": "https://localhost:8080/"
        },
        "outputId": "31243903-dde9-4b05-dcc5-58dcc86d98de"
      },
      "source": [
        "#Import Libraries\n",
        "from keras.preprocessing.image import ImageDataGenerator\n",
        "import keras\n",
        "from keras.models import Sequential, Model\n",
        "from keras.layers import Input,Dense,Flatten,Dropout\n",
        "from keras.applications import VGG16\n",
        "from keras.applications.vgg16 import preprocess_input as pi\n",
        "from keras.optimizers import Adam,RMSprop\n",
        "from keras import optimizers\n",
        "\n",
        "print(keras.__version__)"
      ],
      "execution_count": 26,
      "outputs": [
        {
          "output_type": "stream",
          "text": [
            "2.4.3\n"
          ],
          "name": "stdout"
        }
      ]
    },
    {
      "cell_type": "code",
      "metadata": {
        "id": "GWpF9xzWbD9U"
      },
      "source": [
        "num_classes =7\n",
        "image_resize = 48\n",
        "batch_size_training = 64\n",
        "batch_size_validation = 64\n",
        "\n",
        "path_training = '/content/drive/MyDrive/Dataset/FER2013/images/train'\n",
        "path_validation = '/content/drive/MyDrive/Dataset/FER2013/images/validation'"
      ],
      "execution_count": 27,
      "outputs": []
    },
    {
      "cell_type": "code",
      "metadata": {
        "id": "C0ytmdNTbJQs"
      },
      "source": [
        "data_generator =ImageDataGenerator(\n",
        "    preprocessing_function = pi\n",
        ")"
      ],
      "execution_count": 28,
      "outputs": []
    },
    {
      "cell_type": "code",
      "metadata": {
        "id": "9oOrnuDSbkra",
        "colab": {
          "base_uri": "https://localhost:8080/"
        },
        "outputId": "578cc71b-8f24-455c-c3fb-6af1906d462a"
      },
      "source": [
        "training_generator = data_generator.flow_from_directory(\n",
        "    path_training,\n",
        "    target_size = (image_resize,image_resize),\n",
        "    batch_size = batch_size_training,\n",
        "    class_mode='categorical')"
      ],
      "execution_count": 29,
      "outputs": [
        {
          "output_type": "stream",
          "text": [
            "Found 28831 images belonging to 7 classes.\n"
          ],
          "name": "stdout"
        }
      ]
    },
    {
      "cell_type": "code",
      "metadata": {
        "id": "AOhcycrUb3Cx",
        "colab": {
          "base_uri": "https://localhost:8080/"
        },
        "outputId": "d05fc8ea-94c6-420a-b130-e72bec9e3cd7"
      },
      "source": [
        "validation_generator = data_generator.flow_from_directory(\n",
        "    path_validation,\n",
        "    target_size = (image_resize,image_resize),\n",
        "    batch_size = batch_size_validation,\n",
        "    class_mode='categorical',\n",
        ")"
      ],
      "execution_count": 30,
      "outputs": [
        {
          "output_type": "stream",
          "text": [
            "Found 7066 images belonging to 7 classes.\n"
          ],
          "name": "stdout"
        }
      ]
    },
    {
      "cell_type": "code",
      "metadata": {
        "id": "AXncJbb8b6UZ",
        "colab": {
          "base_uri": "https://localhost:8080/"
        },
        "outputId": "859831a6-0ba6-44d3-a03d-4231d3833c9f"
      },
      "source": [
        "input_tensor = Input(shape=(48, 48, 3))\n",
        "vgg16 = VGG16(include_top=False, weights='imagenet', input_tensor=input_tensor)\n",
        "\n",
        "top_model = Sequential()\n",
        "top_model.add(Flatten(input_shape=vgg16.output_shape[1:]))\n",
        "top_model.add(Dense(512, activation='relu'))\n",
        "top_model.add(Dropout(0.5))\n",
        "top_model.add(Dense(256, activation='relu'))\n",
        "top_model.add(Dropout(0.5))\n",
        "top_model.add(Dense(7, activation='sigmoid'))\n",
        "\n",
        "model = Model(vgg16.input, top_model(vgg16.output))\n",
        "for layer in model.layers[:13]:\n",
        "  layer.trainable = False\n",
        "\n",
        "model.summary()"
      ],
      "execution_count": 35,
      "outputs": [
        {
          "output_type": "stream",
          "text": [
            "Model: \"model_3\"\n",
            "_________________________________________________________________\n",
            "Layer (type)                 Output Shape              Param #   \n",
            "=================================================================\n",
            "input_6 (InputLayer)         [(None, 48, 48, 3)]       0         \n",
            "_________________________________________________________________\n",
            "block1_conv1 (Conv2D)        (None, 48, 48, 64)        1792      \n",
            "_________________________________________________________________\n",
            "block1_conv2 (Conv2D)        (None, 48, 48, 64)        36928     \n",
            "_________________________________________________________________\n",
            "block1_pool (MaxPooling2D)   (None, 24, 24, 64)        0         \n",
            "_________________________________________________________________\n",
            "block2_conv1 (Conv2D)        (None, 24, 24, 128)       73856     \n",
            "_________________________________________________________________\n",
            "block2_conv2 (Conv2D)        (None, 24, 24, 128)       147584    \n",
            "_________________________________________________________________\n",
            "block2_pool (MaxPooling2D)   (None, 12, 12, 128)       0         \n",
            "_________________________________________________________________\n",
            "block3_conv1 (Conv2D)        (None, 12, 12, 256)       295168    \n",
            "_________________________________________________________________\n",
            "block3_conv2 (Conv2D)        (None, 12, 12, 256)       590080    \n",
            "_________________________________________________________________\n",
            "block3_conv3 (Conv2D)        (None, 12, 12, 256)       590080    \n",
            "_________________________________________________________________\n",
            "block3_pool (MaxPooling2D)   (None, 6, 6, 256)         0         \n",
            "_________________________________________________________________\n",
            "block4_conv1 (Conv2D)        (None, 6, 6, 512)         1180160   \n",
            "_________________________________________________________________\n",
            "block4_conv2 (Conv2D)        (None, 6, 6, 512)         2359808   \n",
            "_________________________________________________________________\n",
            "block4_conv3 (Conv2D)        (None, 6, 6, 512)         2359808   \n",
            "_________________________________________________________________\n",
            "block4_pool (MaxPooling2D)   (None, 3, 3, 512)         0         \n",
            "_________________________________________________________________\n",
            "block5_conv1 (Conv2D)        (None, 3, 3, 512)         2359808   \n",
            "_________________________________________________________________\n",
            "block5_conv2 (Conv2D)        (None, 3, 3, 512)         2359808   \n",
            "_________________________________________________________________\n",
            "block5_conv3 (Conv2D)        (None, 3, 3, 512)         2359808   \n",
            "_________________________________________________________________\n",
            "block5_pool (MaxPooling2D)   (None, 1, 1, 512)         0         \n",
            "_________________________________________________________________\n",
            "sequential_5 (Sequential)    (None, 7)                 395783    \n",
            "=================================================================\n",
            "Total params: 15,110,471\n",
            "Trainable params: 9,835,015\n",
            "Non-trainable params: 5,275,456\n",
            "_________________________________________________________________\n"
          ],
          "name": "stdout"
        }
      ]
    },
    {
      "cell_type": "code",
      "metadata": {
        "id": "9Dpq-c5YhAfn"
      },
      "source": [
        "model.compile(loss='categorical_crossentropy',\n",
        "              optimizer=RMSprop(lr=0.001),\n",
        "              metrics=['acc'])"
      ],
      "execution_count": 36,
      "outputs": []
    },
    {
      "cell_type": "code",
      "metadata": {
        "id": "lDnJ_LcFhC-W"
      },
      "source": [
        "steps_per_epoch_training = len(training_generator)/batch_size_training\n",
        "steps_per_epoch_validation = len(validation_generator)/batch_size_validation\n",
        "num_epochs = 50"
      ],
      "execution_count": 37,
      "outputs": []
    },
    {
      "cell_type": "code",
      "metadata": {
        "id": "tuLQ-HQVhFz3",
        "colab": {
          "base_uri": "https://localhost:8080/"
        },
        "outputId": "79b268fd-0600-4b6b-ca50-1006bf7ca692"
      },
      "source": [
        "fit_history = model.fit(training_generator,\n",
        "                        steps_per_epoch = steps_per_epoch_training,\n",
        "                        epochs = num_epochs,\n",
        "                        validation_data=validation_generator,\n",
        "                        validation_steps = steps_per_epoch_validation,\n",
        "                        verbose=1)"
      ],
      "execution_count": 38,
      "outputs": [
        {
          "output_type": "stream",
          "text": [
            "Epoch 1/50\n",
            "7/7 [==============================] - 172s 25s/step - loss: 138.1965 - acc: 0.1397 - val_loss: 1.9316 - val_acc: 0.2969\n",
            "Epoch 2/50\n",
            "7/7 [==============================] - 168s 25s/step - loss: 1.9301 - acc: 0.2653 - val_loss: 1.9172 - val_acc: 0.2656\n",
            "Epoch 3/50\n",
            "7/7 [==============================] - 163s 24s/step - loss: 1.9104 - acc: 0.2921 - val_loss: 1.9050 - val_acc: 0.2891\n",
            "Epoch 4/50\n",
            "7/7 [==============================] - 161s 24s/step - loss: 1.9019 - acc: 0.2572 - val_loss: 1.8827 - val_acc: 0.3125\n",
            "Epoch 5/50\n",
            "7/7 [==============================] - 154s 23s/step - loss: 1.8899 - acc: 0.2465 - val_loss: 1.8966 - val_acc: 0.2109\n",
            "Epoch 6/50\n",
            "7/7 [==============================] - 156s 23s/step - loss: 1.8854 - acc: 0.2492 - val_loss: 1.8530 - val_acc: 0.3359\n",
            "Epoch 7/50\n",
            "7/7 [==============================] - 147s 21s/step - loss: 1.8797 - acc: 0.2312 - val_loss: 1.8549 - val_acc: 0.2812\n",
            "Epoch 8/50\n",
            "7/7 [==============================] - 143s 21s/step - loss: 1.8563 - acc: 0.2563 - val_loss: 1.8287 - val_acc: 0.3125\n",
            "Epoch 9/50\n",
            "7/7 [==============================] - 146s 21s/step - loss: 1.8401 - acc: 0.2641 - val_loss: 1.8251 - val_acc: 0.2656\n",
            "Epoch 10/50\n",
            "7/7 [==============================] - 134s 20s/step - loss: 1.8491 - acc: 0.2615 - val_loss: 1.8436 - val_acc: 0.2734\n",
            "Epoch 11/50\n",
            "7/7 [==============================] - 132s 19s/step - loss: 1.8350 - acc: 0.2467 - val_loss: 1.7634 - val_acc: 0.3516\n",
            "Epoch 12/50\n",
            "7/7 [==============================] - 133s 20s/step - loss: 1.8433 - acc: 0.2651 - val_loss: 1.7971 - val_acc: 0.2969\n",
            "Epoch 13/50\n",
            "7/7 [==============================] - 125s 19s/step - loss: 1.8346 - acc: 0.2586 - val_loss: 1.8182 - val_acc: 0.2578\n",
            "Epoch 14/50\n",
            "7/7 [==============================] - 125s 18s/step - loss: 1.8580 - acc: 0.2058 - val_loss: 1.8381 - val_acc: 0.2188\n",
            "Epoch 15/50\n",
            "7/7 [==============================] - 128s 19s/step - loss: 1.8296 - acc: 0.2342 - val_loss: 1.7876 - val_acc: 0.2891\n",
            "Epoch 16/50\n",
            "7/7 [==============================] - 115s 17s/step - loss: 1.8304 - acc: 0.2288 - val_loss: 1.8004 - val_acc: 0.2734\n",
            "Epoch 17/50\n",
            "7/7 [==============================] - 111s 16s/step - loss: 1.8433 - acc: 0.2134 - val_loss: 1.8011 - val_acc: 0.2188\n",
            "Epoch 18/50\n",
            "7/7 [==============================] - 115s 17s/step - loss: 1.8182 - acc: 0.2126 - val_loss: 1.8489 - val_acc: 0.2422\n",
            "Epoch 19/50\n",
            "7/7 [==============================] - 115s 17s/step - loss: 1.8094 - acc: 0.2487 - val_loss: 1.8504 - val_acc: 0.1797\n",
            "Epoch 20/50\n",
            "7/7 [==============================] - 113s 17s/step - loss: 1.8308 - acc: 0.2151 - val_loss: 1.8118 - val_acc: 0.2734\n",
            "Epoch 21/50\n",
            "7/7 [==============================] - 117s 17s/step - loss: 1.8008 - acc: 0.2871 - val_loss: 1.7996 - val_acc: 0.2031\n",
            "Epoch 22/50\n",
            "7/7 [==============================] - 112s 16s/step - loss: 1.7920 - acc: 0.2895 - val_loss: 1.8511 - val_acc: 0.1953\n",
            "Epoch 23/50\n",
            "7/7 [==============================] - 105s 15s/step - loss: 1.8246 - acc: 0.2506 - val_loss: 1.8408 - val_acc: 0.2344\n",
            "Epoch 24/50\n",
            "7/7 [==============================] - 106s 16s/step - loss: 1.7939 - acc: 0.2694 - val_loss: 1.8003 - val_acc: 0.2422\n",
            "Epoch 25/50\n",
            "7/7 [==============================] - 102s 15s/step - loss: 1.7962 - acc: 0.2719 - val_loss: 1.7799 - val_acc: 0.2734\n",
            "Epoch 26/50\n",
            "7/7 [==============================] - 98s 14s/step - loss: 1.7967 - acc: 0.2447 - val_loss: 1.8114 - val_acc: 0.2734\n",
            "Epoch 27/50\n",
            "7/7 [==============================] - 91s 13s/step - loss: 1.8285 - acc: 0.2647 - val_loss: 1.8445 - val_acc: 0.2812\n",
            "Epoch 28/50\n",
            "7/7 [==============================] - 94s 14s/step - loss: 1.8339 - acc: 0.2207 - val_loss: 1.7748 - val_acc: 0.2969\n",
            "Epoch 29/50\n",
            "7/7 [==============================] - 91s 13s/step - loss: 1.8118 - acc: 0.2467 - val_loss: 1.8544 - val_acc: 0.2266\n",
            "Epoch 30/50\n",
            "7/7 [==============================] - 94s 14s/step - loss: 1.7902 - acc: 0.2545 - val_loss: 1.8605 - val_acc: 0.2266\n",
            "Epoch 31/50\n",
            "7/7 [==============================] - 83s 12s/step - loss: 1.8174 - acc: 0.2475 - val_loss: 1.7592 - val_acc: 0.3438\n",
            "Epoch 32/50\n",
            "7/7 [==============================] - 81s 12s/step - loss: 1.8376 - acc: 0.2251 - val_loss: 1.8103 - val_acc: 0.2578\n",
            "Epoch 33/50\n",
            "7/7 [==============================] - 89s 13s/step - loss: 1.8664 - acc: 0.2110 - val_loss: 1.8375 - val_acc: 0.2266\n",
            "Epoch 34/50\n",
            "7/7 [==============================] - 78s 11s/step - loss: 1.8476 - acc: 0.2050 - val_loss: 1.8452 - val_acc: 0.2656\n",
            "Epoch 35/50\n",
            "7/7 [==============================] - 80s 12s/step - loss: 1.8120 - acc: 0.2647 - val_loss: 1.8175 - val_acc: 0.2109\n",
            "Epoch 36/50\n",
            "7/7 [==============================] - 79s 11s/step - loss: 1.8500 - acc: 0.2262 - val_loss: 1.7768 - val_acc: 0.3125\n",
            "Epoch 37/50\n",
            "7/7 [==============================] - 75s 11s/step - loss: 1.7872 - acc: 0.2324 - val_loss: 1.8579 - val_acc: 0.1875\n",
            "Epoch 38/50\n",
            "7/7 [==============================] - 73s 10s/step - loss: 1.8659 - acc: 0.2243 - val_loss: 1.8122 - val_acc: 0.1875\n",
            "Epoch 39/50\n",
            "7/7 [==============================] - 74s 11s/step - loss: 1.8338 - acc: 0.2270 - val_loss: 1.7817 - val_acc: 0.3125\n",
            "Epoch 40/50\n",
            "7/7 [==============================] - 71s 10s/step - loss: 1.8166 - acc: 0.2350 - val_loss: 1.7658 - val_acc: 0.3125\n",
            "Epoch 41/50\n",
            "7/7 [==============================] - 65s 9s/step - loss: 1.8298 - acc: 0.1952 - val_loss: 1.8430 - val_acc: 0.2969\n",
            "Epoch 42/50\n",
            "7/7 [==============================] - 69s 10s/step - loss: 1.8118 - acc: 0.2223 - val_loss: 1.8316 - val_acc: 0.2500\n",
            "Epoch 43/50\n",
            "7/7 [==============================] - 66s 10s/step - loss: 1.8492 - acc: 0.2424 - val_loss: 1.8005 - val_acc: 0.2344\n",
            "Epoch 44/50\n",
            "7/7 [==============================] - 63s 9s/step - loss: 1.8427 - acc: 0.2277 - val_loss: 1.7466 - val_acc: 0.3281\n",
            "Epoch 45/50\n",
            "7/7 [==============================] - 70s 10s/step - loss: 1.8497 - acc: 0.2494 - val_loss: 1.8300 - val_acc: 0.2969\n",
            "Epoch 46/50\n",
            "7/7 [==============================] - 65s 9s/step - loss: 1.8258 - acc: 0.2283 - val_loss: 1.8372 - val_acc: 0.2266\n",
            "Epoch 47/50\n",
            "7/7 [==============================] - 57s 8s/step - loss: 1.7879 - acc: 0.2704 - val_loss: 1.7898 - val_acc: 0.3203\n",
            "Epoch 48/50\n",
            "7/7 [==============================] - 62s 9s/step - loss: 1.8398 - acc: 0.2499 - val_loss: 1.8150 - val_acc: 0.2422\n",
            "Epoch 49/50\n",
            "7/7 [==============================] - 60s 8s/step - loss: 1.7836 - acc: 0.2650 - val_loss: 1.8589 - val_acc: 0.1797\n",
            "Epoch 50/50\n",
            "7/7 [==============================] - 58s 8s/step - loss: 1.8306 - acc: 0.2246 - val_loss: 1.7538 - val_acc: 0.3125\n"
          ],
          "name": "stdout"
        }
      ]
    },
    {
      "cell_type": "code",
      "metadata": {
        "id": "r6vPErD3K1ko"
      },
      "source": [
        "model.save('Model2_Fine-Tune_VGG16.h5')"
      ],
      "execution_count": null,
      "outputs": []
    },
    {
      "cell_type": "code",
      "metadata": {
        "colab": {
          "base_uri": "https://localhost:8080/",
          "height": 573
        },
        "id": "xkNW_AGVLDvO",
        "outputId": "5bd88c4f-4399-4606-fdaf-d1ef64934426"
      },
      "source": [
        "import matplotlib.pyplot as plt\n",
        "\n",
        "accuracy = fit_history.history['acc']\n",
        "val_accuracy = fit_history.history['val_acc']\n",
        "loss = fit_history.history['loss']\n",
        "val_loss = fit_history.history['val_loss']\n",
        "num_epochs = range(len(accuracy))\n",
        "plt.plot(num_epochs, accuracy, 'r', label='Training acc')\n",
        "plt.plot(num_epochs, val_accuracy, 'b', label='Validation acc')\n",
        "plt.title('Training and validation accuracy')\n",
        "plt.ylabel('accuracy')  \n",
        "plt.xlabel('epoch')\n",
        "plt.legend()\n",
        "plt.figure()\n",
        "plt.plot(num_epochs, loss, 'r', label='Training loss')\n",
        "plt.plot(num_epochs, val_loss, 'b', label='Validation loss')\n",
        "plt.title('Training and validation loss')\n",
        "plt.ylabel('loss')  \n",
        "plt.xlabel('epoch')\n",
        "plt.legend()\n",
        "plt.show()"
      ],
      "execution_count": 40,
      "outputs": [
        {
          "output_type": "display_data",
          "data": {
            "image/png": "[encoded data removed]",
            "text/plain": [
              "<Figure size 432x288 with 1 Axes>"
            ]
          },
          "metadata": {
            "tags": [],
            "needs_background": "light"
          }
        },
        {
          "output_type": "display_data",
          "data": {
            "image/png": "[encoded data removed]",
            "text/plain": [
              "<Figure size 432x288 with 1 Axes>"
            ]
          },
          "metadata": {
            "tags": [],
            "needs_background": "light"
          }
        }
      ]
    }
  ]
}
