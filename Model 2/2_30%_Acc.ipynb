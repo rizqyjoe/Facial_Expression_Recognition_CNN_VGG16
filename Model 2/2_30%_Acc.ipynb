{
  "nbformat": 4,
  "nbformat_minor": 0,
  "metadata": {
    "colab": {
      "name": "1.ipynb",
      "provenance": [],
      "mount_file_id": "1_N8ZFqSPhZQvJzP7d0vyvr5alKIsAfm8",
      "authorship_tag": "ABX9TyObbBlx0OifvzKml79oC/bW",
      "include_colab_link": true
    },
    "kernelspec": {
      "name": "python3",
      "display_name": "Python 3"
    },
    "language_info": {
      "name": "python"
    }
  },
  "cells": [
    {
      "cell_type": "markdown",
      "metadata": {
        "id": "view-in-github",
        "colab_type": "text"
      },
      "source": [
        "<a href=\"https://colab.research.google.com/github/rizqyjoe/Facial_Expression_Recognition_CNN_VGG16/blob/main/Model%202/2_30%25_Acc.ipynb\" target=\"_parent\"><img src=\"https://colab.research.google.com/assets/colab-badge.svg\" alt=\"Open In Colab\"/></a>"
       ]
    },
    {
      "cell_type": "code",
      "metadata": {
        "id": "qiXLLA2ka-a9",
        "colab": {
          "base_uri": "https://localhost:8080/"
        },
        "outputId": "261684a8-26e9-475a-90e8-f96917c2abb9"
      },
      "source": [
        "#Import Libraries\n",
        "from keras.preprocessing.image import ImageDataGenerator\n",
        "import keras\n",
        "from keras.models import Sequential, Model\n",
        "from keras.layers import Input,Dense,Flatten,Dropout\n",
        "from keras.applications import VGG16\n",
        "from keras.applications.vgg16 import preprocess_input as pi\n",
        "from keras.optimizers import Adam,RMSprop\n",
        "from keras import optimizers\n",
        "\n",
        "print(keras.__version__)"
      ],
      "execution_count": 7,
      "outputs": [
        {
          "output_type": "stream",
          "text": [
            "2.4.3\n"
          ],
          "name": "stdout"
        }
      ]
    },
    {
      "cell_type": "code",
      "metadata": {
        "id": "GWpF9xzWbD9U"
      },
      "source": [
        "num_classes =7\n",
        "image_resize = 48\n",
        "batch_size_training = 64\n",
        "batch_size_validation = 64\n",
        "\n",
        "path_training = '/content/drive/MyDrive/Dataset/FER2013/images/train'\n",
        "path_validation = '/content/drive/MyDrive/Dataset/FER2013/images/validation'"
      ],
      "execution_count": 8,
      "outputs": []
    },
    {
      "cell_type": "code",
      "metadata": {
        "id": "C0ytmdNTbJQs"
      },
      "source": [
        "data_generator =ImageDataGenerator(\n",
        "    preprocessing_function = pi\n",
        ")"
      ],
      "execution_count": 9,
      "outputs": []
    },
    {
      "cell_type": "code",
      "metadata": {
        "id": "9oOrnuDSbkra",
        "colab": {
          "base_uri": "https://localhost:8080/"
        },
        "outputId": "7f234c6c-bd68-4290-8572-01dceaa7bcfc"
      },
      "source": [
        "training_generator = data_generator.flow_from_directory(\n",
        "    path_training,\n",
        "    target_size = (image_resize,image_resize),\n",
        "    batch_size = batch_size_training,\n",
        "    class_mode='categorical')"
      ],
      "execution_count": 10,
      "outputs": [
        {
          "output_type": "stream",
          "text": [
            "Found 28831 images belonging to 7 classes.\n"
          ],
          "name": "stdout"
        }
      ]
    },
    {
      "cell_type": "code",
      "metadata": {
        "id": "AOhcycrUb3Cx",
        "colab": {
          "base_uri": "https://localhost:8080/"
        },
        "outputId": "768e2f0c-50a4-4562-9e28-47236caca462"
      },
      "source": [
        "validation_generator = data_generator.flow_from_directory(\n",
        "    path_validation,\n",
        "    target_size = (image_resize,image_resize),\n",
        "    batch_size = batch_size_validation,\n",
        "    class_mode='categorical',\n",
        ")"
      ],
      "execution_count": 11,
      "outputs": [
        {
          "output_type": "stream",
          "text": [
            "Found 7066 images belonging to 7 classes.\n"
          ],
          "name": "stdout"
        }
      ]
    },
    {
      "cell_type": "code",
      "metadata": {
        "id": "AXncJbb8b6UZ",
        "colab": {
          "base_uri": "https://localhost:8080/"
        },
        "outputId": "163beaf4-800c-42f8-a73b-2ca2032422d5"
      },
      "source": [
        "input_tensor = Input(shape=(48, 48, 3))\n",
        "vgg16 = VGG16(include_top=False, weights='imagenet', input_tensor=input_tensor)\n",
        "\n",
        "top_model = Sequential()\n",
        "top_model.add(Flatten(input_shape=vgg16.output_shape[1:]))\n",
        "top_model.add(Dense(512, activation='relu'))\n",
        "top_model.add(Dropout(0.5))\n",
        "top_model.add(Dense(256, activation='relu'))\n",
        "top_model.add(Dropout(0.5))\n",
        "top_model.add(Dense(7, activation='sigmoid'))\n",
        "\n",
        "model = Model(vgg16.input, top_model(vgg16.output))\n",
        "for layer in model.layers[:13]:\n",
        "  layer.trainable = False\n",
        "\n",
        "model.summary()"
      ],
      "execution_count": 12,
      "outputs": [
        {
          "output_type": "stream",
          "text": [
            "Model: \"model_1\"\n",
            "_________________________________________________________________\n",
            "Layer (type)                 Output Shape              Param #   \n",
            "=================================================================\n",
            "input_2 (InputLayer)         [(None, 48, 48, 3)]       0         \n",
            "_________________________________________________________________\n",
            "block1_conv1 (Conv2D)        (None, 48, 48, 64)        1792      \n",
            "_________________________________________________________________\n",
            "block1_conv2 (Conv2D)        (None, 48, 48, 64)        36928     \n",
            "_________________________________________________________________\n",
            "block1_pool (MaxPooling2D)   (None, 24, 24, 64)        0         \n",
            "_________________________________________________________________\n",
            "block2_conv1 (Conv2D)        (None, 24, 24, 128)       73856     \n",
            "_________________________________________________________________\n",
            "block2_conv2 (Conv2D)        (None, 24, 24, 128)       147584    \n",
            "_________________________________________________________________\n",
            "block2_pool (MaxPooling2D)   (None, 12, 12, 128)       0         \n",
            "_________________________________________________________________\n",
            "block3_conv1 (Conv2D)        (None, 12, 12, 256)       295168    \n",
            "_________________________________________________________________\n",
            "block3_conv2 (Conv2D)        (None, 12, 12, 256)       590080    \n",
            "_________________________________________________________________\n",
            "block3_conv3 (Conv2D)        (None, 12, 12, 256)       590080    \n",
            "_________________________________________________________________\n",
            "block3_pool (MaxPooling2D)   (None, 6, 6, 256)         0         \n",
            "_________________________________________________________________\n",
            "block4_conv1 (Conv2D)        (None, 6, 6, 512)         1180160   \n",
            "_________________________________________________________________\n",
            "block4_conv2 (Conv2D)        (None, 6, 6, 512)         2359808   \n",
            "_________________________________________________________________\n",
            "block4_conv3 (Conv2D)        (None, 6, 6, 512)         2359808   \n",
            "_________________________________________________________________\n",
            "block4_pool (MaxPooling2D)   (None, 3, 3, 512)         0         \n",
            "_________________________________________________________________\n",
            "block5_conv1 (Conv2D)        (None, 3, 3, 512)         2359808   \n",
            "_________________________________________________________________\n",
            "block5_conv2 (Conv2D)        (None, 3, 3, 512)         2359808   \n",
            "_________________________________________________________________\n",
            "block5_conv3 (Conv2D)        (None, 3, 3, 512)         2359808   \n",
            "_________________________________________________________________\n",
            "block5_pool (MaxPooling2D)   (None, 1, 1, 512)         0         \n",
            "_________________________________________________________________\n",
            "sequential_1 (Sequential)    (None, 7)                 395783    \n",
            "=================================================================\n",
            "Total params: 15,110,471\n",
            "Trainable params: 9,835,015\n",
            "Non-trainable params: 5,275,456\n",
            "_________________________________________________________________\n"
          ],
          "name": "stdout"
        }
      ]
    },
    {
      "cell_type": "code",
      "metadata": {
        "id": "9Dpq-c5YhAfn"
      },
      "source": [
        "model.compile(loss='categorical_crossentropy',\n",
        "              optimizer=RMSprop(lr=1e-5),\n",
        "              metrics=['acc'])"
      ],
      "execution_count": 13,
      "outputs": []
    },
    {
      "cell_type": "code",
      "metadata": {
        "id": "lDnJ_LcFhC-W"
      },
      "source": [
        "steps_per_epoch_training = len(training_generator)/batch_size_training\n",
        "steps_per_epoch_validation = len(validation_generator)/batch_size_validation\n",
        "num_epochs = 50"
      ],
      "execution_count": 14,
      "outputs": []
    },
    {
      "cell_type": "code",
      "metadata": {
        "id": "tuLQ-HQVhFz3",
        "colab": {
          "base_uri": "https://localhost:8080/"
        },
        "outputId": "4ead768d-ff82-4618-b45f-8c0a0ffb7d8d"
      },
      "source": [
        "fit_history = model.fit(training_generator,\n",
        "                        steps_per_epoch = steps_per_epoch_training,\n",
        "                        epochs = num_epochs,\n",
        "                        validation_data=validation_generator,\n",
        "                        validation_steps = steps_per_epoch_validation,\n",
        "                        verbose=1)"
      ],
      "execution_count": 15,
      "outputs": [
        {
          "output_type": "stream",
          "text": [
            "Epoch 1/50\n",
            "7/7 [==============================] - 149s 24s/step - loss: 19.8815 - acc: 0.1129 - val_loss: 3.6888 - val_acc: 0.1094\n",
            "Epoch 2/50\n",
            "7/7 [==============================] - 154s 23s/step - loss: 5.2985 - acc: 0.1269 - val_loss: 2.5884 - val_acc: 0.1406\n",
            "Epoch 3/50\n",
            "7/7 [==============================] - 152s 22s/step - loss: 3.1672 - acc: 0.1649 - val_loss: 2.1451 - val_acc: 0.1562\n",
            "Epoch 4/50\n",
            "7/7 [==============================] - 150s 22s/step - loss: 2.8179 - acc: 0.1846 - val_loss: 2.0926 - val_acc: 0.1484\n",
            "Epoch 5/50\n",
            "7/7 [==============================] - 149s 22s/step - loss: 2.2077 - acc: 0.1430 - val_loss: 1.9722 - val_acc: 0.2422\n",
            "Epoch 6/50\n",
            "7/7 [==============================] - 143s 21s/step - loss: 2.1906 - acc: 0.2367 - val_loss: 1.9905 - val_acc: 0.2031\n",
            "Epoch 7/50\n",
            "7/7 [==============================] - 144s 21s/step - loss: 1.9978 - acc: 0.2229 - val_loss: 1.9687 - val_acc: 0.2188\n",
            "Epoch 8/50\n",
            "7/7 [==============================] - 132s 19s/step - loss: 2.0967 - acc: 0.2403 - val_loss: 1.9986 - val_acc: 0.1875\n",
            "Epoch 9/50\n",
            "7/7 [==============================] - 136s 20s/step - loss: 2.0047 - acc: 0.2819 - val_loss: 1.9532 - val_acc: 0.2344\n",
            "Epoch 10/50\n",
            "7/7 [==============================] - 130s 19s/step - loss: 1.9891 - acc: 0.2374 - val_loss: 1.9429 - val_acc: 0.2969\n",
            "Epoch 11/50\n",
            "7/7 [==============================] - 126s 18s/step - loss: 1.9687 - acc: 0.2499 - val_loss: 1.9405 - val_acc: 0.2891\n",
            "Epoch 12/50\n",
            "7/7 [==============================] - 123s 18s/step - loss: 1.9620 - acc: 0.2333 - val_loss: 1.9434 - val_acc: 0.2734\n",
            "Epoch 13/50\n",
            "8/7 [==================================] - ETA: -10s - loss: 1.9598 - acc: 0.2321Epoch 14/50\n",
            "7/7 [==============================] - 113s 17s/step - loss: 1.9500 - acc: 0.2218 - val_loss: 1.9361 - val_acc: 0.1953\n",
            "Epoch 15/50\n",
            "7/7 [==============================] - 116s 17s/step - loss: 1.9432 - acc: 0.2474 - val_loss: 1.9459 - val_acc: 0.2266\n",
            "Epoch 16/50\n",
            "7/7 [==============================] - 107s 15s/step - loss: 1.9461 - acc: 0.2661 - val_loss: 1.9394 - val_acc: 0.2500\n",
            "Epoch 17/50\n",
            "7/7 [==============================] - 110s 16s/step - loss: 1.9612 - acc: 0.2825 - val_loss: 1.9510 - val_acc: 0.2422\n",
            "Epoch 18/50\n",
            "7/7 [==============================] - 104s 15s/step - loss: 2.0041 - acc: 0.2343 - val_loss: 1.9461 - val_acc: 0.2969\n",
            "Epoch 19/50\n",
            "7/7 [==============================] - 103s 15s/step - loss: 1.9485 - acc: 0.2746 - val_loss: 1.9429 - val_acc: 0.2109\n",
            "Epoch 20/50\n",
            "7/7 [==============================] - 107s 15s/step - loss: 1.9613 - acc: 0.2476 - val_loss: 1.9507 - val_acc: 0.1719\n",
            "Epoch 21/50\n",
            "7/7 [==============================] - 109s 16s/step - loss: 1.9581 - acc: 0.2679 - val_loss: 1.9633 - val_acc: 0.2422\n",
            "Epoch 22/50\n",
            "7/7 [==============================] - 105s 15s/step - loss: 1.9497 - acc: 0.3070 - val_loss: 1.9425 - val_acc: 0.2500\n",
            "Epoch 23/50\n",
            "7/7 [==============================] - 95s 14s/step - loss: 1.9478 - acc: 0.2747 - val_loss: 1.9431 - val_acc: 0.2422\n",
            "Epoch 24/50\n",
            "7/7 [==============================] - 96s 14s/step - loss: 1.9453 - acc: 0.1965 - val_loss: 1.9424 - val_acc: 0.2578\n",
            "Epoch 25/50\n",
            "7/7 [==============================] - 89s 13s/step - loss: 1.9413 - acc: 0.2529 - val_loss: 1.9355 - val_acc: 0.2734\n",
            "Epoch 26/50\n",
            "7/7 [==============================] - 86s 12s/step - loss: 1.9355 - acc: 0.2418 - val_loss: 1.9576 - val_acc: 0.1797\n",
            "Epoch 27/50\n",
            "7/7 [==============================] - 84s 12s/step - loss: 1.9439 - acc: 0.2547 - val_loss: 1.9401 - val_acc: 0.2969\n",
            "Epoch 28/50\n",
            "7/7 [==============================] - 92s 13s/step - loss: 1.9413 - acc: 0.2150 - val_loss: 1.9787 - val_acc: 0.2656\n",
            "Epoch 29/50\n",
            "7/7 [==============================] - 91s 13s/step - loss: 1.9793 - acc: 0.2457 - val_loss: 1.9445 - val_acc: 0.2578\n",
            "Epoch 30/50\n",
            "7/7 [==============================] - 82s 12s/step - loss: 1.9474 - acc: 0.2009 - val_loss: 1.9416 - val_acc: 0.2578\n",
            "Epoch 31/50\n",
            "7/7 [==============================] - 84s 12s/step - loss: 1.9442 - acc: 0.2588 - val_loss: 1.9405 - val_acc: 0.2422\n",
            "Epoch 32/50\n",
            "7/7 [==============================] - 82s 12s/step - loss: 1.9497 - acc: 0.2542 - val_loss: 1.9399 - val_acc: 0.2578\n",
            "Epoch 33/50\n",
            "7/7 [==============================] - 76s 11s/step - loss: 1.9399 - acc: 0.2672 - val_loss: 1.9406 - val_acc: 0.2500\n",
            "Epoch 34/50\n",
            "7/7 [==============================] - 68s 10s/step - loss: 1.9403 - acc: 0.2524 - val_loss: 1.9379 - val_acc: 0.2969\n",
            "Epoch 35/50\n",
            "7/7 [==============================] - 71s 10s/step - loss: 1.9503 - acc: 0.2372 - val_loss: 1.9367 - val_acc: 0.3125\n",
            "Epoch 36/50\n",
            "7/7 [==============================] - 67s 10s/step - loss: 1.9397 - acc: 0.2476 - val_loss: 1.9510 - val_acc: 0.2344\n",
            "Epoch 37/50\n",
            "7/7 [==============================] - 60s 8s/step - loss: 1.9512 - acc: 0.2372 - val_loss: 1.9683 - val_acc: 0.1875\n",
            "Epoch 38/50\n",
            "7/7 [==============================] - 69s 10s/step - loss: 1.9412 - acc: 0.2152 - val_loss: 1.9375 - val_acc: 0.3125\n",
            "Epoch 39/50\n",
            "7/7 [==============================] - 63s 9s/step - loss: 1.9430 - acc: 0.2422 - val_loss: 1.9405 - val_acc: 0.2578\n",
            "Epoch 40/50\n",
            "7/7 [==============================] - 65s 9s/step - loss: 1.9439 - acc: 0.2635 - val_loss: 1.9403 - val_acc: 0.2812\n",
            "Epoch 41/50\n",
            "7/7 [==============================] - 61s 9s/step - loss: 1.9673 - acc: 0.2520 - val_loss: 1.9383 - val_acc: 0.2734\n",
            "Epoch 42/50\n",
            "7/7 [==============================] - 59s 8s/step - loss: 1.9421 - acc: 0.2558 - val_loss: 1.9650 - val_acc: 0.3203\n",
            "Epoch 43/50\n",
            "7/7 [==============================] - 64s 9s/step - loss: 1.9403 - acc: 0.2071 - val_loss: 1.9450 - val_acc: 0.2656\n",
            "Epoch 44/50\n",
            "7/7 [==============================] - 62s 9s/step - loss: 1.9380 - acc: 0.2880 - val_loss: 1.9714 - val_acc: 0.2344\n",
            "Epoch 45/50\n",
            "7/7 [==============================] - 56s 8s/step - loss: 1.9388 - acc: 0.2918 - val_loss: 1.9680 - val_acc: 0.2969\n",
            "Epoch 46/50\n",
            "7/7 [==============================] - 53s 7s/step - loss: 1.9366 - acc: 0.2893 - val_loss: 1.9401 - val_acc: 0.2578\n",
            "Epoch 47/50\n",
            "7/7 [==============================] - 53s 7s/step - loss: 1.9392 - acc: 0.2172 - val_loss: 1.9607 - val_acc: 0.1953\n",
            "Epoch 48/50\n",
            "7/7 [==============================] - 55s 8s/step - loss: 1.9343 - acc: 0.2125 - val_loss: 1.9384 - val_acc: 0.2109\n",
            "Epoch 49/50\n",
            "7/7 [==============================] - 50s 7s/step - loss: 1.9798 - acc: 0.2493 - val_loss: 1.9387 - val_acc: 0.3516\n",
            "Epoch 50/50\n",
            "7/7 [==============================] - 53s 7s/step - loss: 1.9384 - acc: 0.2506 - val_loss: 1.9459 - val_acc: 0.2422\n"
          ],
          "name": "stdout"
        }
      ]
    },
    {
      "cell_type": "code",
      "metadata": {
        "id": "r6vPErD3K1ko"
      },
      "source": [
        "model.save('Model2_Fine-Tune_VGG16.h5')"
      ],
      "execution_count": 16,
      "outputs": []
    },
    {
      "cell_type": "code",
      "metadata": {
        "colab": {
          "base_uri": "https://localhost:8080/",
          "height": 573
        },
        "id": "xkNW_AGVLDvO",
        "outputId": "7bd6af7c-e206-42a0-e27b-3b1d50f5c0c2"
      },
      "source": [
        "import matplotlib.pyplot as plt\n",
        "\n",
        "accuracy = fit_history.history['acc']\n",
        "val_accuracy = fit_history.history['val_acc']\n",
        "loss = fit_history.history['loss']\n",
        "val_loss = fit_history.history['val_loss']\n",
        "num_epochs = range(len(accuracy))\n",
        "plt.plot(num_epochs, accuracy, 'r', label='Training acc')\n",
        "plt.plot(num_epochs, val_accuracy, 'b', label='Validation acc')\n",
        "plt.title('Training and validation accuracy')\n",
        "plt.ylabel('accuracy')  \n",
        "plt.xlabel('epoch')\n",
        "plt.legend()\n",
        "plt.figure()\n",
        "plt.plot(num_epochs, loss, 'r', label='Training loss')\n",
        "plt.plot(num_epochs, val_loss, 'b', label='Validation loss')\n",
        "plt.title('Training and validation loss')\n",
        "plt.ylabel('loss')  \n",
        "plt.xlabel('epoch')\n",
        "plt.legend()\n",
        "plt.show()"
      ],
      "execution_count": 18,
      "outputs": [
        {
          "output_type": "display_data",
          "data": {
            "image/png": "[encoded data removed]",
            "text/plain": [
              "<Figure size 432x288 with 1 Axes>"
            ]
          },
          "metadata": {
            "tags": [],
            "needs_background": "light"
          }
        },
        {
          "output_type": "display_data",
          "data": {
            "image/png": "[encoded data removed]",
            "text/plain": [
              "<Figure size 432x288 with 1 Axes>"
            ]
          },
          "metadata": {
            "tags": [],
            "needs_background": "light"
          }
        }
      ]
    }
  ]
}
