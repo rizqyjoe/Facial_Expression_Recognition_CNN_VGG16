{
  "nbformat": 4,
  "nbformat_minor": 0,
  "metadata": {
    "accelerator": "GPU",
    "colab": {
      "name": "4_5.ipynb",
      "provenance": [],
      "collapsed_sections": [],
      "include_colab_link": true
    },
    "kernelspec": {
      "display_name": "Python 3",
      "name": "python3"
    }
  },
  "cells": [
    {
      "cell_type": "markdown",
      "metadata": {
        "id": "view-in-github",
        "colab_type": "text"
      },
      "source": [
        "<a href=\"https://colab.research.google.com/github/rizqyjoe/Facial_Expression_Recognition_CNN_VGG16/blob/main/Model%204/1_64%25_Acc.ipynb\" target=\"_parent\"><img src=\"https://colab.research.google.com/assets/colab-badge.svg\" alt=\"Open In Colab\"/></a>"
      ]
    },
    {
      "cell_type": "code",
      "metadata": {
        "colab": {
          "base_uri": "https://localhost:8080/"
        },
        "id": "OeVby1efCap-",
        "outputId": "c6f971db-4a47-437c-e997-b3ded9b3ca90"
      },
      "source": [
        "from google.colab import drive\n",
        "drive.mount('/content/drive')"
      ],
      "execution_count": 1,
      "outputs": [
        {
          "output_type": "stream",
          "text": [
            "Mounted at /content/drive\n"
          ],
          "name": "stdout"
        }
      ]
    },
    {
      "cell_type": "code",
      "metadata": {
        "id": "JIhy-0ij2I4h"
      },
      "source": [
        "import numpy as np\n",
        "import pandas as pd\n",
        "import os"
      ],
      "execution_count": 2,
      "outputs": []
    },
    {
      "cell_type": "code",
      "metadata": {
        "colab": {
          "base_uri": "https://localhost:8080/"
        },
        "id": "DF0QEBe4rdAW",
        "outputId": "d32e4519-df1d-410c-8d80-ad89cebccf8b"
      },
      "source": [
        "for dirname, _, filenames in os.walk('/content/drive/MyDrive/Dataset/fer2013 dataset'):\n",
        "    for filename in filenames:\n",
        "        print(os.path.join(dirname, filename))"
      ],
      "execution_count": 3,
      "outputs": [
        {
          "output_type": "stream",
          "text": [
            "/content/drive/MyDrive/Dataset/fer2013 dataset/example_submission.csv\n",
            "/content/drive/MyDrive/Dataset/fer2013 dataset/fer2013.tar.gz\n",
            "/content/drive/MyDrive/Dataset/fer2013 dataset/icml_face_data.csv\n",
            "/content/drive/MyDrive/Dataset/fer2013 dataset/test.csv\n",
            "/content/drive/MyDrive/Dataset/fer2013 dataset/train.csv\n",
            "/content/drive/MyDrive/Dataset/fer2013 dataset/dataset/test-private.zip\n",
            "/content/drive/MyDrive/Dataset/fer2013 dataset/dataset/test-public.zip\n",
            "/content/drive/MyDrive/Dataset/fer2013 dataset/dataset/train.zip\n",
            "/content/drive/MyDrive/Dataset/fer2013 dataset/fer2013/fer2013.csv\n",
            "/content/drive/MyDrive/Dataset/fer2013 dataset/fer2013/README\n",
            "/content/drive/MyDrive/Dataset/fer2013 dataset/fer2013/fer2013.bib\n"
          ],
          "name": "stdout"
        }
      ]
    },
    {
      "cell_type": "code",
      "metadata": {
        "id": "OMGUzt802LJD"
      },
      "source": [
        "import keras\n",
        "from keras.preprocessing import image"
      ],
      "execution_count": 4,
      "outputs": []
    },
    {
      "cell_type": "code",
      "metadata": {
        "id": "5lUFzXWZ2NoP"
      },
      "source": [
        "from keras import applications as keras_applications"
      ],
      "execution_count": 5,
      "outputs": []
    },
    {
      "cell_type": "code",
      "metadata": {
        "colab": {
          "base_uri": "https://localhost:8080/"
        },
        "id": "3xdtU7r42O0f",
        "outputId": "278a6dbc-5d44-4e67-a761-140371127d20"
      },
      "source": [
        "!pip install keras_applications\n",
        "!pip install git+https://github.com/rcmalli/keras-vggface.git"
      ],
      "execution_count": 6,
      "outputs": [
        {
          "output_type": "stream",
          "text": [
            "Collecting keras_applications\n",
            "\u001b[?25l  Downloading https://files.pythonhosted.org/packages/71/e3/19762fdfc62877ae9102edf6342d71b28fbfd9dea3d2f96a882ce099b03f/Keras_Applications-1.0.8-py3-none-any.whl (50kB)\n",
            "\r\u001b[K     |██████▌                         | 10kB 16.6MB/s eta 0:00:01\r\u001b[K     |█████████████                   | 20kB 15.1MB/s eta 0:00:01\r\u001b[K     |███████████████████▍            | 30kB 15.7MB/s eta 0:00:01\r\u001b[K     |█████████████████████████▉      | 40kB 13.6MB/s eta 0:00:01\r\u001b[K     |████████████████████████████████| 51kB 4.7MB/s \n",
            "\u001b[?25hRequirement already satisfied: h5py in /usr/local/lib/python3.7/dist-packages (from keras_applications) (2.10.0)\n",
            "Requirement already satisfied: numpy>=1.9.1 in /usr/local/lib/python3.7/dist-packages (from keras_applications) (1.19.5)\n",
            "Requirement already satisfied: six in /usr/local/lib/python3.7/dist-packages (from h5py->keras_applications) (1.15.0)\n",
            "Installing collected packages: keras-applications\n",
            "Successfully installed keras-applications-1.0.8\n",
            "Collecting git+https://github.com/rcmalli/keras-vggface.git\n",
            "  Cloning https://github.com/rcmalli/keras-vggface.git to /tmp/pip-req-build-tc7jfjjd\n",
            "  Running command git clone -q https://github.com/rcmalli/keras-vggface.git /tmp/pip-req-build-tc7jfjjd\n",
            "Requirement already satisfied: numpy>=1.9.1 in /usr/local/lib/python3.7/dist-packages (from keras-vggface==0.6) (1.19.5)\n",
            "Requirement already satisfied: scipy>=0.14 in /usr/local/lib/python3.7/dist-packages (from keras-vggface==0.6) (1.4.1)\n",
            "Requirement already satisfied: h5py in /usr/local/lib/python3.7/dist-packages (from keras-vggface==0.6) (2.10.0)\n",
            "Requirement already satisfied: pillow in /usr/local/lib/python3.7/dist-packages (from keras-vggface==0.6) (7.1.2)\n",
            "Requirement already satisfied: keras in /usr/local/lib/python3.7/dist-packages (from keras-vggface==0.6) (2.4.3)\n",
            "Requirement already satisfied: six>=1.9.0 in /usr/local/lib/python3.7/dist-packages (from keras-vggface==0.6) (1.15.0)\n",
            "Requirement already satisfied: pyyaml in /usr/local/lib/python3.7/dist-packages (from keras-vggface==0.6) (3.13)\n",
            "Building wheels for collected packages: keras-vggface\n",
            "  Building wheel for keras-vggface (setup.py) ... \u001b[?25l\u001b[?25hdone\n",
            "  Created wheel for keras-vggface: filename=keras_vggface-0.6-cp37-none-any.whl size=8312 sha256=be22366394c3f99c110837953c5b2e4110edd649f44cd3386f46f97711a80393\n",
            "  Stored in directory: /tmp/pip-ephem-wheel-cache-6mis72yj/wheels/36/07/46/06c25ce8e9cd396dabe151ea1d8a2bc28dafcb11321c1f3a6d\n",
            "Successfully built keras-vggface\n",
            "Installing collected packages: keras-vggface\n",
            "Successfully installed keras-vggface-0.6\n"
          ],
          "name": "stdout"
        }
      ]
    },
    {
      "cell_type": "code",
      "metadata": {
        "id": "3eD-TSqb2Qbn"
      },
      "source": [
        "from keras_vggface.vggface import VGGFace\n",
        "from keras_vggface import utils"
      ],
      "execution_count": 7,
      "outputs": []
    },
    {
      "cell_type": "markdown",
      "metadata": {
        "id": "m0wNSaCQ2SMW"
      },
      "source": [
        "Data Preprocess"
      ]
    },
    {
      "cell_type": "code",
      "metadata": {
        "colab": {
          "base_uri": "https://localhost:8080/",
          "height": 419
        },
        "id": "RMdAkWID2T3I",
        "outputId": "a4113057-093a-47e9-ffac-71ae2ec9c318"
      },
      "source": [
        "os.system('tar -xf /content/drive/MyDrive/Dataset/fer2013 dataset/fer2013.tar.gz');\n",
        "data = pd.read_csv('/content/drive/MyDrive/Dataset/fer2013 dataset/fer2013/fer2013.csv')\n",
        "data"
      ],
      "execution_count": 8,
      "outputs": [
        {
          "output_type": "execute_result",
          "data": {
            "text/html": [
              "<div>\n",
              "<style scoped>\n",
              "    .dataframe tbody tr th:only-of-type {\n",
              "        vertical-align: middle;\n",
              "    }\n",
              "\n",
              "    .dataframe tbody tr th {\n",
              "        vertical-align: top;\n",
              "    }\n",
              "\n",
              "    .dataframe thead th {\n",
              "        text-align: right;\n",
              "    }\n",
              "</style>\n",
              "<table border=\"1\" class=\"dataframe\">\n",
              "  <thead>\n",
              "    <tr style=\"text-align: right;\">\n",
              "      <th></th>\n",
              "      <th>emotion</th>\n",
              "      <th>pixels</th>\n",
              "      <th>Usage</th>\n",
              "    </tr>\n",
              "  </thead>\n",
              "  <tbody>\n",
              "    <tr>\n",
              "      <th>0</th>\n",
              "      <td>0</td>\n",
              "      <td>70 80 82 72 58 58 60 63 54 58 60 48 89 115 121...</td>\n",
              "      <td>Training</td>\n",
              "    </tr>\n",
              "    <tr>\n",
              "      <th>1</th>\n",
              "      <td>0</td>\n",
              "      <td>151 150 147 155 148 133 111 140 170 174 182 15...</td>\n",
              "      <td>Training</td>\n",
              "    </tr>\n",
              "    <tr>\n",
              "      <th>2</th>\n",
              "      <td>2</td>\n",
              "      <td>231 212 156 164 174 138 161 173 182 200 106 38...</td>\n",
              "      <td>Training</td>\n",
              "    </tr>\n",
              "    <tr>\n",
              "      <th>3</th>\n",
              "      <td>4</td>\n",
              "      <td>24 32 36 30 32 23 19 20 30 41 21 22 32 34 21 1...</td>\n",
              "      <td>Training</td>\n",
              "    </tr>\n",
              "    <tr>\n",
              "      <th>4</th>\n",
              "      <td>6</td>\n",
              "      <td>4 0 0 0 0 0 0 0 0 0 0 0 3 15 23 28 48 50 58 84...</td>\n",
              "      <td>Training</td>\n",
              "    </tr>\n",
              "    <tr>\n",
              "      <th>...</th>\n",
              "      <td>...</td>\n",
              "      <td>...</td>\n",
              "      <td>...</td>\n",
              "    </tr>\n",
              "    <tr>\n",
              "      <th>35882</th>\n",
              "      <td>6</td>\n",
              "      <td>50 36 17 22 23 29 33 39 34 37 37 37 39 43 48 5...</td>\n",
              "      <td>PrivateTest</td>\n",
              "    </tr>\n",
              "    <tr>\n",
              "      <th>35883</th>\n",
              "      <td>3</td>\n",
              "      <td>178 174 172 173 181 188 191 194 196 199 200 20...</td>\n",
              "      <td>PrivateTest</td>\n",
              "    </tr>\n",
              "    <tr>\n",
              "      <th>35884</th>\n",
              "      <td>0</td>\n",
              "      <td>17 17 16 23 28 22 19 17 25 26 20 24 31 19 27 9...</td>\n",
              "      <td>PrivateTest</td>\n",
              "    </tr>\n",
              "    <tr>\n",
              "      <th>35885</th>\n",
              "      <td>3</td>\n",
              "      <td>30 28 28 29 31 30 42 68 79 81 77 67 67 71 63 6...</td>\n",
              "      <td>PrivateTest</td>\n",
              "    </tr>\n",
              "    <tr>\n",
              "      <th>35886</th>\n",
              "      <td>2</td>\n",
              "      <td>19 13 14 12 13 16 21 33 50 57 71 84 97 108 122...</td>\n",
              "      <td>PrivateTest</td>\n",
              "    </tr>\n",
              "  </tbody>\n",
              "</table>\n",
              "<p>35887 rows × 3 columns</p>\n",
              "</div>"
            ],
            "text/plain": [
              "       emotion                                             pixels        Usage\n",
              "0            0  70 80 82 72 58 58 60 63 54 58 60 48 89 115 121...     Training\n",
              "1            0  151 150 147 155 148 133 111 140 170 174 182 15...     Training\n",
              "2            2  231 212 156 164 174 138 161 173 182 200 106 38...     Training\n",
              "3            4  24 32 36 30 32 23 19 20 30 41 21 22 32 34 21 1...     Training\n",
              "4            6  4 0 0 0 0 0 0 0 0 0 0 0 3 15 23 28 48 50 58 84...     Training\n",
              "...        ...                                                ...          ...\n",
              "35882        6  50 36 17 22 23 29 33 39 34 37 37 37 39 43 48 5...  PrivateTest\n",
              "35883        3  178 174 172 173 181 188 191 194 196 199 200 20...  PrivateTest\n",
              "35884        0  17 17 16 23 28 22 19 17 25 26 20 24 31 19 27 9...  PrivateTest\n",
              "35885        3  30 28 28 29 31 30 42 68 79 81 77 67 67 71 63 6...  PrivateTest\n",
              "35886        2  19 13 14 12 13 16 21 33 50 57 71 84 97 108 122...  PrivateTest\n",
              "\n",
              "[35887 rows x 3 columns]"
            ]
          },
          "metadata": {
            "tags": []
          },
          "execution_count": 8
        }
      ]
    },
    {
      "cell_type": "code",
      "metadata": {
        "colab": {
          "base_uri": "https://localhost:8080/"
        },
        "id": "xvZCrGpi2VRx",
        "outputId": "c44c749d-6143-4fc9-cda9-5261ba918d6a"
      },
      "source": [
        "data.Usage.unique()"
      ],
      "execution_count": 9,
      "outputs": [
        {
          "output_type": "execute_result",
          "data": {
            "text/plain": [
              "array(['Training', 'PublicTest', 'PrivateTest'], dtype=object)"
            ]
          },
          "metadata": {
            "tags": []
          },
          "execution_count": 9
        }
      ]
    },
    {
      "cell_type": "code",
      "metadata": {
        "id": "RB3HhdZ52Wzi"
      },
      "source": [
        "train_data = data[data.Usage=='Training']\n",
        "val_data = data[data.Usage=='PublicTest']\n",
        "test_data = data[data.Usage=='PrivateTest']"
      ],
      "execution_count": 10,
      "outputs": []
    },
    {
      "cell_type": "code",
      "metadata": {
        "colab": {
          "base_uri": "https://localhost:8080/"
        },
        "id": "Iw-xFF7D2XyT",
        "outputId": "0996c6c0-2eb4-4430-8fa8-51935ffc0586"
      },
      "source": [
        "train_data.shape, val_data.shape, test_data.shape"
      ],
      "execution_count": 11,
      "outputs": [
        {
          "output_type": "execute_result",
          "data": {
            "text/plain": [
              "((28709, 3), (3589, 3), (3589, 3))"
            ]
          },
          "metadata": {
            "tags": []
          },
          "execution_count": 11
        }
      ]
    },
    {
      "cell_type": "code",
      "metadata": {
        "colab": {
          "base_uri": "https://localhost:8080/"
        },
        "id": "jTLD6Erc2Y3i",
        "outputId": "99e3c170-d1f8-4e79-c964-5184a9e6d434"
      },
      "source": [
        "import collections\n",
        "import imblearn\n",
        "from imblearn.over_sampling import RandomOverSampler\n",
        "\n",
        "oversampler = RandomOverSampler()"
      ],
      "execution_count": 12,
      "outputs": [
        {
          "output_type": "stream",
          "text": [
            "/usr/local/lib/python3.7/dist-packages/sklearn/externals/six.py:31: FutureWarning: The module is deprecated in version 0.21 and will be removed in version 0.23 since we've dropped support for Python 2.7. Please rely on the official version of six (https://pypi.org/project/six/).\n",
            "  \"(https://pypi.org/project/six/).\", FutureWarning)\n",
            "/usr/local/lib/python3.7/dist-packages/sklearn/utils/deprecation.py:144: FutureWarning: The sklearn.neighbors.base module is  deprecated in version 0.22 and will be removed in version 0.24. The corresponding classes / functions should instead be imported from sklearn.neighbors. Anything that cannot be imported from sklearn.neighbors is now part of the private API.\n",
            "  warnings.warn(message, FutureWarning)\n"
          ],
          "name": "stderr"
        }
      ]
    },
    {
      "cell_type": "code",
      "metadata": {
        "colab": {
          "base_uri": "https://localhost:8080/"
        },
        "id": "c_W1I7TD2bE-",
        "outputId": "09633ceb-f94f-4527-930c-9f009cec5390"
      },
      "source": [
        "collections.Counter(train_data.emotion)"
      ],
      "execution_count": 13,
      "outputs": [
        {
          "output_type": "execute_result",
          "data": {
            "text/plain": [
              "Counter({0: 3995, 1: 436, 2: 4097, 3: 7215, 4: 4830, 5: 3171, 6: 4965})"
            ]
          },
          "metadata": {
            "tags": []
          },
          "execution_count": 13
        }
      ]
    },
    {
      "cell_type": "code",
      "metadata": {
        "colab": {
          "base_uri": "https://localhost:8080/"
        },
        "id": "M3JgKN7j2d5F",
        "outputId": "1e9ee55d-e933-4c5e-fd6f-eefdcda994ac"
      },
      "source": [
        "from keras.utils import to_categorical\n",
        "\n",
        "x_train, y_train = oversampler.fit_resample(train_data.pixels.values.reshape(-1,1),train_data.emotion.values)\n",
        "\n",
        "# x_train = train_data.pixels.values.reshape(-1,1)\n",
        "# y_train = train_data.emotion.values\n",
        "\n",
        "x_val = val_data.pixels.values.reshape(-1,1)\n",
        "y_val = val_data.emotion.values\n",
        "\n",
        "x_test = test_data.pixels.values.reshape(-1,1)\n",
        "y_test = test_data.emotion.values"
      ],
      "execution_count": 14,
      "outputs": [
        {
          "output_type": "stream",
          "text": [
            "/usr/local/lib/python3.7/dist-packages/sklearn/utils/deprecation.py:87: FutureWarning: Function safe_indexing is deprecated; safe_indexing is deprecated in version 0.22 and will be removed in version 0.24.\n",
            "  warnings.warn(msg, category=FutureWarning)\n"
          ],
          "name": "stderr"
        }
      ]
    },
    {
      "cell_type": "code",
      "metadata": {
        "colab": {
          "base_uri": "https://localhost:8080/"
        },
        "id": "bK7rr54L2fH3",
        "outputId": "52bc7071-da36-4dc5-acf7-89b513e880ea"
      },
      "source": [
        "collections.Counter(y_train)"
      ],
      "execution_count": 15,
      "outputs": [
        {
          "output_type": "execute_result",
          "data": {
            "text/plain": [
              "Counter({0: 7215, 1: 7215, 2: 7215, 3: 7215, 4: 7215, 5: 7215, 6: 7215})"
            ]
          },
          "metadata": {
            "tags": []
          },
          "execution_count": 15
        }
      ]
    },
    {
      "cell_type": "code",
      "metadata": {
        "id": "NUQ1gvJr2gpO"
      },
      "source": [
        "x_train = list(x_train)\n",
        "x_val   = list(x_val)\n",
        "x_test  = list(x_test)\n",
        "\n",
        "for i,item in enumerate(x_train):\n",
        "    x_train[i] = np.fromstring(item[0],sep=' ').reshape(48,48,1)\n",
        "for i,item in enumerate(x_val):\n",
        "    x_val[i] = np.fromstring(item[0],sep=' ').reshape(48,48,1)\n",
        "for i,item in enumerate(x_test):\n",
        "    x_test[i] = np.fromstring(item[0],sep=' ').reshape(48,48,1)\n",
        "    \n",
        "x_train = np.vstack(x_train).reshape(-1,48,48,1)\n",
        "x_val = np.vstack(x_val).reshape(-1,48,48,1)\n",
        "x_test = np.vstack(x_test).reshape(-1,48,48,1)"
      ],
      "execution_count": 16,
      "outputs": []
    },
    {
      "cell_type": "code",
      "metadata": {
        "id": "aP0rgicq2iFM"
      },
      "source": [
        "y_train = to_categorical(y_train,num_classes=7)\n",
        "y_val   = to_categorical(y_val  ,num_classes=7)\n",
        "y_test  = to_categorical(y_test ,num_classes=7)"
      ],
      "execution_count": 17,
      "outputs": []
    },
    {
      "cell_type": "code",
      "metadata": {
        "id": "9pBQR3H92jaM"
      },
      "source": [
        "from copy import deepcopy as copy\n",
        "\n",
        "def smooth_labels(y, smooth_factor):\n",
        "    '''Convert a matrix of one-hot row-vector labels into smoothed versions.\n",
        "\n",
        "    # Arguments\n",
        "        y: matrix of one-hot row-vector labels to be smoothed\n",
        "        smooth_factor: label smoothing factor (between 0 and 1)\n",
        "\n",
        "    # Returns\n",
        "        A matrix of smoothed labels.\n",
        "    '''\n",
        "    assert len(y.shape) == 2, 'input should be a batch of one-hot-encoded data'\n",
        "    y2 = copy(y)\n",
        "    if 0 <= smooth_factor <= 1:\n",
        "        # label smoothing ref: https://www.robots.ox.ac.uk/~vgg/rg/papers/reinception.pdf\n",
        "        y2 *= 1 - smooth_factor\n",
        "        y2 += smooth_factor / y.shape[1]\n",
        "    else:\n",
        "        raise Exception(\n",
        "            'Invalid label smoothing factor: ' + str(smooth_factor))\n",
        "    return y2"
      ],
      "execution_count": 18,
      "outputs": []
    },
    {
      "cell_type": "code",
      "metadata": {
        "id": "A2WcYDTb2mFT"
      },
      "source": [
        "from keras.utils import Sequence\n",
        "from keras.utils import to_categorical\n",
        "import cv2\n",
        "from math import floor\n",
        "\n",
        "class data_sequence(Sequence):\n",
        "    '''\n",
        "      yield sequence of data\n",
        "      features -- list of features\n",
        "      labels -- list of labels\n",
        "      target_channels {int} -- 1 (gray) or 3(RGB)\n",
        "    '''\n",
        "    def __init__(self, features, labels, batch_size=128, target_dim=(224,224), \n",
        "                 n_classes=7, shuffle=True, smooth=0.0):\n",
        "        'Initialization'\n",
        "        assert len(features)==len(labels), 'number of feature and labels not consistent'\n",
        "        self.features = features\n",
        "        self.labels = labels\n",
        "        self.batch_size = batch_size\n",
        "        self.target_dim = target_dim\n",
        "        self.target_channels = 3\n",
        "        self.n_classes = n_classes\n",
        "        self.shuffle = shuffle\n",
        "        self.smooth = smooth\n",
        "        self.sample_count = len(labels)\n",
        "        self.indexes = np.arange(self.sample_count)\n",
        "        self.on_epoch_end()\n",
        "#         self.verbose = verbose\n",
        "\n",
        "    def __len__(self):\n",
        "        'Denotes the number of batches per epoch'\n",
        "        return floor(self.sample_count / self.batch_size)\n",
        "\n",
        "    def __gray2RGB__(self,x):\n",
        "      if len(x.shape)==2:\n",
        "        return np.stack((x,x,x),-1)\n",
        "      else:\n",
        "        assert len(x.shape)==3\n",
        "        if len(x[0,0,:]) == 1:\n",
        "          return np.stack((x[:,:,0],x[:,:,0],x[:,:,0]),-1)\n",
        "        else:\n",
        "          assert len(x[0,0,:])==self.target_channels\n",
        "      return x\n",
        "\n",
        "\n",
        "    def __getitem__(self, idx):\n",
        "        'Generate one batch of data'\n",
        "        # Generate indexes of the batch\n",
        "        indexes = self.indexes[idx * self.batch_size : (idx + 1) * self.batch_size]\n",
        "        X = np.empty((self.batch_size, *self.target_dim, self.target_channels))\n",
        "        Y = np.empty((self.batch_size, self.n_classes))\n",
        "        for i,ind in enumerate(indexes):\n",
        "          x = self.features[ind]\n",
        "          # resize image to the target size \n",
        "          x = cv2.resize(x,self.target_dim,interpolation=cv2.INTER_CUBIC)\n",
        "          x = self.__gray2RGB__(x)\n",
        "          X[i] = utils.preprocess_input(x, version=2) # or version=2 for VGGFace2 ResNet50  \n",
        "          y = self.labels[ind]\n",
        "          if isinstance(y,int):\n",
        "            Y[i]=to_categorical(y,7)\n",
        "          else:\n",
        "            assert len(y)==self.n_classes\n",
        "            Y[i]=y\n",
        "        X = np.array(X)\n",
        "        Y = np.array(Y)\n",
        "        if self.smooth > 0.0:\n",
        "          smooth_labels(Y, self.smooth)\n",
        "        return X,Y\n",
        "\n",
        "    def on_epoch_end(self):\n",
        "        'Updates indexes after each epoch'\n",
        "        if self.shuffle == True:\n",
        "            np.random.shuffle(self.indexes)"
      ],
      "execution_count": 19,
      "outputs": []
    },
    {
      "cell_type": "code",
      "metadata": {
        "id": "nmLG6plT2nre"
      },
      "source": [
        "train_sequence = data_sequence(x_train,y_train,batch_size=16,target_dim=(224,224),n_classes=7,shuffle=False)\n",
        "feature,lable = train_sequence.__getitem__(0)"
      ],
      "execution_count": 20,
      "outputs": []
    },
    {
      "cell_type": "code",
      "metadata": {
        "colab": {
          "base_uri": "https://localhost:8080/",
          "height": 298
        },
        "id": "h5QD3NUe2owe",
        "outputId": "aaaa6335-b4b3-42fe-84a1-29ad91f62812"
      },
      "source": [
        "emotion_dict = {0: 'Angry', 1:'Disgust', 2: 'Fear', 3: 'Happy', 4: 'Sad', 5: 'Surprise', 6:'Neutral'}\n",
        "\n",
        "import matplotlib.pyplot as plt\n",
        "plt.imshow(feature[0,:,:,:])\n",
        "plt.title(emotion_dict[np.argmax(lable[0])]);"
      ],
      "execution_count": 21,
      "outputs": [
        {
          "output_type": "stream",
          "text": [
            "Clipping input data to the valid range for imshow with RGB data ([0..1] for floats or [0..255] for integers).\n"
          ],
          "name": "stderr"
        },
        {
          "output_type": "display_data",
          "data": {
            "image/png": "[encoded data removed]",
            "text/plain": [
              "<Figure size 432x288 with 1 Axes>"
            ]
          },
          "metadata": {
            "tags": [],
            "needs_background": "light"
          }
        }
      ]
    },
    {
      "cell_type": "markdown",
      "metadata": {
        "id": "HkqU6iIk2sWs"
      },
      "source": [
        "Model"
      ]
    },
    {
      "cell_type": "code",
      "metadata": {
        "colab": {
          "base_uri": "https://localhost:8080/"
        },
        "id": "w1ArGm-r2tPA",
        "outputId": "d6b56955-0a3a-4725-e65a-3ce5f70f908f"
      },
      "source": [
        "vggface = VGGFace(model='vgg16', include_top=False, input_shape = (224,224,3))\n",
        "vggface.trainable = False\n",
        "vggface.summary()"
      ],
      "execution_count": 22,
      "outputs": [
        {
          "output_type": "stream",
          "text": [
            "Downloading data from https://github.com/rcmalli/keras-vggface/releases/download/v2.0/rcmalli_vggface_tf_notop_vgg16.h5\n",
            "58916864/58909280 [==============================] - 1s 0us/step\n",
            "Model: \"vggface_vgg16\"\n",
            "_________________________________________________________________\n",
            "Layer (type)                 Output Shape              Param #   \n",
            "=================================================================\n",
            "input_1 (InputLayer)         [(None, 224, 224, 3)]     0         \n",
            "_________________________________________________________________\n",
            "conv1_1 (Conv2D)             (None, 224, 224, 64)      1792      \n",
            "_________________________________________________________________\n",
            "conv1_2 (Conv2D)             (None, 224, 224, 64)      36928     \n",
            "_________________________________________________________________\n",
            "pool1 (MaxPooling2D)         (None, 112, 112, 64)      0         \n",
            "_________________________________________________________________\n",
            "conv2_1 (Conv2D)             (None, 112, 112, 128)     73856     \n",
            "_________________________________________________________________\n",
            "conv2_2 (Conv2D)             (None, 112, 112, 128)     147584    \n",
            "_________________________________________________________________\n",
            "pool2 (MaxPooling2D)         (None, 56, 56, 128)       0         \n",
            "_________________________________________________________________\n",
            "conv3_1 (Conv2D)             (None, 56, 56, 256)       295168    \n",
            "_________________________________________________________________\n",
            "conv3_2 (Conv2D)             (None, 56, 56, 256)       590080    \n",
            "_________________________________________________________________\n",
            "conv3_3 (Conv2D)             (None, 56, 56, 256)       590080    \n",
            "_________________________________________________________________\n",
            "pool3 (MaxPooling2D)         (None, 28, 28, 256)       0         \n",
            "_________________________________________________________________\n",
            "conv4_1 (Conv2D)             (None, 28, 28, 512)       1180160   \n",
            "_________________________________________________________________\n",
            "conv4_2 (Conv2D)             (None, 28, 28, 512)       2359808   \n",
            "_________________________________________________________________\n",
            "conv4_3 (Conv2D)             (None, 28, 28, 512)       2359808   \n",
            "_________________________________________________________________\n",
            "pool4 (MaxPooling2D)         (None, 14, 14, 512)       0         \n",
            "_________________________________________________________________\n",
            "conv5_1 (Conv2D)             (None, 14, 14, 512)       2359808   \n",
            "_________________________________________________________________\n",
            "conv5_2 (Conv2D)             (None, 14, 14, 512)       2359808   \n",
            "_________________________________________________________________\n",
            "conv5_3 (Conv2D)             (None, 14, 14, 512)       2359808   \n",
            "_________________________________________________________________\n",
            "pool5 (MaxPooling2D)         (None, 7, 7, 512)         0         \n",
            "=================================================================\n",
            "Total params: 14,714,688\n",
            "Trainable params: 0\n",
            "Non-trainable params: 14,714,688\n",
            "_________________________________________________________________\n"
          ],
          "name": "stdout"
        }
      ]
    },
    {
      "cell_type": "code",
      "metadata": {
        "colab": {
          "base_uri": "https://localhost:8080/"
        },
        "id": "4JZrsPSV2xFd",
        "outputId": "0e314d8f-75a7-4da2-fb6e-7fa17eab4c16"
      },
      "source": [
        "from keras.models import Sequential\n",
        "from keras.layers import Flatten\n",
        "from keras.layers import Dense\n",
        "from keras.layers import Dropout\n",
        "from keras.layers import BatchNormalization\n",
        "\n",
        "# model = Sequential([vggface,\n",
        "#                     Flatten(),\n",
        "#                     Dropout(0.5),\n",
        "#                     BatchNormalization(),\n",
        "#                     Dense(128, activation='relu'),\n",
        "#                     Dropout(0.5),\n",
        "#                     BatchNormalization(),\n",
        "#                     Dense(len(emotion_dict), activation='softmax', name = 'classifer')])\n",
        "model = Sequential([vggface,\n",
        "                    Flatten(),\n",
        "                    Dropout(0.25),\n",
        "                    Dense(2048, activation='relu'),\n",
        "                    Dropout(0.25),\n",
        "                    Dense(1024, activation='relu'),\n",
        "                    Dense(7, activation='softmax', name = 'classifer')])\n",
        "model.summary()"
      ],
      "execution_count": 23,
      "outputs": [
        {
          "output_type": "stream",
          "text": [
            "Model: \"sequential\"\n",
            "_________________________________________________________________\n",
            "Layer (type)                 Output Shape              Param #   \n",
            "=================================================================\n",
            "vggface_vgg16 (Functional)   (None, 7, 7, 512)         14714688  \n",
            "_________________________________________________________________\n",
            "flatten (Flatten)            (None, 25088)             0         \n",
            "_________________________________________________________________\n",
            "dropout (Dropout)            (None, 25088)             0         \n",
            "_________________________________________________________________\n",
            "dense (Dense)                (None, 2048)              51382272  \n",
            "_________________________________________________________________\n",
            "dropout_1 (Dropout)          (None, 2048)              0         \n",
            "_________________________________________________________________\n",
            "dense_1 (Dense)              (None, 1024)              2098176   \n",
            "_________________________________________________________________\n",
            "classifer (Dense)            (None, 7)                 7175      \n",
            "=================================================================\n",
            "Total params: 68,202,311\n",
            "Trainable params: 53,487,623\n",
            "Non-trainable params: 14,714,688\n",
            "_________________________________________________________________\n"
          ],
          "name": "stdout"
        }
      ]
    },
    {
      "cell_type": "code",
      "metadata": {
        "id": "0rui43HR2ywX"
      },
      "source": [
        "train_sequence = data_sequence(x_train,y_train,batch_size=64,target_dim=(224,224),n_classes=7,shuffle=True,smooth=0.07)\n",
        "val_sequence   = data_sequence(x_val,  y_val,  batch_size=64,target_dim=(224,224),n_classes=7,shuffle=True,smooth=0.0)\n",
        "test_sequence  = data_sequence(x_test, y_test, batch_size=64,target_dim=(224,224),n_classes=7,shuffle=True,smooth=0.0)"
      ],
      "execution_count": 24,
      "outputs": []
    },
    {
      "cell_type": "markdown",
      "metadata": {
        "id": "W-AnP1E_205G"
      },
      "source": [
        "train only top layers"
      ]
    },
    {
      "cell_type": "code",
      "metadata": {
        "colab": {
          "base_uri": "https://localhost:8080/"
        },
        "id": "DfiYAsGj21_V",
        "outputId": "1125d327-16f9-435c-ac3d-51a72dec1700"
      },
      "source": [
        "model.compile(optimizer = keras.optimizers.Adam(), loss='categorical_crossentropy', metrics=['accuracy'])\n",
        "hist = model.fit_generator(generator = train_sequence,\n",
        "                           validation_data = val_sequence,\n",
        "                           epochs = 20)"
      ],
      "execution_count": 25,
      "outputs": [
        {
          "output_type": "stream",
          "text": [
            "/usr/local/lib/python3.7/dist-packages/tensorflow/python/keras/engine/training.py:1844: UserWarning: `Model.fit_generator` is deprecated and will be removed in a future version. Please use `Model.fit`, which supports generators.\n",
            "  warnings.warn('`Model.fit_generator` is deprecated and '\n"
          ],
          "name": "stderr"
        },
        {
          "output_type": "stream",
          "text": [
            "Epoch 1/20\n",
            "789/789 [==============================] - 452s 515ms/step - loss: 14.4203 - accuracy: 0.4164 - val_loss: 1.4973 - val_accuracy: 0.4506\n",
            "Epoch 2/20\n",
            "789/789 [==============================] - 406s 514ms/step - loss: 1.4021 - accuracy: 0.5190 - val_loss: 1.2582 - val_accuracy: 0.5444\n",
            "Epoch 3/20\n",
            "789/789 [==============================] - 406s 515ms/step - loss: 1.2801 - accuracy: 0.5573 - val_loss: 1.2429 - val_accuracy: 0.5603\n",
            "Epoch 4/20\n",
            "789/789 [==============================] - 409s 518ms/step - loss: 1.1359 - accuracy: 0.5911 - val_loss: 1.1963 - val_accuracy: 0.5636\n",
            "Epoch 5/20\n",
            "789/789 [==============================] - 409s 518ms/step - loss: 1.0473 - accuracy: 0.6139 - val_loss: 1.1386 - val_accuracy: 0.5781\n",
            "Epoch 6/20\n",
            "789/789 [==============================] - 409s 519ms/step - loss: 0.9952 - accuracy: 0.6419 - val_loss: 1.1457 - val_accuracy: 0.5798\n",
            "Epoch 7/20\n",
            "789/789 [==============================] - 409s 518ms/step - loss: 0.9401 - accuracy: 0.6591 - val_loss: 1.1219 - val_accuracy: 0.6085\n",
            "Epoch 8/20\n",
            "789/789 [==============================] - 409s 519ms/step - loss: 0.8886 - accuracy: 0.6673 - val_loss: 1.0814 - val_accuracy: 0.6116\n",
            "Epoch 9/20\n",
            "789/789 [==============================] - 409s 518ms/step - loss: 0.8358 - accuracy: 0.6811 - val_loss: 1.0902 - val_accuracy: 0.6097\n",
            "Epoch 10/20\n",
            "789/789 [==============================] - 408s 518ms/step - loss: 0.8310 - accuracy: 0.6925 - val_loss: 1.0913 - val_accuracy: 0.6180\n",
            "Epoch 11/20\n",
            "789/789 [==============================] - 409s 518ms/step - loss: 0.7954 - accuracy: 0.7081 - val_loss: 1.1204 - val_accuracy: 0.6080\n",
            "Epoch 12/20\n",
            "789/789 [==============================] - 409s 518ms/step - loss: 0.7817 - accuracy: 0.7090 - val_loss: 1.0862 - val_accuracy: 0.6141\n",
            "Epoch 13/20\n",
            "789/789 [==============================] - 409s 518ms/step - loss: 0.7794 - accuracy: 0.7163 - val_loss: 1.0792 - val_accuracy: 0.6177\n",
            "Epoch 14/20\n",
            "789/789 [==============================] - 409s 518ms/step - loss: 0.7600 - accuracy: 0.7251 - val_loss: 1.0994 - val_accuracy: 0.6004\n",
            "Epoch 15/20\n",
            "789/789 [==============================] - 407s 516ms/step - loss: 0.7219 - accuracy: 0.7373 - val_loss: 1.1213 - val_accuracy: 0.6097\n",
            "Epoch 16/20\n",
            "789/789 [==============================] - 405s 514ms/step - loss: 0.7101 - accuracy: 0.7414 - val_loss: 1.1436 - val_accuracy: 0.6057\n",
            "Epoch 17/20\n",
            "789/789 [==============================] - 405s 514ms/step - loss: 0.7374 - accuracy: 0.7416 - val_loss: 1.0987 - val_accuracy: 0.6147\n",
            "Epoch 18/20\n",
            "789/789 [==============================] - 405s 513ms/step - loss: 0.7171 - accuracy: 0.7477 - val_loss: 1.1083 - val_accuracy: 0.6060\n",
            "Epoch 19/20\n",
            "789/789 [==============================] - 405s 514ms/step - loss: 0.6813 - accuracy: 0.7533 - val_loss: 1.1042 - val_accuracy: 0.6267\n",
            "Epoch 20/20\n",
            "789/789 [==============================] - 405s 513ms/step - loss: 0.6573 - accuracy: 0.7654 - val_loss: 1.1076 - val_accuracy: 0.6230\n"
          ],
          "name": "stdout"
        }
      ]
    },
    {
      "cell_type": "code",
      "metadata": {
        "colab": {
          "base_uri": "https://localhost:8080/",
          "height": 230
        },
        "id": "Ldr3jX_o24-L",
        "outputId": "01d87612-c8a1-47b2-bc66-cc731b0e9697"
      },
      "source": [
        "plt.figure(figsize=(8,3))\n",
        "plt.subplot(1,2,1)\n",
        "plt.plot(hist.history['accuracy'])\n",
        "plt.plot(hist.history['val_accuracy'])\n",
        "plt.subplot(1,2,2)\n",
        "plt.plot(hist.history['loss'])\n",
        "plt.plot(hist.history['val_loss'])"
      ],
      "execution_count": 26,
      "outputs": [
        {
          "output_type": "execute_result",
          "data": {
            "text/plain": [
              "[<matplotlib.lines.Line2D at 0x7f08f9d27f50>]"
            ]
          },
          "metadata": {
            "tags": []
          },
          "execution_count": 26
        },
        {
          "output_type": "display_data",
          "data": {
            "image/png": "[encoded data removed]",
            "text/plain": [
              "<Figure size 576x216 with 2 Axes>"
            ]
          },
          "metadata": {
            "tags": [],
            "needs_background": "light"
          }
        }
      ]
    },
    {
      "cell_type": "markdown",
      "metadata": {
        "id": "geygsX3U275L"
      },
      "source": [
        "finetune all layer, lr=1e-4"
      ]
    },
    {
      "cell_type": "code",
      "metadata": {
        "id": "V5018Qiv29G3"
      },
      "source": [
        "for layer in model.layers[0].layers:\n",
        "    if 'bn' not in layer.name:\n",
        "        layer.trainable = True"
      ],
      "execution_count": 27,
      "outputs": []
    },
    {
      "cell_type": "code",
      "metadata": {
        "colab": {
          "base_uri": "https://localhost:8080/"
        },
        "id": "2B8FlEhW2-f2",
        "outputId": "6c2437d6-8d89-4405-a894-8fee4d3518bb"
      },
      "source": [
        "model.compile(optimizer = keras.optimizers.Adam(1e-4), loss='categorical_crossentropy', metrics=['accuracy'])\n",
        "hist2 = model.fit_generator(generator = train_sequence,\n",
        "                            validation_data = val_sequence,\n",
        "                            epochs = 10)"
      ],
      "execution_count": 28,
      "outputs": [
        {
          "output_type": "stream",
          "text": [
            "/usr/local/lib/python3.7/dist-packages/tensorflow/python/keras/engine/training.py:1844: UserWarning: `Model.fit_generator` is deprecated and will be removed in a future version. Please use `Model.fit`, which supports generators.\n",
            "  warnings.warn('`Model.fit_generator` is deprecated and '\n"
          ],
          "name": "stderr"
        },
        {
          "output_type": "stream",
          "text": [
            "Epoch 1/10\n",
            "789/789 [==============================] - 406s 514ms/step - loss: 0.6069 - accuracy: 0.7785 - val_loss: 1.1190 - val_accuracy: 0.6244\n",
            "Epoch 2/10\n",
            "789/789 [==============================] - 405s 513ms/step - loss: 0.5760 - accuracy: 0.7904 - val_loss: 1.1074 - val_accuracy: 0.6289\n",
            "Epoch 3/10\n",
            "789/789 [==============================] - 405s 513ms/step - loss: 0.5654 - accuracy: 0.7933 - val_loss: 1.1085 - val_accuracy: 0.6261\n",
            "Epoch 4/10\n",
            "789/789 [==============================] - 405s 513ms/step - loss: 0.5572 - accuracy: 0.7955 - val_loss: 1.1207 - val_accuracy: 0.6283\n",
            "Epoch 5/10\n",
            "789/789 [==============================] - 405s 513ms/step - loss: 0.5516 - accuracy: 0.7974 - val_loss: 1.1301 - val_accuracy: 0.6250\n",
            "Epoch 6/10\n",
            "789/789 [==============================] - 404s 512ms/step - loss: 0.5473 - accuracy: 0.7981 - val_loss: 1.1149 - val_accuracy: 0.6281\n",
            "Epoch 7/10\n",
            "789/789 [==============================] - 405s 513ms/step - loss: 0.5465 - accuracy: 0.7989 - val_loss: 1.1250 - val_accuracy: 0.6253\n",
            "Epoch 8/10\n",
            "789/789 [==============================] - 404s 512ms/step - loss: 0.5338 - accuracy: 0.8049 - val_loss: 1.1475 - val_accuracy: 0.6219\n",
            "Epoch 9/10\n",
            "789/789 [==============================] - 405s 513ms/step - loss: 0.5273 - accuracy: 0.8079 - val_loss: 1.1473 - val_accuracy: 0.6250\n",
            "Epoch 10/10\n",
            "789/789 [==============================] - 405s 513ms/step - loss: 0.5229 - accuracy: 0.8070 - val_loss: 1.1288 - val_accuracy: 0.6303\n"
          ],
          "name": "stdout"
        }
      ]
    },
    {
      "cell_type": "code",
      "metadata": {
        "id": "3gMAUGcO3ALd"
      },
      "source": [
        "for key in ['accuracy','val_accuracy','loss','val_loss']:\n",
        "    hist.history[key] = hist.history[key] + hist2.history[key]"
      ],
      "execution_count": 29,
      "outputs": []
    },
    {
      "cell_type": "code",
      "metadata": {
        "colab": {
          "base_uri": "https://localhost:8080/",
          "height": 230
        },
        "id": "vuFlRHTj3B5B",
        "outputId": "b4323585-303f-4c9c-aeef-8679a6d13980"
      },
      "source": [
        "plt.figure(figsize=(8,3))\n",
        "plt.subplot(1,2,1)\n",
        "plt.plot(hist.history['accuracy'])\n",
        "plt.plot(hist.history['val_accuracy'])\n",
        "plt.subplot(1,2,2)\n",
        "plt.plot(hist.history['loss'])\n",
        "plt.plot(hist.history['val_loss'])"
      ],
      "execution_count": 30,
      "outputs": [
        {
          "output_type": "execute_result",
          "data": {
            "text/plain": [
              "[<matplotlib.lines.Line2D at 0x7f08f89a86d0>]"
            ]
          },
          "metadata": {
            "tags": []
          },
          "execution_count": 30
        },
        {
          "output_type": "display_data",
          "data": {
            "image/png": "[encoded data removed]",
            "text/plain": [
              "<Figure size 576x216 with 2 Axes>"
            ]
          },
          "metadata": {
            "tags": [],
            "needs_background": "light"
          }
        }
      ]
    },
    {
      "cell_type": "markdown",
      "metadata": {
        "id": "JBjN66nu3EFv"
      },
      "source": [
        "finetune further all, lr=1e-5"
      ]
    },
    {
      "cell_type": "code",
      "metadata": {
        "id": "-pbDmF7F3Fou",
        "colab": {
          "base_uri": "https://localhost:8080/"
        },
        "outputId": "728d1127-2707-4fd0-ffee-6fcc832d1bf1"
      },
      "source": [
        "from keras.callbacks import ModelCheckpoint\n",
        "check_point = ModelCheckpoint('VGGfaceTransfer_dropout_smoothing_keras_model', \n",
        "                              monitor='val_acc', verbose=0, save_best_only=True,\n",
        "                              save_weights_only=False, mode='auto', period=1)\n",
        "\n",
        "\n",
        "model.compile(optimizer = keras.optimizers.Adam(1e-5), loss='categorical_crossentropy', metrics=['accuracy'])\n",
        "hist3 = model.fit_generator(generator = train_sequence,\n",
        "                            validation_data = val_sequence,\n",
        "                            epochs = 10,\n",
        "                            callbacks=[check_point])"
      ],
      "execution_count": 31,
      "outputs": [
        {
          "output_type": "stream",
          "text": [
            "WARNING:tensorflow:`period` argument is deprecated. Please use `save_freq` to specify the frequency in number of batches seen.\n",
            "Epoch 1/10\n"
          ],
          "name": "stdout"
        },
        {
          "output_type": "stream",
          "text": [
            "/usr/local/lib/python3.7/dist-packages/tensorflow/python/keras/engine/training.py:1844: UserWarning: `Model.fit_generator` is deprecated and will be removed in a future version. Please use `Model.fit`, which supports generators.\n",
            "  warnings.warn('`Model.fit_generator` is deprecated and '\n"
          ],
          "name": "stderr"
        },
        {
          "output_type": "stream",
          "text": [
            "789/789 [==============================] - 406s 513ms/step - loss: 0.5241 - accuracy: 0.8085 - val_loss: 1.1320 - val_accuracy: 0.6286\n",
            "WARNING:tensorflow:Can save best model only with val_acc available, skipping.\n",
            "Epoch 2/10\n",
            "789/789 [==============================] - 405s 513ms/step - loss: 0.5159 - accuracy: 0.8112 - val_loss: 1.1301 - val_accuracy: 0.6311\n",
            "WARNING:tensorflow:Can save best model only with val_acc available, skipping.\n",
            "Epoch 3/10\n",
            "789/789 [==============================] - 405s 513ms/step - loss: 0.5120 - accuracy: 0.8121 - val_loss: 1.1295 - val_accuracy: 0.6300\n",
            "WARNING:tensorflow:Can save best model only with val_acc available, skipping.\n",
            "Epoch 4/10\n",
            "789/789 [==============================] - 405s 513ms/step - loss: 0.5092 - accuracy: 0.8106 - val_loss: 1.1390 - val_accuracy: 0.6286\n",
            "WARNING:tensorflow:Can save best model only with val_acc available, skipping.\n",
            "Epoch 5/10\n",
            "789/789 [==============================] - 405s 513ms/step - loss: 0.5113 - accuracy: 0.8121 - val_loss: 1.1369 - val_accuracy: 0.6297\n",
            "WARNING:tensorflow:Can save best model only with val_acc available, skipping.\n",
            "Epoch 6/10\n",
            "789/789 [==============================] - 404s 513ms/step - loss: 0.5150 - accuracy: 0.8124 - val_loss: 1.1341 - val_accuracy: 0.6281\n",
            "WARNING:tensorflow:Can save best model only with val_acc available, skipping.\n",
            "Epoch 7/10\n",
            "789/789 [==============================] - 405s 513ms/step - loss: 0.5114 - accuracy: 0.8126 - val_loss: 1.1338 - val_accuracy: 0.6292\n",
            "WARNING:tensorflow:Can save best model only with val_acc available, skipping.\n",
            "Epoch 8/10\n",
            "789/789 [==============================] - 405s 513ms/step - loss: 0.5109 - accuracy: 0.8129 - val_loss: 1.1389 - val_accuracy: 0.6289\n",
            "WARNING:tensorflow:Can save best model only with val_acc available, skipping.\n",
            "Epoch 9/10\n",
            "789/789 [==============================] - 405s 513ms/step - loss: 0.5075 - accuracy: 0.8156 - val_loss: 1.1322 - val_accuracy: 0.6300\n",
            "WARNING:tensorflow:Can save best model only with val_acc available, skipping.\n",
            "Epoch 10/10\n",
            "789/789 [==============================] - 405s 513ms/step - loss: 0.5116 - accuracy: 0.8136 - val_loss: 1.1372 - val_accuracy: 0.6297\n",
            "WARNING:tensorflow:Can save best model only with val_acc available, skipping.\n"
          ],
          "name": "stdout"
        }
      ]
    },
    {
      "cell_type": "code",
      "metadata": {
        "id": "qzEj-G1K3HcG",
        "colab": {
          "base_uri": "https://localhost:8080/"
        },
        "outputId": "03a05552-4dea-47a6-e27f-7471e972351e"
      },
      "source": [
        "ls"
      ],
      "execution_count": 32,
      "outputs": [
        {
          "output_type": "stream",
          "text": [
            "\u001b[0m\u001b[01;34mdrive\u001b[0m/  \u001b[01;34msample_data\u001b[0m/\n"
          ],
          "name": "stdout"
        }
      ]
    },
    {
      "cell_type": "code",
      "metadata": {
        "id": "oq02AGxh3I-t"
      },
      "source": [
        "for key in ['accuracy','val_accuracy','loss','val_loss']:\n",
        "    hist.history[key] = hist.history[key] + hist3.history[key]"
      ],
      "execution_count": 33,
      "outputs": []
    },
    {
      "cell_type": "code",
      "metadata": {
        "id": "CubpwyU53KLh",
        "colab": {
          "base_uri": "https://localhost:8080/",
          "height": 230
        },
        "outputId": "f94b3d1e-307d-4d2a-f9ef-d0d502bc6501"
      },
      "source": [
        "plt.figure(figsize=(8,3))\n",
        "plt.subplot(1,2,1)\n",
        "plt.plot(hist.history['accuracy'])\n",
        "plt.plot(hist.history['val_accuracy'])\n",
        "plt.subplot(1,2,2)\n",
        "plt.plot(hist.history['loss'])\n",
        "plt.plot(hist.history['val_loss'])"
      ],
      "execution_count": 34,
      "outputs": [
        {
          "output_type": "execute_result",
          "data": {
            "text/plain": [
              "[<matplotlib.lines.Line2D at 0x7f08f7697f90>]"
            ]
          },
          "metadata": {
            "tags": []
          },
          "execution_count": 34
        },
        {
          "output_type": "display_data",
          "data": {
            "image/png": "[encoded data removed]",
            "text/plain": [
              "<Figure size 576x216 with 2 Axes>"
            ]
          },
          "metadata": {
            "tags": [],
            "needs_background": "light"
          }
        }
      ]
    },
    {
      "cell_type": "markdown",
      "metadata": {
        "id": "so6pR24o3Mg4"
      },
      "source": [
        "Model Evaluate"
      ]
    },
    {
      "cell_type": "code",
      "metadata": {
        "id": "j5ZVA7NQ3PFH",
        "colab": {
          "base_uri": "https://localhost:8080/"
        },
        "outputId": "678a3e4e-d391-41fb-8a39-8748b16f38f3"
      },
      "source": [
        "model.evaluate(test_sequence)"
      ],
      "execution_count": 35,
      "outputs": [
        {
          "output_type": "stream",
          "text": [
            "56/56 [==============================] - 26s 465ms/step - loss: 1.0987 - accuracy: 0.6401\n"
          ],
          "name": "stdout"
        },
        {
          "output_type": "execute_result",
          "data": {
            "text/plain": [
              "[1.098661184310913, 0.6400669813156128]"
            ]
          },
          "metadata": {
            "tags": []
          },
          "execution_count": 35
        }
      ]
    },
    {
      "cell_type": "code",
      "metadata": {
        "id": "gD6qQ1XA3RI1",
        "colab": {
          "base_uri": "https://localhost:8080/"
        },
        "outputId": "608e5496-dc71-45ca-e437-f53fb4f4b419"
      },
      "source": [
        "model.save('VGGfaceTransfer_dropout_smoothing_keras_model')"
      ],
      "execution_count": 36,
      "outputs": [
        {
          "output_type": "stream",
          "text": [
            "INFO:tensorflow:Assets written to: VGGfaceTransfer_dropout_smoothing_keras_model/assets\n"
          ],
          "name": "stdout"
        }
      ]
    },
    {
      "cell_type": "code",
      "metadata": {
        "id": "_TCpblAP3Snm",
        "colab": {
          "base_uri": "https://localhost:8080/"
        },
        "outputId": "099056da-0d04-4e34-f3f6-9eaa3e638426"
      },
      "source": [
        "!tar -czvf VGGfaceTransfer_dropout_smoothing_keras_model.tar.gz VGGfaceTransfer_dropout_smoothing_keras_model"
      ],
      "execution_count": 37,
      "outputs": [
        {
          "output_type": "stream",
          "text": [
            "VGGfaceTransfer_dropout_smoothing_keras_model/\n",
            "VGGfaceTransfer_dropout_smoothing_keras_model/saved_model.pb\n",
            "VGGfaceTransfer_dropout_smoothing_keras_model/variables/\n",
            "VGGfaceTransfer_dropout_smoothing_keras_model/variables/variables.data-00000-of-00001\n",
            "VGGfaceTransfer_dropout_smoothing_keras_model/variables/variables.index\n",
            "VGGfaceTransfer_dropout_smoothing_keras_model/assets/\n"
          ],
          "name": "stdout"
        }
      ]
    },
    {
      "cell_type": "code",
      "metadata": {
        "id": "JKb6fjwR3YBe",
        "colab": {
          "base_uri": "https://localhost:8080/",
          "height": 34
        },
        "outputId": "3576d20e-a87b-42c6-f4fa-6254d38d25ee"
      },
      "source": [
        "from IPython.display import FileLink\n",
        "FileLink(r'VGGfaceTransfer_dropout_smoothing_keras_model.tar.gz')"
      ],
      "execution_count": 38,
      "outputs": [
        {
          "output_type": "execute_result",
          "data": {
            "text/html": [
              "<a href='VGGfaceTransfer_dropout_smoothing_keras_model.tar.gz' target='_blank'>VGGfaceTransfer_dropout_smoothing_keras_model.tar.gz</a><br>"
            ],
            "text/plain": [
              "/content/VGGfaceTransfer_dropout_smoothing_keras_model.tar.gz"
            ]
          },
          "metadata": {
            "tags": []
          },
          "execution_count": 38
        }
      ]
    },
    {
      "cell_type": "markdown",
      "metadata": {
        "id": "K2MslltK3aUu"
      },
      "source": [
        "Conf Matrix"
      ]
    },
    {
      "cell_type": "code",
      "metadata": {
        "id": "QJT_x0Qy3b7M",
        "colab": {
          "base_uri": "https://localhost:8080/"
        },
        "outputId": "78ec16ae-0e78-4e28-a725-a1935f932383"
      },
      "source": [
        "import tensorflow as tf\n",
        "y_pred = []\n",
        "y_true = []\n",
        "for x,y in test_sequence:\n",
        "    y_pred = y_pred + list(model.predict_classes(x))\n",
        "    y_true = y_true + list(np.argmax(y,axis=1))"
      ],
      "execution_count": 39,
      "outputs": [
        {
          "output_type": "stream",
          "text": [
            "/usr/local/lib/python3.7/dist-packages/tensorflow/python/keras/engine/sequential.py:450: UserWarning: `model.predict_classes()` is deprecated and will be removed after 2021-01-01. Please use instead:* `np.argmax(model.predict(x), axis=-1)`,   if your model does multi-class classification   (e.g. if it uses a `softmax` last-layer activation).* `(model.predict(x) > 0.5).astype(\"int32\")`,   if your model does binary classification   (e.g. if it uses a `sigmoid` last-layer activation).\n",
            "  warnings.warn('`model.predict_classes()` is deprecated and '\n"
          ],
          "name": "stderr"
        }
      ]
    },
    {
      "cell_type": "code",
      "metadata": {
        "id": "8Sblq3sW3dJF",
        "colab": {
          "base_uri": "https://localhost:8080/"
        },
        "outputId": "73b9fc7d-398b-4b61-fcf4-0d5e1970ef58"
      },
      "source": [
        "emotion_dict.values()"
      ],
      "execution_count": 40,
      "outputs": [
        {
          "output_type": "execute_result",
          "data": {
            "text/plain": [
              "dict_values(['Angry', 'Disgust', 'Fear', 'Happy', 'Sad', 'Surprise', 'Neutral'])"
            ]
          },
          "metadata": {
            "tags": []
          },
          "execution_count": 40
        }
      ]
    },
    {
      "cell_type": "code",
      "metadata": {
        "id": "ARIr38eT3eqP",
        "colab": {
          "base_uri": "https://localhost:8080/"
        },
        "outputId": "269ac7cd-3d2c-4027-9b37-b8de0e8b0eec"
      },
      "source": [
        "emotion_dict"
      ],
      "execution_count": 41,
      "outputs": [
        {
          "output_type": "execute_result",
          "data": {
            "text/plain": [
              "{0: 'Angry',\n",
              " 1: 'Disgust',\n",
              " 2: 'Fear',\n",
              " 3: 'Happy',\n",
              " 4: 'Sad',\n",
              " 5: 'Surprise',\n",
              " 6: 'Neutral'}"
            ]
          },
          "metadata": {
            "tags": []
          },
          "execution_count": 41
        }
      ]
    },
    {
      "cell_type": "code",
      "metadata": {
        "id": "oiIfIYNc3f1W"
      },
      "source": [
        "confusion_matrix = tf.math.confusion_matrix(labels=y_true, predictions=y_pred).numpy()\n",
        "confusion_matrix = np.around(confusion_matrix.astype('float') / confusion_matrix.sum(axis=1)[:, np.newaxis], decimals=2)\n",
        "\n",
        "confusion_matrix = pd.DataFrame(confusion_matrix,\n",
        "                                index = emotion_dict.values(), \n",
        "                                columns = emotion_dict.values())"
      ],
      "execution_count": 42,
      "outputs": []
    },
    {
      "cell_type": "code",
      "metadata": {
        "id": "2bz__hvZ3g5D",
        "colab": {
          "base_uri": "https://localhost:8080/",
          "height": 599
        },
        "outputId": "85414e5f-baeb-44ba-ed6d-7edff0a8049d"
      },
      "source": [
        "import seaborn as sns\n",
        "figure = plt.figure(figsize=(8, 8))\n",
        "sns.heatmap(confusion_matrix, annot=True,cmap=plt.cm.Blues)\n",
        "plt.tight_layout()\n",
        "plt.ylabel('True label')\n",
        "plt.xlabel('Predicted label')\n",
        "plt.show()"
      ],
      "execution_count": 43,
      "outputs": [
        {
          "output_type": "display_data",
          "data": {
            "image/png": "[encoded data removed]",
            "text/plain": [
              "<Figure size 576x576 with 2 Axes>"
            ]
          },
          "metadata": {
            "tags": [],
            "needs_background": "light"
          }
        }
      ]
    }
  ]
}