{
  "nbformat": 4,
  "nbformat_minor": 0,
  "metadata": {
    "colab": {
      "name": "Coba3",
      "provenance": [],
      "collapsed_sections": [],
      "include_colab_link": true
    },
    "kernelspec": {
      "display_name": "Python 3",
      "name": "python3"
    },
    "language_info": {
      "name": "python"
    },
    "accelerator": "GPU"
  },
  "cells": [
    {
      "cell_type": "markdown",
      "metadata": {
        "id": "view-in-github",
        "colab_type": "text"
      },
      "source": [
        "<a href=\"https://colab.research.google.com/github/rizqyjoe/Facial_Expression_Recognition_CNN_VGG16/blob/main/Coba3/Model%204_Scratch/002.ipynb\" target=\"_parent\"><img src=\"https://colab.research.google.com/assets/colab-badge.svg\" alt=\"Open In Colab\"/></a>"
      ]
    },
    {
      "cell_type": "code",
      "metadata": {
        "id": "bOt3yEkA4tJ1",
        "colab": {
          "base_uri": "https://localhost:8080/"
        },
        "outputId": "d2e41b44-87bb-4511-fc77-597129fa5fff"
      },
      "source": [
        "#mount drive\n",
        "from google.colab import drive\n",
        "drive.mount('/content/drive')"
      ],
      "execution_count": null,
      "outputs": [
        {
          "output_type": "stream",
          "text": [
            "Mounted at /content/drive\n"
          ],
          "name": "stdout"
        }
      ]
    },
    {
      "cell_type": "code",
      "metadata": {
        "id": "38RrkU0VmDce",
        "colab": {
          "base_uri": "https://localhost:8080/"
        },
        "outputId": "ae7f31fb-8552-4855-ed75-cc18b67a3196"
      },
      "source": [
        "from keras import layers\n",
        "from keras.models import Model, load_model\n",
        "from keras.preprocessing import image\n",
        "from keras.utils import layer_utils\n",
        "from keras.utils.data_utils import get_file\n",
        "from keras.applications.imagenet_utils import preprocess_input\n",
        "import pydot\n",
        "from IPython.display import SVG\n",
        "from keras.utils.vis_utils import model_to_dot\n",
        "from tensorflow.keras.utils import plot_model\n",
        "\n",
        "from keras.initializers import glorot_uniform\n",
        "import scipy.misc\n",
        "from matplotlib.pyplot import imshow\n",
        "%matplotlib inline\n",
        "\n",
        "import keras.backend as K\n",
        "K.set_image_data_format('channels_last')\n",
        "K.set_learning_phase(1)"
      ],
      "execution_count": null,
      "outputs": [
        {
          "output_type": "stream",
          "text": [
            "/usr/local/lib/python3.7/dist-packages/keras/backend.py:400: UserWarning: `tf.keras.backend.set_learning_phase` is deprecated and will be removed after 2020-10-11. To update it, simply pass a True/False value to the `training` argument of the `__call__` method of your layer or model.\n",
            "  warnings.warn('`tf.keras.backend.set_learning_phase` is deprecated and '\n"
          ],
          "name": "stderr"
        }
      ]
    },
    {
      "cell_type": "code",
      "metadata": {
        "id": "qiXLLA2ka-a9"
      },
      "source": [
        "import cv2\n",
        "import pandas as pd\n",
        "import numpy as np\n",
        "from sklearn.model_selection import train_test_split\n",
        "from keras.preprocessing.image import ImageDataGenerator\n",
        "from keras.callbacks import CSVLogger, ModelCheckpoint, EarlyStopping\n",
        "from keras.callbacks import ReduceLROnPlateau\n",
        "import tensorflow as tf\n",
        " \n",
        "dataset_path = '/content/drive/MyDrive/Dataset/fer2013 dataset/fer2013/fer2013.csv'\n",
        "image_size=(48,48)\n",
        "\n",
        "def load_fer2013():\n",
        "    data = pd.read_csv(dataset_path)\n",
        "    data = (data[data['pixels'].notnull()])\n",
        "    pixels = data['pixels'].tolist()\n",
        "    width, height = 48, 48\n",
        "    faces = []\n",
        "    for pixel_sequence in pixels:\n",
        "        face = [int(pixel) for pixel in pixel_sequence.split(' ')]\n",
        "        face = np.asarray(face).reshape(width, height)\n",
        "        face = cv2.resize(face.astype('uint8'),image_size)\n",
        "        faces.append(face.astype('float32'))\n",
        "    faces = np.asarray(faces)\n",
        "    faces = np.expand_dims(faces, -1)\n",
        "    emotions = (data['emotion'])#.values\n",
        "    return faces, emotions\n",
        " \n",
        "def preprocess_input(x, v2=True):\n",
        "    x = x.astype('float32')\n",
        "    x = x / 255.0\n",
        "    if v2:\n",
        "        x = x - 0.5\n",
        "        x = x * 2.0\n",
        "    return x\n",
        " \n",
        "faces, emotions = load_fer2013()\n",
        "faces = preprocess_input(faces)\n",
        "#xtrain, xtest,ytrain,ytest = train_test_split(faces, emotions,test_size=0.2,shuffle=True)\n",
        "#Data Augumentation\n",
        "data_generator = ImageDataGenerator(rotation_range=10,\n",
        "                                    shear_range = 10,\n",
        "                                    width_shift_range=0.1,\n",
        "                                    height_shift_range=0.1,\n",
        "                                    zoom_range=.1,\n",
        "                                    horizontal_flip=True)\n",
        "\n",
        "#data_generator = ImageDataGenerator()"
      ],
      "execution_count": null,
      "outputs": []
    },
    {
      "cell_type": "code",
      "metadata": {
        "id": "GWpF9xzWbD9U"
      },
      "source": [
        "train_ratio = 0.80\n",
        "validation_ratio = 0.10\n",
        "test_ratio = 0.10\n",
        "\n",
        "# train is now 75% of the entire data set\n",
        "# the _junk suffix means that we drop that variable completely # the _junk suffix means that we drop that variable completely\n",
        "#x_train, x_test, y_train, y_test = train_test_split(dataX, dataY, test_size=1 - train_ratio)\n",
        "\n",
        "xtrain, xtest, ytrain, ytest = train_test_split(faces, emotions, test_size=1 - train_ratio)\n",
        "\n",
        "# test is now 10% of the initial data set\n",
        "# validation is now 15% of the initial data set\n",
        "#x_val, x_test, y_val, y_test = train_test_split(x_test, y_test, test_size=test_ratio/(test_ratio + validation_ratio)) \n",
        "x_val, xtest, y_val, ytest = train_test_split(xtest, ytest, test_size=test_ratio/(test_ratio + validation_ratio)) "
      ],
      "execution_count": null,
      "outputs": []
    },
    {
      "cell_type": "code",
      "metadata": {
        "id": "C0ytmdNTbJQs",
        "colab": {
          "base_uri": "https://localhost:8080/"
        },
        "outputId": "c0827346-7875-4e35-c7ee-922c9d1c8408"
      },
      "source": [
        "print (\"validasi\",x_val.shape)\n",
        "print (y_val.shape)\n",
        "print (\"test\",xtest.shape)\n",
        "print (ytest.shape)\n",
        "print (\"train\",xtrain.shape)\n",
        "print (ytrain.shape)"
      ],
      "execution_count": null,
      "outputs": [
        {
          "output_type": "stream",
          "text": [
            "validasi (3589, 48, 48, 1)\n",
            "(3589,)\n",
            "test (3589, 48, 48, 1)\n",
            "(3589,)\n",
            "train (28709, 48, 48, 1)\n",
            "(28709,)\n"
          ],
          "name": "stdout"
        }
      ]
    },
    {
      "cell_type": "markdown",
      "metadata": {
        "id": "uOH6jWte0Z0O"
      },
      "source": [
        "Model"
      ]
    },
    {
      "cell_type": "code",
      "metadata": {
        "id": "7qrkvd064Wrh"
      },
      "source": [
        "from keras.models import Sequential\n",
        "from keras.layers import Input, Dense, Flatten, Dropout, Conv2D, MaxPool2D, BatchNormalization, Activation\n",
        "\n",
        "input_shape = (48, 48, 1)\n",
        "num_classes = 7\n",
        "\n",
        "model = Sequential()\n",
        "\n",
        "model.add(Conv2D(filters=64,input_shape=(input_shape),kernel_size=(3,3),padding=\"same\", activation=\"relu\"))\n",
        "model.add(Conv2D(filters=64,kernel_size=(3,3),padding=\"same\", activation=\"relu\"))\n",
        "model.add(MaxPool2D(pool_size=(2,2),strides=(2,2)))\n",
        "model.add(Dropout(0.25))\n",
        "model.add(BatchNormalization())\n",
        "\n",
        "model.add(Conv2D(filters=128, kernel_size=(3,3), padding=\"same\", activation=\"relu\"))\n",
        "model.add(Conv2D(filters=128, kernel_size=(3,3), padding=\"same\", activation=\"relu\"))\n",
        "model.add(MaxPool2D(pool_size=(2,2),strides=(2,2)))\n",
        "model.add(Dropout(0.25))\n",
        "model.add(BatchNormalization())\n",
        "\n",
        "model.add(Conv2D(filters=256, kernel_size=(3,3), padding=\"same\", activation=\"relu\"))\n",
        "model.add(Conv2D(filters=256, kernel_size=(3,3), padding=\"same\", activation=\"relu\"))\n",
        "model.add(Conv2D(filters=256, kernel_size=(3,3), padding=\"same\", activation=\"relu\"))\n",
        "model.add(MaxPool2D(pool_size=(2,2),strides=(2,2)))\n",
        "model.add(Dropout(0.5))\n",
        "model.add(BatchNormalization())\n",
        "\n",
        "model.add(Conv2D(filters=512, kernel_size=(3,3), padding=\"same\", activation=\"relu\"))\n",
        "model.add(Conv2D(filters=512, kernel_size=(3,3), padding=\"same\", activation=\"relu\"))\n",
        "model.add(Conv2D(filters=512, kernel_size=(3,3), padding=\"same\", activation=\"relu\"))\n",
        "model.add(MaxPool2D(pool_size=(2,2),strides=(2,2)))\n",
        "model.add(Dropout(0.5))\n",
        "model.add(BatchNormalization())\n",
        "\n",
        "model.add(Flatten())\n",
        "\n",
        "model.add(Dense(512,activation='relu'))\n",
        "model.add(Dropout(0.5))\n",
        "model.add(Dense(512,activation='relu'))\n",
        "model.add(Dropout(0.5))\n",
        "model.add(Dense(512,activation='relu'))\n",
        "model.add(Dropout(0.5))\n",
        "\n",
        "model.add(Dense(units=num_classes, activation='softmax'))"
      ],
      "execution_count": null,
      "outputs": []
    },
    {
      "cell_type": "code",
      "metadata": {
        "id": "AXncJbb8b6UZ"
      },
      "source": [
        "'''model.add(Conv2D(filters=64,input_shape=(input_shape),kernel_size=(3,3),padding=\"same\", activation=\"relu\"))\n",
        "model.add(Conv2D(filters=64,kernel_size=(3,3),padding=\"same\", activation=\"relu\"))\n",
        "model.add(MaxPool2D(pool_size=(2,2),strides=(2,2)))\n",
        "\n",
        "model.add(Conv2D(filters=128, kernel_size=(3,3), padding=\"same\", activation=\"relu\"))\n",
        "model.add(Conv2D(filters=128, kernel_size=(3,3), padding=\"same\", activation=\"relu\"))\n",
        "model.add(MaxPool2D(pool_size=(2,2),strides=(2,2)))\n",
        "\n",
        "model.add(Conv2D(filters=256, kernel_size=(3,3), padding=\"same\", activation=\"relu\"))\n",
        "model.add(Conv2D(filters=256, kernel_size=(3,3), padding=\"same\", activation=\"relu\"))\n",
        "model.add(Conv2D(filters=256, kernel_size=(3,3), padding=\"same\", activation=\"relu\"))\n",
        "model.add(MaxPool2D(pool_size=(2,2),strides=(2,2)))\n",
        "\n",
        "model.add(Conv2D(filters=512, kernel_size=(3,3), padding=\"same\", activation=\"relu\"))\n",
        "model.add(Conv2D(filters=512, kernel_size=(3,3), padding=\"same\", activation=\"relu\"))\n",
        "model.add(Conv2D(filters=512, kernel_size=(3,3), padding=\"same\", activation=\"relu\"))\n",
        "model.add(MaxPool2D(pool_size=(2,2),strides=(2,2)))\n",
        "\n",
        "model.add(Conv2D(filters=512, kernel_size=(3,3), padding=\"same\", activation=\"relu\"))\n",
        "model.add(Conv2D(filters=512, kernel_size=(3,3), padding=\"same\", activation=\"relu\"))\n",
        "model.add(Conv2D(filters=512, kernel_size=(3,3), padding=\"same\", activation=\"relu\"))\n",
        "model.add(MaxPool2D(pool_size=(2,2),strides=(2,2)))\n",
        "\n",
        "model.add(Conv2D(filters=512, kernel_size=(3,3), padding=\"same\", activation=\"relu\"))\n",
        "model.add(Conv2D(filters=512, kernel_size=(3,3), padding=\"same\", activation=\"relu\"))\n",
        "model.add(Conv2D(filters=512, kernel_size=(3,3), padding=\"same\", activation=\"relu\"))\n",
        "model.add(MaxPool2D(pool_size=(2,2),strides=(2,2)))\n",
        "model.add(BatchNormalization())\n",
        "\n",
        "model.add(Dense(units=4096,activation=\"relu\"))\n",
        "model.add(Dense(units=4096,activation=\"relu\"))\n",
        "model.add(Dense(units=num_class, activation=\"softmax\"))\n",
        "\n",
        "model.add(Dropout(0.5))\n",
        "model.add(BatchNormalization())"
      ],
      "execution_count": null,
      "outputs": []
    },
    {
      "cell_type": "code",
      "metadata": {
        "id": "LrJpQTswb8Gr"
      },
      "source": [
        "'''model = Sequential()\n",
        "\n",
        "model.add(VGG16(\n",
        "    include_top = False,\n",
        "    pooling='avg',\n",
        "    weights='imagenet',\n",
        "))"
      ],
      "execution_count": null,
      "outputs": []
    },
    {
      "cell_type": "code",
      "metadata": {
        "id": "FdfWU9lKb-hK"
      },
      "source": [
        "'''model.add(Flatten())\n",
        "model.add(Dropout(0.25))\n",
        "model.add(Dense(2048, activation='relu'))\n",
        "model.add(Dropout(0.25))\n",
        "model.add(Dense(1024, activation='relu'))\n",
        "model.add(Dense(num_classes, activation='softmax', name = 'classifer'))'''"
      ],
      "execution_count": null,
      "outputs": []
    },
    {
      "cell_type": "code",
      "metadata": {
        "id": "4RBbSTgCg7mQ"
      },
      "source": [
        "'''model.layers[0].layers"
      ],
      "execution_count": null,
      "outputs": []
    },
    {
      "cell_type": "code",
      "metadata": {
        "id": "90sEOB4Dg9V3"
      },
      "source": [
        "'''model.layers[0].trainable = False"
      ],
      "execution_count": null,
      "outputs": []
    },
    {
      "cell_type": "code",
      "metadata": {
        "id": "PCdOixg7g-o_",
        "colab": {
          "base_uri": "https://localhost:8080/"
        },
        "outputId": "5e1abbea-03a7-4236-b097-992004474103"
      },
      "source": [
        "model.summary()"
      ],
      "execution_count": null,
      "outputs": [
        {
          "output_type": "stream",
          "text": [
            "Model: \"sequential\"\n",
            "_________________________________________________________________\n",
            "Layer (type)                 Output Shape              Param #   \n",
            "=================================================================\n",
            "conv2d (Conv2D)              (None, 48, 48, 64)        640       \n",
            "_________________________________________________________________\n",
            "conv2d_1 (Conv2D)            (None, 48, 48, 64)        36928     \n",
            "_________________________________________________________________\n",
            "max_pooling2d (MaxPooling2D) (None, 24, 24, 64)        0         \n",
            "_________________________________________________________________\n",
            "dropout (Dropout)            (None, 24, 24, 64)        0         \n",
            "_________________________________________________________________\n",
            "batch_normalization (BatchNo (None, 24, 24, 64)        256       \n",
            "_________________________________________________________________\n",
            "conv2d_2 (Conv2D)            (None, 24, 24, 128)       73856     \n",
            "_________________________________________________________________\n",
            "conv2d_3 (Conv2D)            (None, 24, 24, 128)       147584    \n",
            "_________________________________________________________________\n",
            "max_pooling2d_1 (MaxPooling2 (None, 12, 12, 128)       0         \n",
            "_________________________________________________________________\n",
            "dropout_1 (Dropout)          (None, 12, 12, 128)       0         \n",
            "_________________________________________________________________\n",
            "batch_normalization_1 (Batch (None, 12, 12, 128)       512       \n",
            "_________________________________________________________________\n",
            "conv2d_4 (Conv2D)            (None, 12, 12, 256)       295168    \n",
            "_________________________________________________________________\n",
            "conv2d_5 (Conv2D)            (None, 12, 12, 256)       590080    \n",
            "_________________________________________________________________\n",
            "conv2d_6 (Conv2D)            (None, 12, 12, 256)       590080    \n",
            "_________________________________________________________________\n",
            "max_pooling2d_2 (MaxPooling2 (None, 6, 6, 256)         0         \n",
            "_________________________________________________________________\n",
            "dropout_2 (Dropout)          (None, 6, 6, 256)         0         \n",
            "_________________________________________________________________\n",
            "batch_normalization_2 (Batch (None, 6, 6, 256)         1024      \n",
            "_________________________________________________________________\n",
            "conv2d_7 (Conv2D)            (None, 6, 6, 512)         1180160   \n",
            "_________________________________________________________________\n",
            "conv2d_8 (Conv2D)            (None, 6, 6, 512)         2359808   \n",
            "_________________________________________________________________\n",
            "conv2d_9 (Conv2D)            (None, 6, 6, 512)         2359808   \n",
            "_________________________________________________________________\n",
            "max_pooling2d_3 (MaxPooling2 (None, 3, 3, 512)         0         \n",
            "_________________________________________________________________\n",
            "dropout_3 (Dropout)          (None, 3, 3, 512)         0         \n",
            "_________________________________________________________________\n",
            "batch_normalization_3 (Batch (None, 3, 3, 512)         2048      \n",
            "_________________________________________________________________\n",
            "flatten (Flatten)            (None, 4608)              0         \n",
            "_________________________________________________________________\n",
            "dense (Dense)                (None, 512)               2359808   \n",
            "_________________________________________________________________\n",
            "dropout_4 (Dropout)          (None, 512)               0         \n",
            "_________________________________________________________________\n",
            "dense_1 (Dense)              (None, 512)               262656    \n",
            "_________________________________________________________________\n",
            "dropout_5 (Dropout)          (None, 512)               0         \n",
            "_________________________________________________________________\n",
            "dense_2 (Dense)              (None, 512)               262656    \n",
            "_________________________________________________________________\n",
            "dropout_6 (Dropout)          (None, 512)               0         \n",
            "_________________________________________________________________\n",
            "dense_3 (Dense)              (None, 7)                 3591      \n",
            "=================================================================\n",
            "Total params: 10,526,663\n",
            "Trainable params: 10,524,743\n",
            "Non-trainable params: 1,920\n",
            "_________________________________________________________________\n"
          ],
          "name": "stdout"
        }
      ]
    },
    {
      "cell_type": "code",
      "metadata": {
        "id": "Z_woPR9Im3iN"
      },
      "source": [
        "from keras.optimizers import Adam,RMSprop,SGD"
      ],
      "execution_count": null,
      "outputs": []
    },
    {
      "cell_type": "code",
      "metadata": {
        "id": "KBL-vUYa16ZO"
      },
      "source": [
        "optimizer = Adam(learning_rate=0.0001)\n",
        "\n",
        "model.compile(optimizer=optimizer, loss='sparse_categorical_crossentropy', metrics=['accuracy'])"
      ],
      "execution_count": null,
      "outputs": []
    },
    {
      "cell_type": "code",
      "metadata": {
        "id": "9Dpq-c5YhAfn",
        "colab": {
          "base_uri": "https://localhost:8080/"
        },
        "outputId": "990c4904-138e-45c9-adbf-87247c73cbaf"
      },
      "source": [
        "batch_size = 64\n",
        "num_epochs = 100\n",
        "\n",
        "history = model.fit(data_generator.flow(xtrain, ytrain),\n",
        "                    steps_per_epoch=len(xtrain) / batch_size,\n",
        "                    epochs=num_epochs, \n",
        "                    verbose=1,\n",
        "                    validation_data= (x_val,y_val))"
      ],
      "execution_count": null,
      "outputs": [
        {
          "output_type": "stream",
          "text": [
            "Epoch 1/100\n",
            "448/448 [==============================] - 35s 36ms/step - loss: 2.2466 - accuracy: 0.1722 - val_loss: 1.8695 - val_accuracy: 0.2558\n",
            "Epoch 2/100\n",
            "448/448 [==============================] - 15s 33ms/step - loss: 1.8618 - accuracy: 0.2180 - val_loss: 1.8579 - val_accuracy: 0.2558\n",
            "Epoch 3/100\n",
            "448/448 [==============================] - 15s 33ms/step - loss: 1.8473 - accuracy: 0.2148 - val_loss: 1.8615 - val_accuracy: 0.2558\n",
            "Epoch 4/100\n",
            "448/448 [==============================] - 15s 34ms/step - loss: 1.8342 - accuracy: 0.2260 - val_loss: 1.8587 - val_accuracy: 0.2558\n",
            "Epoch 5/100\n",
            "448/448 [==============================] - 15s 34ms/step - loss: 1.8221 - accuracy: 0.2442 - val_loss: 1.8485 - val_accuracy: 0.2558\n",
            "Epoch 6/100\n",
            "448/448 [==============================] - 15s 34ms/step - loss: 1.8211 - accuracy: 0.2338 - val_loss: 1.8563 - val_accuracy: 0.2549\n",
            "Epoch 7/100\n",
            "448/448 [==============================] - 16s 35ms/step - loss: 1.8200 - accuracy: 0.2327 - val_loss: 1.8533 - val_accuracy: 0.2566\n",
            "Epoch 8/100\n",
            "448/448 [==============================] - 16s 35ms/step - loss: 1.8176 - accuracy: 0.2371 - val_loss: 1.8389 - val_accuracy: 0.2739\n",
            "Epoch 9/100\n",
            "448/448 [==============================] - 16s 35ms/step - loss: 1.7955 - accuracy: 0.2461 - val_loss: 1.7877 - val_accuracy: 0.2856\n",
            "Epoch 10/100\n",
            "448/448 [==============================] - 16s 36ms/step - loss: 1.7623 - accuracy: 0.2696 - val_loss: 1.7307 - val_accuracy: 0.3037\n",
            "Epoch 11/100\n",
            "448/448 [==============================] - 16s 35ms/step - loss: 1.7184 - accuracy: 0.2911 - val_loss: 2.0245 - val_accuracy: 0.2775\n",
            "Epoch 12/100\n",
            "448/448 [==============================] - 16s 35ms/step - loss: 1.6773 - accuracy: 0.3099 - val_loss: 1.6427 - val_accuracy: 0.3644\n",
            "Epoch 13/100\n",
            "448/448 [==============================] - 16s 35ms/step - loss: 1.6229 - accuracy: 0.3435 - val_loss: 1.4917 - val_accuracy: 0.4138\n",
            "Epoch 14/100\n",
            "448/448 [==============================] - 16s 35ms/step - loss: 1.5553 - accuracy: 0.3780 - val_loss: 1.5587 - val_accuracy: 0.4079\n",
            "Epoch 15/100\n",
            "448/448 [==============================] - 16s 35ms/step - loss: 1.5366 - accuracy: 0.3903 - val_loss: 1.7172 - val_accuracy: 0.3553\n",
            "Epoch 16/100\n",
            "448/448 [==============================] - 16s 36ms/step - loss: 1.4822 - accuracy: 0.4071 - val_loss: 1.5662 - val_accuracy: 0.3959\n",
            "Epoch 17/100\n",
            "448/448 [==============================] - 16s 35ms/step - loss: 1.4546 - accuracy: 0.4192 - val_loss: 1.3995 - val_accuracy: 0.4469\n",
            "Epoch 18/100\n",
            "448/448 [==============================] - 16s 35ms/step - loss: 1.4474 - accuracy: 0.4167 - val_loss: 1.4887 - val_accuracy: 0.4138\n",
            "Epoch 19/100\n",
            "448/448 [==============================] - 16s 35ms/step - loss: 1.4219 - accuracy: 0.4271 - val_loss: 1.3941 - val_accuracy: 0.4416\n",
            "Epoch 20/100\n",
            "448/448 [==============================] - 16s 35ms/step - loss: 1.4042 - accuracy: 0.4371 - val_loss: 1.3623 - val_accuracy: 0.4556\n",
            "Epoch 21/100\n",
            "448/448 [==============================] - 16s 36ms/step - loss: 1.3916 - accuracy: 0.4421 - val_loss: 1.5237 - val_accuracy: 0.4110\n",
            "Epoch 22/100\n",
            "448/448 [==============================] - 16s 35ms/step - loss: 1.3559 - accuracy: 0.4458 - val_loss: 1.3096 - val_accuracy: 0.4848\n",
            "Epoch 23/100\n",
            "448/448 [==============================] - 16s 35ms/step - loss: 1.3988 - accuracy: 0.4444 - val_loss: 1.3382 - val_accuracy: 0.4695\n",
            "Epoch 24/100\n",
            "448/448 [==============================] - 16s 35ms/step - loss: 1.3324 - accuracy: 0.4740 - val_loss: 1.3414 - val_accuracy: 0.4921\n",
            "Epoch 25/100\n",
            "448/448 [==============================] - 16s 35ms/step - loss: 1.3486 - accuracy: 0.4768 - val_loss: 1.2795 - val_accuracy: 0.5202\n",
            "Epoch 26/100\n",
            "448/448 [==============================] - 16s 35ms/step - loss: 1.3034 - accuracy: 0.4939 - val_loss: 1.2196 - val_accuracy: 0.5386\n",
            "Epoch 27/100\n",
            "448/448 [==============================] - 16s 35ms/step - loss: 1.2819 - accuracy: 0.5041 - val_loss: 1.2535 - val_accuracy: 0.5233\n",
            "Epoch 28/100\n",
            "448/448 [==============================] - 16s 35ms/step - loss: 1.2694 - accuracy: 0.5108 - val_loss: 1.2186 - val_accuracy: 0.5525\n",
            "Epoch 29/100\n",
            "448/448 [==============================] - 16s 35ms/step - loss: 1.2671 - accuracy: 0.5129 - val_loss: 1.2153 - val_accuracy: 0.5341\n",
            "Epoch 30/100\n",
            "448/448 [==============================] - 16s 35ms/step - loss: 1.2507 - accuracy: 0.5221 - val_loss: 1.2088 - val_accuracy: 0.5291\n",
            "Epoch 31/100\n",
            "448/448 [==============================] - 16s 35ms/step - loss: 1.2578 - accuracy: 0.5216 - val_loss: 1.1687 - val_accuracy: 0.5581\n",
            "Epoch 32/100\n",
            "448/448 [==============================] - 16s 36ms/step - loss: 1.2365 - accuracy: 0.5337 - val_loss: 1.2026 - val_accuracy: 0.5556\n",
            "Epoch 33/100\n",
            "448/448 [==============================] - 16s 36ms/step - loss: 1.2212 - accuracy: 0.5286 - val_loss: 1.2809 - val_accuracy: 0.5341\n",
            "Epoch 34/100\n",
            "448/448 [==============================] - 16s 35ms/step - loss: 1.2114 - accuracy: 0.5405 - val_loss: 1.1964 - val_accuracy: 0.5542\n",
            "Epoch 35/100\n",
            "448/448 [==============================] - 16s 35ms/step - loss: 1.1983 - accuracy: 0.5461 - val_loss: 1.1367 - val_accuracy: 0.5578\n",
            "Epoch 36/100\n",
            "448/448 [==============================] - 16s 36ms/step - loss: 1.1782 - accuracy: 0.5533 - val_loss: 1.1418 - val_accuracy: 0.5745\n",
            "Epoch 37/100\n",
            "448/448 [==============================] - 16s 36ms/step - loss: 1.1853 - accuracy: 0.5578 - val_loss: 1.1163 - val_accuracy: 0.5748\n",
            "Epoch 38/100\n",
            "448/448 [==============================] - 16s 36ms/step - loss: 1.1799 - accuracy: 0.5535 - val_loss: 1.1684 - val_accuracy: 0.5587\n",
            "Epoch 39/100\n",
            "448/448 [==============================] - 16s 35ms/step - loss: 1.1738 - accuracy: 0.5669 - val_loss: 1.1426 - val_accuracy: 0.5639\n",
            "Epoch 40/100\n",
            "448/448 [==============================] - 16s 36ms/step - loss: 1.1924 - accuracy: 0.5465 - val_loss: 1.1114 - val_accuracy: 0.5726\n",
            "Epoch 41/100\n",
            "448/448 [==============================] - 16s 36ms/step - loss: 1.1379 - accuracy: 0.5763 - val_loss: 1.1270 - val_accuracy: 0.5628\n",
            "Epoch 42/100\n",
            "448/448 [==============================] - 16s 36ms/step - loss: 1.1474 - accuracy: 0.5736 - val_loss: 1.1298 - val_accuracy: 0.5717\n",
            "Epoch 43/100\n",
            "448/448 [==============================] - 16s 36ms/step - loss: 1.1563 - accuracy: 0.5737 - val_loss: 1.1176 - val_accuracy: 0.5834\n",
            "Epoch 44/100\n",
            "448/448 [==============================] - 16s 35ms/step - loss: 1.1219 - accuracy: 0.5797 - val_loss: 1.1325 - val_accuracy: 0.5821\n",
            "Epoch 45/100\n",
            "448/448 [==============================] - 16s 35ms/step - loss: 1.1433 - accuracy: 0.5763 - val_loss: 1.1037 - val_accuracy: 0.5854\n",
            "Epoch 46/100\n",
            "448/448 [==============================] - 16s 36ms/step - loss: 1.1417 - accuracy: 0.5724 - val_loss: 1.1033 - val_accuracy: 0.5801\n",
            "Epoch 47/100\n",
            "448/448 [==============================] - 16s 36ms/step - loss: 1.1319 - accuracy: 0.5779 - val_loss: 1.0873 - val_accuracy: 0.5829\n",
            "Epoch 48/100\n",
            "448/448 [==============================] - 16s 36ms/step - loss: 1.1136 - accuracy: 0.5838 - val_loss: 1.1352 - val_accuracy: 0.5779\n",
            "Epoch 49/100\n",
            "448/448 [==============================] - 16s 35ms/step - loss: 1.1168 - accuracy: 0.5839 - val_loss: 1.0897 - val_accuracy: 0.5988\n",
            "Epoch 50/100\n",
            "448/448 [==============================] - 16s 35ms/step - loss: 1.1125 - accuracy: 0.5899 - val_loss: 1.0739 - val_accuracy: 0.5943\n",
            "Epoch 51/100\n",
            "448/448 [==============================] - 16s 36ms/step - loss: 1.0904 - accuracy: 0.5936 - val_loss: 1.0854 - val_accuracy: 0.5896\n",
            "Epoch 52/100\n",
            "448/448 [==============================] - 16s 36ms/step - loss: 1.0859 - accuracy: 0.5993 - val_loss: 1.0790 - val_accuracy: 0.5999\n",
            "Epoch 53/100\n",
            "448/448 [==============================] - 16s 36ms/step - loss: 1.0917 - accuracy: 0.5952 - val_loss: 1.0390 - val_accuracy: 0.6010\n",
            "Epoch 54/100\n",
            "448/448 [==============================] - 16s 36ms/step - loss: 1.0795 - accuracy: 0.6111 - val_loss: 1.0791 - val_accuracy: 0.6077\n",
            "Epoch 55/100\n",
            "448/448 [==============================] - 16s 35ms/step - loss: 1.0704 - accuracy: 0.6036 - val_loss: 1.1077 - val_accuracy: 0.5971\n",
            "Epoch 56/100\n",
            "448/448 [==============================] - 16s 36ms/step - loss: 1.0768 - accuracy: 0.6021 - val_loss: 1.0730 - val_accuracy: 0.6138\n",
            "Epoch 57/100\n",
            "448/448 [==============================] - 16s 36ms/step - loss: 1.0549 - accuracy: 0.6120 - val_loss: 1.0863 - val_accuracy: 0.5879\n",
            "Epoch 58/100\n",
            "448/448 [==============================] - 16s 36ms/step - loss: 1.0902 - accuracy: 0.5974 - val_loss: 1.0700 - val_accuracy: 0.5890\n",
            "Epoch 59/100\n",
            "448/448 [==============================] - 16s 36ms/step - loss: 1.0565 - accuracy: 0.6159 - val_loss: 1.0780 - val_accuracy: 0.5949\n",
            "Epoch 60/100\n",
            "448/448 [==============================] - 16s 36ms/step - loss: 1.0564 - accuracy: 0.6120 - val_loss: 1.0261 - val_accuracy: 0.6049\n",
            "Epoch 61/100\n",
            "448/448 [==============================] - 16s 36ms/step - loss: 1.0445 - accuracy: 0.6182 - val_loss: 1.0696 - val_accuracy: 0.6158\n",
            "Epoch 62/100\n",
            "448/448 [==============================] - 16s 36ms/step - loss: 1.0350 - accuracy: 0.6216 - val_loss: 1.0313 - val_accuracy: 0.6057\n",
            "Epoch 63/100\n",
            "448/448 [==============================] - 16s 35ms/step - loss: 1.0301 - accuracy: 0.6229 - val_loss: 1.0643 - val_accuracy: 0.5790\n",
            "Epoch 64/100\n",
            "448/448 [==============================] - 16s 36ms/step - loss: 1.0594 - accuracy: 0.6131 - val_loss: 1.0653 - val_accuracy: 0.6091\n",
            "Epoch 65/100\n",
            "448/448 [==============================] - 16s 35ms/step - loss: 1.0321 - accuracy: 0.6245 - val_loss: 1.0282 - val_accuracy: 0.6030\n",
            "Epoch 66/100\n",
            "448/448 [==============================] - 16s 36ms/step - loss: 1.0259 - accuracy: 0.6242 - val_loss: 1.0244 - val_accuracy: 0.6049\n",
            "Epoch 67/100\n",
            "448/448 [==============================] - 16s 36ms/step - loss: 1.0402 - accuracy: 0.6193 - val_loss: 1.0207 - val_accuracy: 0.6163\n",
            "Epoch 68/100\n",
            "448/448 [==============================] - 16s 36ms/step - loss: 1.0211 - accuracy: 0.6219 - val_loss: 1.0185 - val_accuracy: 0.6166\n",
            "Epoch 69/100\n",
            "448/448 [==============================] - 16s 36ms/step - loss: 1.0338 - accuracy: 0.6235 - val_loss: 1.0171 - val_accuracy: 0.6080\n",
            "Epoch 70/100\n",
            "448/448 [==============================] - 16s 36ms/step - loss: 1.0141 - accuracy: 0.6263 - val_loss: 0.9888 - val_accuracy: 0.6297\n",
            "Epoch 71/100\n",
            "448/448 [==============================] - 16s 36ms/step - loss: 1.0015 - accuracy: 0.6268 - val_loss: 1.0340 - val_accuracy: 0.6255\n",
            "Epoch 72/100\n",
            "448/448 [==============================] - 16s 36ms/step - loss: 0.9913 - accuracy: 0.6405 - val_loss: 0.9921 - val_accuracy: 0.6186\n",
            "Epoch 73/100\n",
            "448/448 [==============================] - 16s 36ms/step - loss: 1.0081 - accuracy: 0.6342 - val_loss: 1.0144 - val_accuracy: 0.6261\n",
            "Epoch 74/100\n",
            "448/448 [==============================] - 16s 35ms/step - loss: 0.9815 - accuracy: 0.6426 - val_loss: 1.0053 - val_accuracy: 0.6347\n",
            "Epoch 75/100\n",
            "448/448 [==============================] - 16s 36ms/step - loss: 1.0026 - accuracy: 0.6354 - val_loss: 1.0056 - val_accuracy: 0.6222\n",
            "Epoch 76/100\n",
            "448/448 [==============================] - 16s 36ms/step - loss: 1.0033 - accuracy: 0.6320 - val_loss: 0.9776 - val_accuracy: 0.6369\n",
            "Epoch 77/100\n",
            "448/448 [==============================] - 16s 36ms/step - loss: 1.0057 - accuracy: 0.6357 - val_loss: 1.0026 - val_accuracy: 0.6395\n",
            "Epoch 78/100\n",
            "448/448 [==============================] - 16s 36ms/step - loss: 0.9828 - accuracy: 0.6423 - val_loss: 1.0749 - val_accuracy: 0.6099\n",
            "Epoch 79/100\n",
            "448/448 [==============================] - 16s 36ms/step - loss: 0.9845 - accuracy: 0.6377 - val_loss: 0.9615 - val_accuracy: 0.6425\n",
            "Epoch 80/100\n",
            "448/448 [==============================] - 16s 36ms/step - loss: 0.9900 - accuracy: 0.6338 - val_loss: 0.9932 - val_accuracy: 0.6269\n",
            "Epoch 81/100\n",
            "448/448 [==============================] - 16s 36ms/step - loss: 0.9659 - accuracy: 0.6455 - val_loss: 0.9910 - val_accuracy: 0.6336\n",
            "Epoch 82/100\n",
            "448/448 [==============================] - 16s 36ms/step - loss: 0.9706 - accuracy: 0.6383 - val_loss: 0.9925 - val_accuracy: 0.6442\n",
            "Epoch 83/100\n",
            "448/448 [==============================] - 16s 35ms/step - loss: 0.9677 - accuracy: 0.6412 - val_loss: 0.9716 - val_accuracy: 0.6294\n",
            "Epoch 84/100\n",
            "448/448 [==============================] - 16s 35ms/step - loss: 0.9875 - accuracy: 0.6405 - val_loss: 0.9757 - val_accuracy: 0.6241\n",
            "Epoch 85/100\n",
            "448/448 [==============================] - 16s 36ms/step - loss: 0.9364 - accuracy: 0.6538 - val_loss: 0.9542 - val_accuracy: 0.6514\n",
            "Epoch 86/100\n",
            "448/448 [==============================] - 16s 36ms/step - loss: 0.9501 - accuracy: 0.6451 - val_loss: 1.0013 - val_accuracy: 0.6342\n",
            "Epoch 87/100\n",
            "448/448 [==============================] - 16s 36ms/step - loss: 0.9479 - accuracy: 0.6550 - val_loss: 0.9887 - val_accuracy: 0.6250\n",
            "Epoch 88/100\n",
            "448/448 [==============================] - 16s 36ms/step - loss: 0.9414 - accuracy: 0.6533 - val_loss: 0.9688 - val_accuracy: 0.6489\n",
            "Epoch 89/100\n",
            "448/448 [==============================] - 16s 36ms/step - loss: 0.9208 - accuracy: 0.6572 - val_loss: 0.9706 - val_accuracy: 0.6425\n",
            "Epoch 90/100\n",
            "448/448 [==============================] - 16s 36ms/step - loss: 0.9362 - accuracy: 0.6578 - val_loss: 0.9814 - val_accuracy: 0.6436\n",
            "Epoch 91/100\n",
            "448/448 [==============================] - 16s 36ms/step - loss: 0.9358 - accuracy: 0.6521 - val_loss: 0.9593 - val_accuracy: 0.6389\n",
            "Epoch 92/100\n",
            "448/448 [==============================] - 16s 36ms/step - loss: 0.9321 - accuracy: 0.6651 - val_loss: 0.9813 - val_accuracy: 0.6358\n",
            "Epoch 93/100\n",
            "448/448 [==============================] - 16s 36ms/step - loss: 0.9320 - accuracy: 0.6625 - val_loss: 0.9879 - val_accuracy: 0.6344\n",
            "Epoch 94/100\n",
            "448/448 [==============================] - 16s 36ms/step - loss: 0.9371 - accuracy: 0.6529 - val_loss: 0.9905 - val_accuracy: 0.6314\n",
            "Epoch 95/100\n",
            "448/448 [==============================] - 16s 36ms/step - loss: 0.9200 - accuracy: 0.6619 - val_loss: 0.9606 - val_accuracy: 0.6392\n",
            "Epoch 96/100\n",
            "448/448 [==============================] - 16s 36ms/step - loss: 0.9147 - accuracy: 0.6686 - val_loss: 0.9540 - val_accuracy: 0.6470\n",
            "Epoch 97/100\n",
            "448/448 [==============================] - 16s 36ms/step - loss: 0.9418 - accuracy: 0.6536 - val_loss: 0.9665 - val_accuracy: 0.6372\n",
            "Epoch 98/100\n",
            "448/448 [==============================] - 16s 36ms/step - loss: 0.9204 - accuracy: 0.6632 - val_loss: 0.9574 - val_accuracy: 0.6525\n",
            "Epoch 99/100\n",
            "448/448 [==============================] - 16s 36ms/step - loss: 0.9000 - accuracy: 0.6673 - val_loss: 0.9585 - val_accuracy: 0.6417\n",
            "Epoch 100/100\n",
            "448/448 [==============================] - 16s 36ms/step - loss: 0.9158 - accuracy: 0.6628 - val_loss: 0.9554 - val_accuracy: 0.6456\n"
          ],
          "name": "stdout"
        }
      ]
    },
    {
      "cell_type": "code",
      "metadata": {
        "id": "CLFinNknGGDd"
      },
      "source": [
        "model.save('/content/drive/MyDrive/Colab Notebooks/Model/Model4_Fix_VGG16.h5')"
      ],
      "execution_count": null,
      "outputs": []
    },
    {
      "cell_type": "code",
      "metadata": {
        "id": "lDnJ_LcFhC-W",
        "colab": {
          "base_uri": "https://localhost:8080/",
          "height": 573
        },
        "outputId": "4bc029e8-1931-4fbb-f4b8-82911448b8cf"
      },
      "source": [
        "import matplotlib.pyplot as plt \n",
        "\n",
        "accuracy = history.history['accuracy']\n",
        "val_accuracy = history.history['val_accuracy']\n",
        "loss = history.history['loss']\n",
        "val_loss = history.history['val_loss']\n",
        "num_epochs = range(len(accuracy))\n",
        "plt.plot(num_epochs, accuracy, 'r', label='Training acc')\n",
        "plt.plot(num_epochs, val_accuracy, 'b', label='Validation acc')\n",
        "plt.title('Training and validation accuracy')\n",
        "plt.ylabel('accuracy')  \n",
        "plt.xlabel('epoch')\n",
        "plt.legend()\n",
        "plt.figure()\n",
        "plt.plot(num_epochs, loss, 'r', label='Training loss')\n",
        "plt.plot(num_epochs, val_loss, 'b', label='Validation loss')\n",
        "plt.title('Training and validation loss')\n",
        "plt.ylabel('loss')  \n",
        "plt.xlabel('epoch')\n",
        "plt.legend()\n",
        "plt.show()"
      ],
      "execution_count": null,
      "outputs": [
        {
          "output_type": "display_data",
          "data": {
            "image/png": "[encoded data removed]",
            "text/plain": [
              "<Figure size 432x288 with 1 Axes>"
            ]
          },
          "metadata": {
            "tags": [],
            "needs_background": "light"
          }
        },
        {
          "output_type": "display_data",
          "data": {
            "image/png": "[encoded data removed]",
            "text/plain": [
              "<Figure size 432x288 with 1 Axes>"
            ]
          },
          "metadata": {
            "tags": [],
            "needs_background": "light"
          }
        }
      ]
    },
    {
      "cell_type": "code",
      "metadata": {
        "id": "tuLQ-HQVhFz3",
        "colab": {
          "base_uri": "https://localhost:8080/"
        },
        "outputId": "355d9b00-b3d2-4c09-bdaf-502cf7c299c0"
      },
      "source": [
        "testloss = model.evaluate(xtest, ytest) \n",
        "print(\"Test Loss \" + str(testloss[0]))\n",
        "print(\"Test Acc: \" + str(testloss[1]))\n",
        "\n",
        "trainloss = model.evaluate(xtrain, ytrain) \n",
        "print(\"Train Loss \" + str(trainloss[0]))\n",
        "print(\"Train Acc: \" + str(trainloss[1]))"
      ],
      "execution_count": null,
      "outputs": [
        {
          "output_type": "stream",
          "text": [
            "113/113 [==============================] - 1s 10ms/step - loss: 0.9317 - accuracy: 0.6746\n",
            "Test Loss 0.9317243099212646\n",
            "Test Acc: 0.6745611429214478\n",
            "898/898 [==============================] - 8s 9ms/step - loss: 0.8260 - accuracy: 0.7105\n",
            "Train Loss 0.8260320425033569\n",
            "Train Acc: 0.7105437517166138\n"
          ],
          "name": "stdout"
        }
      ]
    },
    {
      "cell_type": "code",
      "metadata": {
        "id": "jxqB-9N6hShu",
        "colab": {
          "base_uri": "https://localhost:8080/"
        },
        "outputId": "835e7459-5768-4442-c144-173f1b5f691c"
      },
      "source": [
        "testlosz = model.evaluate(x_val, y_val) \n",
        "print(\"val Loss \" + str(testlosz[0]))\n",
        "print(\"val Acc: \" + str(testlosz[1]))"
      ],
      "execution_count": null,
      "outputs": [
        {
          "output_type": "stream",
          "text": [
            "113/113 [==============================] - 1s 10ms/step - loss: 0.9554 - accuracy: 0.6456\n",
            "val Loss 0.9554381370544434\n",
            "val Acc: 0.6455837488174438\n"
          ],
          "name": "stdout"
        }
      ]
    },
    {
      "cell_type": "code",
      "metadata": {
        "id": "19CO9w7fwZhA",
        "colab": {
          "base_uri": "https://localhost:8080/"
        },
        "outputId": "05759c86-b6fe-409b-8e60-9a122f7fd84c"
      },
      "source": [
        "from keras.models import load_model\n",
        "model_load = load_model('/content/drive/MyDrive/Colab Notebooks/Model/Model4_Fix_VGG16.h5')\n",
        "\n",
        "model_load.summary()"
      ],
      "execution_count": null,
      "outputs": [
        {
          "output_type": "stream",
          "text": [
            "Model: \"sequential\"\n",
            "_________________________________________________________________\n",
            "Layer (type)                 Output Shape              Param #   \n",
            "=================================================================\n",
            "conv2d (Conv2D)              (None, 48, 48, 64)        640       \n",
            "_________________________________________________________________\n",
            "conv2d_1 (Conv2D)            (None, 48, 48, 64)        36928     \n",
            "_________________________________________________________________\n",
            "max_pooling2d (MaxPooling2D) (None, 24, 24, 64)        0         \n",
            "_________________________________________________________________\n",
            "batch_normalization (BatchNo (None, 24, 24, 64)        256       \n",
            "_________________________________________________________________\n",
            "conv2d_2 (Conv2D)            (None, 24, 24, 128)       73856     \n",
            "_________________________________________________________________\n",
            "conv2d_3 (Conv2D)            (None, 24, 24, 128)       147584    \n",
            "_________________________________________________________________\n",
            "max_pooling2d_1 (MaxPooling2 (None, 12, 12, 128)       0         \n",
            "_________________________________________________________________\n",
            "batch_normalization_1 (Batch (None, 12, 12, 128)       512       \n",
            "_________________________________________________________________\n",
            "conv2d_4 (Conv2D)            (None, 12, 12, 256)       295168    \n",
            "_________________________________________________________________\n",
            "conv2d_5 (Conv2D)            (None, 12, 12, 256)       590080    \n",
            "_________________________________________________________________\n",
            "conv2d_6 (Conv2D)            (None, 12, 12, 256)       590080    \n",
            "_________________________________________________________________\n",
            "max_pooling2d_2 (MaxPooling2 (None, 6, 6, 256)         0         \n",
            "_________________________________________________________________\n",
            "batch_normalization_2 (Batch (None, 6, 6, 256)         1024      \n",
            "_________________________________________________________________\n",
            "conv2d_7 (Conv2D)            (None, 6, 6, 512)         1180160   \n",
            "_________________________________________________________________\n",
            "conv2d_8 (Conv2D)            (None, 6, 6, 512)         2359808   \n",
            "_________________________________________________________________\n",
            "conv2d_9 (Conv2D)            (None, 6, 6, 512)         2359808   \n",
            "_________________________________________________________________\n",
            "max_pooling2d_3 (MaxPooling2 (None, 3, 3, 512)         0         \n",
            "_________________________________________________________________\n",
            "batch_normalization_3 (Batch (None, 3, 3, 512)         2048      \n",
            "_________________________________________________________________\n",
            "conv2d_10 (Conv2D)           (None, 3, 3, 512)         2359808   \n",
            "_________________________________________________________________\n",
            "conv2d_11 (Conv2D)           (None, 3, 3, 512)         2359808   \n",
            "_________________________________________________________________\n",
            "conv2d_12 (Conv2D)           (None, 3, 3, 512)         2359808   \n",
            "_________________________________________________________________\n",
            "max_pooling2d_4 (MaxPooling2 (None, 1, 1, 512)         0         \n",
            "_________________________________________________________________\n",
            "batch_normalization_4 (Batch (None, 1, 1, 512)         2048      \n",
            "_________________________________________________________________\n",
            "flatten (Flatten)            (None, 512)               0         \n",
            "_________________________________________________________________\n",
            "dense (Dense)                (None, 1024)              525312    \n",
            "_________________________________________________________________\n",
            "dropout (Dropout)            (None, 1024)              0         \n",
            "_________________________________________________________________\n",
            "dense_1 (Dense)              (None, 512)               524800    \n",
            "_________________________________________________________________\n",
            "dropout_1 (Dropout)          (None, 512)               0         \n",
            "_________________________________________________________________\n",
            "dense_2 (Dense)              (None, 7)                 3591      \n",
            "=================================================================\n",
            "Total params: 15,773,127\n",
            "Trainable params: 15,770,183\n",
            "Non-trainable params: 2,944\n",
            "_________________________________________________________________\n"
          ],
          "name": "stdout"
        }
      ]
    },
    {
      "cell_type": "code",
      "metadata": {
        "id": "h0OWw4B91RLU",
        "colab": {
          "base_uri": "https://localhost:8080/"
        },
        "outputId": "26586317-09c7-41ba-ed67-074e80c9416d"
      },
      "source": [
        "testloss = model_load.evaluate(xtest, ytest) \n",
        "print(\"Test Loss \" + str(testloss[0]))\n",
        "print(\"Test Acc: \" + str(testloss[1]))\n",
        "\n",
        "testloss = model_load.evaluate(xtrain, ytrain) \n",
        "print(\"Test Loss \" + str(testloss[0]))\n",
        "print(\"Test Acc: \" + str(testloss[1]))"
      ],
      "execution_count": null,
      "outputs": [
        {
          "output_type": "stream",
          "text": [
            "113/113 [==============================] - 2s 12ms/step - loss: 1.0313 - accuracy: 0.6155\n",
            "Test Loss 1.0312683582305908\n",
            "Test Acc: 0.6154918074607849\n",
            "898/898 [==============================] - 11s 12ms/step - loss: 1.0459 - accuracy: 0.6053\n",
            "Test Loss 1.0459450483322144\n",
            "Test Acc: 0.6053153872489929\n"
          ],
          "name": "stdout"
        }
      ]
    },
    {
      "cell_type": "code",
      "metadata": {
        "id": "oGDUEZn_1TBT",
        "colab": {
          "base_uri": "https://localhost:8080/"
        },
        "outputId": "80df13d7-e788-466b-a90e-3639af5e17aa"
      },
      "source": [
        "testlosz = model_load.evaluate(x_val, y_val) \n",
        "print(\"Test Loss \" + str(testlosz[0]))\n",
        "print(\"Test Acc: \" + str(testlosz[1]))"
      ],
      "execution_count": null,
      "outputs": [
        {
          "output_type": "stream",
          "text": [
            "113/113 [==============================] - 1s 12ms/step - loss: 1.0534 - accuracy: 0.5982\n",
            "Test Loss 1.0533939599990845\n",
            "Test Acc: 0.5982167720794678\n"
          ],
          "name": "stdout"
        }
      ]
    },
    {
      "cell_type": "code",
      "metadata": {
        "id": "8EM_tCXG1Xmz",
        "colab": {
          "base_uri": "https://localhost:8080/"
        },
        "outputId": "c48e9f04-957f-491f-a507-107e53a49072"
      },
      "source": [
        "print (x_val.shape)\n",
        "print (y_val.shape)\n",
        "print (xtest.shape)\n",
        "print (ytest.shape)\n",
        "print (xtrain.shape)\n",
        "print (ytrain.shape)"
      ],
      "execution_count": null,
      "outputs": [
        {
          "output_type": "stream",
          "text": [
            "(3589, 48, 48, 1)\n",
            "(3589,)\n",
            "(3589, 48, 48, 1)\n",
            "(3589,)\n",
            "(28709, 48, 48, 1)\n",
            "(28709,)\n"
          ],
          "name": "stdout"
        }
      ]
    },
    {
      "cell_type": "code",
      "metadata": {
        "id": "Ls9muyDJ1ZRd",
        "colab": {
          "base_uri": "https://localhost:8080/"
        },
        "outputId": "eed8b7be-5915-4a39-9dfd-744c79ec3add"
      },
      "source": [
        "from sklearn.metrics import confusion_matrix, classification_report\n",
        "from mlxtend.plotting import plot_confusion_matrix\n",
        "\n",
        "#y_pred = model_load.predict(xtest)\n",
        "\n",
        "test_prob = model_load.predict(xtest)\n",
        "test_pred = np.argmax(test_prob, axis=1)\n",
        "test_accuracy = np.mean(test_pred == ytest)\n",
        "\n",
        "print(test_accuracy)"
      ],
      "execution_count": null,
      "outputs": [
        {
          "output_type": "stream",
          "text": [
            "0.615491780440234\n"
          ],
          "name": "stdout"
        }
      ]
    },
    {
      "cell_type": "code",
      "metadata": {
        "id": "xwhI29RZ1boj"
      },
      "source": [
        "emotions = {0: 'Angry', 1: 'Disgust', 2: 'Fear', 3: 'Happy', 4: 'Sad', 5: 'Surprise', 6: 'Neutral'}"
      ],
      "execution_count": null,
      "outputs": []
    },
    {
      "cell_type": "code",
      "metadata": {
        "id": "Zqyx7uCb1dAz",
        "colab": {
          "base_uri": "https://localhost:8080/",
          "height": 497
        },
        "outputId": "6ae0b1f7-04c7-41f0-94f3-394f5a6d068c"
      },
      "source": [
        "conf_mat = confusion_matrix(ytest, test_pred)\n",
        "\n",
        "pd.DataFrame(conf_mat, columns=emotions.values(), index=emotions.values())\n",
        "\n",
        "\n",
        "\n",
        "fig, ax = plot_confusion_matrix(conf_mat=conf_mat,show_normed=True,show_absolute=False,figsize=(8, 8))\n",
        "fig.show()"
      ],
      "execution_count": null,
      "outputs": [
        {
          "output_type": "display_data",
          "data": {
            "image/png": "[encoded data removed]",
            "text/plain": [
              "<Figure size 576x576 with 1 Axes>"
            ]
          },
          "metadata": {
            "tags": [],
            "needs_background": "light"
          }
        }
      ]
    },
    {
      "cell_type": "code",
      "metadata": {
        "id": "FSi6Ubc3GLMf",
        "colab": {
          "base_uri": "https://localhost:8080/"
        },
        "outputId": "2bb08bcc-accf-4414-8fe6-341484f47fe4"
      },
      "source": [
        "print(classification_report(ytest, test_pred, target_names=emotions.values()))"
      ],
      "execution_count": null,
      "outputs": [
        {
          "output_type": "stream",
          "text": [
            "              precision    recall  f1-score   support\n",
            "\n",
            "       Angry       0.51      0.44      0.47       484\n",
            "     Disgust       0.00      0.00      0.00        48\n",
            "        Fear       0.39      0.20      0.26       479\n",
            "       Happy       0.84      0.86      0.85       916\n",
            "         Sad       0.51      0.48      0.50       646\n",
            "    Surprise       0.74      0.79      0.77       409\n",
            "     Neutral       0.51      0.79      0.62       607\n",
            "\n",
            "    accuracy                           0.62      3589\n",
            "   macro avg       0.50      0.51      0.49      3589\n",
            "weighted avg       0.60      0.62      0.60      3589\n",
            "\n"
          ],
          "name": "stdout"
        },
        {
          "output_type": "stream",
          "text": [
            "/usr/local/lib/python3.7/dist-packages/sklearn/metrics/_classification.py:1272: UndefinedMetricWarning: Precision and F-score are ill-defined and being set to 0.0 in labels with no predicted samples. Use `zero_division` parameter to control this behavior.\n",
            "  _warn_prf(average, modifier, msg_start, len(result))\n"
          ],
          "name": "stderr"
        }
      ]
    }
  ]
}