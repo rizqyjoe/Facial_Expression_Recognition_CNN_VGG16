{
  "nbformat": 4,
  "nbformat_minor": 0,
  "metadata": {
    "colab": {
      "name": "Coba3",
      "provenance": [],
      "collapsed_sections": [],
      "include_colab_link": true
    },
    "kernelspec": {
      "display_name": "Python 3",
      "name": "python3"
    },
    "language_info": {
      "name": "python"
    },
    "accelerator": "GPU"
  },
  "cells": [
    {
      "cell_type": "markdown",
      "metadata": {
        "id": "view-in-github",
        "colab_type": "text"
      },
      "source": [
        "<a href=\"https://colab.research.google.com/github/rizqyjoe/Facial_Expression_Recognition_CNN_VGG16/blob/main/Coba3/Model%204_Scratch/001.ipynb\" target=\"_parent\"><img src=\"https://colab.research.google.com/assets/colab-badge.svg\" alt=\"Open In Colab\"/></a>"
      ]
    },
    {
      "cell_type": "code",
      "metadata": {
        "id": "bOt3yEkA4tJ1",
        "colab": {
          "base_uri": "https://localhost:8080/"
        },
        "outputId": "d2e41b44-87bb-4511-fc77-597129fa5fff"
      },
      "source": [
        "#mount drive\n",
        "from google.colab import drive\n",
        "drive.mount('/content/drive')"
      ],
      "execution_count": 1,
      "outputs": [
        {
          "output_type": "stream",
          "text": [
            "Mounted at /content/drive\n"
          ],
          "name": "stdout"
        }
      ]
    },
    {
      "cell_type": "code",
      "metadata": {
        "id": "38RrkU0VmDce",
        "colab": {
          "base_uri": "https://localhost:8080/"
        },
        "outputId": "f3620483-893d-440d-b143-0c0f512bd82b"
      },
      "source": [
        "from keras import layers\n",
        "from keras.models import Model, load_model\n",
        "from keras.preprocessing import image\n",
        "from keras.utils import layer_utils\n",
        "from keras.utils.data_utils import get_file\n",
        "from keras.applications.imagenet_utils import preprocess_input\n",
        "import pydot\n",
        "from IPython.display import SVG\n",
        "from keras.utils.vis_utils import model_to_dot\n",
        "from tensorflow.keras.utils import plot_model\n",
        "\n",
        "from keras.initializers import glorot_uniform\n",
        "import scipy.misc\n",
        "from matplotlib.pyplot import imshow\n",
        "%matplotlib inline\n",
        "\n",
        "import keras.backend as K\n",
        "K.set_image_data_format('channels_last')\n",
        "K.set_learning_phase(1)"
      ],
      "execution_count": 1,
      "outputs": [
        {
          "output_type": "stream",
          "text": [
            "/usr/local/lib/python3.7/dist-packages/keras/backend.py:400: UserWarning: `tf.keras.backend.set_learning_phase` is deprecated and will be removed after 2020-10-11. To update it, simply pass a True/False value to the `training` argument of the `__call__` method of your layer or model.\n",
            "  warnings.warn('`tf.keras.backend.set_learning_phase` is deprecated and '\n"
          ],
          "name": "stderr"
        }
      ]
    },
    {
      "cell_type": "code",
      "metadata": {
        "id": "qiXLLA2ka-a9"
      },
      "source": [
        "import cv2\n",
        "import pandas as pd\n",
        "import numpy as np\n",
        "from sklearn.model_selection import train_test_split\n",
        "from keras.preprocessing.image import ImageDataGenerator\n",
        "from keras.callbacks import CSVLogger, ModelCheckpoint, EarlyStopping\n",
        "from keras.callbacks import ReduceLROnPlateau\n",
        "import tensorflow as tf\n",
        " \n",
        "dataset_path = '/content/drive/MyDrive/Dataset/fer2013 dataset/fer2013/fer2013.csv'\n",
        "image_size=(48,48)\n",
        "\n",
        "def load_fer2013():\n",
        "    data = pd.read_csv(dataset_path)\n",
        "    data = (data[data['pixels'].notnull()])\n",
        "    pixels = data['pixels'].tolist()\n",
        "    width, height = 48, 48\n",
        "    faces = []\n",
        "    for pixel_sequence in pixels:\n",
        "        face = [int(pixel) for pixel in pixel_sequence.split(' ')]\n",
        "        face = np.asarray(face).reshape(width, height)\n",
        "        face = cv2.resize(face.astype('uint8'),image_size)\n",
        "        faces.append(face.astype('float32'))\n",
        "    faces = np.asarray(faces)\n",
        "    faces = np.expand_dims(faces, -1)\n",
        "    emotions = (data['emotion'])#.values\n",
        "    return faces, emotions\n",
        " \n",
        "def preprocess_input(x, v2=True):\n",
        "    x = x.astype('float32')\n",
        "    x = x / 255.0\n",
        "    if v2:\n",
        "        x = x - 0.5\n",
        "        x = x * 2.0\n",
        "    return x\n",
        " \n",
        "faces, emotions = load_fer2013()\n",
        "faces = preprocess_input(faces)\n",
        "#xtrain, xtest,ytrain,ytest = train_test_split(faces, emotions,test_size=0.2,shuffle=True)\n",
        "#Data Augumentation\n",
        "'''data_generator = ImageDataGenerator(rotation_range=10,\n",
        "                                    shear_range = 10,\n",
        "                                    width_shift_range=0.1,\n",
        "                                    height_shift_range=0.1,\n",
        "                                    zoom_range=.1,\n",
        "                                    horizontal_flip=True)'''\n",
        "\n",
        "data_generator = ImageDataGenerator()"
      ],
      "execution_count": 2,
      "outputs": []
    },
    {
      "cell_type": "code",
      "metadata": {
        "id": "GWpF9xzWbD9U"
      },
      "source": [
        "train_ratio = 0.80\n",
        "validation_ratio = 0.10\n",
        "test_ratio = 0.10\n",
        "\n",
        "# train is now 75% of the entire data set\n",
        "# the _junk suffix means that we drop that variable completely # the _junk suffix means that we drop that variable completely\n",
        "#x_train, x_test, y_train, y_test = train_test_split(dataX, dataY, test_size=1 - train_ratio)\n",
        "\n",
        "xtrain, xtest, ytrain, ytest = train_test_split(faces, emotions, test_size=1 - train_ratio)\n",
        "\n",
        "# test is now 10% of the initial data set\n",
        "# validation is now 15% of the initial data set\n",
        "#x_val, x_test, y_val, y_test = train_test_split(x_test, y_test, test_size=test_ratio/(test_ratio + validation_ratio)) \n",
        "x_val, xtest, y_val, ytest = train_test_split(xtest, ytest, test_size=test_ratio/(test_ratio + validation_ratio)) "
      ],
      "execution_count": 3,
      "outputs": []
    },
    {
      "cell_type": "code",
      "metadata": {
        "id": "C0ytmdNTbJQs",
        "colab": {
          "base_uri": "https://localhost:8080/"
        },
        "outputId": "ec9a53a6-77a8-4ca7-b7b1-fc843488df80"
      },
      "source": [
        "print (\"validasi\",x_val.shape)\n",
        "print (y_val.shape)\n",
        "print (\"test\",xtest.shape)\n",
        "print (ytest.shape)\n",
        "print (\"train\",xtrain.shape)\n",
        "print (ytrain.shape)"
      ],
      "execution_count": 4,
      "outputs": [
        {
          "output_type": "stream",
          "text": [
            "validasi (3589, 48, 48, 1)\n",
            "(3589,)\n",
            "test (3589, 48, 48, 1)\n",
            "(3589,)\n",
            "train (28709, 48, 48, 1)\n",
            "(28709,)\n"
          ],
          "name": "stdout"
        }
      ]
    },
    {
      "cell_type": "markdown",
      "metadata": {
        "id": "uOH6jWte0Z0O"
      },
      "source": [
        "Model"
      ]
    },
    {
      "cell_type": "code",
      "metadata": {
        "id": "7qrkvd064Wrh"
      },
      "source": [
        "from keras.models import Sequential\n",
        "from keras.layers import Input, Dense, Flatten, Dropout, Conv2D, MaxPool2D, BatchNormalization, Activation\n",
        "\n",
        "input_shape = (48, 48, 1)\n",
        "num_classes = 7\n",
        "\n",
        "model = Sequential()\n",
        "\n",
        "model.add(Conv2D(filters=64,input_shape=(input_shape),kernel_size=(3,3),padding=\"same\", activation=\"relu\"))\n",
        "model.add(Conv2D(filters=64,kernel_size=(3,3),padding=\"same\", activation=\"relu\"))\n",
        "model.add(MaxPool2D(pool_size=(2,2),strides=(2,2)))\n",
        "model.add(Dropout(0.25))\n",
        "model.add(BatchNormalization())\n",
        "\n",
        "model.add(Conv2D(filters=128, kernel_size=(3,3), padding=\"same\", activation=\"relu\"))\n",
        "model.add(Conv2D(filters=128, kernel_size=(3,3), padding=\"same\", activation=\"relu\"))\n",
        "model.add(MaxPool2D(pool_size=(2,2),strides=(2,2)))\n",
        "model.add(Dropout(0.25))\n",
        "model.add(BatchNormalization())\n",
        "\n",
        "model.add(Conv2D(filters=256, kernel_size=(3,3), padding=\"same\", activation=\"relu\"))\n",
        "model.add(Conv2D(filters=256, kernel_size=(3,3), padding=\"same\", activation=\"relu\"))\n",
        "model.add(Conv2D(filters=256, kernel_size=(3,3), padding=\"same\", activation=\"relu\"))\n",
        "model.add(MaxPool2D(pool_size=(2,2),strides=(2,2)))\n",
        "model.add(Dropout(0.5))\n",
        "model.add(BatchNormalization())\n",
        "\n",
        "model.add(Conv2D(filters=512, kernel_size=(3,3), padding=\"same\", activation=\"relu\"))\n",
        "model.add(Conv2D(filters=512, kernel_size=(3,3), padding=\"same\", activation=\"relu\"))\n",
        "model.add(Conv2D(filters=512, kernel_size=(3,3), padding=\"same\", activation=\"relu\"))\n",
        "model.add(MaxPool2D(pool_size=(2,2),strides=(2,2)))\n",
        "model.add(Dropout(0.5))\n",
        "model.add(BatchNormalization())\n",
        "\n",
        "model.add(Flatten())\n",
        "\n",
        "model.add(Dense(512,activation='relu'))\n",
        "model.add(Dropout(0.5))\n",
        "model.add(Dense(512,activation='relu'))\n",
        "model.add(Dropout(0.5))\n",
        "model.add(Dense(512,activation='relu'))\n",
        "model.add(Dropout(0.5))\n",
        "\n",
        "model.add(Dense(units=num_classes, activation='softmax'))"
      ],
      "execution_count": 5,
      "outputs": []
    },
    {
      "cell_type": "code",
      "metadata": {
        "id": "AXncJbb8b6UZ"
      },
      "source": [
        "'''model.add(Conv2D(filters=64,input_shape=(input_shape),kernel_size=(3,3),padding=\"same\", activation=\"relu\"))\n",
        "model.add(Conv2D(filters=64,kernel_size=(3,3),padding=\"same\", activation=\"relu\"))\n",
        "model.add(MaxPool2D(pool_size=(2,2),strides=(2,2)))\n",
        "\n",
        "model.add(Conv2D(filters=128, kernel_size=(3,3), padding=\"same\", activation=\"relu\"))\n",
        "model.add(Conv2D(filters=128, kernel_size=(3,3), padding=\"same\", activation=\"relu\"))\n",
        "model.add(MaxPool2D(pool_size=(2,2),strides=(2,2)))\n",
        "\n",
        "model.add(Conv2D(filters=256, kernel_size=(3,3), padding=\"same\", activation=\"relu\"))\n",
        "model.add(Conv2D(filters=256, kernel_size=(3,3), padding=\"same\", activation=\"relu\"))\n",
        "model.add(Conv2D(filters=256, kernel_size=(3,3), padding=\"same\", activation=\"relu\"))\n",
        "model.add(MaxPool2D(pool_size=(2,2),strides=(2,2)))\n",
        "\n",
        "model.add(Conv2D(filters=512, kernel_size=(3,3), padding=\"same\", activation=\"relu\"))\n",
        "model.add(Conv2D(filters=512, kernel_size=(3,3), padding=\"same\", activation=\"relu\"))\n",
        "model.add(Conv2D(filters=512, kernel_size=(3,3), padding=\"same\", activation=\"relu\"))\n",
        "model.add(MaxPool2D(pool_size=(2,2),strides=(2,2)))\n",
        "\n",
        "model.add(Conv2D(filters=512, kernel_size=(3,3), padding=\"same\", activation=\"relu\"))\n",
        "model.add(Conv2D(filters=512, kernel_size=(3,3), padding=\"same\", activation=\"relu\"))\n",
        "model.add(Conv2D(filters=512, kernel_size=(3,3), padding=\"same\", activation=\"relu\"))\n",
        "model.add(MaxPool2D(pool_size=(2,2),strides=(2,2)))\n",
        "\n",
        "model.add(Conv2D(filters=512, kernel_size=(3,3), padding=\"same\", activation=\"relu\"))\n",
        "model.add(Conv2D(filters=512, kernel_size=(3,3), padding=\"same\", activation=\"relu\"))\n",
        "model.add(Conv2D(filters=512, kernel_size=(3,3), padding=\"same\", activation=\"relu\"))\n",
        "model.add(MaxPool2D(pool_size=(2,2),strides=(2,2)))\n",
        "model.add(BatchNormalization())\n",
        "\n",
        "model.add(Dense(units=4096,activation=\"relu\"))\n",
        "model.add(Dense(units=4096,activation=\"relu\"))\n",
        "model.add(Dense(units=num_class, activation=\"softmax\"))\n",
        "\n",
        "model.add(Dropout(0.5))\n",
        "model.add(BatchNormalization())"
      ],
      "execution_count": null,
      "outputs": []
    },
    {
      "cell_type": "code",
      "metadata": {
        "id": "LrJpQTswb8Gr"
      },
      "source": [
        "'''model = Sequential()\n",
        "\n",
        "model.add(VGG16(\n",
        "    include_top = False,\n",
        "    pooling='avg',\n",
        "    weights='imagenet',\n",
        "))"
      ],
      "execution_count": null,
      "outputs": []
    },
    {
      "cell_type": "code",
      "metadata": {
        "id": "FdfWU9lKb-hK"
      },
      "source": [
        "'''model.add(Flatten())\n",
        "model.add(Dropout(0.25))\n",
        "model.add(Dense(2048, activation='relu'))\n",
        "model.add(Dropout(0.25))\n",
        "model.add(Dense(1024, activation='relu'))\n",
        "model.add(Dense(num_classes, activation='softmax', name = 'classifer'))'''"
      ],
      "execution_count": null,
      "outputs": []
    },
    {
      "cell_type": "code",
      "metadata": {
        "id": "4RBbSTgCg7mQ"
      },
      "source": [
        "'''model.layers[0].layers"
      ],
      "execution_count": null,
      "outputs": []
    },
    {
      "cell_type": "code",
      "metadata": {
        "id": "90sEOB4Dg9V3"
      },
      "source": [
        "'''model.layers[0].trainable = False"
      ],
      "execution_count": null,
      "outputs": []
    },
    {
      "cell_type": "code",
      "metadata": {
        "id": "PCdOixg7g-o_",
        "colab": {
          "base_uri": "https://localhost:8080/"
        },
        "outputId": "61cd1637-4e5a-4049-8b67-70eede03e550"
      },
      "source": [
        "model.summary()"
      ],
      "execution_count": 6,
      "outputs": [
        {
          "output_type": "stream",
          "text": [
            "Model: \"sequential\"\n",
            "_________________________________________________________________\n",
            "Layer (type)                 Output Shape              Param #   \n",
            "=================================================================\n",
            "conv2d (Conv2D)              (None, 48, 48, 64)        640       \n",
            "_________________________________________________________________\n",
            "conv2d_1 (Conv2D)            (None, 48, 48, 64)        36928     \n",
            "_________________________________________________________________\n",
            "max_pooling2d (MaxPooling2D) (None, 24, 24, 64)        0         \n",
            "_________________________________________________________________\n",
            "dropout (Dropout)            (None, 24, 24, 64)        0         \n",
            "_________________________________________________________________\n",
            "batch_normalization (BatchNo (None, 24, 24, 64)        256       \n",
            "_________________________________________________________________\n",
            "conv2d_2 (Conv2D)            (None, 24, 24, 128)       73856     \n",
            "_________________________________________________________________\n",
            "conv2d_3 (Conv2D)            (None, 24, 24, 128)       147584    \n",
            "_________________________________________________________________\n",
            "max_pooling2d_1 (MaxPooling2 (None, 12, 12, 128)       0         \n",
            "_________________________________________________________________\n",
            "dropout_1 (Dropout)          (None, 12, 12, 128)       0         \n",
            "_________________________________________________________________\n",
            "batch_normalization_1 (Batch (None, 12, 12, 128)       512       \n",
            "_________________________________________________________________\n",
            "conv2d_4 (Conv2D)            (None, 12, 12, 256)       295168    \n",
            "_________________________________________________________________\n",
            "conv2d_5 (Conv2D)            (None, 12, 12, 256)       590080    \n",
            "_________________________________________________________________\n",
            "conv2d_6 (Conv2D)            (None, 12, 12, 256)       590080    \n",
            "_________________________________________________________________\n",
            "max_pooling2d_2 (MaxPooling2 (None, 6, 6, 256)         0         \n",
            "_________________________________________________________________\n",
            "dropout_2 (Dropout)          (None, 6, 6, 256)         0         \n",
            "_________________________________________________________________\n",
            "batch_normalization_2 (Batch (None, 6, 6, 256)         1024      \n",
            "_________________________________________________________________\n",
            "conv2d_7 (Conv2D)            (None, 6, 6, 512)         1180160   \n",
            "_________________________________________________________________\n",
            "conv2d_8 (Conv2D)            (None, 6, 6, 512)         2359808   \n",
            "_________________________________________________________________\n",
            "conv2d_9 (Conv2D)            (None, 6, 6, 512)         2359808   \n",
            "_________________________________________________________________\n",
            "max_pooling2d_3 (MaxPooling2 (None, 3, 3, 512)         0         \n",
            "_________________________________________________________________\n",
            "dropout_3 (Dropout)          (None, 3, 3, 512)         0         \n",
            "_________________________________________________________________\n",
            "batch_normalization_3 (Batch (None, 3, 3, 512)         2048      \n",
            "_________________________________________________________________\n",
            "flatten (Flatten)            (None, 4608)              0         \n",
            "_________________________________________________________________\n",
            "dense (Dense)                (None, 512)               2359808   \n",
            "_________________________________________________________________\n",
            "dropout_4 (Dropout)          (None, 512)               0         \n",
            "_________________________________________________________________\n",
            "dense_1 (Dense)              (None, 512)               262656    \n",
            "_________________________________________________________________\n",
            "dropout_5 (Dropout)          (None, 512)               0         \n",
            "_________________________________________________________________\n",
            "dense_2 (Dense)              (None, 512)               262656    \n",
            "_________________________________________________________________\n",
            "dropout_6 (Dropout)          (None, 512)               0         \n",
            "_________________________________________________________________\n",
            "dense_3 (Dense)              (None, 7)                 3591      \n",
            "=================================================================\n",
            "Total params: 10,526,663\n",
            "Trainable params: 10,524,743\n",
            "Non-trainable params: 1,920\n",
            "_________________________________________________________________\n"
          ],
          "name": "stdout"
        }
      ]
    },
    {
      "cell_type": "code",
      "metadata": {
        "id": "Z_woPR9Im3iN"
      },
      "source": [
        "from keras.optimizers import Adam,RMSprop,SGD"
      ],
      "execution_count": 7,
      "outputs": []
    },
    {
      "cell_type": "code",
      "metadata": {
        "id": "KBL-vUYa16ZO"
      },
      "source": [
        "optimizer = Adam(learning_rate=0.0001)\n",
        "\n",
        "model.compile(optimizer=optimizer, loss='sparse_categorical_crossentropy', metrics=['accuracy'])"
      ],
      "execution_count": 8,
      "outputs": []
    },
    {
      "cell_type": "code",
      "metadata": {
        "id": "9Dpq-c5YhAfn",
        "colab": {
          "base_uri": "https://localhost:8080/"
        },
        "outputId": "d85fb57b-b801-4719-9f9f-a8f6d9f34c5e"
      },
      "source": [
        "batch_size = 64\n",
        "num_epochs = 100\n",
        "\n",
        "history = model.fit(data_generator.flow(xtrain, ytrain),\n",
        "                    steps_per_epoch=len(xtrain) / batch_size,\n",
        "                    epochs=num_epochs, \n",
        "                    verbose=1,\n",
        "                    validation_data= (x_val,y_val))"
      ],
      "execution_count": 9,
      "outputs": [
        {
          "output_type": "stream",
          "text": [
            "Epoch 1/100\n",
            "448/448 [==============================] - 34s 35ms/step - loss: 2.2334 - accuracy: 0.1765 - val_loss: 1.8747 - val_accuracy: 0.2502\n",
            "Epoch 2/100\n",
            "448/448 [==============================] - 14s 31ms/step - loss: 1.8732 - accuracy: 0.2162 - val_loss: 1.8458 - val_accuracy: 0.2502\n",
            "Epoch 3/100\n",
            "448/448 [==============================] - 14s 31ms/step - loss: 1.8411 - accuracy: 0.2221 - val_loss: 1.8432 - val_accuracy: 0.2502\n",
            "Epoch 4/100\n",
            "448/448 [==============================] - 14s 32ms/step - loss: 1.8374 - accuracy: 0.2313 - val_loss: 1.8433 - val_accuracy: 0.2502\n",
            "Epoch 5/100\n",
            "448/448 [==============================] - 14s 32ms/step - loss: 1.8295 - accuracy: 0.2286 - val_loss: 1.8422 - val_accuracy: 0.2502\n",
            "Epoch 6/100\n",
            "448/448 [==============================] - 14s 32ms/step - loss: 1.8301 - accuracy: 0.2316 - val_loss: 1.8478 - val_accuracy: 0.2502\n",
            "Epoch 7/100\n",
            "448/448 [==============================] - 14s 32ms/step - loss: 1.8086 - accuracy: 0.2359 - val_loss: 1.8541 - val_accuracy: 0.2477\n",
            "Epoch 8/100\n",
            "448/448 [==============================] - 15s 32ms/step - loss: 1.8043 - accuracy: 0.2416 - val_loss: 1.7972 - val_accuracy: 0.2708\n",
            "Epoch 9/100\n",
            "448/448 [==============================] - 15s 33ms/step - loss: 1.7658 - accuracy: 0.2739 - val_loss: 1.7558 - val_accuracy: 0.2967\n",
            "Epoch 10/100\n",
            "448/448 [==============================] - 15s 33ms/step - loss: 1.6976 - accuracy: 0.3017 - val_loss: 1.7285 - val_accuracy: 0.3121\n",
            "Epoch 11/100\n",
            "448/448 [==============================] - 15s 33ms/step - loss: 1.6369 - accuracy: 0.3318 - val_loss: 1.5442 - val_accuracy: 0.3722\n",
            "Epoch 12/100\n",
            "448/448 [==============================] - 15s 33ms/step - loss: 1.5756 - accuracy: 0.3668 - val_loss: 1.6665 - val_accuracy: 0.3653\n",
            "Epoch 13/100\n",
            "448/448 [==============================] - 15s 33ms/step - loss: 1.4980 - accuracy: 0.4042 - val_loss: 1.5363 - val_accuracy: 0.3951\n",
            "Epoch 14/100\n",
            "448/448 [==============================] - 15s 33ms/step - loss: 1.4814 - accuracy: 0.4106 - val_loss: 1.3856 - val_accuracy: 0.4416\n",
            "Epoch 15/100\n",
            "448/448 [==============================] - 15s 33ms/step - loss: 1.4403 - accuracy: 0.4192 - val_loss: 1.4086 - val_accuracy: 0.4327\n",
            "Epoch 16/100\n",
            "448/448 [==============================] - 15s 33ms/step - loss: 1.4111 - accuracy: 0.4388 - val_loss: 1.5732 - val_accuracy: 0.3742\n",
            "Epoch 17/100\n",
            "448/448 [==============================] - 15s 33ms/step - loss: 1.3917 - accuracy: 0.4433 - val_loss: 1.3192 - val_accuracy: 0.4631\n",
            "Epoch 18/100\n",
            "448/448 [==============================] - 15s 33ms/step - loss: 1.3585 - accuracy: 0.4574 - val_loss: 1.3266 - val_accuracy: 0.4882\n",
            "Epoch 19/100\n",
            "448/448 [==============================] - 15s 33ms/step - loss: 1.3253 - accuracy: 0.4705 - val_loss: 1.3099 - val_accuracy: 0.4868\n",
            "Epoch 20/100\n",
            "448/448 [==============================] - 15s 33ms/step - loss: 1.3014 - accuracy: 0.4918 - val_loss: 1.2750 - val_accuracy: 0.4965\n",
            "Epoch 21/100\n",
            "448/448 [==============================] - 15s 33ms/step - loss: 1.2845 - accuracy: 0.4938 - val_loss: 1.2724 - val_accuracy: 0.5077\n",
            "Epoch 22/100\n",
            "448/448 [==============================] - 15s 33ms/step - loss: 1.2541 - accuracy: 0.5133 - val_loss: 1.2316 - val_accuracy: 0.5160\n",
            "Epoch 23/100\n",
            "448/448 [==============================] - 15s 33ms/step - loss: 1.2345 - accuracy: 0.5188 - val_loss: 1.2407 - val_accuracy: 0.5319\n",
            "Epoch 24/100\n",
            "448/448 [==============================] - 15s 33ms/step - loss: 1.2193 - accuracy: 0.5294 - val_loss: 1.1890 - val_accuracy: 0.5380\n",
            "Epoch 25/100\n",
            "448/448 [==============================] - 15s 33ms/step - loss: 1.1939 - accuracy: 0.5407 - val_loss: 1.2086 - val_accuracy: 0.5300\n",
            "Epoch 26/100\n",
            "448/448 [==============================] - 15s 33ms/step - loss: 1.1951 - accuracy: 0.5489 - val_loss: 1.1689 - val_accuracy: 0.5417\n",
            "Epoch 27/100\n",
            "448/448 [==============================] - 15s 33ms/step - loss: 1.1691 - accuracy: 0.5555 - val_loss: 1.1739 - val_accuracy: 0.5456\n",
            "Epoch 28/100\n",
            "448/448 [==============================] - 15s 33ms/step - loss: 1.1623 - accuracy: 0.5513 - val_loss: 1.1351 - val_accuracy: 0.5776\n",
            "Epoch 29/100\n",
            "448/448 [==============================] - 15s 33ms/step - loss: 1.1295 - accuracy: 0.5686 - val_loss: 1.1347 - val_accuracy: 0.5642\n",
            "Epoch 30/100\n",
            "448/448 [==============================] - 15s 33ms/step - loss: 1.1198 - accuracy: 0.5730 - val_loss: 1.1272 - val_accuracy: 0.5698\n",
            "Epoch 31/100\n",
            "448/448 [==============================] - 15s 33ms/step - loss: 1.0948 - accuracy: 0.5928 - val_loss: 1.1113 - val_accuracy: 0.5899\n",
            "Epoch 32/100\n",
            "448/448 [==============================] - 15s 33ms/step - loss: 1.1121 - accuracy: 0.5790 - val_loss: 1.1382 - val_accuracy: 0.5592\n",
            "Epoch 33/100\n",
            "448/448 [==============================] - 15s 33ms/step - loss: 1.0751 - accuracy: 0.5912 - val_loss: 1.0867 - val_accuracy: 0.5879\n",
            "Epoch 34/100\n",
            "448/448 [==============================] - 15s 33ms/step - loss: 1.0796 - accuracy: 0.5865 - val_loss: 1.1199 - val_accuracy: 0.5821\n",
            "Epoch 35/100\n",
            "448/448 [==============================] - 15s 33ms/step - loss: 1.0539 - accuracy: 0.6039 - val_loss: 1.1044 - val_accuracy: 0.5904\n",
            "Epoch 36/100\n",
            "448/448 [==============================] - 15s 33ms/step - loss: 1.0545 - accuracy: 0.6048 - val_loss: 1.1099 - val_accuracy: 0.5876\n",
            "Epoch 37/100\n",
            "448/448 [==============================] - 15s 33ms/step - loss: 1.0347 - accuracy: 0.6098 - val_loss: 1.0913 - val_accuracy: 0.6057\n",
            "Epoch 38/100\n",
            "448/448 [==============================] - 15s 33ms/step - loss: 1.0194 - accuracy: 0.6184 - val_loss: 1.0566 - val_accuracy: 0.6105\n",
            "Epoch 39/100\n",
            "448/448 [==============================] - 15s 33ms/step - loss: 1.0094 - accuracy: 0.6205 - val_loss: 1.0544 - val_accuracy: 0.6108\n",
            "Epoch 40/100\n",
            "448/448 [==============================] - 15s 33ms/step - loss: 0.9924 - accuracy: 0.6341 - val_loss: 1.0420 - val_accuracy: 0.6057\n",
            "Epoch 41/100\n",
            "448/448 [==============================] - 15s 33ms/step - loss: 0.9837 - accuracy: 0.6283 - val_loss: 1.0639 - val_accuracy: 0.6007\n",
            "Epoch 42/100\n",
            "448/448 [==============================] - 15s 33ms/step - loss: 0.9704 - accuracy: 0.6383 - val_loss: 1.0986 - val_accuracy: 0.5991\n",
            "Epoch 43/100\n",
            "448/448 [==============================] - 15s 33ms/step - loss: 0.9424 - accuracy: 0.6471 - val_loss: 1.0715 - val_accuracy: 0.6049\n",
            "Epoch 44/100\n",
            "448/448 [==============================] - 15s 33ms/step - loss: 0.9417 - accuracy: 0.6451 - val_loss: 1.0219 - val_accuracy: 0.6152\n",
            "Epoch 45/100\n",
            "448/448 [==============================] - 15s 33ms/step - loss: 0.9292 - accuracy: 0.6490 - val_loss: 1.0514 - val_accuracy: 0.6116\n",
            "Epoch 46/100\n",
            "448/448 [==============================] - 15s 33ms/step - loss: 0.9330 - accuracy: 0.6591 - val_loss: 1.0348 - val_accuracy: 0.6102\n",
            "Epoch 47/100\n",
            "448/448 [==============================] - 15s 33ms/step - loss: 0.9308 - accuracy: 0.6550 - val_loss: 1.0308 - val_accuracy: 0.6177\n",
            "Epoch 48/100\n",
            "448/448 [==============================] - 15s 33ms/step - loss: 0.9025 - accuracy: 0.6669 - val_loss: 1.0432 - val_accuracy: 0.6063\n",
            "Epoch 49/100\n",
            "448/448 [==============================] - 15s 33ms/step - loss: 0.9000 - accuracy: 0.6645 - val_loss: 1.0088 - val_accuracy: 0.6252\n",
            "Epoch 50/100\n",
            "448/448 [==============================] - 15s 33ms/step - loss: 0.8970 - accuracy: 0.6667 - val_loss: 0.9898 - val_accuracy: 0.6297\n",
            "Epoch 51/100\n",
            "448/448 [==============================] - 15s 33ms/step - loss: 0.8639 - accuracy: 0.6823 - val_loss: 1.0095 - val_accuracy: 0.6294\n",
            "Epoch 52/100\n",
            "448/448 [==============================] - 15s 33ms/step - loss: 0.8693 - accuracy: 0.6798 - val_loss: 1.0206 - val_accuracy: 0.6247\n",
            "Epoch 53/100\n",
            "448/448 [==============================] - 15s 33ms/step - loss: 0.8478 - accuracy: 0.6935 - val_loss: 0.9885 - val_accuracy: 0.6272\n",
            "Epoch 54/100\n",
            "448/448 [==============================] - 15s 33ms/step - loss: 0.8349 - accuracy: 0.6903 - val_loss: 1.0068 - val_accuracy: 0.6266\n",
            "Epoch 55/100\n",
            "448/448 [==============================] - 15s 33ms/step - loss: 0.8392 - accuracy: 0.6897 - val_loss: 1.0540 - val_accuracy: 0.6110\n",
            "Epoch 56/100\n",
            "448/448 [==============================] - 15s 33ms/step - loss: 0.8292 - accuracy: 0.6967 - val_loss: 1.0186 - val_accuracy: 0.6269\n",
            "Epoch 57/100\n",
            "448/448 [==============================] - 15s 33ms/step - loss: 0.8037 - accuracy: 0.7073 - val_loss: 0.9916 - val_accuracy: 0.6272\n",
            "Epoch 58/100\n",
            "448/448 [==============================] - 15s 33ms/step - loss: 0.8050 - accuracy: 0.7050 - val_loss: 0.9945 - val_accuracy: 0.6311\n",
            "Epoch 59/100\n",
            "448/448 [==============================] - 15s 33ms/step - loss: 0.7750 - accuracy: 0.7133 - val_loss: 1.0283 - val_accuracy: 0.6233\n",
            "Epoch 60/100\n",
            "448/448 [==============================] - 15s 33ms/step - loss: 0.7803 - accuracy: 0.7138 - val_loss: 0.9862 - val_accuracy: 0.6339\n",
            "Epoch 61/100\n",
            "448/448 [==============================] - 15s 33ms/step - loss: 0.7767 - accuracy: 0.7146 - val_loss: 1.0189 - val_accuracy: 0.6252\n",
            "Epoch 62/100\n",
            "448/448 [==============================] - 15s 33ms/step - loss: 0.7527 - accuracy: 0.7228 - val_loss: 0.9997 - val_accuracy: 0.6344\n",
            "Epoch 63/100\n",
            "448/448 [==============================] - 15s 33ms/step - loss: 0.7575 - accuracy: 0.7247 - val_loss: 0.9877 - val_accuracy: 0.6392\n",
            "Epoch 64/100\n",
            "448/448 [==============================] - 15s 33ms/step - loss: 0.7390 - accuracy: 0.7278 - val_loss: 0.9853 - val_accuracy: 0.6442\n",
            "Epoch 65/100\n",
            "448/448 [==============================] - 15s 33ms/step - loss: 0.7527 - accuracy: 0.7224 - val_loss: 0.9823 - val_accuracy: 0.6408\n",
            "Epoch 66/100\n",
            "448/448 [==============================] - 15s 33ms/step - loss: 0.7135 - accuracy: 0.7396 - val_loss: 1.0182 - val_accuracy: 0.6247\n",
            "Epoch 67/100\n",
            "448/448 [==============================] - 15s 33ms/step - loss: 0.7130 - accuracy: 0.7447 - val_loss: 1.0008 - val_accuracy: 0.6303\n",
            "Epoch 68/100\n",
            "448/448 [==============================] - 15s 33ms/step - loss: 0.6991 - accuracy: 0.7433 - val_loss: 0.9722 - val_accuracy: 0.6417\n",
            "Epoch 69/100\n",
            "448/448 [==============================] - 15s 33ms/step - loss: 0.6996 - accuracy: 0.7451 - val_loss: 1.0011 - val_accuracy: 0.6425\n",
            "Epoch 70/100\n",
            "448/448 [==============================] - 15s 33ms/step - loss: 0.6817 - accuracy: 0.7545 - val_loss: 0.9805 - val_accuracy: 0.6369\n",
            "Epoch 71/100\n",
            "448/448 [==============================] - 15s 33ms/step - loss: 0.6709 - accuracy: 0.7531 - val_loss: 1.0097 - val_accuracy: 0.6411\n",
            "Epoch 72/100\n",
            "448/448 [==============================] - 15s 33ms/step - loss: 0.6705 - accuracy: 0.7574 - val_loss: 0.9886 - val_accuracy: 0.6459\n",
            "Epoch 73/100\n",
            "448/448 [==============================] - 15s 33ms/step - loss: 0.6590 - accuracy: 0.7621 - val_loss: 1.0130 - val_accuracy: 0.6420\n",
            "Epoch 74/100\n",
            "448/448 [==============================] - 15s 33ms/step - loss: 0.6568 - accuracy: 0.7577 - val_loss: 1.0265 - val_accuracy: 0.6328\n",
            "Epoch 75/100\n",
            "448/448 [==============================] - 15s 33ms/step - loss: 0.6416 - accuracy: 0.7702 - val_loss: 1.0486 - val_accuracy: 0.6169\n",
            "Epoch 76/100\n",
            "448/448 [==============================] - 15s 33ms/step - loss: 0.6225 - accuracy: 0.7809 - val_loss: 1.0234 - val_accuracy: 0.6344\n",
            "Epoch 77/100\n",
            "448/448 [==============================] - 15s 33ms/step - loss: 0.6291 - accuracy: 0.7695 - val_loss: 1.0429 - val_accuracy: 0.6364\n",
            "Epoch 78/100\n",
            "448/448 [==============================] - 15s 33ms/step - loss: 0.6076 - accuracy: 0.7818 - val_loss: 1.0008 - val_accuracy: 0.6450\n",
            "Epoch 79/100\n",
            "448/448 [==============================] - 15s 33ms/step - loss: 0.5983 - accuracy: 0.7823 - val_loss: 0.9870 - val_accuracy: 0.6512\n",
            "Epoch 80/100\n",
            "448/448 [==============================] - 15s 33ms/step - loss: 0.6092 - accuracy: 0.7840 - val_loss: 1.0003 - val_accuracy: 0.6470\n",
            "Epoch 81/100\n",
            "448/448 [==============================] - 15s 33ms/step - loss: 0.5796 - accuracy: 0.7963 - val_loss: 1.0183 - val_accuracy: 0.6459\n",
            "Epoch 82/100\n",
            "448/448 [==============================] - 15s 33ms/step - loss: 0.5656 - accuracy: 0.7980 - val_loss: 1.0288 - val_accuracy: 0.6475\n",
            "Epoch 83/100\n",
            "448/448 [==============================] - 15s 33ms/step - loss: 0.5741 - accuracy: 0.7954 - val_loss: 1.0302 - val_accuracy: 0.6442\n",
            "Epoch 84/100\n",
            "448/448 [==============================] - 15s 33ms/step - loss: 0.5909 - accuracy: 0.7901 - val_loss: 1.0155 - val_accuracy: 0.6461\n",
            "Epoch 85/100\n",
            "448/448 [==============================] - 15s 33ms/step - loss: 0.5536 - accuracy: 0.8013 - val_loss: 0.9890 - val_accuracy: 0.6573\n",
            "Epoch 86/100\n",
            "448/448 [==============================] - 15s 33ms/step - loss: 0.5361 - accuracy: 0.8059 - val_loss: 1.0682 - val_accuracy: 0.6372\n",
            "Epoch 87/100\n",
            "448/448 [==============================] - 15s 33ms/step - loss: 0.5466 - accuracy: 0.8050 - val_loss: 1.0194 - val_accuracy: 0.6567\n",
            "Epoch 88/100\n",
            "448/448 [==============================] - 15s 33ms/step - loss: 0.5290 - accuracy: 0.8102 - val_loss: 1.0198 - val_accuracy: 0.6559\n",
            "Epoch 89/100\n",
            "448/448 [==============================] - 15s 33ms/step - loss: 0.5179 - accuracy: 0.8211 - val_loss: 1.0481 - val_accuracy: 0.6447\n",
            "Epoch 90/100\n",
            "448/448 [==============================] - 15s 33ms/step - loss: 0.5216 - accuracy: 0.8170 - val_loss: 0.9920 - val_accuracy: 0.6609\n",
            "Epoch 91/100\n",
            "448/448 [==============================] - 15s 33ms/step - loss: 0.5159 - accuracy: 0.8174 - val_loss: 1.0233 - val_accuracy: 0.6489\n",
            "Epoch 92/100\n",
            "448/448 [==============================] - 15s 33ms/step - loss: 0.4881 - accuracy: 0.8364 - val_loss: 1.0284 - val_accuracy: 0.6542\n",
            "Epoch 93/100\n",
            "448/448 [==============================] - 15s 33ms/step - loss: 0.4889 - accuracy: 0.8305 - val_loss: 1.0390 - val_accuracy: 0.6464\n",
            "Epoch 94/100\n",
            "448/448 [==============================] - 15s 33ms/step - loss: 0.5099 - accuracy: 0.8189 - val_loss: 1.0277 - val_accuracy: 0.6528\n",
            "Epoch 95/100\n",
            "448/448 [==============================] - 15s 33ms/step - loss: 0.4827 - accuracy: 0.8254 - val_loss: 1.0366 - val_accuracy: 0.6528\n",
            "Epoch 96/100\n",
            "448/448 [==============================] - 15s 33ms/step - loss: 0.4696 - accuracy: 0.8334 - val_loss: 1.0689 - val_accuracy: 0.6573\n",
            "Epoch 97/100\n",
            "448/448 [==============================] - 15s 33ms/step - loss: 0.4750 - accuracy: 0.8314 - val_loss: 1.0267 - val_accuracy: 0.6520\n",
            "Epoch 98/100\n",
            "448/448 [==============================] - 15s 33ms/step - loss: 0.4621 - accuracy: 0.8344 - val_loss: 1.0362 - val_accuracy: 0.6553\n",
            "Epoch 99/100\n",
            "448/448 [==============================] - 15s 33ms/step - loss: 0.4605 - accuracy: 0.8376 - val_loss: 1.1062 - val_accuracy: 0.6492\n",
            "Epoch 100/100\n",
            "448/448 [==============================] - 15s 33ms/step - loss: 0.4462 - accuracy: 0.8374 - val_loss: 1.0473 - val_accuracy: 0.6567\n"
          ],
          "name": "stdout"
        }
      ]
    },
    {
      "cell_type": "code",
      "metadata": {
        "id": "CLFinNknGGDd"
      },
      "source": [
        "model.save('/content/drive/MyDrive/Colab Notebooks/Model/Model4_Fix_VGG16.h5')"
      ],
      "execution_count": 13,
      "outputs": []
    },
    {
      "cell_type": "code",
      "metadata": {
        "id": "lDnJ_LcFhC-W",
        "colab": {
          "base_uri": "https://localhost:8080/",
          "height": 573
        },
        "outputId": "750128df-074d-4920-d51e-5b6c84b967f9"
      },
      "source": [
        "import matplotlib.pyplot as plt \n",
        "\n",
        "accuracy = history.history['accuracy']\n",
        "val_accuracy = history.history['val_accuracy']\n",
        "loss = history.history['loss']\n",
        "val_loss = history.history['val_loss']\n",
        "num_epochs = range(len(accuracy))\n",
        "plt.plot(num_epochs, accuracy, 'r', label='Training acc')\n",
        "plt.plot(num_epochs, val_accuracy, 'b', label='Validation acc')\n",
        "plt.title('Training and validation accuracy')\n",
        "plt.ylabel('accuracy')  \n",
        "plt.xlabel('epoch')\n",
        "plt.legend()\n",
        "plt.figure()\n",
        "plt.plot(num_epochs, loss, 'r', label='Training loss')\n",
        "plt.plot(num_epochs, val_loss, 'b', label='Validation loss')\n",
        "plt.title('Training and validation loss')\n",
        "plt.ylabel('loss')  \n",
        "plt.xlabel('epoch')\n",
        "plt.legend()\n",
        "plt.show()"
      ],
      "execution_count": 10,
      "outputs": [
        {
          "output_type": "display_data",
          "data": {
            "image/png": "[encoded data removed]",
            "text/plain": [
              "<Figure size 432x288 with 1 Axes>"
            ]
          },
          "metadata": {
            "tags": [],
            "needs_background": "light"
          }
        },
        {
          "output_type": "display_data",
          "data": {
            "image/png": "[encoded data removed]",
            "text/plain": [
              "<Figure size 432x288 with 1 Axes>"
            ]
          },
          "metadata": {
            "tags": [],
            "needs_background": "light"
          }
        }
      ]
    },
    {
      "cell_type": "code",
      "metadata": {
        "id": "tuLQ-HQVhFz3",
        "colab": {
          "base_uri": "https://localhost:8080/"
        },
        "outputId": "ecaa2e3e-edce-4144-f116-bbc9f8c93291"
      },
      "source": [
        "testloss = model.evaluate(xtest, ytest) \n",
        "print(\"Test Loss \" + str(testloss[0]))\n",
        "print(\"Test Acc: \" + str(testloss[1]))\n",
        "\n",
        "trainloss = model.evaluate(xtrain, ytrain) \n",
        "print(\"Train Loss \" + str(trainloss[0]))\n",
        "print(\"Train Acc: \" + str(trainloss[1]))"
      ],
      "execution_count": 11,
      "outputs": [
        {
          "output_type": "stream",
          "text": [
            "113/113 [==============================] - 1s 9ms/step - loss: 1.1066 - accuracy: 0.6461\n",
            "Test Loss 1.1066163778305054\n",
            "Test Acc: 0.646140992641449\n",
            "898/898 [==============================] - 8s 9ms/step - loss: 0.2768 - accuracy: 0.9269\n",
            "Train Loss 0.2768288254737854\n",
            "Train Acc: 0.9269218444824219\n"
          ],
          "name": "stdout"
        }
      ]
    },
    {
      "cell_type": "code",
      "metadata": {
        "id": "jxqB-9N6hShu",
        "colab": {
          "base_uri": "https://localhost:8080/"
        },
        "outputId": "e4333bac-297d-42e6-98e3-9be3f0bd1319"
      },
      "source": [
        "testlosz = model.evaluate(x_val, y_val) \n",
        "print(\"val Loss \" + str(testlosz[0]))\n",
        "print(\"val Acc: \" + str(testlosz[1]))"
      ],
      "execution_count": 12,
      "outputs": [
        {
          "output_type": "stream",
          "text": [
            "113/113 [==============================] - 1s 9ms/step - loss: 1.0473 - accuracy: 0.6567\n",
            "val Loss 1.0473237037658691\n",
            "val Acc: 0.6567289233207703\n"
          ],
          "name": "stdout"
        }
      ]
    },
    {
      "cell_type": "code",
      "metadata": {
        "id": "19CO9w7fwZhA",
        "colab": {
          "base_uri": "https://localhost:8080/"
        },
        "outputId": "a9cf8d57-fac3-4941-95ee-9ef4ee700b9f"
      },
      "source": [
        "from keras.models import load_model\n",
        "model_load = load_model('/content/drive/MyDrive/Colab Notebooks/Model/Model1_Fix_VGG16.h5')\n",
        "\n",
        "model_load.summary()"
      ],
      "execution_count": 14,
      "outputs": [
        {
          "output_type": "stream",
          "text": [
            "Model: \"sequential\"\n",
            "_________________________________________________________________\n",
            "Layer (type)                 Output Shape              Param #   \n",
            "=================================================================\n",
            "conv2d (Conv2D)              (None, 48, 48, 64)        640       \n",
            "_________________________________________________________________\n",
            "conv2d_1 (Conv2D)            (None, 48, 48, 64)        36928     \n",
            "_________________________________________________________________\n",
            "max_pooling2d (MaxPooling2D) (None, 24, 24, 64)        0         \n",
            "_________________________________________________________________\n",
            "batch_normalization (BatchNo (None, 24, 24, 64)        256       \n",
            "_________________________________________________________________\n",
            "conv2d_2 (Conv2D)            (None, 24, 24, 128)       73856     \n",
            "_________________________________________________________________\n",
            "conv2d_3 (Conv2D)            (None, 24, 24, 128)       147584    \n",
            "_________________________________________________________________\n",
            "max_pooling2d_1 (MaxPooling2 (None, 12, 12, 128)       0         \n",
            "_________________________________________________________________\n",
            "batch_normalization_1 (Batch (None, 12, 12, 128)       512       \n",
            "_________________________________________________________________\n",
            "conv2d_4 (Conv2D)            (None, 12, 12, 256)       295168    \n",
            "_________________________________________________________________\n",
            "conv2d_5 (Conv2D)            (None, 12, 12, 256)       590080    \n",
            "_________________________________________________________________\n",
            "conv2d_6 (Conv2D)            (None, 12, 12, 256)       590080    \n",
            "_________________________________________________________________\n",
            "max_pooling2d_2 (MaxPooling2 (None, 6, 6, 256)         0         \n",
            "_________________________________________________________________\n",
            "batch_normalization_2 (Batch (None, 6, 6, 256)         1024      \n",
            "_________________________________________________________________\n",
            "conv2d_7 (Conv2D)            (None, 6, 6, 512)         1180160   \n",
            "_________________________________________________________________\n",
            "conv2d_8 (Conv2D)            (None, 6, 6, 512)         2359808   \n",
            "_________________________________________________________________\n",
            "conv2d_9 (Conv2D)            (None, 6, 6, 512)         2359808   \n",
            "_________________________________________________________________\n",
            "max_pooling2d_3 (MaxPooling2 (None, 3, 3, 512)         0         \n",
            "_________________________________________________________________\n",
            "batch_normalization_3 (Batch (None, 3, 3, 512)         2048      \n",
            "_________________________________________________________________\n",
            "conv2d_10 (Conv2D)           (None, 3, 3, 512)         2359808   \n",
            "_________________________________________________________________\n",
            "conv2d_11 (Conv2D)           (None, 3, 3, 512)         2359808   \n",
            "_________________________________________________________________\n",
            "conv2d_12 (Conv2D)           (None, 3, 3, 512)         2359808   \n",
            "_________________________________________________________________\n",
            "max_pooling2d_4 (MaxPooling2 (None, 1, 1, 512)         0         \n",
            "_________________________________________________________________\n",
            "batch_normalization_4 (Batch (None, 1, 1, 512)         2048      \n",
            "_________________________________________________________________\n",
            "flatten (Flatten)            (None, 512)               0         \n",
            "_________________________________________________________________\n",
            "dense (Dense)                (None, 1024)              525312    \n",
            "_________________________________________________________________\n",
            "dropout (Dropout)            (None, 1024)              0         \n",
            "_________________________________________________________________\n",
            "dense_1 (Dense)              (None, 512)               524800    \n",
            "_________________________________________________________________\n",
            "dropout_1 (Dropout)          (None, 512)               0         \n",
            "_________________________________________________________________\n",
            "dense_2 (Dense)              (None, 7)                 3591      \n",
            "=================================================================\n",
            "Total params: 15,773,127\n",
            "Trainable params: 15,770,183\n",
            "Non-trainable params: 2,944\n",
            "_________________________________________________________________\n"
          ],
          "name": "stdout"
        }
      ]
    },
    {
      "cell_type": "code",
      "metadata": {
        "id": "h0OWw4B91RLU",
        "colab": {
          "base_uri": "https://localhost:8080/"
        },
        "outputId": "9d89d8a5-4214-4e28-e065-2aee52ee458c"
      },
      "source": [
        "testloss = model_load.evaluate(xtest, ytest) \n",
        "print(\"Test Loss \" + str(testloss[0]))\n",
        "print(\"Test Acc: \" + str(testloss[1]))\n",
        "\n",
        "testloss = model_load.evaluate(xtrain, ytrain) \n",
        "print(\"Test Loss \" + str(testloss[0]))\n",
        "print(\"Test Acc: \" + str(testloss[1]))"
      ],
      "execution_count": 15,
      "outputs": [
        {
          "output_type": "stream",
          "text": [
            "113/113 [==============================] - 2s 13ms/step - loss: 1.0577 - accuracy: 0.6032\n",
            "Test Loss 1.057716965675354\n",
            "Test Acc: 0.6032320857048035\n",
            "898/898 [==============================] - 11s 12ms/step - loss: 1.0435 - accuracy: 0.6069\n",
            "Test Loss 1.0435068607330322\n",
            "Test Acc: 0.6068828701972961\n"
          ],
          "name": "stdout"
        }
      ]
    },
    {
      "cell_type": "code",
      "metadata": {
        "id": "oGDUEZn_1TBT",
        "colab": {
          "base_uri": "https://localhost:8080/"
        },
        "outputId": "a533e033-119e-4409-f45a-58a525844cab"
      },
      "source": [
        "testlosz = model_load.evaluate(x_val, y_val) \n",
        "print(\"Test Loss \" + str(testlosz[0]))\n",
        "print(\"Test Acc: \" + str(testlosz[1]))"
      ],
      "execution_count": 16,
      "outputs": [
        {
          "output_type": "stream",
          "text": [
            "113/113 [==============================] - 1s 12ms/step - loss: 1.0465 - accuracy: 0.5979\n",
            "Test Loss 1.046452522277832\n",
            "Test Acc: 0.5979381203651428\n"
          ],
          "name": "stdout"
        }
      ]
    },
    {
      "cell_type": "code",
      "metadata": {
        "id": "8EM_tCXG1Xmz",
        "colab": {
          "base_uri": "https://localhost:8080/"
        },
        "outputId": "a9c7dbe8-ed20-4c41-85ea-3d04828545ea"
      },
      "source": [
        "print (x_val.shape)\n",
        "print (y_val.shape)\n",
        "print (xtest.shape)\n",
        "print (ytest.shape)\n",
        "print (xtrain.shape)\n",
        "print (ytrain.shape)"
      ],
      "execution_count": 17,
      "outputs": [
        {
          "output_type": "stream",
          "text": [
            "(3589, 48, 48, 1)\n",
            "(3589,)\n",
            "(3589, 48, 48, 1)\n",
            "(3589,)\n",
            "(28709, 48, 48, 1)\n",
            "(28709,)\n"
          ],
          "name": "stdout"
        }
      ]
    },
    {
      "cell_type": "code",
      "metadata": {
        "id": "Ls9muyDJ1ZRd",
        "colab": {
          "base_uri": "https://localhost:8080/"
        },
        "outputId": "9397d77a-d858-459e-a49b-170c0cf85288"
      },
      "source": [
        "from sklearn.metrics import confusion_matrix, classification_report\n",
        "from mlxtend.plotting import plot_confusion_matrix\n",
        "\n",
        "#y_pred = model_load.predict(xtest)\n",
        "\n",
        "test_prob = model_load.predict(xtest)\n",
        "test_pred = np.argmax(test_prob, axis=1)\n",
        "test_accuracy = np.mean(test_pred == ytest)\n",
        "\n",
        "print(test_accuracy)"
      ],
      "execution_count": 18,
      "outputs": [
        {
          "output_type": "stream",
          "text": [
            "0.6032320980774589\n"
          ],
          "name": "stdout"
        }
      ]
    },
    {
      "cell_type": "code",
      "metadata": {
        "id": "xwhI29RZ1boj"
      },
      "source": [
        "emotions = {0: 'Angry', 1: 'Disgust', 2: 'Fear', 3: 'Happy', 4: 'Sad', 5: 'Surprise', 6: 'Neutral'}"
      ],
      "execution_count": 19,
      "outputs": []
    },
    {
      "cell_type": "code",
      "metadata": {
        "id": "Zqyx7uCb1dAz",
        "colab": {
          "base_uri": "https://localhost:8080/",
          "height": 497
        },
        "outputId": "7b923fda-3275-46b3-897d-8a6c40fff19f"
      },
      "source": [
        "conf_mat = confusion_matrix(ytest, test_pred)\n",
        "\n",
        "pd.DataFrame(conf_mat, columns=emotions.values(), index=emotions.values())\n",
        "\n",
        "\n",
        "\n",
        "fig, ax = plot_confusion_matrix(conf_mat=conf_mat,show_normed=True,show_absolute=False,figsize=(8, 8))\n",
        "fig.show()"
      ],
      "execution_count": 20,
      "outputs": [
        {
          "output_type": "display_data",
          "data": {
            "image/png": "[encoded data removed]",
            "text/plain": [
              "<Figure size 576x576 with 1 Axes>"
            ]
          },
          "metadata": {
            "tags": [],
            "needs_background": "light"
          }
        }
      ]
    },
    {
      "cell_type": "code",
      "metadata": {
        "id": "FSi6Ubc3GLMf",
        "colab": {
          "base_uri": "https://localhost:8080/"
        },
        "outputId": "5b848d65-ebe8-4047-e0b0-23609ab2ea32"
      },
      "source": [
        "print(classification_report(ytest, test_pred, target_names=emotions.values()))"
      ],
      "execution_count": 21,
      "outputs": [
        {
          "output_type": "stream",
          "text": [
            "              precision    recall  f1-score   support\n",
            "\n",
            "       Angry       0.58      0.42      0.49       529\n",
            "     Disgust       0.00      0.00      0.00        40\n",
            "        Fear       0.45      0.27      0.33       497\n",
            "       Happy       0.85      0.85      0.85       883\n",
            "         Sad       0.48      0.46      0.47       621\n",
            "    Surprise       0.70      0.78      0.74       396\n",
            "     Neutral       0.47      0.74      0.58       623\n",
            "\n",
            "    accuracy                           0.60      3589\n",
            "   macro avg       0.50      0.50      0.49      3589\n",
            "weighted avg       0.60      0.60      0.59      3589\n",
            "\n"
          ],
          "name": "stdout"
        },
        {
          "output_type": "stream",
          "text": [
            "/usr/local/lib/python3.7/dist-packages/sklearn/metrics/_classification.py:1272: UndefinedMetricWarning: Precision and F-score are ill-defined and being set to 0.0 in labels with no predicted samples. Use `zero_division` parameter to control this behavior.\n",
            "  _warn_prf(average, modifier, msg_start, len(result))\n"
          ],
          "name": "stderr"
        }
      ]
    }
  ]
}