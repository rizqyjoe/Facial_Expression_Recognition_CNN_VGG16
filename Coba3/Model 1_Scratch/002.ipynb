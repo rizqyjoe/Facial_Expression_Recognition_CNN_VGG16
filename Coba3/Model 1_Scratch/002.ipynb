{
  "nbformat": 4,
  "nbformat_minor": 0,
  "metadata": {
    "colab": {
      "name": "TA_Final",
      "provenance": [],
      "include_colab_link": true
    },
    "kernelspec": {
      "display_name": "Python 3",
      "name": "python3"
    },
    "language_info": {
      "name": "python"
    },
    "accelerator": "GPU"
  },
  "cells": [
    {
      "cell_type": "markdown",
      "metadata": {
        "id": "view-in-github",
        "colab_type": "text"
      },
      "source": [
        "<a href=\"https://colab.research.google.com/github/rizqyjoe/Facial_Expression_Recognition_CNN_VGG16/blob/main/Coba3/Model%201_Scratch/2.ipynb\" target=\"_parent\"><img src=\"https://colab.research.google.com/assets/colab-badge.svg\" alt=\"Open In Colab\"/></a>"
      ]
    },
    {
      "cell_type": "code",
      "metadata": {
        "id": "bOt3yEkA4tJ1",
        "colab": {
          "base_uri": "https://localhost:8080/"
        },
        "outputId": "f7d635cd-dd67-47d8-dfd0-f466354e9b2a"
      },
      "source": [
        "#mount drive\n",
        "from google.colab import drive\n",
        "drive.mount('/content/drive')"
      ],
      "execution_count": 1,
      "outputs": [
        {
          "output_type": "stream",
          "text": [
            "Mounted at /content/drive\n"
          ],
          "name": "stdout"
        }
      ]
    },
    {
      "cell_type": "code",
      "metadata": {
        "id": "38RrkU0VmDce",
        "colab": {
          "base_uri": "https://localhost:8080/"
        },
        "outputId": "61ea9068-21fd-43a0-99f0-7df8d26a1257"
      },
      "source": [
        "from keras import layers\n",
        "from keras.models import Model, load_model\n",
        "from keras.preprocessing import image\n",
        "from keras.utils import layer_utils\n",
        "from keras.utils.data_utils import get_file\n",
        "from keras.applications.imagenet_utils import preprocess_input\n",
        "import pydot\n",
        "from IPython.display import SVG\n",
        "from keras.utils.vis_utils import model_to_dot\n",
        "from tensorflow.keras.utils import plot_model\n",
        "\n",
        "from keras.initializers import glorot_uniform\n",
        "import scipy.misc\n",
        "from matplotlib.pyplot import imshow\n",
        "%matplotlib inline\n",
        "\n",
        "import keras.backend as K\n",
        "K.set_image_data_format('channels_last')\n",
        "K.set_learning_phase(1)"
      ],
      "execution_count": 2,
      "outputs": [
        {
          "output_type": "stream",
          "text": [
            "/usr/local/lib/python3.7/dist-packages/keras/backend.py:400: UserWarning: `tf.keras.backend.set_learning_phase` is deprecated and will be removed after 2020-10-11. To update it, simply pass a True/False value to the `training` argument of the `__call__` method of your layer or model.\n",
            "  warnings.warn('`tf.keras.backend.set_learning_phase` is deprecated and '\n"
          ],
          "name": "stderr"
        }
      ]
    },
    {
      "cell_type": "code",
      "metadata": {
        "id": "qiXLLA2ka-a9"
      },
      "source": [
        "import cv2\n",
        "import pandas as pd\n",
        "import numpy as np\n",
        "from sklearn.model_selection import train_test_split\n",
        "from keras.preprocessing.image import ImageDataGenerator\n",
        "from keras.callbacks import CSVLogger, ModelCheckpoint, EarlyStopping\n",
        "from keras.callbacks import ReduceLROnPlateau\n",
        "import tensorflow as tf\n",
        " \n",
        "dataset_path = '/content/drive/MyDrive/Dataset/fer2013 dataset/fer2013/fer2013.csv'\n",
        "image_size=(48,48)\n",
        "\n",
        "def load_fer2013():\n",
        "    data = pd.read_csv(dataset_path)\n",
        "    data = (data[data['pixels'].notnull()])\n",
        "    pixels = data['pixels'].tolist()\n",
        "    width, height = 48, 48\n",
        "    faces = []\n",
        "    for pixel_sequence in pixels:\n",
        "        face = [int(pixel) for pixel in pixel_sequence.split(' ')]\n",
        "        face = np.asarray(face).reshape(width, height)\n",
        "        face = cv2.resize(face.astype('uint8'),image_size)\n",
        "        faces.append(face.astype('float32'))\n",
        "    faces = np.asarray(faces)\n",
        "    faces = np.expand_dims(faces, -1)\n",
        "    emotions = (data['emotion'])#.values\n",
        "    return faces, emotions\n",
        " \n",
        "def preprocess_input(x, v2=True):\n",
        "    x = x.astype('float32')\n",
        "    x = x / 255.0\n",
        "    if v2:\n",
        "        x = x - 0.5\n",
        "        x = x * 2.0\n",
        "    return x\n",
        " \n",
        "faces, emotions = load_fer2013()\n",
        "faces = preprocess_input(faces)\n",
        "#xtrain, xtest,ytrain,ytest = train_test_split(faces, emotions,test_size=0.2,shuffle=True)\n",
        "#Data Augumentation\n",
        "'''data_generator = ImageDataGenerator(rotation_range=10,\n",
        "                                    shear_range = 10,\n",
        "                                    width_shift_range=0.1,\n",
        "                                    height_shift_range=0.1,\n",
        "                                    zoom_range=.1,\n",
        "                                    horizontal_flip=True)'''\n",
        "\n",
        "data_generator = ImageDataGenerator()"
      ],
      "execution_count": 3,
      "outputs": []
    },
    {
      "cell_type": "code",
      "metadata": {
        "id": "GWpF9xzWbD9U"
      },
      "source": [
        "train_ratio = 0.80\n",
        "validation_ratio = 0.10\n",
        "test_ratio = 0.10\n",
        "\n",
        "# train is now 75% of the entire data set\n",
        "# the _junk suffix means that we drop that variable completely # the _junk suffix means that we drop that variable completely\n",
        "#x_train, x_test, y_train, y_test = train_test_split(dataX, dataY, test_size=1 - train_ratio)\n",
        "\n",
        "xtrain, xtest, ytrain, ytest = train_test_split(faces, emotions, test_size=1 - train_ratio)\n",
        "\n",
        "# test is now 10% of the initial data set\n",
        "# validation is now 15% of the initial data set\n",
        "#x_val, x_test, y_val, y_test = train_test_split(x_test, y_test, test_size=test_ratio/(test_ratio + validation_ratio)) \n",
        "x_val, xtest, y_val, ytest = train_test_split(xtest, ytest, test_size=test_ratio/(test_ratio + validation_ratio)) "
      ],
      "execution_count": 4,
      "outputs": []
    },
    {
      "cell_type": "code",
      "metadata": {
        "id": "C0ytmdNTbJQs",
        "colab": {
          "base_uri": "https://localhost:8080/"
        },
        "outputId": "32c31263-1db0-4472-e4ac-6f5162f7d618"
      },
      "source": [
        "print (\"validasi\",x_val.shape)\n",
        "print (y_val.shape)\n",
        "print (\"test\",xtest.shape)\n",
        "print (ytest.shape)\n",
        "print (\"train\",xtrain.shape)\n",
        "print (ytrain.shape)"
      ],
      "execution_count": 5,
      "outputs": [
        {
          "output_type": "stream",
          "text": [
            "validasi (3589, 48, 48, 1)\n",
            "(3589,)\n",
            "test (3589, 48, 48, 1)\n",
            "(3589,)\n",
            "train (28709, 48, 48, 1)\n",
            "(28709,)\n"
          ],
          "name": "stdout"
        }
      ]
    },
    {
      "cell_type": "markdown",
      "metadata": {
        "id": "uOH6jWte0Z0O"
      },
      "source": [
        "Model"
      ]
    },
    {
      "cell_type": "code",
      "metadata": {
        "id": "7qrkvd064Wrh"
      },
      "source": [
        "from keras.models import Sequential\n",
        "from keras.layers import Input, Dense, Flatten, Dropout, Conv2D, MaxPool2D, BatchNormalization\n",
        "\n",
        "input_shape = (48, 48, 1)\n",
        "num_classes = 7\n",
        "\n",
        "model = Sequential()\n",
        "\n",
        "model.add(Conv2D(filters=64,input_shape=(input_shape),kernel_size=(3,3),padding=\"same\", activation=\"relu\"))\n",
        "model.add(Conv2D(filters=64,kernel_size=(3,3),padding=\"same\", activation=\"relu\"))\n",
        "model.add(MaxPool2D(pool_size=(2,2),strides=(2,2)))\n",
        "model.add(Dropout(0.5))\n",
        "model.add(BatchNormalization())\n",
        "\n",
        "model.add(Conv2D(filters=128, kernel_size=(3,3), padding=\"same\", activation=\"relu\"))\n",
        "model.add(Conv2D(filters=128, kernel_size=(3,3), padding=\"same\", activation=\"relu\"))\n",
        "model.add(MaxPool2D(pool_size=(2,2),strides=(2,2)))\n",
        "model.add(Dropout(0.5))\n",
        "model.add(BatchNormalization())\n",
        "\n",
        "model.add(Conv2D(filters=256, kernel_size=(3,3), padding=\"same\", activation=\"relu\"))\n",
        "model.add(Conv2D(filters=256, kernel_size=(3,3), padding=\"same\", activation=\"relu\"))\n",
        "model.add(Conv2D(filters=256, kernel_size=(3,3), padding=\"same\", activation=\"relu\"))\n",
        "model.add(MaxPool2D(pool_size=(2,2),strides=(2,2)))\n",
        "model.add(Dropout(0.5))\n",
        "model.add(BatchNormalization())\n",
        "\n",
        "model.add(Conv2D(filters=512, kernel_size=(3,3), padding=\"same\", activation=\"relu\"))\n",
        "model.add(Conv2D(filters=512, kernel_size=(3,3), padding=\"same\", activation=\"relu\"))\n",
        "model.add(Conv2D(filters=512, kernel_size=(3,3), padding=\"same\", activation=\"relu\"))\n",
        "model.add(MaxPool2D(pool_size=(2,2),strides=(2,2)))\n",
        "model.add(Dropout(0.5))\n",
        "model.add(BatchNormalization())\n",
        "\n",
        "model.add(Conv2D(filters=512, kernel_size=(3,3), padding=\"same\", activation=\"relu\"))\n",
        "model.add(Conv2D(filters=512, kernel_size=(3,3), padding=\"same\", activation=\"relu\"))\n",
        "model.add(Conv2D(filters=512, kernel_size=(3,3), padding=\"same\", activation=\"relu\"))\n",
        "model.add(MaxPool2D(pool_size=(2,2),strides=(2,2)))\n",
        "model.add(Dropout(0.5))\n",
        "model.add(BatchNormalization())\n",
        "\n",
        "model.add(Flatten())\n",
        "\n",
        "model.add(Dense(units=512, activation='relu'))\n",
        "model.add(Dropout(0.5))\n",
        "model.add(Dense(units=512, activation='relu'))\n",
        "model.add(Dropout(0.5))\n",
        "model.add(Dense(units=512, activation='relu'))\n",
        "model.add(Dropout(0.5))\n",
        "\n",
        "model.add(Dense(units=num_classes, activation='softmax'))"
      ],
      "execution_count": 6,
      "outputs": []
    },
    {
      "cell_type": "code",
      "metadata": {
        "id": "AXncJbb8b6UZ"
      },
      "source": [
        "'''model.add(Conv2D(filters=64,input_shape=(input_shape),kernel_size=(3,3),padding=\"same\", activation=\"relu\"))\n",
        "model.add(Conv2D(filters=64,kernel_size=(3,3),padding=\"same\", activation=\"relu\"))\n",
        "model.add(MaxPool2D(pool_size=(2,2),strides=(2,2)))\n",
        "\n",
        "model.add(Conv2D(filters=128, kernel_size=(3,3), padding=\"same\", activation=\"relu\"))\n",
        "model.add(Conv2D(filters=128, kernel_size=(3,3), padding=\"same\", activation=\"relu\"))\n",
        "model.add(MaxPool2D(pool_size=(2,2),strides=(2,2)))\n",
        "\n",
        "model.add(Conv2D(filters=256, kernel_size=(3,3), padding=\"same\", activation=\"relu\"))\n",
        "model.add(Conv2D(filters=256, kernel_size=(3,3), padding=\"same\", activation=\"relu\"))\n",
        "model.add(Conv2D(filters=256, kernel_size=(3,3), padding=\"same\", activation=\"relu\"))\n",
        "model.add(MaxPool2D(pool_size=(2,2),strides=(2,2)))\n",
        "\n",
        "model.add(Conv2D(filters=512, kernel_size=(3,3), padding=\"same\", activation=\"relu\"))\n",
        "model.add(Conv2D(filters=512, kernel_size=(3,3), padding=\"same\", activation=\"relu\"))\n",
        "model.add(Conv2D(filters=512, kernel_size=(3,3), padding=\"same\", activation=\"relu\"))\n",
        "model.add(MaxPool2D(pool_size=(2,2),strides=(2,2)))\n",
        "\n",
        "model.add(Conv2D(filters=512, kernel_size=(3,3), padding=\"same\", activation=\"relu\"))\n",
        "model.add(Conv2D(filters=512, kernel_size=(3,3), padding=\"same\", activation=\"relu\"))\n",
        "model.add(Conv2D(filters=512, kernel_size=(3,3), padding=\"same\", activation=\"relu\"))\n",
        "model.add(MaxPool2D(pool_size=(2,2),strides=(2,2)))\n",
        "\n",
        "model.add(Dense(units=4096,activation=\"relu\"))\n",
        "model.add(Dense(units=4096,activation=\"relu\"))\n",
        "model.add(Dense(units=num_class, activation=\"softmax\"))"
      ],
      "execution_count": null,
      "outputs": []
    },
    {
      "cell_type": "code",
      "metadata": {
        "id": "LrJpQTswb8Gr"
      },
      "source": [
        "'''model = Sequential()\n",
        "\n",
        "model.add(VGG16(\n",
        "    include_top = False,\n",
        "    pooling='avg',\n",
        "    weights='imagenet',\n",
        "))"
      ],
      "execution_count": null,
      "outputs": []
    },
    {
      "cell_type": "code",
      "metadata": {
        "id": "FdfWU9lKb-hK"
      },
      "source": [
        "'''model.add(Flatten())\n",
        "model.add(Dropout(0.25))\n",
        "model.add(Dense(2048, activation='relu'))\n",
        "model.add(Dropout(0.25))\n",
        "model.add(Dense(1024, activation='relu'))\n",
        "model.add(Dense(num_classes, activation='softmax', name = 'classifer'))'''"
      ],
      "execution_count": null,
      "outputs": []
    },
    {
      "cell_type": "code",
      "metadata": {
        "id": "4RBbSTgCg7mQ"
      },
      "source": [
        "'''model.layers[0].layers"
      ],
      "execution_count": null,
      "outputs": []
    },
    {
      "cell_type": "code",
      "metadata": {
        "id": "90sEOB4Dg9V3"
      },
      "source": [
        "'''model.layers[0].trainable = False"
      ],
      "execution_count": null,
      "outputs": []
    },
    {
      "cell_type": "code",
      "metadata": {
        "id": "PCdOixg7g-o_",
        "colab": {
          "base_uri": "https://localhost:8080/"
        },
        "outputId": "4872b5d4-9da6-4df3-e03e-3e64ea03b517"
      },
      "source": [
        "model.summary()"
      ],
      "execution_count": 7,
      "outputs": [
        {
          "output_type": "stream",
          "text": [
            "Model: \"sequential\"\n",
            "_________________________________________________________________\n",
            "Layer (type)                 Output Shape              Param #   \n",
            "=================================================================\n",
            "conv2d (Conv2D)              (None, 48, 48, 64)        640       \n",
            "_________________________________________________________________\n",
            "conv2d_1 (Conv2D)            (None, 48, 48, 64)        36928     \n",
            "_________________________________________________________________\n",
            "max_pooling2d (MaxPooling2D) (None, 24, 24, 64)        0         \n",
            "_________________________________________________________________\n",
            "dropout (Dropout)            (None, 24, 24, 64)        0         \n",
            "_________________________________________________________________\n",
            "batch_normalization (BatchNo (None, 24, 24, 64)        256       \n",
            "_________________________________________________________________\n",
            "conv2d_2 (Conv2D)            (None, 24, 24, 128)       73856     \n",
            "_________________________________________________________________\n",
            "conv2d_3 (Conv2D)            (None, 24, 24, 128)       147584    \n",
            "_________________________________________________________________\n",
            "max_pooling2d_1 (MaxPooling2 (None, 12, 12, 128)       0         \n",
            "_________________________________________________________________\n",
            "dropout_1 (Dropout)          (None, 12, 12, 128)       0         \n",
            "_________________________________________________________________\n",
            "batch_normalization_1 (Batch (None, 12, 12, 128)       512       \n",
            "_________________________________________________________________\n",
            "conv2d_4 (Conv2D)            (None, 12, 12, 256)       295168    \n",
            "_________________________________________________________________\n",
            "conv2d_5 (Conv2D)            (None, 12, 12, 256)       590080    \n",
            "_________________________________________________________________\n",
            "conv2d_6 (Conv2D)            (None, 12, 12, 256)       590080    \n",
            "_________________________________________________________________\n",
            "max_pooling2d_2 (MaxPooling2 (None, 6, 6, 256)         0         \n",
            "_________________________________________________________________\n",
            "dropout_2 (Dropout)          (None, 6, 6, 256)         0         \n",
            "_________________________________________________________________\n",
            "batch_normalization_2 (Batch (None, 6, 6, 256)         1024      \n",
            "_________________________________________________________________\n",
            "conv2d_7 (Conv2D)            (None, 6, 6, 512)         1180160   \n",
            "_________________________________________________________________\n",
            "conv2d_8 (Conv2D)            (None, 6, 6, 512)         2359808   \n",
            "_________________________________________________________________\n",
            "conv2d_9 (Conv2D)            (None, 6, 6, 512)         2359808   \n",
            "_________________________________________________________________\n",
            "max_pooling2d_3 (MaxPooling2 (None, 3, 3, 512)         0         \n",
            "_________________________________________________________________\n",
            "dropout_3 (Dropout)          (None, 3, 3, 512)         0         \n",
            "_________________________________________________________________\n",
            "batch_normalization_3 (Batch (None, 3, 3, 512)         2048      \n",
            "_________________________________________________________________\n",
            "conv2d_10 (Conv2D)           (None, 3, 3, 512)         2359808   \n",
            "_________________________________________________________________\n",
            "conv2d_11 (Conv2D)           (None, 3, 3, 512)         2359808   \n",
            "_________________________________________________________________\n",
            "conv2d_12 (Conv2D)           (None, 3, 3, 512)         2359808   \n",
            "_________________________________________________________________\n",
            "max_pooling2d_4 (MaxPooling2 (None, 1, 1, 512)         0         \n",
            "_________________________________________________________________\n",
            "dropout_4 (Dropout)          (None, 1, 1, 512)         0         \n",
            "_________________________________________________________________\n",
            "batch_normalization_4 (Batch (None, 1, 1, 512)         2048      \n",
            "_________________________________________________________________\n",
            "flatten (Flatten)            (None, 512)               0         \n",
            "_________________________________________________________________\n",
            "dense (Dense)                (None, 512)               262656    \n",
            "_________________________________________________________________\n",
            "dropout_5 (Dropout)          (None, 512)               0         \n",
            "_________________________________________________________________\n",
            "dense_1 (Dense)              (None, 512)               262656    \n",
            "_________________________________________________________________\n",
            "dropout_6 (Dropout)          (None, 512)               0         \n",
            "_________________________________________________________________\n",
            "dense_2 (Dense)              (None, 512)               262656    \n",
            "_________________________________________________________________\n",
            "dropout_7 (Dropout)          (None, 512)               0         \n",
            "_________________________________________________________________\n",
            "dense_3 (Dense)              (None, 7)                 3591      \n",
            "=================================================================\n",
            "Total params: 15,510,983\n",
            "Trainable params: 15,508,039\n",
            "Non-trainable params: 2,944\n",
            "_________________________________________________________________\n"
          ],
          "name": "stdout"
        }
      ]
    },
    {
      "cell_type": "code",
      "metadata": {
        "id": "Z_woPR9Im3iN"
      },
      "source": [
        "from keras.optimizers import Adam,RMSprop,SGD"
      ],
      "execution_count": 8,
      "outputs": []
    },
    {
      "cell_type": "code",
      "metadata": {
        "id": "KBL-vUYa16ZO"
      },
      "source": [
        "optimizer = Adam(learning_rate=0.0001)\n",
        "\n",
        "model.compile(optimizer=optimizer, loss='sparse_categorical_crossentropy', metrics=['accuracy'])"
      ],
      "execution_count": 9,
      "outputs": []
    },
    {
      "cell_type": "code",
      "metadata": {
        "id": "9Dpq-c5YhAfn",
        "colab": {
          "base_uri": "https://localhost:8080/"
        },
        "outputId": "f695fb44-2eb1-4761-eba1-d01357d2d23c"
      },
      "source": [
        "batch_size = 64\n",
        "num_epochs = 100\n",
        "\n",
        "history = model.fit(data_generator.flow(xtrain, ytrain),\n",
        "                    steps_per_epoch=len(xtrain) / batch_size,\n",
        "                    epochs=num_epochs, \n",
        "                    verbose=1,\n",
        "                    validation_data= (x_val,y_val))"
      ],
      "execution_count": 10,
      "outputs": [
        {
          "output_type": "stream",
          "text": [
            "Epoch 1/100\n",
            "448/448 [==============================] - 71s 50ms/step - loss: 2.1722 - accuracy: 0.1870 - val_loss: 1.8517 - val_accuracy: 0.2513\n",
            "Epoch 2/100\n",
            "448/448 [==============================] - 21s 47ms/step - loss: 1.9175 - accuracy: 0.2060 - val_loss: 1.8633 - val_accuracy: 0.2616\n",
            "Epoch 3/100\n",
            "448/448 [==============================] - 21s 47ms/step - loss: 1.8709 - accuracy: 0.2342 - val_loss: 1.8391 - val_accuracy: 0.2533\n",
            "Epoch 4/100\n",
            "448/448 [==============================] - 22s 48ms/step - loss: 1.8426 - accuracy: 0.2491 - val_loss: 1.8464 - val_accuracy: 0.2538\n",
            "Epoch 5/100\n",
            "448/448 [==============================] - 22s 49ms/step - loss: 1.8413 - accuracy: 0.2334 - val_loss: 1.8613 - val_accuracy: 0.2513\n",
            "Epoch 6/100\n",
            "448/448 [==============================] - 22s 48ms/step - loss: 1.8368 - accuracy: 0.2288 - val_loss: 1.8581 - val_accuracy: 0.2594\n",
            "Epoch 7/100\n",
            "448/448 [==============================] - 22s 48ms/step - loss: 1.8227 - accuracy: 0.2450 - val_loss: 1.8617 - val_accuracy: 0.2510\n",
            "Epoch 8/100\n",
            "448/448 [==============================] - 22s 48ms/step - loss: 1.8194 - accuracy: 0.2367 - val_loss: 1.8550 - val_accuracy: 0.2541\n",
            "Epoch 9/100\n",
            "448/448 [==============================] - 22s 49ms/step - loss: 1.8231 - accuracy: 0.2409 - val_loss: 1.8458 - val_accuracy: 0.2772\n",
            "Epoch 10/100\n",
            "448/448 [==============================] - 23s 51ms/step - loss: 1.7879 - accuracy: 0.2576 - val_loss: 1.8338 - val_accuracy: 0.2823\n",
            "Epoch 11/100\n",
            "448/448 [==============================] - 22s 48ms/step - loss: 1.7624 - accuracy: 0.2850 - val_loss: 1.7307 - val_accuracy: 0.3076\n",
            "Epoch 12/100\n",
            "448/448 [==============================] - 22s 49ms/step - loss: 1.7345 - accuracy: 0.3042 - val_loss: 1.6734 - val_accuracy: 0.3405\n",
            "Epoch 13/100\n",
            "448/448 [==============================] - 22s 49ms/step - loss: 1.6924 - accuracy: 0.3273 - val_loss: 1.7785 - val_accuracy: 0.3335\n",
            "Epoch 14/100\n",
            "448/448 [==============================] - 22s 48ms/step - loss: 1.6337 - accuracy: 0.3539 - val_loss: 1.5771 - val_accuracy: 0.3968\n",
            "Epoch 15/100\n",
            "448/448 [==============================] - 23s 51ms/step - loss: 1.5938 - accuracy: 0.3763 - val_loss: 1.9382 - val_accuracy: 0.3494\n",
            "Epoch 16/100\n",
            "448/448 [==============================] - 22s 49ms/step - loss: 1.5549 - accuracy: 0.3914 - val_loss: 1.6762 - val_accuracy: 0.3862\n",
            "Epoch 17/100\n",
            "448/448 [==============================] - 22s 49ms/step - loss: 1.5418 - accuracy: 0.4020 - val_loss: 1.6873 - val_accuracy: 0.4090\n",
            "Epoch 18/100\n",
            "448/448 [==============================] - 22s 48ms/step - loss: 1.5177 - accuracy: 0.4118 - val_loss: 1.5437 - val_accuracy: 0.4241\n",
            "Epoch 19/100\n",
            "448/448 [==============================] - 21s 48ms/step - loss: 1.5028 - accuracy: 0.4108 - val_loss: 1.4934 - val_accuracy: 0.4260\n",
            "Epoch 20/100\n",
            "448/448 [==============================] - 22s 49ms/step - loss: 1.5018 - accuracy: 0.4106 - val_loss: 1.5404 - val_accuracy: 0.4160\n",
            "Epoch 21/100\n",
            "448/448 [==============================] - 22s 48ms/step - loss: 1.4761 - accuracy: 0.4187 - val_loss: 1.4935 - val_accuracy: 0.4447\n",
            "Epoch 22/100\n",
            "448/448 [==============================] - 22s 48ms/step - loss: 1.4763 - accuracy: 0.4195 - val_loss: 1.5129 - val_accuracy: 0.4296\n",
            "Epoch 23/100\n",
            "448/448 [==============================] - 22s 48ms/step - loss: 1.4550 - accuracy: 0.4277 - val_loss: 1.5385 - val_accuracy: 0.4246\n",
            "Epoch 24/100\n",
            "448/448 [==============================] - 21s 48ms/step - loss: 1.4430 - accuracy: 0.4324 - val_loss: 1.5051 - val_accuracy: 0.4664\n",
            "Epoch 25/100\n",
            "448/448 [==============================] - 22s 49ms/step - loss: 1.4207 - accuracy: 0.4460 - val_loss: 1.4936 - val_accuracy: 0.4341\n",
            "Epoch 26/100\n",
            "448/448 [==============================] - 22s 48ms/step - loss: 1.4271 - accuracy: 0.4475 - val_loss: 1.4610 - val_accuracy: 0.4667\n",
            "Epoch 27/100\n",
            "448/448 [==============================] - 21s 48ms/step - loss: 1.4199 - accuracy: 0.4492 - val_loss: 1.4606 - val_accuracy: 0.4578\n",
            "Epoch 28/100\n",
            "448/448 [==============================] - 22s 49ms/step - loss: 1.4145 - accuracy: 0.4556 - val_loss: 1.5252 - val_accuracy: 0.4659\n",
            "Epoch 29/100\n",
            "448/448 [==============================] - 22s 48ms/step - loss: 1.4053 - accuracy: 0.4606 - val_loss: 1.4773 - val_accuracy: 0.4567\n",
            "Epoch 30/100\n",
            "448/448 [==============================] - 22s 48ms/step - loss: 1.3798 - accuracy: 0.4756 - val_loss: 1.3963 - val_accuracy: 0.4960\n",
            "Epoch 31/100\n",
            "448/448 [==============================] - 22s 48ms/step - loss: 1.3746 - accuracy: 0.4697 - val_loss: 1.4366 - val_accuracy: 0.5035\n",
            "Epoch 32/100\n",
            "448/448 [==============================] - 22s 48ms/step - loss: 1.3810 - accuracy: 0.4808 - val_loss: 1.4356 - val_accuracy: 0.5054\n",
            "Epoch 33/100\n",
            "448/448 [==============================] - 22s 49ms/step - loss: 1.3461 - accuracy: 0.4903 - val_loss: 1.3824 - val_accuracy: 0.5057\n",
            "Epoch 34/100\n",
            "448/448 [==============================] - 22s 48ms/step - loss: 1.3850 - accuracy: 0.4743 - val_loss: 1.3817 - val_accuracy: 0.5099\n",
            "Epoch 35/100\n",
            "448/448 [==============================] - 22s 48ms/step - loss: 1.3534 - accuracy: 0.4832 - val_loss: 1.4661 - val_accuracy: 0.5049\n",
            "Epoch 36/100\n",
            "448/448 [==============================] - 22s 48ms/step - loss: 1.3608 - accuracy: 0.4869 - val_loss: 2.3047 - val_accuracy: 0.5235\n",
            "Epoch 37/100\n",
            "448/448 [==============================] - 22s 48ms/step - loss: 1.3364 - accuracy: 0.4900 - val_loss: 1.3687 - val_accuracy: 0.5241\n",
            "Epoch 38/100\n",
            "448/448 [==============================] - 22s 48ms/step - loss: 1.3407 - accuracy: 0.4929 - val_loss: 1.4232 - val_accuracy: 0.5110\n",
            "Epoch 39/100\n",
            "448/448 [==============================] - 23s 51ms/step - loss: 1.3191 - accuracy: 0.5107 - val_loss: 1.4234 - val_accuracy: 0.4993\n",
            "Epoch 40/100\n",
            "448/448 [==============================] - 22s 49ms/step - loss: 1.3335 - accuracy: 0.4970 - val_loss: 1.8335 - val_accuracy: 0.5247\n",
            "Epoch 41/100\n",
            "448/448 [==============================] - 22s 48ms/step - loss: 1.3156 - accuracy: 0.4975 - val_loss: 1.6261 - val_accuracy: 0.4951\n",
            "Epoch 42/100\n",
            "448/448 [==============================] - 22s 48ms/step - loss: 1.3129 - accuracy: 0.5154 - val_loss: 1.4678 - val_accuracy: 0.5219\n",
            "Epoch 43/100\n",
            "448/448 [==============================] - 22s 49ms/step - loss: 1.3091 - accuracy: 0.5047 - val_loss: 1.4888 - val_accuracy: 0.5230\n",
            "Epoch 44/100\n",
            "448/448 [==============================] - 22s 49ms/step - loss: 1.2925 - accuracy: 0.5158 - val_loss: 1.3855 - val_accuracy: 0.5333\n",
            "Epoch 45/100\n",
            "448/448 [==============================] - 22s 48ms/step - loss: 1.2839 - accuracy: 0.5256 - val_loss: 1.6957 - val_accuracy: 0.5261\n",
            "Epoch 46/100\n",
            "448/448 [==============================] - 22s 49ms/step - loss: 1.2995 - accuracy: 0.5164 - val_loss: 1.3150 - val_accuracy: 0.5458\n",
            "Epoch 47/100\n",
            "448/448 [==============================] - 22s 48ms/step - loss: 1.2840 - accuracy: 0.5226 - val_loss: 1.9121 - val_accuracy: 0.5274\n",
            "Epoch 48/100\n",
            "448/448 [==============================] - 22s 49ms/step - loss: 1.3021 - accuracy: 0.5131 - val_loss: 1.4640 - val_accuracy: 0.4848\n",
            "Epoch 49/100\n",
            "448/448 [==============================] - 22s 48ms/step - loss: 1.2865 - accuracy: 0.5167 - val_loss: 1.3778 - val_accuracy: 0.5277\n",
            "Epoch 50/100\n",
            "448/448 [==============================] - 22s 49ms/step - loss: 1.2682 - accuracy: 0.5333 - val_loss: 1.5035 - val_accuracy: 0.5224\n",
            "Epoch 51/100\n",
            "448/448 [==============================] - 22s 48ms/step - loss: 1.2731 - accuracy: 0.5249 - val_loss: 7.8281 - val_accuracy: 0.5283\n",
            "Epoch 52/100\n",
            "448/448 [==============================] - 22s 49ms/step - loss: 1.2694 - accuracy: 0.5290 - val_loss: 1.3277 - val_accuracy: 0.5391\n",
            "Epoch 53/100\n",
            "448/448 [==============================] - 22s 49ms/step - loss: 1.2737 - accuracy: 0.5282 - val_loss: 18.8160 - val_accuracy: 0.5138\n",
            "Epoch 54/100\n",
            "448/448 [==============================] - 22s 49ms/step - loss: 1.2586 - accuracy: 0.5358 - val_loss: 4.7804 - val_accuracy: 0.5269\n",
            "Epoch 55/100\n",
            "448/448 [==============================] - 22s 48ms/step - loss: 1.2528 - accuracy: 0.5337 - val_loss: 1.5894 - val_accuracy: 0.5247\n",
            "Epoch 56/100\n",
            "448/448 [==============================] - 22s 49ms/step - loss: 1.2462 - accuracy: 0.5373 - val_loss: 3.2797 - val_accuracy: 0.5118\n",
            "Epoch 57/100\n",
            "448/448 [==============================] - 22s 48ms/step - loss: 1.2687 - accuracy: 0.5344 - val_loss: 1.9663 - val_accuracy: 0.5339\n",
            "Epoch 58/100\n",
            "448/448 [==============================] - 22s 48ms/step - loss: 1.2467 - accuracy: 0.5422 - val_loss: 1.4396 - val_accuracy: 0.5146\n",
            "Epoch 59/100\n",
            "448/448 [==============================] - 22s 49ms/step - loss: 1.2622 - accuracy: 0.5441 - val_loss: 1.3693 - val_accuracy: 0.5294\n",
            "Epoch 60/100\n",
            "448/448 [==============================] - 22s 49ms/step - loss: 1.2710 - accuracy: 0.5355 - val_loss: 1.3791 - val_accuracy: 0.5408\n",
            "Epoch 61/100\n",
            "448/448 [==============================] - 22s 48ms/step - loss: 1.2280 - accuracy: 0.5412 - val_loss: 1.6670 - val_accuracy: 0.5130\n",
            "Epoch 62/100\n",
            "448/448 [==============================] - 22s 49ms/step - loss: 1.2405 - accuracy: 0.5490 - val_loss: 1.3973 - val_accuracy: 0.5327\n",
            "Epoch 63/100\n",
            "448/448 [==============================] - 22s 48ms/step - loss: 1.3029 - accuracy: 0.5426 - val_loss: 3.3076 - val_accuracy: 0.5531\n",
            "Epoch 64/100\n",
            "448/448 [==============================] - 22s 48ms/step - loss: 1.2530 - accuracy: 0.5428 - val_loss: 2.0552 - val_accuracy: 0.5486\n",
            "Epoch 65/100\n",
            "448/448 [==============================] - 22s 49ms/step - loss: 1.3261 - accuracy: 0.5470 - val_loss: 1.4137 - val_accuracy: 0.5606\n",
            "Epoch 66/100\n",
            "448/448 [==============================] - 22s 49ms/step - loss: 1.2611 - accuracy: 0.5449 - val_loss: 2.5680 - val_accuracy: 0.5461\n",
            "Epoch 67/100\n",
            "448/448 [==============================] - 22s 48ms/step - loss: 1.2661 - accuracy: 0.5479 - val_loss: 1.9549 - val_accuracy: 0.5559\n",
            "Epoch 68/100\n",
            "448/448 [==============================] - 22s 48ms/step - loss: 1.2177 - accuracy: 0.5562 - val_loss: 1.5627 - val_accuracy: 0.5330\n",
            "Epoch 69/100\n",
            "448/448 [==============================] - 22s 49ms/step - loss: 1.2496 - accuracy: 0.5447 - val_loss: 4.4379 - val_accuracy: 0.5495\n",
            "Epoch 70/100\n",
            "448/448 [==============================] - 22s 49ms/step - loss: 1.2439 - accuracy: 0.5518 - val_loss: 6.2753 - val_accuracy: 0.5503\n",
            "Epoch 71/100\n",
            "448/448 [==============================] - 23s 51ms/step - loss: 1.2333 - accuracy: 0.5412 - val_loss: 1.5612 - val_accuracy: 0.5620\n",
            "Epoch 72/100\n",
            "448/448 [==============================] - 22s 48ms/step - loss: 1.2411 - accuracy: 0.5598 - val_loss: 2.0026 - val_accuracy: 0.5244\n",
            "Epoch 73/100\n",
            "448/448 [==============================] - 22s 49ms/step - loss: 1.2332 - accuracy: 0.5425 - val_loss: 2.8246 - val_accuracy: 0.5673\n",
            "Epoch 74/100\n",
            "448/448 [==============================] - 22s 49ms/step - loss: 1.2516 - accuracy: 0.5414 - val_loss: 1.8038 - val_accuracy: 0.5731\n",
            "Epoch 75/100\n",
            "448/448 [==============================] - 22s 48ms/step - loss: 1.2187 - accuracy: 0.5539 - val_loss: 63.2516 - val_accuracy: 0.4781\n",
            "Epoch 76/100\n",
            "448/448 [==============================] - 22s 49ms/step - loss: 1.2570 - accuracy: 0.5491 - val_loss: 4.0653 - val_accuracy: 0.5528\n",
            "Epoch 77/100\n",
            "448/448 [==============================] - 22s 48ms/step - loss: 1.2613 - accuracy: 0.5562 - val_loss: 2.5763 - val_accuracy: 0.5403\n",
            "Epoch 78/100\n",
            "448/448 [==============================] - 22s 49ms/step - loss: 1.2522 - accuracy: 0.5470 - val_loss: 1.7820 - val_accuracy: 0.5673\n",
            "Epoch 79/100\n",
            "448/448 [==============================] - 22s 49ms/step - loss: 1.2565 - accuracy: 0.5475 - val_loss: 4.2321 - val_accuracy: 0.5525\n",
            "Epoch 80/100\n",
            "448/448 [==============================] - 23s 51ms/step - loss: 1.2545 - accuracy: 0.5523 - val_loss: 3.1079 - val_accuracy: 0.5717\n",
            "Epoch 81/100\n",
            "448/448 [==============================] - 22s 48ms/step - loss: 1.2254 - accuracy: 0.5566 - val_loss: 3.6027 - val_accuracy: 0.5598\n",
            "Epoch 82/100\n",
            "448/448 [==============================] - 22s 49ms/step - loss: 1.2526 - accuracy: 0.5471 - val_loss: 1.9788 - val_accuracy: 0.5595\n",
            "Epoch 83/100\n",
            "448/448 [==============================] - 22s 49ms/step - loss: 1.2673 - accuracy: 0.5491 - val_loss: 3.8904 - val_accuracy: 0.5461\n",
            "Epoch 84/100\n",
            "448/448 [==============================] - 22s 48ms/step - loss: 1.2470 - accuracy: 0.5518 - val_loss: 6.1787 - val_accuracy: 0.5575\n",
            "Epoch 85/100\n",
            "448/448 [==============================] - 22s 49ms/step - loss: 1.2526 - accuracy: 0.5569 - val_loss: 26.7929 - val_accuracy: 0.5639\n",
            "Epoch 86/100\n",
            "448/448 [==============================] - 22s 49ms/step - loss: 1.2519 - accuracy: 0.5587 - val_loss: 2.1816 - val_accuracy: 0.5637\n",
            "Epoch 87/100\n",
            "448/448 [==============================] - 22s 48ms/step - loss: 1.2305 - accuracy: 0.5590 - val_loss: 1.7530 - val_accuracy: 0.5656\n",
            "Epoch 88/100\n",
            "448/448 [==============================] - 22s 49ms/step - loss: 1.2589 - accuracy: 0.5505 - val_loss: 2.1629 - val_accuracy: 0.5659\n",
            "Epoch 89/100\n",
            "448/448 [==============================] - 22s 49ms/step - loss: 1.2431 - accuracy: 0.5564 - val_loss: 2.1217 - val_accuracy: 0.5745\n",
            "Epoch 90/100\n",
            "448/448 [==============================] - 22s 49ms/step - loss: 1.2325 - accuracy: 0.5525 - val_loss: 4.0170 - val_accuracy: 0.5695\n",
            "Epoch 91/100\n",
            "448/448 [==============================] - 22s 49ms/step - loss: 1.2612 - accuracy: 0.5495 - val_loss: 1.3815 - val_accuracy: 0.5662\n",
            "Epoch 92/100\n",
            "448/448 [==============================] - 22s 49ms/step - loss: 1.2068 - accuracy: 0.5588 - val_loss: 1.2971 - val_accuracy: 0.5743\n",
            "Epoch 93/100\n",
            "448/448 [==============================] - 22s 49ms/step - loss: 1.2192 - accuracy: 0.5529 - val_loss: 12.8099 - val_accuracy: 0.5776\n",
            "Epoch 94/100\n",
            "448/448 [==============================] - 22s 49ms/step - loss: 1.2680 - accuracy: 0.5507 - val_loss: 1.5456 - val_accuracy: 0.5514\n",
            "Epoch 95/100\n",
            "448/448 [==============================] - 22s 48ms/step - loss: 1.2088 - accuracy: 0.5693 - val_loss: 2.0423 - val_accuracy: 0.5740\n",
            "Epoch 96/100\n",
            "448/448 [==============================] - 22s 49ms/step - loss: 1.2320 - accuracy: 0.5653 - val_loss: 5.5857 - val_accuracy: 0.5327\n",
            "Epoch 97/100\n",
            "448/448 [==============================] - 22s 48ms/step - loss: 1.2236 - accuracy: 0.5561 - val_loss: 34.1481 - val_accuracy: 0.5720\n",
            "Epoch 98/100\n",
            "448/448 [==============================] - 22s 48ms/step - loss: 1.2334 - accuracy: 0.5589 - val_loss: 4.6392 - val_accuracy: 0.5578\n",
            "Epoch 99/100\n",
            "448/448 [==============================] - 22s 49ms/step - loss: 1.3027 - accuracy: 0.5580 - val_loss: 1.8508 - val_accuracy: 0.5754\n",
            "Epoch 100/100\n",
            "448/448 [==============================] - 23s 51ms/step - loss: 1.2126 - accuracy: 0.5647 - val_loss: 3.1538 - val_accuracy: 0.5606\n"
          ],
          "name": "stdout"
        }
      ]
    },
    {
      "cell_type": "code",
      "metadata": {
        "id": "lDnJ_LcFhC-W",
        "colab": {
          "base_uri": "https://localhost:8080/",
          "height": 573
        },
        "outputId": "2456d3df-7557-4082-d7fa-50e510d7acac"
      },
      "source": [
        "import matplotlib.pyplot as plt \n",
        "\n",
        "model.save('/content/drive/MyDrive/Colab Notebooks/Model/Model1_Fix_VGG16.h5')\n",
        "\n",
        "accuracy = history.history['accuracy']\n",
        "val_accuracy = history.history['val_accuracy']\n",
        "loss = history.history['loss']\n",
        "val_loss = history.history['val_loss']\n",
        "num_epochs = range(len(accuracy))\n",
        "plt.plot(num_epochs, accuracy, 'r', label='Training acc')\n",
        "plt.plot(num_epochs, val_accuracy, 'b', label='Validation acc')\n",
        "plt.title('Training and validation accuracy')\n",
        "plt.ylabel('accuracy')  \n",
        "plt.xlabel('epoch')\n",
        "plt.legend()\n",
        "plt.figure()\n",
        "plt.plot(num_epochs, loss, 'r', label='Training loss')\n",
        "plt.plot(num_epochs, val_loss, 'b', label='Validation loss')\n",
        "plt.title('Training and validation loss')\n",
        "plt.ylabel('loss')  \n",
        "plt.xlabel('epoch')\n",
        "plt.legend()\n",
        "plt.show()"
      ],
      "execution_count": 11,
      "outputs": [
        {
          "output_type": "display_data",
          "data": {
            "image/png": "[encoded data removed]",
            "text/plain": [
              "<Figure size 432x288 with 1 Axes>"
            ]
          },
          "metadata": {
            "tags": [],
            "needs_background": "light"
          }
        },
        {
          "output_type": "display_data",
          "data": {
            "image/png": "[encoded data removed]",
            "text/plain": [
              "<Figure size 432x288 with 1 Axes>"
            ]
          },
          "metadata": {
            "tags": [],
            "needs_background": "light"
          }
        }
      ]
    },
    {
      "cell_type": "code",
      "metadata": {
        "id": "tuLQ-HQVhFz3",
        "colab": {
          "base_uri": "https://localhost:8080/"
        },
        "outputId": "70c3ee99-aa64-4657-f328-16e1733ccf18"
      },
      "source": [
        "testloss = model.evaluate(xtest, ytest) \n",
        "print(\"Test Loss \" + str(testloss[0]))\n",
        "print(\"Test Acc: \" + str(testloss[1]))\n",
        "\n",
        "trainloss = model.evaluate(xtrain, ytrain) \n",
        "print(\"Train Loss \" + str(trainloss[0]))\n",
        "print(\"Train Acc: \" + str(trainloss[1]))"
      ],
      "execution_count": 12,
      "outputs": [
        {
          "output_type": "stream",
          "text": [
            "113/113 [==============================] - 1s 13ms/step - loss: 2.4055 - accuracy: 0.5784\n",
            "Test Loss 2.4055252075195312\n",
            "Test Acc: 0.5784341096878052\n",
            "898/898 [==============================] - 11s 12ms/step - loss: 3.0673 - accuracy: 0.6054\n",
            "Train Loss 3.067324638366699\n",
            "Train Acc: 0.6053502559661865\n"
          ],
          "name": "stdout"
        }
      ]
    },
    {
      "cell_type": "code",
      "metadata": {
        "id": "jxqB-9N6hShu",
        "colab": {
          "base_uri": "https://localhost:8080/"
        },
        "outputId": "aadf9c21-4d88-4991-ae56-8b7b0e5f5444"
      },
      "source": [
        "testlosz = model.evaluate(x_val, y_val) \n",
        "print(\"val Loss \" + str(testlosz[0]))\n",
        "print(\"val Acc: \" + str(testlosz[1]))"
      ],
      "execution_count": 13,
      "outputs": [
        {
          "output_type": "stream",
          "text": [
            "113/113 [==============================] - 1s 13ms/step - loss: 3.1538 - accuracy: 0.5606\n",
            "val Loss 3.153796434402466\n",
            "val Acc: 0.5606018304824829\n"
          ],
          "name": "stdout"
        }
      ]
    },
    {
      "cell_type": "code",
      "metadata": {
        "id": "19CO9w7fwZhA",
        "colab": {
          "base_uri": "https://localhost:8080/"
        },
        "outputId": "925e9e15-9aac-4871-d113-a5e4b3c70ae0"
      },
      "source": [
        "from keras.models import load_model\n",
        "model_load = load_model('/content/drive/MyDrive/Colab Notebooks/Model/Model1_Fix_VGG16.h5')\n",
        "\n",
        "model_load.summary()"
      ],
      "execution_count": 14,
      "outputs": [
        {
          "output_type": "stream",
          "text": [
            "Model: \"sequential\"\n",
            "_________________________________________________________________\n",
            "Layer (type)                 Output Shape              Param #   \n",
            "=================================================================\n",
            "conv2d (Conv2D)              (None, 48, 48, 64)        640       \n",
            "_________________________________________________________________\n",
            "conv2d_1 (Conv2D)            (None, 48, 48, 64)        36928     \n",
            "_________________________________________________________________\n",
            "max_pooling2d (MaxPooling2D) (None, 24, 24, 64)        0         \n",
            "_________________________________________________________________\n",
            "dropout (Dropout)            (None, 24, 24, 64)        0         \n",
            "_________________________________________________________________\n",
            "batch_normalization (BatchNo (None, 24, 24, 64)        256       \n",
            "_________________________________________________________________\n",
            "conv2d_2 (Conv2D)            (None, 24, 24, 128)       73856     \n",
            "_________________________________________________________________\n",
            "conv2d_3 (Conv2D)            (None, 24, 24, 128)       147584    \n",
            "_________________________________________________________________\n",
            "max_pooling2d_1 (MaxPooling2 (None, 12, 12, 128)       0         \n",
            "_________________________________________________________________\n",
            "dropout_1 (Dropout)          (None, 12, 12, 128)       0         \n",
            "_________________________________________________________________\n",
            "batch_normalization_1 (Batch (None, 12, 12, 128)       512       \n",
            "_________________________________________________________________\n",
            "conv2d_4 (Conv2D)            (None, 12, 12, 256)       295168    \n",
            "_________________________________________________________________\n",
            "conv2d_5 (Conv2D)            (None, 12, 12, 256)       590080    \n",
            "_________________________________________________________________\n",
            "conv2d_6 (Conv2D)            (None, 12, 12, 256)       590080    \n",
            "_________________________________________________________________\n",
            "max_pooling2d_2 (MaxPooling2 (None, 6, 6, 256)         0         \n",
            "_________________________________________________________________\n",
            "dropout_2 (Dropout)          (None, 6, 6, 256)         0         \n",
            "_________________________________________________________________\n",
            "batch_normalization_2 (Batch (None, 6, 6, 256)         1024      \n",
            "_________________________________________________________________\n",
            "conv2d_7 (Conv2D)            (None, 6, 6, 512)         1180160   \n",
            "_________________________________________________________________\n",
            "conv2d_8 (Conv2D)            (None, 6, 6, 512)         2359808   \n",
            "_________________________________________________________________\n",
            "conv2d_9 (Conv2D)            (None, 6, 6, 512)         2359808   \n",
            "_________________________________________________________________\n",
            "max_pooling2d_3 (MaxPooling2 (None, 3, 3, 512)         0         \n",
            "_________________________________________________________________\n",
            "dropout_3 (Dropout)          (None, 3, 3, 512)         0         \n",
            "_________________________________________________________________\n",
            "batch_normalization_3 (Batch (None, 3, 3, 512)         2048      \n",
            "_________________________________________________________________\n",
            "conv2d_10 (Conv2D)           (None, 3, 3, 512)         2359808   \n",
            "_________________________________________________________________\n",
            "conv2d_11 (Conv2D)           (None, 3, 3, 512)         2359808   \n",
            "_________________________________________________________________\n",
            "conv2d_12 (Conv2D)           (None, 3, 3, 512)         2359808   \n",
            "_________________________________________________________________\n",
            "max_pooling2d_4 (MaxPooling2 (None, 1, 1, 512)         0         \n",
            "_________________________________________________________________\n",
            "dropout_4 (Dropout)          (None, 1, 1, 512)         0         \n",
            "_________________________________________________________________\n",
            "batch_normalization_4 (Batch (None, 1, 1, 512)         2048      \n",
            "_________________________________________________________________\n",
            "flatten (Flatten)            (None, 512)               0         \n",
            "_________________________________________________________________\n",
            "dense (Dense)                (None, 512)               262656    \n",
            "_________________________________________________________________\n",
            "dropout_5 (Dropout)          (None, 512)               0         \n",
            "_________________________________________________________________\n",
            "dense_1 (Dense)              (None, 512)               262656    \n",
            "_________________________________________________________________\n",
            "dropout_6 (Dropout)          (None, 512)               0         \n",
            "_________________________________________________________________\n",
            "dense_2 (Dense)              (None, 512)               262656    \n",
            "_________________________________________________________________\n",
            "dropout_7 (Dropout)          (None, 512)               0         \n",
            "_________________________________________________________________\n",
            "dense_3 (Dense)              (None, 7)                 3591      \n",
            "=================================================================\n",
            "Total params: 15,510,983\n",
            "Trainable params: 15,508,039\n",
            "Non-trainable params: 2,944\n",
            "_________________________________________________________________\n"
          ],
          "name": "stdout"
        }
      ]
    },
    {
      "cell_type": "code",
      "metadata": {
        "id": "h0OWw4B91RLU",
        "colab": {
          "base_uri": "https://localhost:8080/"
        },
        "outputId": "134a2082-06e1-4362-8cae-165a74f059ed"
      },
      "source": [
        "testloss = model_load.evaluate(xtest, ytest) \n",
        "print(\"Test Loss \" + str(testloss[0]))\n",
        "print(\"Test Acc: \" + str(testloss[1]))\n",
        "\n",
        "testloss = model_load.evaluate(xtrain, ytrain) \n",
        "print(\"Test Loss \" + str(testloss[0]))\n",
        "print(\"Test Acc: \" + str(testloss[1]))"
      ],
      "execution_count": 15,
      "outputs": [
        {
          "output_type": "stream",
          "text": [
            "113/113 [==============================] - 2s 13ms/step - loss: 2.4055 - accuracy: 0.5784\n",
            "Test Loss 2.4055252075195312\n",
            "Test Acc: 0.5784341096878052\n",
            "898/898 [==============================] - 11s 12ms/step - loss: 3.0673 - accuracy: 0.6054\n",
            "Test Loss 3.067324638366699\n",
            "Test Acc: 0.6053502559661865\n"
          ],
          "name": "stdout"
        }
      ]
    },
    {
      "cell_type": "code",
      "metadata": {
        "id": "oGDUEZn_1TBT",
        "colab": {
          "base_uri": "https://localhost:8080/"
        },
        "outputId": "66440d29-4779-4773-e1c1-38433d3f947b"
      },
      "source": [
        "testlosz = model_load.evaluate(x_val, y_val) \n",
        "print(\"Test Loss \" + str(testlosz[0]))\n",
        "print(\"Test Acc: \" + str(testlosz[1]))"
      ],
      "execution_count": 16,
      "outputs": [
        {
          "output_type": "stream",
          "text": [
            "113/113 [==============================] - 1s 12ms/step - loss: 3.1538 - accuracy: 0.5606\n",
            "Test Loss 3.153796434402466\n",
            "Test Acc: 0.5606018304824829\n"
          ],
          "name": "stdout"
        }
      ]
    },
    {
      "cell_type": "code",
      "metadata": {
        "id": "8EM_tCXG1Xmz",
        "colab": {
          "base_uri": "https://localhost:8080/"
        },
        "outputId": "29b636a4-6fbe-4f47-d72d-7b9c33c2801c"
      },
      "source": [
        "print (x_val.shape)\n",
        "print (y_val.shape)\n",
        "print (xtest.shape)\n",
        "print (ytest.shape)\n",
        "print (xtrain.shape)\n",
        "print (ytrain.shape)"
      ],
      "execution_count": 17,
      "outputs": [
        {
          "output_type": "stream",
          "text": [
            "(3589, 48, 48, 1)\n",
            "(3589,)\n",
            "(3589, 48, 48, 1)\n",
            "(3589,)\n",
            "(28709, 48, 48, 1)\n",
            "(28709,)\n"
          ],
          "name": "stdout"
        }
      ]
    },
    {
      "cell_type": "code",
      "metadata": {
        "id": "Ls9muyDJ1ZRd",
        "colab": {
          "base_uri": "https://localhost:8080/"
        },
        "outputId": "34c81c0a-5dd8-4920-cf69-db54b1b7a9dd"
      },
      "source": [
        "from sklearn.metrics import confusion_matrix, classification_report\n",
        "from mlxtend.plotting import plot_confusion_matrix\n",
        "\n",
        "#y_pred = model_load.predict(xtest)\n",
        "\n",
        "test_prob = model_load.predict(xtest)\n",
        "test_pred = np.argmax(test_prob, axis=1)\n",
        "test_accuracy = np.mean(test_pred == ytest)\n",
        "\n",
        "print(test_accuracy)"
      ],
      "execution_count": 18,
      "outputs": [
        {
          "output_type": "stream",
          "text": [
            "0.5784341042073001\n"
          ],
          "name": "stdout"
        }
      ]
    },
    {
      "cell_type": "code",
      "metadata": {
        "id": "xwhI29RZ1boj"
      },
      "source": [
        "emotions = {0: 'Angry', 1: 'Disgust', 2: 'Fear', 3: 'Happy', 4: 'Sad', 5: 'Surprise', 6: 'Neutral'}"
      ],
      "execution_count": 19,
      "outputs": []
    },
    {
      "cell_type": "code",
      "metadata": {
        "id": "Zqyx7uCb1dAz",
        "colab": {
          "base_uri": "https://localhost:8080/",
          "height": 497
        },
        "outputId": "de503556-4980-4bcb-905d-4688648387c5"
      },
      "source": [
        "conf_mat = confusion_matrix(ytest, test_pred)\n",
        "\n",
        "pd.DataFrame(conf_mat, columns=emotions.values(), index=emotions.values())\n",
        "\n",
        "\n",
        "\n",
        "fig, ax = plot_confusion_matrix(conf_mat=conf_mat,show_normed=True,show_absolute=False,figsize=(8, 8))\n",
        "fig.show()"
      ],
      "execution_count": 20,
      "outputs": [
        {
          "output_type": "display_data",
          "data": {
            "image/png": "[encoded data removed]",
            "text/plain": [
              "<Figure size 576x576 with 1 Axes>"
            ]
          },
          "metadata": {
            "tags": [],
            "needs_background": "light"
          }
        }
      ]
    }
  ]
}
