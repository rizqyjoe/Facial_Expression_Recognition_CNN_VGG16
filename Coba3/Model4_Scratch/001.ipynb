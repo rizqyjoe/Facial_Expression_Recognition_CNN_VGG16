{
  "nbformat": 4,
  "nbformat_minor": 0,
  "metadata": {
    "colab": {
      "name": "Coba3",
      "provenance": [],
      "collapsed_sections": [],
      "include_colab_link": true
    },
    "kernelspec": {
      "display_name": "Python 3",
      "name": "python3"
    },
    "language_info": {
      "name": "python"
    },
    "accelerator": "GPU"
  },
  "cells": [
    {
      "cell_type": "markdown",
      "metadata": {
        "id": "view-in-github",
        "colab_type": "text"
      },
      "source": [
        "<a href=\"https://colab.research.google.com/github/rizqyjoe/Facial_Expression_Recognition_CNN_VGG16/blob/main/Coba3/Model4_Scratch/001.ipynb\" target=\"_parent\"><img src=\"https://colab.research.google.com/assets/colab-badge.svg\" alt=\"Open In Colab\"/></a>"
      ]
    },
    {
      "cell_type": "code",
      "metadata": {
        "id": "bOt3yEkA4tJ1",
        "colab": {
          "base_uri": "https://localhost:8080/"
        },
        "outputId": "d2e41b44-87bb-4511-fc77-597129fa5fff"
      },
      "source": [
        "#mount drive\n",
        "from google.colab import drive\n",
        "drive.mount('/content/drive')"
      ],
      "execution_count": 1,
      "outputs": [
        {
          "output_type": "stream",
          "text": [
            "Mounted at /content/drive\n"
          ],
          "name": "stdout"
        }
      ]
    },
    {
      "cell_type": "code",
      "metadata": {
        "id": "38RrkU0VmDce",
        "colab": {
          "base_uri": "https://localhost:8080/"
        },
        "outputId": "27c5f5b2-008f-4951-8075-c5198d3f02cf"
      },
      "source": [
        "from keras import layers\n",
        "from keras.models import Model, load_model\n",
        "from keras.preprocessing import image\n",
        "from keras.utils import layer_utils\n",
        "from keras.utils.data_utils import get_file\n",
        "from keras.applications.imagenet_utils import preprocess_input\n",
        "import pydot\n",
        "from IPython.display import SVG\n",
        "from keras.utils.vis_utils import model_to_dot\n",
        "from tensorflow.keras.utils import plot_model\n",
        "\n",
        "from keras.initializers import glorot_uniform\n",
        "import scipy.misc\n",
        "from matplotlib.pyplot import imshow\n",
        "%matplotlib inline\n",
        "\n",
        "import keras.backend as K\n",
        "K.set_image_data_format('channels_last')\n",
        "K.set_learning_phase(1)"
      ],
      "execution_count": 2,
      "outputs": [
        {
          "output_type": "stream",
          "text": [
            "/usr/local/lib/python3.7/dist-packages/keras/backend.py:400: UserWarning: `tf.keras.backend.set_learning_phase` is deprecated and will be removed after 2020-10-11. To update it, simply pass a True/False value to the `training` argument of the `__call__` method of your layer or model.\n",
            "  warnings.warn('`tf.keras.backend.set_learning_phase` is deprecated and '\n"
          ],
          "name": "stderr"
        }
      ]
     },
    {
      "cell_type": "code",
      "metadata": {
        "id": "qiXLLA2ka-a9"
      },
      "source": [
        "import cv2\n",
        "import pandas as pd\n",
        "import numpy as np\n",
        "from sklearn.model_selection import train_test_split\n",
        "from keras.preprocessing.image import ImageDataGenerator\n",
        "from keras.callbacks import CSVLogger, ModelCheckpoint, EarlyStopping\n",
        "from keras.callbacks import ReduceLROnPlateau\n",
        "import tensorflow as tf\n",
        " \n",
        "dataset_path = '/content/drive/MyDrive/Dataset/fer2013 dataset/fer2013/fer2013.csv'\n",
        "image_size=(48,48)\n",
        "\n",
        "def load_fer2013():\n",
        "    data = pd.read_csv(dataset_path)\n",
        "    data = (data[data['pixels'].notnull()])\n",
        "    pixels = data['pixels'].tolist()\n",
        "    width, height = 48, 48\n",
        "    faces = []\n",
        "    for pixel_sequence in pixels:\n",
        "        face = [int(pixel) for pixel in pixel_sequence.split(' ')]\n",
        "        face = np.asarray(face).reshape(width, height)\n",
        "        face = cv2.resize(face.astype('uint8'),image_size)\n",
        "        faces.append(face.astype('float32'))\n",
        "    faces = np.asarray(faces)\n",
        "    faces = np.expand_dims(faces, -1)\n",
        "    emotions = (data['emotion'])#.values\n",
        "    return faces, emotions\n",
        " \n",
        "def preprocess_input(x, v2=True):\n",
        "    x = x.astype('float32')\n",
        "    x = x / 255.0\n",
        "    if v2:\n",
        "        x = x - 0.5\n",
        "        x = x * 2.0\n",
        "    return x\n",
        " \n",
        "faces, emotions = load_fer2013()\n",
        "faces = preprocess_input(faces)\n",
        "#xtrain, xtest,ytrain,ytest = train_test_split(faces, emotions,test_size=0.2,shuffle=True)\n",
        "#Data Augumentation\n",
        "data_generator = ImageDataGenerator(rotation_range=10,\n",
        "                                    shear_range = 10,\n",
        "                                    width_shift_range=0.1,\n",
        "                                    height_shift_range=0.1,\n",
        "                                    zoom_range=.1,\n",
        "                                    horizontal_flip=True)\n",
        "\n",
        "#data_generator = ImageDataGenerator()"
      ],
      "execution_count": 3,
      "outputs": []
    },
    {
      "cell_type": "code",
      "metadata": {
        "id": "GWpF9xzWbD9U"
      },
      "source": [
        "train_ratio = 0.80\n",
        "validation_ratio = 0.10\n",
        "test_ratio = 0.10\n",
        "\n",
        "# train is now 75% of the entire data set\n",
        "# the _junk suffix means that we drop that variable completely # the _junk suffix means that we drop that variable completely\n",
        "#x_train, x_test, y_train, y_test = train_test_split(dataX, dataY, test_size=1 - train_ratio)\n",
        "\n",
        "xtrain, xtest, ytrain, ytest = train_test_split(faces, emotions, test_size=1 - train_ratio)\n",
        "\n",
        "# test is now 10% of the initial data set\n",
        "# validation is now 15% of the initial data set\n",
        "#x_val, x_test, y_val, y_test = train_test_split(x_test, y_test, test_size=test_ratio/(test_ratio + validation_ratio)) \n",
        "x_val, xtest, y_val, ytest = train_test_split(xtest, ytest, test_size=test_ratio/(test_ratio + validation_ratio)) "
      ],
      "execution_count": 4,
      "outputs": []
    },
    {
      "cell_type": "code",
      "metadata": {
        "id": "C0ytmdNTbJQs",
        "colab": {
          "base_uri": "https://localhost:8080/"
        },
        "outputId": "27c6da46-9658-4b84-b16d-2306b0d0cde6"
      },
      "source": [
        "print (\"validasi\",x_val.shape)\n",
        "print (y_val.shape)\n",
        "print (\"test\",xtest.shape)\n",
        "print (ytest.shape)\n",
        "print (\"train\",xtrain.shape)\n",
        "print (ytrain.shape)"
      ],
      "execution_count": 5,
      "outputs": [
        {
          "output_type": "stream",
          "text": [
            "validasi (3589, 48, 48, 1)\n",
            "(3589,)\n",
            "test (3589, 48, 48, 1)\n",
            "(3589,)\n",
            "train (28709, 48, 48, 1)\n",
            "(28709,)\n"
          ],
          "name": "stdout"
        }
      ]
    },
    {
      "cell_type": "markdown",
      "metadata": {
        "id": "uOH6jWte0Z0O"
      },
      "source": [
        "Model"
      ]
    },
    {
      "cell_type": "code",
      "metadata": {
        "id": "7qrkvd064Wrh"
      },
      "source": [
        "from keras.models import Sequential\n",
        "from keras.layers import Input, Dense, Flatten, Dropout, Conv2D, MaxPool2D, BatchNormalization, Activation\n",
        "\n",
        "input_shape = (48, 48, 1)\n",
        "num_classes = 7\n",
        "\n",
        "model = Sequential()\n",
        "\n",
        "model.add(Conv2D(filters=64,input_shape=(input_shape),kernel_size=(3,3),padding=\"same\", activation=\"relu\"))\n",
        "model.add(Conv2D(filters=64,kernel_size=(3,3),padding=\"same\", activation=\"relu\"))\n",
        "model.add(MaxPool2D(pool_size=(2,2),strides=(2,2)))\n",
        "model.add(Dropout(0.25))\n",
        "model.add(BatchNormalization())\n",
        "\n",
        "model.add(Conv2D(filters=128, kernel_size=(3,3), padding=\"same\", activation=\"relu\"))\n",
        "model.add(Conv2D(filters=128, kernel_size=(3,3), padding=\"same\", activation=\"relu\"))\n",
        "model.add(MaxPool2D(pool_size=(2,2),strides=(2,2)))\n",
        "model.add(Dropout(0.25))\n",
        "model.add(BatchNormalization())\n",
        "\n",
        "model.add(Conv2D(filters=256, kernel_size=(3,3), padding=\"same\", activation=\"relu\"))\n",
        "model.add(Conv2D(filters=256, kernel_size=(3,3), padding=\"same\", activation=\"relu\"))\n",
        "model.add(Conv2D(filters=256, kernel_size=(3,3), padding=\"same\", activation=\"relu\"))\n",
        "model.add(MaxPool2D(pool_size=(2,2),strides=(2,2)))\n",
        "model.add(Dropout(0.5))\n",
        "model.add(BatchNormalization())\n",
        "\n",
        "model.add(Conv2D(filters=512, kernel_size=(3,3), padding=\"same\", activation=\"relu\"))\n",
        "model.add(Conv2D(filters=512, kernel_size=(3,3), padding=\"same\", activation=\"relu\"))\n",
        "model.add(Conv2D(filters=512, kernel_size=(3,3), padding=\"same\", activation=\"relu\"))\n",
        "model.add(MaxPool2D(pool_size=(2,2),strides=(2,2)))\n",
        "model.add(Dropout(0.5))\n",
        "model.add(BatchNormalization())\n",
        "\n",
        "model.add(Flatten())\n",
        "\n",
        "model.add(Dense(512,activation='relu'))\n",
        "model.add(Dropout(0.5))\n",
        "model.add(Dense(512,activation='relu'))\n",
        "model.add(Dropout(0.5))\n",
        "model.add(Dense(512,activation='relu'))\n",
        "model.add(Dropout(0.5))\n",
        "\n",
        "model.add(Dense(units=num_classes, activation='softmax'))"
      ],
      "execution_count": 6,
      "outputs": []
    },
    {
      "cell_type": "code",
      "metadata": {
        "id": "AXncJbb8b6UZ"
      },
      "source": [
        "'''model.add(Conv2D(filters=64,input_shape=(input_shape),kernel_size=(3,3),padding=\"same\", activation=\"relu\"))\n",
        "model.add(Conv2D(filters=64,kernel_size=(3,3),padding=\"same\", activation=\"relu\"))\n",
        "model.add(MaxPool2D(pool_size=(2,2),strides=(2,2)))\n",
        "\n",
        "model.add(Conv2D(filters=128, kernel_size=(3,3), padding=\"same\", activation=\"relu\"))\n",
        "model.add(Conv2D(filters=128, kernel_size=(3,3), padding=\"same\", activation=\"relu\"))\n",
        "model.add(MaxPool2D(pool_size=(2,2),strides=(2,2)))\n",
        "\n",
        "model.add(Conv2D(filters=256, kernel_size=(3,3), padding=\"same\", activation=\"relu\"))\n",
        "model.add(Conv2D(filters=256, kernel_size=(3,3), padding=\"same\", activation=\"relu\"))\n",
        "model.add(Conv2D(filters=256, kernel_size=(3,3), padding=\"same\", activation=\"relu\"))\n",
        "model.add(MaxPool2D(pool_size=(2,2),strides=(2,2)))\n",
        "\n",
        "model.add(Conv2D(filters=512, kernel_size=(3,3), padding=\"same\", activation=\"relu\"))\n",
        "model.add(Conv2D(filters=512, kernel_size=(3,3), padding=\"same\", activation=\"relu\"))\n",
        "model.add(Conv2D(filters=512, kernel_size=(3,3), padding=\"same\", activation=\"relu\"))\n",
        "model.add(MaxPool2D(pool_size=(2,2),strides=(2,2)))\n",
        "\n",
        "model.add(Conv2D(filters=512, kernel_size=(3,3), padding=\"same\", activation=\"relu\"))\n",
        "model.add(Conv2D(filters=512, kernel_size=(3,3), padding=\"same\", activation=\"relu\"))\n",
        "model.add(Conv2D(filters=512, kernel_size=(3,3), padding=\"same\", activation=\"relu\"))\n",
        "model.add(MaxPool2D(pool_size=(2,2),strides=(2,2)))\n",
        "\n",
        "model.add(Conv2D(filters=512, kernel_size=(3,3), padding=\"same\", activation=\"relu\"))\n",
        "model.add(Conv2D(filters=512, kernel_size=(3,3), padding=\"same\", activation=\"relu\"))\n",
        "model.add(Conv2D(filters=512, kernel_size=(3,3), padding=\"same\", activation=\"relu\"))\n",
        "model.add(MaxPool2D(pool_size=(2,2),strides=(2,2)))\n",
        "model.add(BatchNormalization())\n",
        "\n",
        "model.add(Dense(units=4096,activation=\"relu\"))\n",
        "model.add(Dense(units=4096,activation=\"relu\"))\n",
        "model.add(Dense(units=num_class, activation=\"softmax\"))\n",
        "\n",
        "model.add(Dropout(0.5))\n",
        "model.add(BatchNormalization())"
      ],
      "execution_count": null,
      "outputs": []
    },
    {
      "cell_type": "code",
      "metadata": {
        "id": "LrJpQTswb8Gr"
      },
      "source": [
        "'''model = Sequential()\n",
        "\n",
        "model.add(VGG16(\n",
        "    include_top = False,\n",
        "    pooling='avg',\n",
        "    weights='imagenet',\n",
        "))"
      ],
      "execution_count": null,
      "outputs": []
    },
    {
      "cell_type": "code",
      "metadata": {
        "id": "FdfWU9lKb-hK"
      },
      "source": [
        "'''model.add(Flatten())\n",
        "model.add(Dropout(0.25))\n",
        "model.add(Dense(2048, activation='relu'))\n",
        "model.add(Dropout(0.25))\n",
        "model.add(Dense(1024, activation='relu'))\n",
        "model.add(Dense(num_classes, activation='softmax', name = 'classifer'))'''"
      ],
      "execution_count": null,
      "outputs": []
    },
    {
      "cell_type": "code",
      "metadata": {
        "id": "4RBbSTgCg7mQ"
      },
      "source": [
        "'''model.layers[0].layers"
      ],
      "execution_count": null,
      "outputs": []
    },
    {
      "cell_type": "code",
      "metadata": {
        "id": "90sEOB4Dg9V3"
      },
      "source": [
        "'''model.layers[0].trainable = False"
      ],
      "execution_count": null,
      "outputs": []
    },
    {
      "cell_type": "code",
      "metadata": {
        "id": "PCdOixg7g-o_",
        "colab": {
          "base_uri": "https://localhost:8080/"
        },
        "outputId": "be6f8ded-4ee0-4eb5-a54b-a95334f92604"
      },
      "source": [
        "model.summary()"
      ],
      "execution_count": 7,
      "outputs": [
        {
          "output_type": "stream",
          "text": [
            "Model: \"sequential\"\n",
            "_________________________________________________________________\n",
            "Layer (type)                 Output Shape              Param #   \n",
            "=================================================================\n",
            "conv2d (Conv2D)              (None, 48, 48, 64)        640       \n",
            "_________________________________________________________________\n",
            "conv2d_1 (Conv2D)            (None, 48, 48, 64)        36928     \n",
            "_________________________________________________________________\n",
            "max_pooling2d (MaxPooling2D) (None, 24, 24, 64)        0         \n",
            "_________________________________________________________________\n",
            "dropout (Dropout)            (None, 24, 24, 64)        0         \n",
            "_________________________________________________________________\n",
            "batch_normalization (BatchNo (None, 24, 24, 64)        256       \n",
            "_________________________________________________________________\n",
            "conv2d_2 (Conv2D)            (None, 24, 24, 128)       73856     \n",
            "_________________________________________________________________\n",
            "conv2d_3 (Conv2D)            (None, 24, 24, 128)       147584    \n",
            "_________________________________________________________________\n",
            "max_pooling2d_1 (MaxPooling2 (None, 12, 12, 128)       0         \n",
            "_________________________________________________________________\n",
            "dropout_1 (Dropout)          (None, 12, 12, 128)       0         \n",
            "_________________________________________________________________\n",
            "batch_normalization_1 (Batch (None, 12, 12, 128)       512       \n",
            "_________________________________________________________________\n",
            "conv2d_4 (Conv2D)            (None, 12, 12, 256)       295168    \n",
            "_________________________________________________________________\n",
            "conv2d_5 (Conv2D)            (None, 12, 12, 256)       590080    \n",
            "_________________________________________________________________\n",
            "conv2d_6 (Conv2D)            (None, 12, 12, 256)       590080    \n",
            "_________________________________________________________________\n",
            "max_pooling2d_2 (MaxPooling2 (None, 6, 6, 256)         0         \n",
            "_________________________________________________________________\n",
            "dropout_2 (Dropout)          (None, 6, 6, 256)         0         \n",
            "_________________________________________________________________\n",
            "batch_normalization_2 (Batch (None, 6, 6, 256)         1024      \n",
            "_________________________________________________________________\n",
            "conv2d_7 (Conv2D)            (None, 6, 6, 512)         1180160   \n",
            "_________________________________________________________________\n",
            "conv2d_8 (Conv2D)            (None, 6, 6, 512)         2359808   \n",
            "_________________________________________________________________\n",
            "conv2d_9 (Conv2D)            (None, 6, 6, 512)         2359808   \n",
            "_________________________________________________________________\n",
            "max_pooling2d_3 (MaxPooling2 (None, 3, 3, 512)         0         \n",
            "_________________________________________________________________\n",
            "dropout_3 (Dropout)          (None, 3, 3, 512)         0         \n",
            "_________________________________________________________________\n",
            "batch_normalization_3 (Batch (None, 3, 3, 512)         2048      \n",
            "_________________________________________________________________\n",
            "flatten (Flatten)            (None, 4608)              0         \n",
            "_________________________________________________________________\n",
            "dense (Dense)                (None, 512)               2359808   \n",
            "_________________________________________________________________\n",
            "dropout_4 (Dropout)          (None, 512)               0         \n",
            "_________________________________________________________________\n",
            "dense_1 (Dense)              (None, 512)               262656    \n",
            "_________________________________________________________________\n",
            "dropout_5 (Dropout)          (None, 512)               0         \n",
            "_________________________________________________________________\n",
            "dense_2 (Dense)              (None, 512)               262656    \n",
            "_________________________________________________________________\n",
            "dropout_6 (Dropout)          (None, 512)               0         \n",
            "_________________________________________________________________\n",
            "dense_3 (Dense)              (None, 7)                 3591      \n",
            "=================================================================\n",
            "Total params: 10,526,663\n",
            "Trainable params: 10,524,743\n",
            "Non-trainable params: 1,920\n",
            "_________________________________________________________________\n"
          ],
          "name": "stdout"
        }
      ]
    },
    {
      "cell_type": "code",
      "metadata": {
        "id": "Z_woPR9Im3iN"
      },
      "source": [
        "from keras.optimizers import Adam,RMSprop,SGD"
      ],
      "execution_count": 8,
      "outputs": []
    },
    {
      "cell_type": "code",
      "metadata": {
        "id": "KBL-vUYa16ZO"
      },
      "source": [
        "optimizer = Adam(learning_rate=0.0001)\n",
        "\n",
        "model.compile(optimizer=optimizer, loss='sparse_categorical_crossentropy', metrics=['accuracy'])"
      ],
      "execution_count": 9,
      "outputs": []
    },
    {
      "cell_type": "code",
      "metadata": {
        "id": "9Dpq-c5YhAfn",
        "colab": {
          "base_uri": "https://localhost:8080/"
        },
        "outputId": "6c70340c-0d3e-4d57-a776-8fdf5c4ad670"
      },
      "source": [
        "batch_size = 64\n",
        "num_epochs = 100\n",
        "\n",
        "history = model.fit(data_generator.flow(xtrain, ytrain),\n",
        "                    steps_per_epoch=len(xtrain) / batch_size,\n",
        "                    epochs=num_epochs, \n",
        "                    verbose=1,\n",
        "                    validation_data= (x_val,y_val))"
      ],
      "execution_count": 10,
      "outputs": [
        {
          "output_type": "stream",
          "text": [
            "Epoch 1/100\n",
            "448/448 [==============================] - 63s 36ms/step - loss: 2.2449 - accuracy: 0.1869 - val_loss: 1.8444 - val_accuracy: 0.2533\n",
            "Epoch 2/100\n",
            "448/448 [==============================] - 15s 33ms/step - loss: 1.8669 - accuracy: 0.2158 - val_loss: 1.8268 - val_accuracy: 0.2533\n",
            "Epoch 3/100\n",
            "448/448 [==============================] - 15s 34ms/step - loss: 1.8398 - accuracy: 0.2213 - val_loss: 1.8226 - val_accuracy: 0.2533\n",
            "Epoch 4/100\n",
            "448/448 [==============================] - 15s 34ms/step - loss: 1.8335 - accuracy: 0.2293 - val_loss: 1.8144 - val_accuracy: 0.2533\n",
            "Epoch 5/100\n",
            "448/448 [==============================] - 15s 34ms/step - loss: 1.8290 - accuracy: 0.2324 - val_loss: 1.8089 - val_accuracy: 0.2533\n",
            "Epoch 6/100\n",
            "448/448 [==============================] - 15s 34ms/step - loss: 1.8202 - accuracy: 0.2335 - val_loss: 1.7983 - val_accuracy: 0.2533\n",
            "Epoch 7/100\n",
            "448/448 [==============================] - 16s 35ms/step - loss: 1.8243 - accuracy: 0.2391 - val_loss: 1.7985 - val_accuracy: 0.2530\n",
            "Epoch 8/100\n",
            "448/448 [==============================] - 16s 35ms/step - loss: 1.8006 - accuracy: 0.2408 - val_loss: 1.8053 - val_accuracy: 0.2547\n",
            "Epoch 9/100\n",
            "448/448 [==============================] - 16s 35ms/step - loss: 1.8084 - accuracy: 0.2456 - val_loss: 1.7497 - val_accuracy: 0.2848\n",
            "Epoch 10/100\n",
            "448/448 [==============================] - 16s 35ms/step - loss: 1.7701 - accuracy: 0.2608 - val_loss: 1.7369 - val_accuracy: 0.2981\n",
            "Epoch 11/100\n",
            "448/448 [==============================] - 16s 35ms/step - loss: 1.7190 - accuracy: 0.2940 - val_loss: 1.6781 - val_accuracy: 0.3132\n",
            "Epoch 12/100\n",
            "448/448 [==============================] - 16s 36ms/step - loss: 1.6758 - accuracy: 0.3221 - val_loss: 1.8144 - val_accuracy: 0.2912\n",
            "Epoch 13/100\n",
            "448/448 [==============================] - 16s 36ms/step - loss: 1.6221 - accuracy: 0.3538 - val_loss: 1.8103 - val_accuracy: 0.2856\n",
            "Epoch 14/100\n",
            "448/448 [==============================] - 16s 35ms/step - loss: 1.5572 - accuracy: 0.3856 - val_loss: 1.4172 - val_accuracy: 0.4313\n",
            "Epoch 15/100\n",
            "448/448 [==============================] - 16s 35ms/step - loss: 1.5108 - accuracy: 0.3993 - val_loss: 1.4233 - val_accuracy: 0.4269\n",
            "Epoch 16/100\n",
            "448/448 [==============================] - 16s 35ms/step - loss: 1.4693 - accuracy: 0.4193 - val_loss: 1.5150 - val_accuracy: 0.4032\n",
            "Epoch 17/100\n",
            "448/448 [==============================] - 16s 35ms/step - loss: 1.4576 - accuracy: 0.4252 - val_loss: 1.3572 - val_accuracy: 0.4673\n",
            "Epoch 18/100\n",
            "448/448 [==============================] - 16s 35ms/step - loss: 1.4403 - accuracy: 0.4240 - val_loss: 1.3862 - val_accuracy: 0.4433\n",
            "Epoch 19/100\n",
            "448/448 [==============================] - 16s 35ms/step - loss: 1.4280 - accuracy: 0.4365 - val_loss: 1.3908 - val_accuracy: 0.4472\n",
            "Epoch 20/100\n",
            "448/448 [==============================] - 16s 35ms/step - loss: 1.4048 - accuracy: 0.4399 - val_loss: 1.3157 - val_accuracy: 0.4765\n",
            "Epoch 21/100\n",
            "448/448 [==============================] - 16s 35ms/step - loss: 1.3790 - accuracy: 0.4548 - val_loss: 1.3177 - val_accuracy: 0.4678\n",
            "Epoch 22/100\n",
            "448/448 [==============================] - 16s 35ms/step - loss: 1.3653 - accuracy: 0.4749 - val_loss: 1.2424 - val_accuracy: 0.5185\n",
            "Epoch 23/100\n",
            "448/448 [==============================] - 16s 35ms/step - loss: 1.3583 - accuracy: 0.4826 - val_loss: 1.2430 - val_accuracy: 0.5291\n",
            "Epoch 24/100\n",
            "448/448 [==============================] - 16s 35ms/step - loss: 1.3269 - accuracy: 0.5015 - val_loss: 1.2184 - val_accuracy: 0.5405\n",
            "Epoch 25/100\n",
            "448/448 [==============================] - 16s 36ms/step - loss: 1.3203 - accuracy: 0.4934 - val_loss: 1.3740 - val_accuracy: 0.4893\n",
            "Epoch 26/100\n",
            "448/448 [==============================] - 16s 35ms/step - loss: 1.2991 - accuracy: 0.5031 - val_loss: 1.2102 - val_accuracy: 0.5456\n",
            "Epoch 27/100\n",
            "448/448 [==============================] - 16s 35ms/step - loss: 1.2897 - accuracy: 0.5101 - val_loss: 1.2119 - val_accuracy: 0.5319\n",
            "Epoch 28/100\n",
            "448/448 [==============================] - 16s 35ms/step - loss: 1.2487 - accuracy: 0.5171 - val_loss: 1.1669 - val_accuracy: 0.5692\n",
            "Epoch 29/100\n",
            "448/448 [==============================] - 16s 35ms/step - loss: 1.2536 - accuracy: 0.5131 - val_loss: 1.1700 - val_accuracy: 0.5592\n",
            "Epoch 30/100\n",
            "448/448 [==============================] - 16s 35ms/step - loss: 1.2358 - accuracy: 0.5356 - val_loss: 1.1602 - val_accuracy: 0.5754\n",
            "Epoch 31/100\n",
            "448/448 [==============================] - 16s 35ms/step - loss: 1.2362 - accuracy: 0.5286 - val_loss: 1.1703 - val_accuracy: 0.5684\n",
            "Epoch 32/100\n",
            "448/448 [==============================] - 16s 35ms/step - loss: 1.2288 - accuracy: 0.5298 - val_loss: 1.1763 - val_accuracy: 0.5553\n",
            "Epoch 33/100\n",
            "448/448 [==============================] - 16s 35ms/step - loss: 1.2284 - accuracy: 0.5368 - val_loss: 1.1786 - val_accuracy: 0.5528\n",
            "Epoch 34/100\n",
            "448/448 [==============================] - 16s 35ms/step - loss: 1.2229 - accuracy: 0.5351 - val_loss: 1.1683 - val_accuracy: 0.5598\n",
            "Epoch 35/100\n",
            "448/448 [==============================] - 16s 35ms/step - loss: 1.2029 - accuracy: 0.5447 - val_loss: 1.1956 - val_accuracy: 0.5626\n",
            "Epoch 36/100\n",
            "448/448 [==============================] - 16s 35ms/step - loss: 1.1824 - accuracy: 0.5545 - val_loss: 1.1497 - val_accuracy: 0.5737\n",
            "Epoch 37/100\n",
            "448/448 [==============================] - 16s 35ms/step - loss: 1.1792 - accuracy: 0.5571 - val_loss: 1.1549 - val_accuracy: 0.5782\n",
            "Epoch 38/100\n",
            "448/448 [==============================] - 16s 35ms/step - loss: 1.1659 - accuracy: 0.5635 - val_loss: 1.1199 - val_accuracy: 0.5829\n",
            "Epoch 39/100\n",
            "448/448 [==============================] - 16s 35ms/step - loss: 1.1783 - accuracy: 0.5526 - val_loss: 1.1269 - val_accuracy: 0.5784\n",
            "Epoch 40/100\n",
            "448/448 [==============================] - 16s 35ms/step - loss: 1.1765 - accuracy: 0.5616 - val_loss: 1.1170 - val_accuracy: 0.5698\n",
            "Epoch 41/100\n",
            "448/448 [==============================] - 16s 35ms/step - loss: 1.1711 - accuracy: 0.5610 - val_loss: 1.1398 - val_accuracy: 0.5851\n",
            "Epoch 42/100\n",
            "448/448 [==============================] - 16s 35ms/step - loss: 1.1557 - accuracy: 0.5721 - val_loss: 1.1008 - val_accuracy: 0.5896\n",
            "Epoch 43/100\n",
            "448/448 [==============================] - 16s 35ms/step - loss: 1.1473 - accuracy: 0.5744 - val_loss: 1.1148 - val_accuracy: 0.5940\n",
            "Epoch 44/100\n",
            "448/448 [==============================] - 16s 35ms/step - loss: 1.1299 - accuracy: 0.5872 - val_loss: 1.1328 - val_accuracy: 0.5985\n",
            "Epoch 45/100\n",
            "448/448 [==============================] - 16s 35ms/step - loss: 1.1382 - accuracy: 0.5766 - val_loss: 1.0941 - val_accuracy: 0.5868\n",
            "Epoch 46/100\n",
            "448/448 [==============================] - 16s 35ms/step - loss: 1.1584 - accuracy: 0.5677 - val_loss: 1.1095 - val_accuracy: 0.6013\n",
            "Epoch 47/100\n",
            "448/448 [==============================] - 16s 35ms/step - loss: 1.1257 - accuracy: 0.5816 - val_loss: 1.1523 - val_accuracy: 0.5798\n",
            "Epoch 48/100\n",
            "448/448 [==============================] - 16s 36ms/step - loss: 1.1204 - accuracy: 0.5893 - val_loss: 1.0569 - val_accuracy: 0.6016\n",
            "Epoch 49/100\n",
            "448/448 [==============================] - 16s 35ms/step - loss: 1.1132 - accuracy: 0.5814 - val_loss: 1.0928 - val_accuracy: 0.6010\n",
            "Epoch 50/100\n",
            "448/448 [==============================] - 16s 35ms/step - loss: 1.1186 - accuracy: 0.5857 - val_loss: 1.0399 - val_accuracy: 0.6105\n",
            "Epoch 51/100\n",
            "448/448 [==============================] - 16s 35ms/step - loss: 1.0926 - accuracy: 0.5906 - val_loss: 1.0685 - val_accuracy: 0.6135\n",
            "Epoch 52/100\n",
            "448/448 [==============================] - 16s 35ms/step - loss: 1.1173 - accuracy: 0.5823 - val_loss: 1.1528 - val_accuracy: 0.5704\n",
            "Epoch 53/100\n",
            "448/448 [==============================] - 16s 35ms/step - loss: 1.1021 - accuracy: 0.5921 - val_loss: 1.0790 - val_accuracy: 0.6174\n",
            "Epoch 54/100\n",
            "448/448 [==============================] - 16s 35ms/step - loss: 1.0995 - accuracy: 0.5920 - val_loss: 1.0212 - val_accuracy: 0.6250\n",
            "Epoch 55/100\n",
            "448/448 [==============================] - 16s 35ms/step - loss: 1.0710 - accuracy: 0.6070 - val_loss: 1.0648 - val_accuracy: 0.6141\n",
            "Epoch 56/100\n",
            "448/448 [==============================] - 16s 35ms/step - loss: 1.0826 - accuracy: 0.6031 - val_loss: 1.0436 - val_accuracy: 0.6055\n",
            "Epoch 57/100\n",
            "448/448 [==============================] - 16s 35ms/step - loss: 1.0602 - accuracy: 0.6074 - val_loss: 1.0299 - val_accuracy: 0.6216\n",
            "Epoch 58/100\n",
            "448/448 [==============================] - 16s 35ms/step - loss: 1.0771 - accuracy: 0.6019 - val_loss: 1.0445 - val_accuracy: 0.6147\n",
            "Epoch 59/100\n",
            "448/448 [==============================] - 16s 35ms/step - loss: 1.0555 - accuracy: 0.6091 - val_loss: 1.0239 - val_accuracy: 0.6191\n",
            "Epoch 60/100\n",
            "448/448 [==============================] - 16s 35ms/step - loss: 1.0832 - accuracy: 0.6012 - val_loss: 1.0635 - val_accuracy: 0.6166\n",
            "Epoch 61/100\n",
            "448/448 [==============================] - 16s 35ms/step - loss: 1.0669 - accuracy: 0.6044 - val_loss: 1.0220 - val_accuracy: 0.6339\n",
            "Epoch 62/100\n",
            "448/448 [==============================] - 16s 35ms/step - loss: 1.0473 - accuracy: 0.6160 - val_loss: 1.0552 - val_accuracy: 0.6205\n",
            "Epoch 63/100\n",
            "448/448 [==============================] - 16s 35ms/step - loss: 1.0387 - accuracy: 0.6140 - val_loss: 1.0318 - val_accuracy: 0.6328\n",
            "Epoch 64/100\n",
            "448/448 [==============================] - 16s 35ms/step - loss: 1.0332 - accuracy: 0.6153 - val_loss: 1.0342 - val_accuracy: 0.6358\n",
            "Epoch 65/100\n",
            "448/448 [==============================] - 16s 35ms/step - loss: 1.0436 - accuracy: 0.6076 - val_loss: 1.0260 - val_accuracy: 0.6372\n",
            "Epoch 66/100\n",
            "448/448 [==============================] - 16s 35ms/step - loss: 1.0336 - accuracy: 0.6167 - val_loss: 1.0221 - val_accuracy: 0.6113\n",
            "Epoch 67/100\n",
            "448/448 [==============================] - 16s 35ms/step - loss: 1.0370 - accuracy: 0.6130 - val_loss: 1.0357 - val_accuracy: 0.6383\n",
            "Epoch 68/100\n",
            "448/448 [==============================] - 16s 35ms/step - loss: 1.0208 - accuracy: 0.6216 - val_loss: 1.0270 - val_accuracy: 0.6239\n",
            "Epoch 69/100\n",
            "448/448 [==============================] - 16s 35ms/step - loss: 1.0328 - accuracy: 0.6152 - val_loss: 1.0197 - val_accuracy: 0.6291\n",
            "Epoch 70/100\n",
            "448/448 [==============================] - 16s 35ms/step - loss: 1.0136 - accuracy: 0.6284 - val_loss: 1.0644 - val_accuracy: 0.6197\n",
            "Epoch 71/100\n",
            "448/448 [==============================] - 16s 35ms/step - loss: 1.0130 - accuracy: 0.6336 - val_loss: 1.0046 - val_accuracy: 0.6322\n",
            "Epoch 72/100\n",
            "448/448 [==============================] - 16s 35ms/step - loss: 1.0067 - accuracy: 0.6363 - val_loss: 1.0185 - val_accuracy: 0.6289\n",
            "Epoch 73/100\n",
            "448/448 [==============================] - 16s 35ms/step - loss: 1.0109 - accuracy: 0.6338 - val_loss: 1.0489 - val_accuracy: 0.6367\n",
            "Epoch 74/100\n",
            "448/448 [==============================] - 16s 35ms/step - loss: 1.0075 - accuracy: 0.6288 - val_loss: 0.9938 - val_accuracy: 0.6434\n",
            "Epoch 75/100\n",
            "448/448 [==============================] - 16s 35ms/step - loss: 1.0064 - accuracy: 0.6355 - val_loss: 1.0006 - val_accuracy: 0.6294\n",
            "Epoch 76/100\n",
            "448/448 [==============================] - 16s 35ms/step - loss: 0.9828 - accuracy: 0.6413 - val_loss: 0.9843 - val_accuracy: 0.6428\n",
            "Epoch 77/100\n",
            "448/448 [==============================] - 16s 35ms/step - loss: 1.0085 - accuracy: 0.6274 - val_loss: 1.0001 - val_accuracy: 0.6523\n",
            "Epoch 78/100\n",
            "448/448 [==============================] - 16s 35ms/step - loss: 0.9920 - accuracy: 0.6367 - val_loss: 1.0262 - val_accuracy: 0.6291\n",
            "Epoch 79/100\n",
            "448/448 [==============================] - 16s 35ms/step - loss: 0.9810 - accuracy: 0.6428 - val_loss: 0.9775 - val_accuracy: 0.6486\n",
            "Epoch 80/100\n",
            "448/448 [==============================] - 16s 35ms/step - loss: 0.9780 - accuracy: 0.6364 - val_loss: 0.9680 - val_accuracy: 0.6531\n",
            "Epoch 81/100\n",
            "448/448 [==============================] - 16s 36ms/step - loss: 1.0073 - accuracy: 0.6349 - val_loss: 0.9748 - val_accuracy: 0.6450\n",
            "Epoch 82/100\n",
            "448/448 [==============================] - 16s 36ms/step - loss: 0.9869 - accuracy: 0.6336 - val_loss: 0.9743 - val_accuracy: 0.6506\n",
            "Epoch 83/100\n",
            "448/448 [==============================] - 16s 35ms/step - loss: 0.9828 - accuracy: 0.6335 - val_loss: 0.9633 - val_accuracy: 0.6473\n",
            "Epoch 84/100\n",
            "448/448 [==============================] - 16s 35ms/step - loss: 0.9781 - accuracy: 0.6421 - val_loss: 0.9822 - val_accuracy: 0.6506\n",
            "Epoch 85/100\n",
            "448/448 [==============================] - 16s 35ms/step - loss: 0.9761 - accuracy: 0.6382 - val_loss: 1.0051 - val_accuracy: 0.6400\n",
            "Epoch 86/100\n",
            "448/448 [==============================] - 16s 36ms/step - loss: 0.9745 - accuracy: 0.6379 - val_loss: 0.9930 - val_accuracy: 0.6503\n",
            "Epoch 87/100\n",
            "448/448 [==============================] - 16s 36ms/step - loss: 0.9486 - accuracy: 0.6460 - val_loss: 0.9704 - val_accuracy: 0.6587\n",
            "Epoch 88/100\n",
            "448/448 [==============================] - 16s 35ms/step - loss: 0.9403 - accuracy: 0.6557 - val_loss: 0.9926 - val_accuracy: 0.6450\n",
            "Epoch 89/100\n",
            "448/448 [==============================] - 16s 35ms/step - loss: 0.9528 - accuracy: 0.6449 - val_loss: 0.9594 - val_accuracy: 0.6609\n",
            "Epoch 90/100\n",
            "448/448 [==============================] - 16s 35ms/step - loss: 0.9400 - accuracy: 0.6508 - val_loss: 0.9686 - val_accuracy: 0.6386\n",
            "Epoch 91/100\n",
            "448/448 [==============================] - 16s 36ms/step - loss: 0.9558 - accuracy: 0.6466 - val_loss: 0.9618 - val_accuracy: 0.6634\n",
            "Epoch 92/100\n",
            "448/448 [==============================] - 16s 36ms/step - loss: 0.9484 - accuracy: 0.6561 - val_loss: 0.9501 - val_accuracy: 0.6581\n",
            "Epoch 93/100\n",
            "448/448 [==============================] - 16s 36ms/step - loss: 0.9374 - accuracy: 0.6515 - val_loss: 0.9573 - val_accuracy: 0.6539\n",
            "Epoch 94/100\n",
            "448/448 [==============================] - 16s 35ms/step - loss: 0.9337 - accuracy: 0.6550 - val_loss: 0.9481 - val_accuracy: 0.6548\n",
            "Epoch 95/100\n",
            "448/448 [==============================] - 16s 35ms/step - loss: 0.9239 - accuracy: 0.6623 - val_loss: 0.9656 - val_accuracy: 0.6565\n",
            "Epoch 96/100\n",
            "448/448 [==============================] - 16s 36ms/step - loss: 0.9451 - accuracy: 0.6562 - val_loss: 0.9956 - val_accuracy: 0.6514\n",
            "Epoch 97/100\n",
            "448/448 [==============================] - 16s 35ms/step - loss: 0.9115 - accuracy: 0.6668 - val_loss: 0.9740 - val_accuracy: 0.6537\n",
            "Epoch 98/100\n",
            "448/448 [==============================] - 16s 36ms/step - loss: 0.9159 - accuracy: 0.6635 - val_loss: 0.9696 - val_accuracy: 0.6562\n",
            "Epoch 99/100\n",
            "448/448 [==============================] - 16s 36ms/step - loss: 0.9205 - accuracy: 0.6617 - val_loss: 0.9715 - val_accuracy: 0.6498\n",
            "Epoch 100/100\n",
            "448/448 [==============================] - 16s 35ms/step - loss: 0.9220 - accuracy: 0.6562 - val_loss: 0.9560 - val_accuracy: 0.6656\n"
          ],
          "name": "stdout"
        }
      ]
    },
    {
      "cell_type": "code",
      "metadata": {
        "id": "CLFinNknGGDd"
      },
      "source": [
        "model.save('/content/drive/MyDrive/Colab Notebooks/Model/Model1_Fix_VGG16.h5')"
      ],
      "execution_count": null,
      "outputs": []
    },
    {
      "cell_type": "code",
      "metadata": {
        "id": "lDnJ_LcFhC-W",
        "colab": {
          "base_uri": "https://localhost:8080/",
          "height": 573
        },
        "outputId": "8b671e2e-234b-42d0-bc27-4d437c2d4459"
      },
      "source": [
        "import matplotlib.pyplot as plt \n",
        "\n",
        "accuracy = history.history['accuracy']\n",
        "val_accuracy = history.history['val_accuracy']\n",
        "loss = history.history['loss']\n",
        "val_loss = history.history['val_loss']\n",
        "num_epochs = range(len(accuracy))\n",
        "plt.plot(num_epochs, accuracy, 'r', label='Training acc')\n",
        "plt.plot(num_epochs, val_accuracy, 'b', label='Validation acc')\n",
        "plt.title('Training and validation accuracy')\n",
        "plt.ylabel('accuracy')  \n",
        "plt.xlabel('epoch')\n",
        "plt.legend()\n",
        "plt.figure()\n",
        "plt.plot(num_epochs, loss, 'r', label='Training loss')\n",
        "plt.plot(num_epochs, val_loss, 'b', label='Validation loss')\n",
        "plt.title('Training and validation loss')\n",
        "plt.ylabel('loss')  \n",
        "plt.xlabel('epoch')\n",
        "plt.legend()\n",
        "plt.show()"
      ],
      "execution_count": 11,
      "outputs": [
        {
          "output_type": "display_data",
          "data": {
            "image/png": "[encoded data removed]",
            "text/plain": [
              "<Figure size 432x288 with 1 Axes>"
            ]
          },
          "metadata": {
            "tags": [],
            "needs_background": "light"
          }
        },
        {
          "output_type": "display_data",
          "data": {
            "image/png": "[encoded data removed]",
            "text/plain": [
              "<Figure size 432x288 with 1 Axes>"
            ]
          },
          "metadata": {
            "tags": [],
            "needs_background": "light"
          }
        }
      ]
    },
    {
      "cell_type": "code",
      "metadata": {
        "id": "tuLQ-HQVhFz3",
        "colab": {
          "base_uri": "https://localhost:8080/"
        },
        "outputId": "cf4562ad-ee75-42bd-96bf-7f2a1484a856"
      },
      "source": [
        "testloss = model.evaluate(xtest, ytest) \n",
        "print(\"Test Loss \" + str(testloss[0]))\n",
        "print(\"Test Acc: \" + str(testloss[1]))\n",
        "\n",
        "trainloss = model.evaluate(xtrain, ytrain) \n",
        "print(\"Train Loss \" + str(trainloss[0]))\n",
        "print(\"Train Acc: \" + str(trainloss[1]))"
      ],
      "execution_count": 12,
      "outputs": [
        {
          "output_type": "stream",
          "text": [
            "113/113 [==============================] - 1s 9ms/step - loss: 0.9691 - accuracy: 0.6503\n",
            "Test Loss 0.9691095948219299\n",
            "Test Acc: 0.6503204107284546\n",
            "898/898 [==============================] - 8s 9ms/step - loss: 0.8473 - accuracy: 0.7078\n",
            "Train Loss 0.8472703695297241\n",
            "Train Acc: 0.7077571749687195\n"
          ],
          "name": "stdout"
        }
      ]
    },
    {
      "cell_type": "code",
      "metadata": {
        "id": "jxqB-9N6hShu",
        "colab": {
          "base_uri": "https://localhost:8080/"
        },
        "outputId": "7339093d-2610-4dab-ed00-992c23f6f1d2"
      },
      "source": [
        "testlosz = model.evaluate(x_val, y_val) \n",
        "print(\"val Loss \" + str(testlosz[0]))\n",
        "print(\"val Acc: \" + str(testlosz[1]))"
      ],
      "execution_count": 13,
      "outputs": [
        {
          "output_type": "stream",
          "text": [
            "113/113 [==============================] - 1s 9ms/step - loss: 0.9560 - accuracy: 0.6656\n",
            "val Loss 0.956045925617218\n",
            "val Acc: 0.6656450033187866\n"
          ],
          "name": "stdout"
        }
      ]
    },
    {
      "cell_type": "code",
      "metadata": {
        "id": "19CO9w7fwZhA",
        "colab": {
          "base_uri": "https://localhost:8080/"
        },
        "outputId": "6e2ab883-b34e-4651-ca7c-658d047172fe"
      },
      "source": [
        "from keras.models import load_model\n",
        "model_load = load_model('/content/drive/MyDrive/Colab Notebooks/Model/Model1_Fix_VGG16.h5')\n",
        "\n",
        "model_load.summary()"
      ],
      "execution_count": 14,
      "outputs": [
        {
          "output_type": "stream",
          "text": [
            "Model: \"sequential\"\n",
            "_________________________________________________________________\n",
            "Layer (type)                 Output Shape              Param #   \n",
            "=================================================================\n",
            "conv2d (Conv2D)              (None, 48, 48, 64)        640       \n",
            "_________________________________________________________________\n",
            "conv2d_1 (Conv2D)            (None, 48, 48, 64)        36928     \n",
            "_________________________________________________________________\n",
            "max_pooling2d (MaxPooling2D) (None, 24, 24, 64)        0         \n",
            "_________________________________________________________________\n",
            "batch_normalization (BatchNo (None, 24, 24, 64)        256       \n",
            "_________________________________________________________________\n",
            "conv2d_2 (Conv2D)            (None, 24, 24, 128)       73856     \n",
            "_________________________________________________________________\n",
            "conv2d_3 (Conv2D)            (None, 24, 24, 128)       147584    \n",
            "_________________________________________________________________\n",
            "max_pooling2d_1 (MaxPooling2 (None, 12, 12, 128)       0         \n",
            "_________________________________________________________________\n",
            "batch_normalization_1 (Batch (None, 12, 12, 128)       512       \n",
            "_________________________________________________________________\n",
            "conv2d_4 (Conv2D)            (None, 12, 12, 256)       295168    \n",
            "_________________________________________________________________\n",
            "conv2d_5 (Conv2D)            (None, 12, 12, 256)       590080    \n",
            "_________________________________________________________________\n",
            "conv2d_6 (Conv2D)            (None, 12, 12, 256)       590080    \n",
            "_________________________________________________________________\n",
            "max_pooling2d_2 (MaxPooling2 (None, 6, 6, 256)         0         \n",
            "_________________________________________________________________\n",
            "batch_normalization_2 (Batch (None, 6, 6, 256)         1024      \n",
            "_________________________________________________________________\n",
            "conv2d_7 (Conv2D)            (None, 6, 6, 512)         1180160   \n",
            "_________________________________________________________________\n",
            "conv2d_8 (Conv2D)            (None, 6, 6, 512)         2359808   \n",
            "_________________________________________________________________\n",
            "conv2d_9 (Conv2D)            (None, 6, 6, 512)         2359808   \n",
            "_________________________________________________________________\n",
            "max_pooling2d_3 (MaxPooling2 (None, 3, 3, 512)         0         \n",
            "_________________________________________________________________\n",
            "batch_normalization_3 (Batch (None, 3, 3, 512)         2048      \n",
            "_________________________________________________________________\n",
            "conv2d_10 (Conv2D)           (None, 3, 3, 512)         2359808   \n",
            "_________________________________________________________________\n",
            "conv2d_11 (Conv2D)           (None, 3, 3, 512)         2359808   \n",
            "_________________________________________________________________\n",
            "conv2d_12 (Conv2D)           (None, 3, 3, 512)         2359808   \n",
            "_________________________________________________________________\n",
            "max_pooling2d_4 (MaxPooling2 (None, 1, 1, 512)         0         \n",
            "_________________________________________________________________\n",
            "batch_normalization_4 (Batch (None, 1, 1, 512)         2048      \n",
            "_________________________________________________________________\n",
            "flatten (Flatten)            (None, 512)               0         \n",
            "_________________________________________________________________\n",
            "dense (Dense)                (None, 1024)              525312    \n",
            "_________________________________________________________________\n",
            "dropout (Dropout)            (None, 1024)              0         \n",
            "_________________________________________________________________\n",
            "dense_1 (Dense)              (None, 512)               524800    \n",
            "_________________________________________________________________\n",
            "dropout_1 (Dropout)          (None, 512)               0         \n",
            "_________________________________________________________________\n",
            "dense_2 (Dense)              (None, 7)                 3591      \n",
            "=================================================================\n",
            "Total params: 15,773,127\n",
            "Trainable params: 15,770,183\n",
            "Non-trainable params: 2,944\n",
            "_________________________________________________________________\n"
          ],
          "name": "stdout"
        }
      ]
    },
    {
      "cell_type": "code",
      "metadata": {
        "id": "h0OWw4B91RLU",
        "colab": {
          "base_uri": "https://localhost:8080/"
        },
        "outputId": "7e149aa8-4a90-41d8-a0dc-9067901c9bd3"
      },
      "source": [
        "testloss = model_load.evaluate(xtest, ytest) \n",
        "print(\"Test Loss \" + str(testloss[0]))\n",
        "print(\"Test Acc: \" + str(testloss[1]))\n",
        "\n",
        "testloss = model_load.evaluate(xtrain, ytrain) \n",
        "print(\"Test Loss \" + str(testloss[0]))\n",
        "print(\"Test Acc: \" + str(testloss[1]))"
      ],
      "execution_count": 15,
      "outputs": [
        {
          "output_type": "stream",
          "text": [
            "113/113 [==============================] - 2s 13ms/step - loss: 1.0545 - accuracy: 0.6016\n",
            "Test Loss 1.0545350313186646\n",
            "Test Acc: 0.6015602946281433\n",
            "898/898 [==============================] - 11s 12ms/step - loss: 1.0442 - accuracy: 0.6068\n",
            "Test Loss 1.044151782989502\n",
            "Test Acc: 0.6067783832550049\n"
          ],
          "name": "stdout"
        }
      ]
    },
    {
      "cell_type": "code",
      "metadata": {
        "id": "oGDUEZn_1TBT",
        "colab": {
          "base_uri": "https://localhost:8080/"
        },
        "outputId": "ce1b569c-861c-41b0-f9b7-c5a212fa3691"
      },
      "source": [
        "testlosz = model_load.evaluate(x_val, y_val) \n",
        "print(\"Test Loss \" + str(testlosz[0]))\n",
        "print(\"Test Acc: \" + str(testlosz[1]))"
      ],
      "execution_count": 16,
      "outputs": [
        {
          "output_type": "stream",
          "text": [
            "113/113 [==============================] - 1s 12ms/step - loss: 1.0445 - accuracy: 0.6004\n",
            "Test Loss 1.0444707870483398\n",
            "Test Acc: 0.6004458069801331\n"
          ],
          "name": "stdout"
        }
      ]
    },
    {
      "cell_type": "code",
      "metadata": {
        "id": "8EM_tCXG1Xmz",
        "colab": {
          "base_uri": "https://localhost:8080/"
        },
        "outputId": "b6bb8c71-a03b-4ca0-c526-d277f777640e"
      },
      "source": [
        "print (x_val.shape)\n",
        "print (y_val.shape)\n",
        "print (xtest.shape)\n",
        "print (ytest.shape)\n",
        "print (xtrain.shape)\n",
        "print (ytrain.shape)"
      ],
      "execution_count": 17,
      "outputs": [
        {
          "output_type": "stream",
          "text": [
            "(3589, 48, 48, 1)\n",
            "(3589,)\n",
            "(3589, 48, 48, 1)\n",
            "(3589,)\n",
            "(28709, 48, 48, 1)\n",
            "(28709,)\n"
          ],
          "name": "stdout"
        }
      ]
    },
    {
      "cell_type": "code",
      "metadata": {
        "id": "Ls9muyDJ1ZRd",
        "colab": {
          "base_uri": "https://localhost:8080/"
        },
        "outputId": "8182a5bf-88c1-4dcc-8657-8cada62fd922"
      },
      "source": [
        "from sklearn.metrics import confusion_matrix, classification_report\n",
        "from mlxtend.plotting import plot_confusion_matrix\n",
        "\n",
        "#y_pred = model_load.predict(xtest)\n",
        "\n",
        "test_prob = model_load.predict(xtest)\n",
        "test_pred = np.argmax(test_prob, axis=1)\n",
        "test_accuracy = np.mean(test_pred == ytest)\n",
        "\n",
        "print(test_accuracy)"
      ],
      "execution_count": 18,
      "outputs": [
        {
          "output_type": "stream",
          "text": [
            "0.6015603232098078\n"
          ],
          "name": "stdout"
        }
      ]
    },
    {
      "cell_type": "code",
      "metadata": {
        "id": "xwhI29RZ1boj"
      },
      "source": [
        "emotions = {0: 'Angry', 1: 'Disgust', 2: 'Fear', 3: 'Happy', 4: 'Sad', 5: 'Surprise', 6: 'Neutral'}"
      ],
      "execution_count": 19,
      "outputs": []
    },
    {
      "cell_type": "code",
      "metadata": {
        "id": "Zqyx7uCb1dAz",
        "colab": {
          "base_uri": "https://localhost:8080/",
          "height": 497
        },
        "outputId": "276ea836-1687-44ab-e6ca-ce95b7345b07"
      },
      "source": [
        "conf_mat = confusion_matrix(ytest, test_pred)\n",
        "\n",
        "pd.DataFrame(conf_mat, columns=emotions.values(), index=emotions.values())\n",
        "\n",
        "\n",
        "\n",
        "fig, ax = plot_confusion_matrix(conf_mat=conf_mat,show_normed=True,show_absolute=False,figsize=(8, 8))\n",
        "fig.show()"
      ],
      "execution_count": 20,
      "outputs": [
        {
          "output_type": "display_data",
          "data": {
            "image/png": "[encoded data removed]",
            "text/plain": [
              "<Figure size 576x576 with 1 Axes>"
            ]
          },
          "metadata": {
            "tags": [],
            "needs_background": "light"
          }
        }
      ]
    },
    {
      "cell_type": "code",
      "metadata": {
        "id": "FSi6Ubc3GLMf",
        "colab": {
          "base_uri": "https://localhost:8080/"
        },
        "outputId": "027bfc3f-edea-4e5a-b14f-6535240c5534"
      },
      "source": [
        "print(classification_report(ytest, test_pred, target_names=emotions.values()))"
      ],
      "execution_count": 21,
      "outputs": [
        {
          "output_type": "stream",
          "text": [
            "              precision    recall  f1-score   support\n",
            "\n",
            "       Angry       0.54      0.41      0.47       511\n",
            "     Disgust       0.00      0.00      0.00        55\n",
            "        Fear       0.33      0.19      0.24       524\n",
            "       Happy       0.83      0.88      0.85       852\n",
            "         Sad       0.50      0.48      0.49       598\n",
            "    Surprise       0.69      0.75      0.72       415\n",
            "     Neutral       0.51      0.79      0.62       634\n",
            "\n",
            "    accuracy                           0.60      3589\n",
            "   macro avg       0.49      0.50      0.48      3589\n",
            "weighted avg       0.58      0.60      0.58      3589\n",
            "\n"
          ],
          "name": "stdout"
        },
        {
          "output_type": "stream",
          "text": [
            "/usr/local/lib/python3.7/dist-packages/sklearn/metrics/_classification.py:1272: UndefinedMetricWarning: Precision and F-score are ill-defined and being set to 0.0 in labels with no predicted samples. Use `zero_division` parameter to control this behavior.\n",
            "  _warn_prf(average, modifier, msg_start, len(result))\n"
          ],
          "name": "stderr"
        }
      ]
    }
  ]
}
