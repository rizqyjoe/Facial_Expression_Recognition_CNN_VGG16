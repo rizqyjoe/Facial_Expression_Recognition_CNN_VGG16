{
  "nbformat": 4,
  "nbformat_minor": 0,
  "metadata": {
    "colab": {
      "name": "TA_Final",
      "provenance": [],
      "toc_visible": true,
      "mount_file_id": "1S4fTJPX-RU_RFJpQL9jjO2f5egeDzGOY",
      "authorship_tag": "ABX9TyPi0FE1sXxQXcwxzTHAD+/4",
      "include_colab_link": true
    },
    "kernelspec": {
      "display_name": "Python 3",
      "name": "python3"
    },
    "language_info": {
      "name": "python"
    }
  },
  "cells": [
    {
      "cell_type": "markdown",
      "metadata": {
        "id": "view-in-github",
        "colab_type": "text"
       },
      "source": [
        "<a href=\"https://colab.research.google.com/github/rizqyjoe/Facial_Expression_Recognition_CNN_VGG16/blob/main/35%25_Acc.ipynb\" target=\"_parent\"><img src=\"https://colab.research.google.com/assets/colab-badge.svg\" alt=\"Open In Colab\"/></a>"
      ]
    },
    {
      "cell_type": "code",
      "metadata": {
        "id": "bOt3yEkA4tJ1",
        "colab": {
          "base_uri": "https://localhost:8080/"
        },
        "outputId": "68224f1a-33b6-4806-ae11-0e57e3b9a741"
      },
      "source": [
        "#mount drive\n",
        "from google.colab import drive\n",
        "drive.mount('/content/drive')"
      ],
      "execution_count": 1,
      "outputs": [
        {
          "output_type": "stream",
          "text": [
            "Drive already mounted at /content/drive; to attempt to forcibly remount, call drive.mount(\"/content/drive\", force_remount=True).\n"
          ],
          "name": "stdout"
        }
      ]
    },
    {
      "cell_type": "code",
      "metadata": {
        "id": "qiXLLA2ka-a9",
        "colab": {
          "base_uri": "https://localhost:8080/"
        },
        "outputId": "8f16d145-b772-43fd-b3d7-40bed34e302f"
      },
      "source": [
        "#Import Libraries\n",
        "from keras.preprocessing.image import ImageDataGenerator\n",
        "import keras\n",
        "from keras.models import Sequential\n",
        "from keras.layers import Input,Dense\n",
        "from keras.applications import VGG16\n",
        "from keras.applications.vgg16 import preprocess_input as pi\n",
        "from keras.optimizers import Adam\n",
        "from keras import optimizers\n",
        "\n",
        "print(keras.__version__)"
      ],
      "execution_count": null,
      "outputs": [
        {
          "output_type": "stream",
          "text": [
            "2.4.3\n"
          ],
          "name": "stdout"
        }
      ]
    },
    {
      "cell_type": "code",
      "metadata": {
        "id": "GWpF9xzWbD9U"
      },
      "source": [
        "num_classes =7\n",
        "image_resize = 48\n",
        "batch_size_training = 64\n",
        "batch_size_validation = 64\n",
        "\n",
        "path_training = '/content/drive/MyDrive/Dataset/FER2013/images/train'\n",
        "path_validation = '/content/drive/MyDrive/Dataset/FER2013/images/validation'"
      ],
      "execution_count": null,
      "outputs": []
    },
    {
      "cell_type": "code",
      "metadata": {
        "id": "C0ytmdNTbJQs"
      },
      "source": [
        "data_generator =ImageDataGenerator(\n",
        "    preprocessing_function = pi\n",
        ")"
      ],
      "execution_count": 31,
      "outputs": []
    },
    {
      "cell_type": "code",
      "metadata": {
        "id": "9oOrnuDSbkra",
        "colab": {
          "base_uri": "https://localhost:8080/"
        },
        "outputId": "07603926-5b3c-495b-90b0-9c7dce205238"
      },
      "source": [
        "training_generator = data_generator.flow_from_directory(\n",
        "    path_training,\n",
        "    target_size = (image_resize,image_resize),\n",
        "    batch_size = batch_size_training,\n",
        "    class_mode='categorical')"
      ],
      "execution_count": 32,
      "outputs": [
        {
          "output_type": "stream",
          "text": [
            "Found 28831 images belonging to 7 classes.\n"
          ],
          "name": "stdout"
        }
      ]
    },
    {
      "cell_type": "code",
      "metadata": {
        "id": "AOhcycrUb3Cx",
        "colab": {
          "base_uri": "https://localhost:8080/"
        },
        "outputId": "4e29c805-4f27-44c6-ec1d-a7d4c7e6c0e3"
      },
      "source": [
        "validation_generator = data_generator.flow_from_directory(\n",
        "    path_validation,\n",
        "    target_size = (image_resize,image_resize),\n",
        "    batch_size = batch_size_validation,\n",
        "    class_mode='categorical',\n",
        ")"
      ],
      "execution_count": 33,
      "outputs": [
        {
          "output_type": "stream",
          "text": [
            "Found 7066 images belonging to 7 classes.\n"
          ],
          "name": "stdout"
        }
      ]
    },
    {
      "cell_type": "code",
      "metadata": {
        "id": "AXncJbb8b6UZ"
      },
      "source": [
        "model = Sequential()"
      ],
      "execution_count": 34,
      "outputs": []
    },
    {
      "cell_type": "code",
      "metadata": {
        "id": "LrJpQTswb8Gr"
      },
      "source": [
        "model.add(VGG16(\n",
        "    include_top = False,\n",
        "    pooling='avg',\n",
        "    weights='imagenet',\n",
        "))"
      ],
      "execution_count": 35,
      "outputs": []
    },
    {
      "cell_type": "code",
      "metadata": {
        "id": "FdfWU9lKb-hK"
      },
      "source": [
        "model.add(Dense(num_classes,activation='softmax'))"
      ],
      "execution_count": 36,
      "outputs": []
    },
    {
      "cell_type": "code",
      "metadata": {
        "id": "4RBbSTgCg7mQ",
        "colab": {
          "base_uri": "https://localhost:8080/"
        },
        "outputId": "b0d46cd0-662c-43f9-cdb3-1bfc91f4d179"
      },
      "source": [
        "model.layers[0].layers"
      ],
      "execution_count": 37,
      "outputs": [
        {
          "output_type": "execute_result",
          "data": {
            "text/plain": [
              "[<tensorflow.python.keras.engine.input_layer.InputLayer at 0x7f9fd9a04290>,\n",
              " <tensorflow.python.keras.layers.convolutional.Conv2D at 0x7f9fd76d0050>,\n",
              " <tensorflow.python.keras.layers.convolutional.Conv2D at 0x7f9fd777b250>,\n",
              " <tensorflow.python.keras.layers.pooling.MaxPooling2D at 0x7f9fd77270d0>,\n",
              " <tensorflow.python.keras.layers.convolutional.Conv2D at 0x7f9fd76b2310>,\n",
              " <tensorflow.python.keras.layers.convolutional.Conv2D at 0x7f9fd77ddfd0>,\n",
              " <tensorflow.python.keras.layers.pooling.MaxPooling2D at 0x7f9fd80bac10>,\n",
              " <tensorflow.python.keras.layers.convolutional.Conv2D at 0x7f9fd80c0450>,\n",
              " <tensorflow.python.keras.layers.convolutional.Conv2D at 0x7f9fd77de350>,\n",
              " <tensorflow.python.keras.layers.convolutional.Conv2D at 0x7f9fd80c5150>,\n",
              " <tensorflow.python.keras.layers.pooling.MaxPooling2D at 0x7f9fd8098f50>,\n",
              " <tensorflow.python.keras.layers.convolutional.Conv2D at 0x7f9fd8070450>,\n",
              " <tensorflow.python.keras.layers.convolutional.Conv2D at 0x7f9fd8062d90>,\n",
              " <tensorflow.python.keras.layers.convolutional.Conv2D at 0x7f9fd8094150>,\n",
              " <tensorflow.python.keras.layers.pooling.MaxPooling2D at 0x7f9fd9a0af50>,\n",
              " <tensorflow.python.keras.layers.convolutional.Conv2D at 0x7f9fd8082990>,\n",
              " <tensorflow.python.keras.layers.convolutional.Conv2D at 0x7f9fd9a4da90>,\n",
              " <tensorflow.python.keras.layers.convolutional.Conv2D at 0x7f9fd76db990>,\n",
              " <tensorflow.python.keras.layers.pooling.MaxPooling2D at 0x7f9fd7749350>,\n",
              " <tensorflow.python.keras.layers.pooling.GlobalAveragePooling2D at 0x7f9fde9ef490>]"
            ]
          },
          "metadata": {
            "tags": []
          },
          "execution_count": 37
        }
      ]
    },
    {
      "cell_type": "code",
      "metadata": {
        "id": "90sEOB4Dg9V3"
      },
      "source": [
        "model.layers[0].trainable = False"
      ],
      "execution_count": 38,
      "outputs": []
    },
    {
      "cell_type": "code",
      "metadata": {
        "id": "PCdOixg7g-o_",
        "colab": {
          "base_uri": "https://localhost:8080/"
        },
        "outputId": "4683c46b-9870-4648-8c87-22dd30cf769f"
      },
      "source": [
        "model.summary()"
      ],
      "execution_count": 39,
      "outputs": [
        {
          "output_type": "stream",
          "text": [
            "Model: \"sequential_2\"\n",
            "_________________________________________________________________\n",
            "Layer (type)                 Output Shape              Param #   \n",
            "=================================================================\n",
            "vgg16 (Functional)           (None, 512)               14714688  \n",
            "_________________________________________________________________\n",
            "dense_2 (Dense)              (None, 7)                 3591      \n",
            "=================================================================\n",
            "Total params: 14,718,279\n",
            "Trainable params: 3,591\n",
            "Non-trainable params: 14,714,688\n",
            "_________________________________________________________________\n"
          ],
          "name": "stdout"
        }
      ]
    },
    {
      "cell_type": "code",
      "metadata": {
        "id": "9Dpq-c5YhAfn"
      },
      "source": [
        "model.compile(loss='categorical_crossentropy',\n",
        "              optimizer=RMSprop(lr=0.001),\n",
        "              metrics=['acc'])"
      ],
      "execution_count": null,
      "outputs": []
    },
    {
      "cell_type": "code",
      "metadata": {
        "id": "lDnJ_LcFhC-W"
      },
      "source": [
        "steps_per_epoch_training = len(training_generator)/batch_size_training\n",
        "steps_per_epoch_validation = len(validation_generator)/batch_size_validation\n",
        "num_epochs = 25"
      ],
      "execution_count": 41,
      "outputs": []
    },
    {
      "cell_type": "code",
      "metadata": {
        "id": "tuLQ-HQVhFz3",
        "colab": {
          "base_uri": "https://localhost:8080/"
        },
        "outputId": "ce019677-f4fc-488d-ddc3-679e9425b67f"
      },
      "source": [
        "fit_history = model.fit(\n",
        "    training_generator,\n",
        "    steps_per_epoch = steps_per_epoch_training,\n",
        "    epochs = num_epochs,\n",
        "    validation_data=validation_generator,\n",
        "    validation_steps = steps_per_epoch_validation,\n",
        "    verbose=1)"
      ],
      "execution_count": 42,
      "outputs": [
        {
          "output_type": "stream",
          "text": [
            "Epoch 1/25\n",
            "7/7 [==============================] - 202s 30s/step - loss: 15.4843 - acc: 0.1827 - val_loss: 11.9398 - val_acc: 0.1953\n",
            "Epoch 2/25\n",
            "7/7 [==============================] - 186s 28s/step - loss: 12.3471 - acc: 0.1916 - val_loss: 10.8136 - val_acc: 0.1328\n",
            "Epoch 3/25\n",
            "7/7 [==============================] - 195s 29s/step - loss: 10.5785 - acc: 0.1900 - val_loss: 9.2326 - val_acc: 0.1953\n",
            "Epoch 4/25\n",
            "7/7 [==============================] - 164s 24s/step - loss: 9.4688 - acc: 0.2151 - val_loss: 9.6646 - val_acc: 0.1797\n",
            "Epoch 5/25\n",
            "7/7 [==============================] - 175s 26s/step - loss: 9.3152 - acc: 0.2531 - val_loss: 8.5374 - val_acc: 0.2109\n",
            "Epoch 6/25\n",
            "7/7 [==============================] - 167s 25s/step - loss: 7.9110 - acc: 0.2556 - val_loss: 9.3985 - val_acc: 0.2031\n",
            "Epoch 7/25\n",
            "7/7 [==============================] - 164s 24s/step - loss: 7.8505 - acc: 0.2210 - val_loss: 7.1586 - val_acc: 0.2734\n",
            "Epoch 8/25\n",
            "7/7 [==============================] - 163s 24s/step - loss: 7.8003 - acc: 0.2581 - val_loss: 7.8322 - val_acc: 0.2812\n",
            "Epoch 9/25\n",
            "7/7 [==============================] - 159s 24s/step - loss: 7.7502 - acc: 0.2270 - val_loss: 7.3823 - val_acc: 0.2031\n",
            "Epoch 10/25\n",
            "7/7 [==============================] - 151s 22s/step - loss: 7.9262 - acc: 0.2531 - val_loss: 6.6406 - val_acc: 0.2812\n",
            "Epoch 11/25\n",
            "7/7 [==============================] - 153s 23s/step - loss: 7.0109 - acc: 0.2414 - val_loss: 7.5412 - val_acc: 0.2578\n",
            "Epoch 12/25\n",
            "7/7 [==============================] - 143s 21s/step - loss: 6.8106 - acc: 0.2278 - val_loss: 5.7465 - val_acc: 0.3594\n",
            "Epoch 13/25\n",
            "7/7 [==============================] - 147s 22s/step - loss: 6.6225 - acc: 0.2705 - val_loss: 6.1307 - val_acc: 0.2656\n",
            "Epoch 14/25\n",
            "7/7 [==============================] - 146s 22s/step - loss: 5.4721 - acc: 0.2977 - val_loss: 5.9013 - val_acc: 0.2891\n",
            "Epoch 15/25\n",
            "7/7 [==============================] - 153s 22s/step - loss: 5.9849 - acc: 0.3103 - val_loss: 6.1841 - val_acc: 0.2969\n",
            "Epoch 16/25\n",
            "7/7 [==============================] - 130s 19s/step - loss: 6.1672 - acc: 0.2960 - val_loss: 5.1962 - val_acc: 0.3047\n",
            "Epoch 17/25\n",
            "7/7 [==============================] - 140s 21s/step - loss: 5.9267 - acc: 0.2664 - val_loss: 5.2678 - val_acc: 0.3125\n",
            "Epoch 18/25\n",
            "7/7 [==============================] - 131s 19s/step - loss: 5.8202 - acc: 0.2561 - val_loss: 6.7502 - val_acc: 0.2500\n",
            "Epoch 19/25\n",
            "7/7 [==============================] - 128s 19s/step - loss: 5.7600 - acc: 0.2868 - val_loss: 5.4304 - val_acc: 0.2656\n",
            "Epoch 20/25\n",
            "7/7 [==============================] - 123s 18s/step - loss: 5.2943 - acc: 0.3121 - val_loss: 5.3817 - val_acc: 0.2578\n",
            "Epoch 21/25\n",
            "7/7 [==============================] - 121s 18s/step - loss: 5.2100 - acc: 0.3005 - val_loss: 4.2033 - val_acc: 0.2969\n",
            "Epoch 22/25\n",
            "7/7 [==============================] - 117s 17s/step - loss: 5.0128 - acc: 0.3196 - val_loss: 4.6976 - val_acc: 0.3125\n",
            "Epoch 23/25\n",
            "7/7 [==============================] - 112s 17s/step - loss: 4.6908 - acc: 0.2711 - val_loss: 4.8513 - val_acc: 0.2578\n",
            "Epoch 24/25\n",
            "7/7 [==============================] - 109s 16s/step - loss: 4.5346 - acc: 0.2971 - val_loss: 5.0029 - val_acc: 0.2812\n",
            "Epoch 25/25\n",
            "7/7 [==============================] - 112s 17s/step - loss: 4.7457 - acc: 0.3373 - val_loss: 4.0146 - val_acc: 0.3281\n"
          ],
          "name": "stdout"
        }
      ]
    },
    {
      "cell_type": "code",
      "metadata": {
        "id": "jxqB-9N6hShu",
        "colab": {
          "base_uri": "https://localhost:8080/"
        },
        "outputId": "bb63e1a1-38a3-4cba-f6a3-6afc53fa5e84"
      },
      "source": [
        "%cd /content/drive/MyDrive/CP\n",
        "model.save('FER2013_classifier_VGG16_epoch_model.h5')"
      ],
      "execution_count": 43,
      "outputs": [
        {
          "output_type": "stream",
          "text": [
            "[Errno 2] No such file or directory: '/content/drive/MyDrive/CP'\n",
            "/content\n"
          ],
          "name": "stdout"
        }
      ]
    },
    {
      "cell_type": "code",
      "metadata": {
        "colab": {
          "base_uri": "https://localhost:8080/",
          "height": 573
        },
        "id": "19CO9w7fwZhA",
        "outputId": "14c5a029-bd02-4500-d732-b4cfe4adfbba"
      },
      "source": [
        "#show graphing\n",
        "\n",
        "accuracy = fit_history.history['acc']\n",
        "val_accuracy = fit_history.history['val_acc']\n",
        "loss = fit_history.history['loss']\n",
        "val_loss = fit_history.history['val_loss']\n",
        "num_epochs = range(len(accuracy))\n",
        "plt.plot(num_epochs, accuracy, 'r', label='Training acc')\n",
        "plt.plot(num_epochs, val_accuracy, 'b', label='Validation acc')\n",
        "plt.title('Training and validation accuracy')\n",
        "plt.ylabel('accuracy')  \n",
        "plt.xlabel('epoch')\n",
        "plt.legend()\n",
        "plt.figure()\n",
        "plt.plot(num_epochs, loss, 'r', label='Training loss')\n",
        "plt.plot(num_epochs, val_loss, 'b', label='Validation loss')\n",
        "plt.title('Training and validation loss')\n",
        "plt.ylabel('loss')  \n",
        "plt.xlabel('epoch')\n",
        "plt.legend()\n",
        "plt.show()"
      ],
      "execution_count": 46,
      "outputs": [
        {
          "output_type": "display_data",
          "data": {
            "image/png": "[encoded data removed]",
            "text/plain": [
              "<Figure size 432x288 with 1 Axes>"
            ]
          },
          "metadata": {
            "tags": [],
            "needs_background": "light"
          }
        },
        {
          "output_type": "display_data",
          "data": {
            "image/png": "[encoded data removed]",
            "text/plain": [
              "<Figure size 432x288 with 1 Axes>"
            ]
          },
          "metadata": {
            "tags": [],
            "needs_background": "light"
          }
        }
      ]
    }
  ]
}
