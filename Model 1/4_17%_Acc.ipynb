{
  "nbformat": 4,
  "nbformat_minor": 0,
  "metadata": {
    "colab": {
      "name": "TA_Final",
      "provenance": [],
      "mount_file_id": "1S4fTJPX-RU_RFJpQL9jjO2f5egeDzGOY",
      "authorship_tag": "ABX9TyOTHpWDqDV+PI7qMnxa/cIh",
      "include_colab_link": true
    },
    "kernelspec": {
      "display_name": "Python 3",
      "name": "python3"
    },
    "language_info": {
      "name": "python"
    }
  },
  "cells": [
    {
      "cell_type": "markdown",
      "metadata": {
        "id": "view-in-github",
        "colab_type": "text"
      },
      "source": [
        "<a href=\"https://colab.research.google.com/github/rizqyjoe/Facial_Expression_Recognition_CNN_VGG16/blob/main/Model%201/4_17%25_Acc.ipynb\" target=\"_parent\"><img src=\"https://colab.research.google.com/assets/colab-badge.svg\" alt=\"Open In Colab\"/></a>"
      ]
    },
    {
      "cell_type": "code",
      "metadata": {
        "id": "bOt3yEkA4tJ1",
        "colab": {
          "base_uri": "https://localhost:8080/"
        },
        "outputId": "ea3ed9ba-4ef9-4faf-cf73-16cc8972ee89"
      },
      "source": [
        "#mount drive\n",
        "from google.colab import drive\n",
        "drive.mount('/content/drive')"
      ],
      "execution_count": 31,
      "outputs": [
        {
          "output_type": "stream",
          "text": [
            "Drive already mounted at /content/drive; to attempt to forcibly remount, call drive.mount(\"/content/drive\", force_remount=True).\n"
          ],
          "name": "stdout"
        }
      ]
    },
    {
      "cell_type": "code",
      "metadata": {
        "id": "qiXLLA2ka-a9",
        "colab": {
          "base_uri": "https://localhost:8080/"
        },
        "outputId": "f8597223-5a64-4feb-b233-2c55fe70d0d8"
      },
      "source": [
        "#Import Libraries\n",
        "from keras.preprocessing.image import ImageDataGenerator\n",
        "import keras\n",
        "from keras.models import Sequential\n",
        "from keras.layers import Input,Dense\n",
        "from keras.applications import VGG16\n",
        "from keras.applications.vgg16 import preprocess_input as pi\n",
        "from keras.optimizers import Adam, RMSprop\n",
        "from keras import optimizers\n",
        "\n",
        "print(keras.__version__)"
      ],
      "execution_count": 32,
      "outputs": [
        {
          "output_type": "stream",
          "text": [
            "2.4.3\n"
          ],
          "name": "stdout"
        }
      ]
    },
    {
      "cell_type": "code",
      "metadata": {
        "id": "GWpF9xzWbD9U"
      },
      "source": [
        "num_classes =7\n",
        "image_resize = 48\n",
        "batch_size_training = 64\n",
        "batch_size_validation = 64\n",
        "\n",
        "path_training = '/content/drive/MyDrive/Dataset/FER2013/images/train'\n",
        "path_validation = '/content/drive/MyDrive/Dataset/FER2013/images/validation'"
      ],
      "execution_count": 33,
      "outputs": []
    },
    {
      "cell_type": "code",
      "metadata": {
        "id": "C0ytmdNTbJQs"
      },
      "source": [
        "data_generator =ImageDataGenerator(\n",
        "    preprocessing_function = pi\n",
        ")"
      ],
      "execution_count": 34,
      "outputs": []
    },
    {
      "cell_type": "code",
      "metadata": {
        "id": "9oOrnuDSbkra",
        "colab": {
          "base_uri": "https://localhost:8080/"
        },
        "outputId": "26abb736-c86f-40c0-9575-e464775dce17"
      },
      "source": [
        "training_generator = data_generator.flow_from_directory(\n",
        "    path_training,\n",
        "    target_size = (image_resize,image_resize),\n",
        "    batch_size = batch_size_training,\n",
        "    class_mode='categorical')"
      ],
      "execution_count": 35,
      "outputs": [
        {
          "output_type": "stream",
          "text": [
            "Found 28831 images belonging to 7 classes.\n"
          ],
          "name": "stdout"
        }
      ]
    },
    {
      "cell_type": "code",
      "metadata": {
        "id": "AOhcycrUb3Cx",
        "colab": {
          "base_uri": "https://localhost:8080/"
        },
        "outputId": "b3619c2f-4df0-4c9a-b1d2-ed80851759cd"
      },
      "source": [
        "validation_generator = data_generator.flow_from_directory(\n",
        "    path_validation,\n",
        "    target_size = (image_resize,image_resize),\n",
        "    batch_size = batch_size_validation,\n",
        "    class_mode='categorical',\n",
        ")"
      ],
      "execution_count": 36,
      "outputs": [
        {
          "output_type": "stream",
          "text": [
            "Found 7066 images belonging to 7 classes.\n"
          ],
          "name": "stdout"
        }
      ]
    },
    {
      "cell_type": "code",
      "metadata": {
        "id": "AXncJbb8b6UZ"
      },
      "source": [
        "model = Sequential()"
      ],
      "execution_count": 37,
      "outputs": []
    },
    {
      "cell_type": "code",
      "metadata": {
        "id": "LrJpQTswb8Gr"
      },
      "source": [
        "model.add(VGG16(\n",
        "    include_top = False,\n",
        "    pooling='avg',\n",
        "    weights='imagenet',\n",
        "))"
      ],
      "execution_count": 38,
      "outputs": []
    },
    {
      "cell_type": "code",
      "metadata": {
        "id": "FdfWU9lKb-hK"
      },
      "source": [
        "model.add(Dense(num_classes,activation='softmax'))"
      ],
      "execution_count": 39,
      "outputs": []
    },
    {
      "cell_type": "code",
      "metadata": {
        "id": "4RBbSTgCg7mQ",
        "colab": {
          "base_uri": "https://localhost:8080/"
        },
        "outputId": "2f1103d2-82ea-4e7e-c853-1deed9904331"
      },
      "source": [
        "model.layers[0].layers"
      ],
      "execution_count": 40,
      "outputs": [
        {
          "output_type": "execute_result",
          "data": {
            "text/plain": [
              "[<tensorflow.python.keras.engine.input_layer.InputLayer at 0x7f8cf7d11a10>,\n",
              " <tensorflow.python.keras.layers.convolutional.Conv2D at 0x7f8cf9190490>,\n",
              " <tensorflow.python.keras.layers.convolutional.Conv2D at 0x7f8cf9178090>,\n",
              " <tensorflow.python.keras.layers.pooling.MaxPooling2D at 0x7f8cfcd5cd50>,\n",
              " <tensorflow.python.keras.layers.convolutional.Conv2D at 0x7f8cfcddc490>,\n",
              " <tensorflow.python.keras.layers.convolutional.Conv2D at 0x7f8cf7cbbf10>,\n",
              " <tensorflow.python.keras.layers.pooling.MaxPooling2D at 0x7f8cfcd61110>,\n",
              " <tensorflow.python.keras.layers.convolutional.Conv2D at 0x7f8cfce210d0>,\n",
              " <tensorflow.python.keras.layers.convolutional.Conv2D at 0x7f8cfce842d0>,\n",
              " <tensorflow.python.keras.layers.convolutional.Conv2D at 0x7f8cfce171d0>,\n",
              " <tensorflow.python.keras.layers.pooling.MaxPooling2D at 0x7f8cfcd53990>,\n",
              " <tensorflow.python.keras.layers.convolutional.Conv2D at 0x7f8cfcdd9390>,\n",
              " <tensorflow.python.keras.layers.convolutional.Conv2D at 0x7f8cf7cce810>,\n",
              " <tensorflow.python.keras.layers.convolutional.Conv2D at 0x7f8cfce25b10>,\n",
              " <tensorflow.python.keras.layers.pooling.MaxPooling2D at 0x7f8cf7c8f250>,\n",
              " <tensorflow.python.keras.layers.convolutional.Conv2D at 0x7f8cf91ca110>,\n",
              " <tensorflow.python.keras.layers.convolutional.Conv2D at 0x7f8cf7c8f150>,\n",
              " <tensorflow.python.keras.layers.convolutional.Conv2D at 0x7f8cf7cd03d0>,\n",
              " <tensorflow.python.keras.layers.pooling.MaxPooling2D at 0x7f8cf9058d10>,\n",
              " <tensorflow.python.keras.layers.pooling.GlobalAveragePooling2D at 0x7f8cf9062f90>]"
            ]
          },
          "metadata": {
            "tags": []
          },
          "execution_count": 40
        }
      ]
    },
    {
      "cell_type": "code",
      "metadata": {
        "id": "90sEOB4Dg9V3"
      },
      "source": [
        "model.layers[0].trainable = False"
      ],
      "execution_count": 41,
      "outputs": []
    },
    {
      "cell_type": "code",
      "metadata": {
        "id": "PCdOixg7g-o_",
        "colab": {
          "base_uri": "https://localhost:8080/"
        },
        "outputId": "e39a84bd-674b-46e4-e44c-5f431d24a23f"
      },
      "source": [
        "model.summary()"
      ],
      "execution_count": 42,
      "outputs": [
        {
          "output_type": "stream",
          "text": [
            "Model: \"sequential_2\"\n",
            "_________________________________________________________________\n",
            "Layer (type)                 Output Shape              Param #   \n",
            "=================================================================\n",
            "vgg16 (Functional)           (None, 512)               14714688  \n",
            "_________________________________________________________________\n",
            "dense_2 (Dense)              (None, 7)                 3591      \n",
            "=================================================================\n",
            "Total params: 14,718,279\n",
            "Trainable params: 3,591\n",
            "Non-trainable params: 14,714,688\n",
            "_________________________________________________________________\n"
          ],
          "name": "stdout"
        }
      ]
    },
    {
      "cell_type": "code",
      "metadata": {
        "id": "9Dpq-c5YhAfn"
      },
      "source": [
        "model.compile(loss='categorical_crossentropy',\n",
        "              optimizer=RMSprop(lr=1e-5),\n",
        "              metrics=['acc'])"
      ],
      "execution_count": 43,
      "outputs": []
    },
    {
      "cell_type": "code",
      "metadata": {
        "id": "lDnJ_LcFhC-W"
      },
      "source": [
        "steps_per_epoch_training = len(training_generator)/batch_size_training\n",
        "steps_per_epoch_validation = len(validation_generator)/batch_size_validation\n",
        "num_epochs = 100"
      ],
      "execution_count": 44,
      "outputs": []
    },
    {
      "cell_type": "code",
      "metadata": {
        "id": "tuLQ-HQVhFz3",
        "colab": {
          "base_uri": "https://localhost:8080/"
        },
        "outputId": "437d5c6e-6c10-4460-beed-a4ee7fddcb31"
      },
      "source": [
        "fit_history = model.fit(\n",
        "    training_generator,\n",
        "    steps_per_epoch = steps_per_epoch_training,\n",
        "    epochs = num_epochs,\n",
        "    validation_data=validation_generator,\n",
        "    validation_steps = steps_per_epoch_validation,\n",
        "    verbose=1)"
      ],
      "execution_count": 45,
      "outputs": [
        {
          "output_type": "stream",
          "text": [
            "Epoch 1/100\n",
            "7/7 [==============================] - 164s 26s/step - loss: 20.3726 - acc: 0.1014 - val_loss: 22.8271 - val_acc: 0.1328\n",
            "Epoch 2/100\n",
            "7/7 [==============================] - 169s 25s/step - loss: 22.5302 - acc: 0.0990 - val_loss: 22.1509 - val_acc: 0.0781\n",
            "Epoch 3/100\n",
            "7/7 [==============================] - 162s 24s/step - loss: 19.2801 - acc: 0.0961 - val_loss: 21.6763 - val_acc: 0.1016\n",
            "Epoch 4/100\n",
            "7/7 [==============================] - 161s 24s/step - loss: 22.9506 - acc: 0.1145 - val_loss: 21.8702 - val_acc: 0.0859\n",
            "Epoch 5/100\n",
            "7/7 [==============================] - 160s 24s/step - loss: 20.7073 - acc: 0.1193 - val_loss: 20.7050 - val_acc: 0.1016\n",
            "Epoch 6/100\n",
            "7/7 [==============================] - 149s 22s/step - loss: 20.9554 - acc: 0.1164 - val_loss: 20.8662 - val_acc: 0.0859\n",
            "Epoch 7/100\n",
            "7/7 [==============================] - 151s 23s/step - loss: 20.0809 - acc: 0.1148 - val_loss: 20.5300 - val_acc: 0.0859\n",
            "Epoch 8/100\n",
            "7/7 [==============================] - 139s 21s/step - loss: 20.9125 - acc: 0.0821 - val_loss: 17.1696 - val_acc: 0.1953\n",
            "Epoch 9/100\n",
            "7/7 [==============================] - 139s 21s/step - loss: 21.1934 - acc: 0.1051 - val_loss: 18.9020 - val_acc: 0.1406\n",
            "Epoch 10/100\n",
            "7/7 [==============================] - 135s 20s/step - loss: 20.4597 - acc: 0.1195 - val_loss: 20.7694 - val_acc: 0.1719\n",
            "Epoch 11/100\n",
            "7/7 [==============================] - 133s 20s/step - loss: 19.7460 - acc: 0.1315 - val_loss: 23.9775 - val_acc: 0.0391\n",
            "Epoch 12/100\n",
            "7/7 [==============================] - 125s 19s/step - loss: 19.9897 - acc: 0.1068 - val_loss: 19.2236 - val_acc: 0.0703\n",
            "Epoch 13/100\n",
            "7/7 [==============================] - 121s 18s/step - loss: 19.3108 - acc: 0.1275 - val_loss: 20.8854 - val_acc: 0.0859\n",
            "Epoch 14/100\n",
            "7/7 [==============================] - 115s 17s/step - loss: 20.2018 - acc: 0.1369 - val_loss: 21.1018 - val_acc: 0.1328\n",
            "Epoch 15/100\n",
            "7/7 [==============================] - 113s 17s/step - loss: 21.2377 - acc: 0.0964 - val_loss: 21.9953 - val_acc: 0.1094\n",
            "Epoch 16/100\n",
            "7/7 [==============================] - 113s 17s/step - loss: 18.9690 - acc: 0.0965 - val_loss: 18.2361 - val_acc: 0.1016\n",
            "Epoch 17/100\n",
            "7/7 [==============================] - 110s 16s/step - loss: 20.3035 - acc: 0.1306 - val_loss: 20.5602 - val_acc: 0.0859\n",
            "Epoch 18/100\n",
            "7/7 [==============================] - 107s 16s/step - loss: 19.4403 - acc: 0.1199 - val_loss: 21.7363 - val_acc: 0.1016\n",
            "Epoch 19/100\n",
            "7/7 [==============================] - 106s 16s/step - loss: 21.4491 - acc: 0.1358 - val_loss: 21.1824 - val_acc: 0.1094\n",
            "Epoch 20/100\n",
            "7/7 [==============================] - 108s 16s/step - loss: 19.7303 - acc: 0.0971 - val_loss: 18.6214 - val_acc: 0.1484\n",
            "Epoch 21/100\n",
            "7/7 [==============================] - 100s 15s/step - loss: 19.6567 - acc: 0.1070 - val_loss: 19.9068 - val_acc: 0.0938\n",
            "Epoch 22/100\n",
            "7/7 [==============================] - 98s 15s/step - loss: 21.1878 - acc: 0.1243 - val_loss: 18.6320 - val_acc: 0.1094\n",
            "Epoch 23/100\n",
            "7/7 [==============================] - 99s 15s/step - loss: 18.3696 - acc: 0.1217 - val_loss: 18.2615 - val_acc: 0.1250\n",
            "Epoch 24/100\n",
            "7/7 [==============================] - 95s 14s/step - loss: 19.9290 - acc: 0.1553 - val_loss: 17.8573 - val_acc: 0.1172\n",
            "Epoch 25/100\n",
            "7/7 [==============================] - 94s 14s/step - loss: 19.3531 - acc: 0.1091 - val_loss: 19.1659 - val_acc: 0.1172\n",
            "Epoch 26/100\n",
            "7/7 [==============================] - 88s 13s/step - loss: 20.3970 - acc: 0.1200 - val_loss: 21.1021 - val_acc: 0.1094\n",
            "Epoch 27/100\n",
            "7/7 [==============================] - 99s 15s/step - loss: 18.8959 - acc: 0.1174 - val_loss: 19.8802 - val_acc: 0.0781\n",
            "Epoch 28/100\n",
            "7/7 [==============================] - 88s 13s/step - loss: 20.6191 - acc: 0.0984 - val_loss: 21.0664 - val_acc: 0.1016\n",
            "Epoch 29/100\n",
            "7/7 [==============================] - 84s 12s/step - loss: 19.8831 - acc: 0.1234 - val_loss: 18.3444 - val_acc: 0.1328\n",
            "Epoch 30/100\n",
            "7/7 [==============================] - 91s 13s/step - loss: 21.3565 - acc: 0.1030 - val_loss: 18.5786 - val_acc: 0.0859\n",
            "Epoch 31/100\n",
            "7/7 [==============================] - 88s 13s/step - loss: 19.0290 - acc: 0.1248 - val_loss: 18.0374 - val_acc: 0.1406\n",
            "Epoch 32/100\n",
            "7/7 [==============================] - 80s 12s/step - loss: 17.2000 - acc: 0.1400 - val_loss: 20.7119 - val_acc: 0.1094\n",
            "Epoch 33/100\n",
            "7/7 [==============================] - 74s 11s/step - loss: 20.0114 - acc: 0.0932 - val_loss: 18.7958 - val_acc: 0.1250\n",
            "Epoch 34/100\n",
            "7/7 [==============================] - 76s 11s/step - loss: 19.0812 - acc: 0.1450 - val_loss: 17.3416 - val_acc: 0.1719\n",
            "Epoch 35/100\n",
            "7/7 [==============================] - 72s 10s/step - loss: 20.5739 - acc: 0.1131 - val_loss: 19.4192 - val_acc: 0.1094\n",
            "Epoch 36/100\n",
            "7/7 [==============================] - 72s 11s/step - loss: 19.0832 - acc: 0.1311 - val_loss: 17.7723 - val_acc: 0.1641\n",
            "Epoch 37/100\n",
            "7/7 [==============================] - 77s 11s/step - loss: 18.5636 - acc: 0.1078 - val_loss: 18.1970 - val_acc: 0.1641\n",
            "Epoch 38/100\n",
            "7/7 [==============================] - 72s 11s/step - loss: 19.9157 - acc: 0.1034 - val_loss: 16.1860 - val_acc: 0.1172\n",
            "Epoch 39/100\n",
            "7/7 [==============================] - 71s 10s/step - loss: 19.4300 - acc: 0.1300 - val_loss: 19.1912 - val_acc: 0.0859\n",
            "Epoch 40/100\n",
            "7/7 [==============================] - 68s 10s/step - loss: 19.0096 - acc: 0.1280 - val_loss: 16.4196 - val_acc: 0.1719\n",
            "Epoch 41/100\n",
            "7/7 [==============================] - 65s 10s/step - loss: 17.6797 - acc: 0.1407 - val_loss: 16.5196 - val_acc: 0.1719\n",
            "Epoch 42/100\n",
            "7/7 [==============================] - 64s 10s/step - loss: 17.6737 - acc: 0.1469 - val_loss: 18.0370 - val_acc: 0.1172\n",
            "Epoch 43/100\n",
            "7/7 [==============================] - 60s 9s/step - loss: 19.5524 - acc: 0.0994 - val_loss: 19.5700 - val_acc: 0.0859\n",
            "Epoch 44/100\n",
            "7/7 [==============================] - 62s 9s/step - loss: 17.8946 - acc: 0.1079 - val_loss: 15.5502 - val_acc: 0.0859\n",
            "Epoch 45/100\n",
            "7/7 [==============================] - 60s 9s/step - loss: 18.3310 - acc: 0.1290 - val_loss: 16.7830 - val_acc: 0.1328\n",
            "Epoch 46/100\n",
            "7/7 [==============================] - 57s 8s/step - loss: 17.1611 - acc: 0.1147 - val_loss: 16.4551 - val_acc: 0.1719\n",
            "Epoch 47/100\n",
            "7/7 [==============================] - 56s 8s/step - loss: 18.3047 - acc: 0.1253 - val_loss: 19.3498 - val_acc: 0.1484\n",
            "Epoch 48/100\n",
            "7/7 [==============================] - 57s 8s/step - loss: 18.0930 - acc: 0.1373 - val_loss: 17.6363 - val_acc: 0.1328\n",
            "Epoch 49/100\n",
            "7/7 [==============================] - 56s 8s/step - loss: 18.6230 - acc: 0.1435 - val_loss: 20.3954 - val_acc: 0.1172\n",
            "Epoch 50/100\n",
            "7/7 [==============================] - 57s 8s/step - loss: 17.8152 - acc: 0.1352 - val_loss: 17.9884 - val_acc: 0.1328\n",
            "Epoch 51/100\n",
            "7/7 [==============================] - 53s 8s/step - loss: 17.3241 - acc: 0.1436 - val_loss: 18.5289 - val_acc: 0.0938\n",
            "Epoch 52/100\n",
            "7/7 [==============================] - 53s 8s/step - loss: 17.2724 - acc: 0.1441 - val_loss: 19.3417 - val_acc: 0.1719\n",
            "Epoch 53/100\n",
            "7/7 [==============================] - 51s 8s/step - loss: 17.8874 - acc: 0.1242 - val_loss: 16.7071 - val_acc: 0.1328\n",
            "Epoch 54/100\n",
            "7/7 [==============================] - 45s 6s/step - loss: 18.0882 - acc: 0.1067 - val_loss: 19.3921 - val_acc: 0.1406\n",
            "Epoch 55/100\n",
            "7/7 [==============================] - 46s 7s/step - loss: 16.5017 - acc: 0.1825 - val_loss: 17.7264 - val_acc: 0.1406\n",
            "Epoch 56/100\n",
            "7/7 [==============================] - 53s 8s/step - loss: 17.8378 - acc: 0.1198 - val_loss: 15.9669 - val_acc: 0.1172\n",
            "Epoch 57/100\n",
            "7/7 [==============================] - 52s 8s/step - loss: 17.0536 - acc: 0.1308 - val_loss: 17.9170 - val_acc: 0.1328\n",
            "Epoch 58/100\n",
            "7/7 [==============================] - 49s 7s/step - loss: 18.0537 - acc: 0.1318 - val_loss: 18.3049 - val_acc: 0.1250\n",
            "Epoch 59/100\n",
            "7/7 [==============================] - 41s 6s/step - loss: 18.7441 - acc: 0.1246 - val_loss: 15.8819 - val_acc: 0.1406\n",
            "Epoch 60/100\n",
            "7/7 [==============================] - 50s 7s/step - loss: 16.1830 - acc: 0.1267 - val_loss: 16.0328 - val_acc: 0.0938\n",
            "Epoch 61/100\n",
            "7/7 [==============================] - 44s 6s/step - loss: 17.9849 - acc: 0.1506 - val_loss: 15.1898 - val_acc: 0.2031\n",
            "Epoch 62/100\n",
            "7/7 [==============================] - 47s 7s/step - loss: 18.0814 - acc: 0.1193 - val_loss: 17.6920 - val_acc: 0.0859\n",
            "Epoch 63/100\n",
            "7/7 [==============================] - 39s 5s/step - loss: 16.8866 - acc: 0.1535 - val_loss: 15.5606 - val_acc: 0.1094\n",
            "Epoch 64/100\n",
            "7/7 [==============================] - 39s 5s/step - loss: 16.3538 - acc: 0.1430 - val_loss: 16.9243 - val_acc: 0.0938\n",
            "Epoch 65/100\n",
            "7/7 [==============================] - 39s 6s/step - loss: 16.1458 - acc: 0.1686 - val_loss: 16.0358 - val_acc: 0.1406\n",
            "Epoch 66/100\n",
            "7/7 [==============================] - 36s 5s/step - loss: 16.5941 - acc: 0.1634 - val_loss: 14.4429 - val_acc: 0.1250\n",
            "Epoch 67/100\n",
            "7/7 [==============================] - 40s 6s/step - loss: 17.0839 - acc: 0.1337 - val_loss: 17.4417 - val_acc: 0.1953\n",
            "Epoch 68/100\n",
            "7/7 [==============================] - 40s 6s/step - loss: 16.5515 - acc: 0.1558 - val_loss: 19.0333 - val_acc: 0.0938\n",
            "Epoch 69/100\n",
            "7/7 [==============================] - 37s 5s/step - loss: 17.2256 - acc: 0.1015 - val_loss: 15.9821 - val_acc: 0.1797\n",
            "Epoch 70/100\n",
            "7/7 [==============================] - 32s 4s/step - loss: 15.8368 - acc: 0.1517 - val_loss: 15.8748 - val_acc: 0.1797\n",
            "Epoch 71/100\n",
            "7/7 [==============================] - 38s 5s/step - loss: 16.2701 - acc: 0.1292 - val_loss: 16.1861 - val_acc: 0.1250\n",
            "Epoch 72/100\n",
            "7/7 [==============================] - 37s 6s/step - loss: 15.8775 - acc: 0.1314 - val_loss: 17.4918 - val_acc: 0.2031\n",
            "Epoch 73/100\n",
            "7/7 [==============================] - 36s 5s/step - loss: 16.6865 - acc: 0.1541 - val_loss: 16.2280 - val_acc: 0.1953\n",
            "Epoch 74/100\n",
            "7/7 [==============================] - 39s 6s/step - loss: 16.9955 - acc: 0.1211 - val_loss: 16.5318 - val_acc: 0.1016\n",
            "Epoch 75/100\n",
            "7/7 [==============================] - 38s 5s/step - loss: 17.0974 - acc: 0.1651 - val_loss: 16.2654 - val_acc: 0.1484\n",
            "Epoch 76/100\n",
            "7/7 [==============================] - 31s 5s/step - loss: 16.3850 - acc: 0.1422 - val_loss: 17.5983 - val_acc: 0.1328\n",
            "Epoch 77/100\n",
            "7/7 [==============================] - 34s 5s/step - loss: 16.2370 - acc: 0.1173 - val_loss: 15.0354 - val_acc: 0.1875\n",
            "Epoch 78/100\n",
            "7/7 [==============================] - 28s 4s/step - loss: 15.7996 - acc: 0.1436 - val_loss: 17.2434 - val_acc: 0.1406\n",
            "Epoch 79/100\n",
            "7/7 [==============================] - 31s 5s/step - loss: 15.8809 - acc: 0.1556 - val_loss: 15.1750 - val_acc: 0.1172\n",
            "Epoch 80/100\n",
            "7/7 [==============================] - 36s 5s/step - loss: 15.6983 - acc: 0.1500 - val_loss: 14.7983 - val_acc: 0.1328\n",
            "Epoch 81/100\n",
            "7/7 [==============================] - 29s 4s/step - loss: 16.7385 - acc: 0.1244 - val_loss: 15.5126 - val_acc: 0.1094\n",
            "Epoch 82/100\n",
            "7/7 [==============================] - 33s 5s/step - loss: 16.5268 - acc: 0.1256 - val_loss: 14.1614 - val_acc: 0.1641\n",
            "Epoch 83/100\n",
            "7/7 [==============================] - 29s 4s/step - loss: 17.0744 - acc: 0.1657 - val_loss: 14.9931 - val_acc: 0.1016\n",
            "Epoch 84/100\n",
            "7/7 [==============================] - 30s 4s/step - loss: 17.1103 - acc: 0.1362 - val_loss: 16.0648 - val_acc: 0.1484\n",
            "Epoch 85/100\n",
            "7/7 [==============================] - 27s 4s/step - loss: 16.3332 - acc: 0.1593 - val_loss: 13.9675 - val_acc: 0.1797\n",
            "Epoch 86/100\n",
            "7/7 [==============================] - 28s 4s/step - loss: 15.1915 - acc: 0.1487 - val_loss: 15.2954 - val_acc: 0.1484\n",
            "Epoch 87/100\n",
            "7/7 [==============================] - 27s 4s/step - loss: 15.0277 - acc: 0.1527 - val_loss: 17.0015 - val_acc: 0.1250\n",
            "Epoch 88/100\n",
            "7/7 [==============================] - 25s 3s/step - loss: 15.5328 - acc: 0.1236 - val_loss: 16.8782 - val_acc: 0.1406\n",
            "Epoch 89/100\n",
            "7/7 [==============================] - 25s 4s/step - loss: 15.1978 - acc: 0.1614 - val_loss: 16.5756 - val_acc: 0.1719\n",
            "Epoch 90/100\n",
            "7/7 [==============================] - 27s 4s/step - loss: 15.7725 - acc: 0.1766 - val_loss: 14.7916 - val_acc: 0.1719\n",
            "Epoch 91/100\n",
            "7/7 [==============================] - 23s 3s/step - loss: 14.7505 - acc: 0.1273 - val_loss: 15.0028 - val_acc: 0.1250\n",
            "Epoch 92/100\n",
            "7/7 [==============================] - 24s 4s/step - loss: 16.0576 - acc: 0.1337 - val_loss: 15.7676 - val_acc: 0.1406\n",
            "Epoch 93/100\n",
            "7/7 [==============================] - 25s 3s/step - loss: 14.4944 - acc: 0.1672 - val_loss: 20.5753 - val_acc: 0.1094\n",
            "Epoch 94/100\n",
            "7/7 [==============================] - 23s 3s/step - loss: 16.5875 - acc: 0.1277 - val_loss: 13.5070 - val_acc: 0.1094\n",
            "Epoch 95/100\n",
            "7/7 [==============================] - 26s 4s/step - loss: 16.9245 - acc: 0.1080 - val_loss: 14.1996 - val_acc: 0.1797\n",
            "Epoch 96/100\n",
            "7/7 [==============================] - 24s 3s/step - loss: 15.2380 - acc: 0.1461 - val_loss: 15.1144 - val_acc: 0.1641\n",
            "Epoch 97/100\n",
            "7/7 [==============================] - 24s 4s/step - loss: 15.4912 - acc: 0.1700 - val_loss: 15.8511 - val_acc: 0.1484\n",
            "Epoch 98/100\n",
            "7/7 [==============================] - 22s 3s/step - loss: 15.1375 - acc: 0.1524 - val_loss: 11.7364 - val_acc: 0.2188\n",
            "Epoch 99/100\n",
            "7/7 [==============================] - 21s 3s/step - loss: 15.3630 - acc: 0.1462 - val_loss: 14.2058 - val_acc: 0.1406\n",
            "Epoch 100/100\n",
            "7/7 [==============================] - 21s 3s/step - loss: 15.1355 - acc: 0.1327 - val_loss: 15.3062 - val_acc: 0.1250\n"
          ],
          "name": "stdout"
        }
      ]
    },
    {
      "cell_type": "code",
      "metadata": {
        "id": "jxqB-9N6hShu"
      },
      "source": [
        "model.save('Model1_VGG_Finetune_RMSProp1e-5.h5')"
      ],
      "execution_count": 46,
      "outputs": []
    },
    {
      "cell_type": "code",
      "metadata": {
        "colab": {
          "base_uri": "https://localhost:8080/",
          "height": 573
        },
        "id": "19CO9w7fwZhA",
        "outputId": "a6460269-d8c2-4759-e89b-9975bac0d14f"
      },
      "source": [
        "import matplotlib.pyplot as plt\n",
        "\n",
        "accuracy = fit_history.history['acc']\n",
        "val_accuracy = fit_history.history['val_acc']\n",
        "loss = fit_history.history['loss']\n",
        "val_loss = fit_history.history['val_loss']\n",
        "num_epochs = range(len(accuracy))\n",
        "plt.plot(num_epochs, accuracy, 'r', label='Training acc')\n",
        "plt.plot(num_epochs, val_accuracy, 'b', label='Validation acc')\n",
        "plt.title('Training and validation accuracy')\n",
        "plt.ylabel('accuracy')  \n",
        "plt.xlabel('epoch')\n",
        "plt.legend()\n",
        "plt.figure()\n",
        "plt.plot(num_epochs, loss, 'r', label='Training loss')\n",
        "plt.plot(num_epochs, val_loss, 'b', label='Validation loss')\n",
        "plt.title('Training and validation loss')\n",
        "plt.ylabel('loss')  \n",
        "plt.xlabel('epoch')\n",
        "plt.legend()\n",
        "plt.show()"
      ],
      "execution_count": 48,
      "outputs": [
        {
          "output_type": "display_data",
          "data": {
            "image/png": "[encoded data removed]",
            "text/plain": [
              "<Figure size 432x288 with 1 Axes>"
            ]
          },
          "metadata": {
            "tags": [],
            "needs_background": "light"
          }
        },
        {
          "output_type": "display_data",
          "data": {
            "image/png": "[encoded data removed]",
            "text/plain": [
              "<Figure size 432x288 with 1 Axes>"
            ]
          },
          "metadata": {
            "tags": [],
            "needs_background": "light"
          }
        }
      ]
    }
  ]
}