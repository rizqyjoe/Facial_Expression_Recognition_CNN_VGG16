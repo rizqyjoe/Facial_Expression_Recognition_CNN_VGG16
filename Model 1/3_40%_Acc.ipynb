{
  "nbformat": 4,
  "nbformat_minor": 0,
  "metadata": {
    "colab": {
      "name": "TA_Final",
      "provenance": [],
      "mount_file_id": "1S4fTJPX-RU_RFJpQL9jjO2f5egeDzGOY",
      "authorship_tag": "ABX9TyMySgCZaaYl38mmZxd3Gcq+",
      "include_colab_link": true
    },
    "kernelspec": {
      "display_name": "Python 3",
      "name": "python3"
    },
    "language_info": {
      "name": "python"
    }
  },
  "cells": [
    {
      "cell_type": "markdown",
      "metadata": {
        "id": "view-in-github",
        "colab_type": "text"
      },
      "source": [
        "<a href=\"https://colab.research.google.com/github/rizqyjoe/Facial_Expression_Recognition_CNN_VGG16/blob/main/Model%201/3_40%25_Acc.ipynb\" target=\"_parent\"><img src=\"https://colab.research.google.com/assets/colab-badge.svg\" alt=\"Open In Colab\"/></a>"
      ]
    },
    {
      "cell_type": "code",
      "metadata": {
        "id": "bOt3yEkA4tJ1",
        "colab": {
          "base_uri": "https://localhost:8080/"
        },
        "outputId": "f84f84f6-441d-4aa5-e183-e73e25014aa9"
      },
      "source": [
        "#mount drive\n",
        "from google.colab import drive\n",
        "drive.mount('/content/drive')"
      ],
      "execution_count": 47,
      "outputs": [
        {
          "output_type": "stream",
          "text": [
            "Drive already mounted at /content/drive; to attempt to forcibly remount, call drive.mount(\"/content/drive\", force_remount=True).\n"
          ],
          "name": "stdout"
        }
      ]
    },
    {
      "cell_type": "code",
      "metadata": {
        "id": "qiXLLA2ka-a9",
        "colab": {
          "base_uri": "https://localhost:8080/"
        },
        "outputId": "143d738a-ce4d-49a7-8038-ae123d096870"
      },
      "source": [
        "#Import Libraries\n",
        "from keras.preprocessing.image import ImageDataGenerator\n",
        "import keras\n",
        "from keras.models import Sequential\n",
        "from keras.layers import Input,Dense\n",
        "from keras.applications import VGG16\n",
        "from keras.applications.vgg16 import preprocess_input as pi\n",
        "from keras.optimizers import Adam\n",
        "from keras import optimizers\n",
        "\n",
        "print(keras.__version__)"
      ],
      "execution_count": 48,
      "outputs": [
        {
          "output_type": "stream",
          "text": [
            "2.4.3\n"
          ],
          "name": "stdout"
        }
      ]
    },
    {
      "cell_type": "code",
      "metadata": {
        "id": "GWpF9xzWbD9U"
      },
      "source": [
        "num_classes =7\n",
        "image_resize = 48\n",
        "batch_size_training = 64\n",
        "batch_size_validation = 64\n",
        "\n",
        "path_training = '/content/drive/MyDrive/Dataset/FER2013/images/train'\n",
        "path_validation = '/content/drive/MyDrive/Dataset/FER2013/images/validation'"
      ],
      "execution_count": 49,
      "outputs": []
    },
    {
      "cell_type": "code",
      "metadata": {
        "id": "C0ytmdNTbJQs"
      },
      "source": [
        "data_generator =ImageDataGenerator(\n",
        "    preprocessing_function = pi\n",
        ")"
      ],
      "execution_count": 50,
      "outputs": []
    },
    {
      "cell_type": "code",
      "metadata": {
        "id": "9oOrnuDSbkra",
        "colab": {
          "base_uri": "https://localhost:8080/"
        },
        "outputId": "58471b6e-d003-456a-e48c-4fdddb782646"
      },
      "source": [
        "training_generator = data_generator.flow_from_directory(\n",
        "    path_training,\n",
        "    target_size = (image_resize,image_resize),\n",
        "    batch_size = batch_size_training,\n",
        "    class_mode='categorical')"
      ],
      "execution_count": 51,
      "outputs": [
        {
          "output_type": "stream",
          "text": [
            "Found 28831 images belonging to 7 classes.\n"
          ],
          "name": "stdout"
        }
      ]
    },
    {
      "cell_type": "code",
      "metadata": {
        "id": "AOhcycrUb3Cx",
        "colab": {
          "base_uri": "https://localhost:8080/"
        },
        "outputId": "e5c5148a-33b2-4217-e2a2-9e88f823c6bb"
      },
      "source": [
        "validation_generator = data_generator.flow_from_directory(\n",
        "    path_validation,\n",
        "    target_size = (image_resize,image_resize),\n",
        "    batch_size = batch_size_validation,\n",
        "    class_mode='categorical',\n",
        ")"
      ],
      "execution_count": 52,
      "outputs": [
        {
          "output_type": "stream",
          "text": [
            "Found 7066 images belonging to 7 classes.\n"
          ],
          "name": "stdout"
        }
      ]
    },
    {
      "cell_type": "code",
      "metadata": {
        "id": "AXncJbb8b6UZ"
      },
      "source": [
        "model = Sequential()"
      ],
      "execution_count": 53,
      "outputs": []
    },
    {
      "cell_type": "code",
      "metadata": {
        "id": "LrJpQTswb8Gr"
      },
      "source": [
        "model.add(VGG16(\n",
        "    include_top = False,\n",
        "    pooling='avg',\n",
        "    weights='imagenet',\n",
        "))"
      ],
      "execution_count": 54,
      "outputs": []
    },
    {
      "cell_type": "code",
      "metadata": {
        "id": "FdfWU9lKb-hK"
      },
      "source": [
        "model.add(Dense(num_classes,activation='softmax'))"
      ],
      "execution_count": 55,
      "outputs": []
    },
    {
      "cell_type": "code",
      "metadata": {
        "id": "4RBbSTgCg7mQ",
        "colab": {
          "base_uri": "https://localhost:8080/"
        },
        "outputId": "a0662bc9-186a-442d-e07f-7d24682e7856"
      },
      "source": [
        "model.layers[0].layers"
      ],
      "execution_count": 56,
      "outputs": [
        {
          "output_type": "execute_result",
          "data": {
            "text/plain": [
              "[<tensorflow.python.keras.engine.input_layer.InputLayer at 0x7f9fd74fa250>,\n",
              " <tensorflow.python.keras.layers.convolutional.Conv2D at 0x7f9fe18ddc50>,\n",
              " <tensorflow.python.keras.layers.convolutional.Conv2D at 0x7f9fd7511e90>,\n",
              " <tensorflow.python.keras.layers.pooling.MaxPooling2D at 0x7f9fd750d210>,\n",
              " <tensorflow.python.keras.layers.convolutional.Conv2D at 0x7f9fde85c510>,\n",
              " <tensorflow.python.keras.layers.convolutional.Conv2D at 0x7f9fdb602690>,\n",
              " <tensorflow.python.keras.layers.pooling.MaxPooling2D at 0x7f9fdb679cd0>,\n",
              " <tensorflow.python.keras.layers.convolutional.Conv2D at 0x7f9fde85c3d0>,\n",
              " <tensorflow.python.keras.layers.convolutional.Conv2D at 0x7f9fde9ef910>,\n",
              " <tensorflow.python.keras.layers.convolutional.Conv2D at 0x7f9fdea42610>,\n",
              " <tensorflow.python.keras.layers.pooling.MaxPooling2D at 0x7f9fde9914d0>,\n",
              " <tensorflow.python.keras.layers.convolutional.Conv2D at 0x7f9fdb689b90>,\n",
              " <tensorflow.python.keras.layers.convolutional.Conv2D at 0x7f9fd731d810>,\n",
              " <tensorflow.python.keras.layers.convolutional.Conv2D at 0x7f9fdea3c750>,\n",
              " <tensorflow.python.keras.layers.pooling.MaxPooling2D at 0x7f9fdea07210>,\n",
              " <tensorflow.python.keras.layers.convolutional.Conv2D at 0x7f9fdf4b57d0>,\n",
              " <tensorflow.python.keras.layers.convolutional.Conv2D at 0x7f9fd81eff90>,\n",
              " <tensorflow.python.keras.layers.convolutional.Conv2D at 0x7f9fdf4b5310>,\n",
              " <tensorflow.python.keras.layers.pooling.MaxPooling2D at 0x7f9fd755bbd0>,\n",
              " <tensorflow.python.keras.layers.pooling.GlobalAveragePooling2D at 0x7f9fd82f5fd0>]"
            ]
          },
          "metadata": {
            "tags": []
          },
          "execution_count": 56
        }
      ]
    },
    {
      "cell_type": "code",
      "metadata": {
        "id": "90sEOB4Dg9V3"
      },
      "source": [
        "model.layers[0].trainable = False"
      ],
      "execution_count": 57,
      "outputs": []
    },
    {
      "cell_type": "code",
      "metadata": {
        "id": "PCdOixg7g-o_",
        "colab": {
          "base_uri": "https://localhost:8080/"
        },
        "outputId": "e3cddd96-c2b7-42f8-cb5a-7911dde0b774"
      },
      "source": [
        "model.summary()"
      ],
      "execution_count": 58,
      "outputs": [
        {
          "output_type": "stream",
          "text": [
            "Model: \"sequential_3\"\n",
            "_________________________________________________________________\n",
            "Layer (type)                 Output Shape              Param #   \n",
            "=================================================================\n",
            "vgg16 (Functional)           (None, 512)               14714688  \n",
            "_________________________________________________________________\n",
            "dense_3 (Dense)              (None, 7)                 3591      \n",
            "=================================================================\n",
            "Total params: 14,718,279\n",
            "Trainable params: 3,591\n",
            "Non-trainable params: 14,714,688\n",
            "_________________________________________________________________\n"
          ],
          "name": "stdout"
        }
      ]
    },
    {
      "cell_type": "code",
      "metadata": {
        "id": "9Dpq-c5YhAfn"
      },
      "source": [
        "model.compile(loss='categorical_crossentropy',\n",
        "              optimizer=RMSprop(lr=0.001),\n",
        "              metrics=['acc'])"
      ],
      "execution_count": 59,
      "outputs": []
    },
    {
      "cell_type": "code",
      "metadata": {
        "id": "lDnJ_LcFhC-W"
      },
      "source": [
        "steps_per_epoch_training = len(training_generator)/batch_size_training\n",
        "steps_per_epoch_validation = len(validation_generator)/batch_size_validation\n",
        "num_epochs = 100"
      ],
      "execution_count": 66,
      "outputs": []
    },
    {
      "cell_type": "code",
      "metadata": {
        "id": "tuLQ-HQVhFz3",
        "colab": {
          "base_uri": "https://localhost:8080/"
        },
        "outputId": "53eec843-fd0b-41c5-b147-e3dbb749099e"
      },
      "source": [
        "fit_history = model.fit(\n",
        "    training_generator,\n",
        "    steps_per_epoch = steps_per_epoch_training,\n",
        "    epochs = num_epochs,\n",
        "    validation_data=validation_generator,\n",
        "    validation_steps = steps_per_epoch_validation,\n",
        "    verbose=1)"
      ],
      "execution_count": 67,
      "outputs": [
        {
          "output_type": "stream",
          "text": [
            "Epoch 1/100\n",
            "7/7 [==============================] - 41s 6s/step - loss: 2.8919 - acc: 0.3301 - val_loss: 3.5036 - val_acc: 0.2969\n",
            "Epoch 2/100\n",
            "7/7 [==============================] - 40s 6s/step - loss: 2.7663 - acc: 0.3125 - val_loss: 2.5675 - val_acc: 0.2812\n",
            "Epoch 3/100\n",
            "7/7 [==============================] - 35s 5s/step - loss: 2.8674 - acc: 0.3203 - val_loss: 2.8475 - val_acc: 0.3594\n",
            "Epoch 4/100\n",
            "7/7 [==============================] - 34s 5s/step - loss: 2.6321 - acc: 0.3359 - val_loss: 2.7214 - val_acc: 0.3281\n",
            "Epoch 5/100\n",
            "7/7 [==============================] - 35s 5s/step - loss: 2.9254 - acc: 0.3340 - val_loss: 2.9477 - val_acc: 0.3438\n",
            "Epoch 6/100\n",
            "7/7 [==============================] - 35s 5s/step - loss: 2.6889 - acc: 0.3633 - val_loss: 2.4288 - val_acc: 0.3203\n",
            "Epoch 7/100\n",
            "7/7 [==============================] - 36s 5s/step - loss: 2.6932 - acc: 0.3418 - val_loss: 2.6243 - val_acc: 0.3203\n",
            "Epoch 8/100\n",
            "7/7 [==============================] - 36s 5s/step - loss: 2.4986 - acc: 0.3496 - val_loss: 2.6588 - val_acc: 0.3516\n",
            "Epoch 9/100\n",
            "7/7 [==============================] - 32s 5s/step - loss: 2.3897 - acc: 0.3730 - val_loss: 2.3830 - val_acc: 0.3828\n",
            "Epoch 10/100\n",
            "7/7 [==============================] - 38s 5s/step - loss: 2.6150 - acc: 0.3750 - val_loss: 2.4902 - val_acc: 0.3906\n",
            "Epoch 11/100\n",
            "7/7 [==============================] - 37s 5s/step - loss: 2.6165 - acc: 0.3203 - val_loss: 2.4156 - val_acc: 0.3438\n",
            "Epoch 12/100\n",
            "7/7 [==============================] - 33s 5s/step - loss: 2.5943 - acc: 0.3132 - val_loss: 3.1668 - val_acc: 0.2656\n",
            "Epoch 13/100\n",
            "7/7 [==============================] - 32s 4s/step - loss: 2.6295 - acc: 0.3242 - val_loss: 2.8360 - val_acc: 0.2734\n",
            "Epoch 14/100\n",
            "7/7 [==============================] - 32s 5s/step - loss: 2.5517 - acc: 0.3730 - val_loss: 2.5104 - val_acc: 0.3203\n",
            "Epoch 15/100\n",
            "7/7 [==============================] - 26s 4s/step - loss: 2.5335 - acc: 0.3594 - val_loss: 2.4841 - val_acc: 0.3438\n",
            "Epoch 16/100\n",
            "7/7 [==============================] - 31s 4s/step - loss: 2.5602 - acc: 0.3242 - val_loss: 2.4803 - val_acc: 0.4062\n",
            "Epoch 17/100\n",
            "7/7 [==============================] - 25s 4s/step - loss: 2.4918 - acc: 0.2930 - val_loss: 2.4530 - val_acc: 0.2891\n",
            "Epoch 18/100\n",
            "7/7 [==============================] - 32s 4s/step - loss: 2.4229 - acc: 0.3125 - val_loss: 2.2635 - val_acc: 0.3438\n",
            "Epoch 19/100\n",
            "7/7 [==============================] - 27s 4s/step - loss: 2.3906 - acc: 0.3281 - val_loss: 2.5362 - val_acc: 0.3125\n",
            "Epoch 20/100\n",
            "7/7 [==============================] - 28s 4s/step - loss: 2.3239 - acc: 0.3438 - val_loss: 2.2730 - val_acc: 0.3203\n",
            "Epoch 21/100\n",
            "7/7 [==============================] - 27s 4s/step - loss: 2.2307 - acc: 0.3809 - val_loss: 2.5232 - val_acc: 0.2578\n",
            "Epoch 22/100\n",
            "7/7 [==============================] - 27s 4s/step - loss: 2.1332 - acc: 0.3887 - val_loss: 2.4238 - val_acc: 0.3594\n",
            "Epoch 23/100\n",
            "7/7 [==============================] - 25s 3s/step - loss: 2.3954 - acc: 0.3496 - val_loss: 2.3728 - val_acc: 0.2969\n",
            "Epoch 24/100\n",
            "7/7 [==============================] - 27s 4s/step - loss: 2.2529 - acc: 0.3672 - val_loss: 2.3437 - val_acc: 0.3750\n",
            "Epoch 25/100\n",
            "7/7 [==============================] - 24s 3s/step - loss: 2.4078 - acc: 0.3574 - val_loss: 2.4946 - val_acc: 0.3516\n",
            "Epoch 26/100\n",
            "7/7 [==============================] - 27s 4s/step - loss: 2.1442 - acc: 0.3574 - val_loss: 2.2611 - val_acc: 0.3672\n",
            "Epoch 27/100\n",
            "7/7 [==============================] - 24s 3s/step - loss: 2.2021 - acc: 0.3438 - val_loss: 2.1813 - val_acc: 0.3906\n",
            "Epoch 28/100\n",
            "7/7 [==============================] - 23s 3s/step - loss: 2.4537 - acc: 0.3320 - val_loss: 2.6640 - val_acc: 0.2656\n",
            "Epoch 29/100\n",
            "7/7 [==============================] - 23s 3s/step - loss: 2.3074 - acc: 0.3398 - val_loss: 2.4563 - val_acc: 0.4062\n",
            "Epoch 30/100\n",
            "7/7 [==============================] - 21s 3s/step - loss: 2.3413 - acc: 0.3301 - val_loss: 2.3189 - val_acc: 0.3359\n",
            "Epoch 31/100\n",
            "7/7 [==============================] - 23s 3s/step - loss: 2.3315 - acc: 0.3281 - val_loss: 2.2802 - val_acc: 0.3594\n",
            "Epoch 32/100\n",
            "7/7 [==============================] - 24s 3s/step - loss: 2.3486 - acc: 0.3613 - val_loss: 2.4166 - val_acc: 0.3672\n",
            "Epoch 33/100\n",
            "7/7 [==============================] - 22s 3s/step - loss: 2.0333 - acc: 0.3574 - val_loss: 2.5974 - val_acc: 0.3125\n",
            "Epoch 34/100\n",
            "7/7 [==============================] - 23s 3s/step - loss: 2.2122 - acc: 0.3379 - val_loss: 2.3117 - val_acc: 0.3359\n",
            "Epoch 35/100\n",
            "7/7 [==============================] - 21s 3s/step - loss: 2.0660 - acc: 0.4102 - val_loss: 2.4691 - val_acc: 0.3125\n",
            "Epoch 36/100\n",
            "7/7 [==============================] - 19s 3s/step - loss: 2.1659 - acc: 0.3281 - val_loss: 2.4158 - val_acc: 0.3516\n",
            "Epoch 37/100\n",
            "7/7 [==============================] - 20s 3s/step - loss: 2.0202 - acc: 0.3574 - val_loss: 2.2269 - val_acc: 0.3281\n",
            "Epoch 38/100\n",
            "7/7 [==============================] - 21s 3s/step - loss: 2.1509 - acc: 0.3555 - val_loss: 2.2424 - val_acc: 0.3359\n",
            "Epoch 39/100\n",
            "7/7 [==============================] - 19s 3s/step - loss: 2.2274 - acc: 0.3320 - val_loss: 1.9784 - val_acc: 0.3828\n",
            "Epoch 40/100\n",
            "7/7 [==============================] - 18s 3s/step - loss: 2.0196 - acc: 0.3652 - val_loss: 2.0566 - val_acc: 0.3750\n",
            "Epoch 41/100\n",
            "7/7 [==============================] - 23s 3s/step - loss: 2.1834 - acc: 0.3516 - val_loss: 1.6584 - val_acc: 0.4766\n",
            "Epoch 42/100\n",
            "7/7 [==============================] - 20s 3s/step - loss: 1.9327 - acc: 0.3750 - val_loss: 2.2247 - val_acc: 0.4062\n",
            "Epoch 43/100\n",
            "7/7 [==============================] - 19s 3s/step - loss: 2.0678 - acc: 0.3633 - val_loss: 2.3462 - val_acc: 0.3125\n",
            "Epoch 44/100\n",
            "7/7 [==============================] - 22s 3s/step - loss: 2.2586 - acc: 0.3477 - val_loss: 2.1794 - val_acc: 0.3438\n",
            "Epoch 45/100\n",
            "7/7 [==============================] - 22s 3s/step - loss: 2.1455 - acc: 0.3848 - val_loss: 2.2845 - val_acc: 0.3125\n",
            "Epoch 46/100\n",
            "7/7 [==============================] - 22s 3s/step - loss: 2.0591 - acc: 0.3926 - val_loss: 2.3163 - val_acc: 0.3828\n",
            "Epoch 47/100\n",
            "7/7 [==============================] - 20s 3s/step - loss: 2.1516 - acc: 0.3535 - val_loss: 2.0591 - val_acc: 0.3516\n",
            "Epoch 48/100\n",
            "7/7 [==============================] - 19s 3s/step - loss: 2.0384 - acc: 0.3770 - val_loss: 2.1364 - val_acc: 0.3203\n",
            "Epoch 49/100\n",
            "7/7 [==============================] - 19s 3s/step - loss: 2.2757 - acc: 0.2988 - val_loss: 1.9954 - val_acc: 0.3984\n",
            "Epoch 50/100\n",
            "7/7 [==============================] - 21s 3s/step - loss: 1.9452 - acc: 0.3848 - val_loss: 2.2228 - val_acc: 0.3047\n",
            "Epoch 51/100\n",
            "7/7 [==============================] - 19s 3s/step - loss: 1.9883 - acc: 0.3594 - val_loss: 2.1805 - val_acc: 0.3203\n",
            "Epoch 52/100\n",
            "7/7 [==============================] - 18s 3s/step - loss: 1.9399 - acc: 0.3672 - val_loss: 2.3918 - val_acc: 0.2578\n",
            "Epoch 53/100\n",
            "7/7 [==============================] - 18s 2s/step - loss: 1.9485 - acc: 0.3789 - val_loss: 2.3486 - val_acc: 0.3438\n",
            "Epoch 54/100\n",
            "7/7 [==============================] - 18s 2s/step - loss: 2.0508 - acc: 0.3090 - val_loss: 2.1649 - val_acc: 0.3047\n",
            "Epoch 55/100\n",
            "7/7 [==============================] - 18s 3s/step - loss: 2.1619 - acc: 0.3379 - val_loss: 2.3470 - val_acc: 0.3281\n",
            "Epoch 56/100\n",
            "7/7 [==============================] - 18s 3s/step - loss: 2.0819 - acc: 0.3809 - val_loss: 2.3642 - val_acc: 0.3359\n",
            "Epoch 57/100\n",
            "7/7 [==============================] - 17s 2s/step - loss: 1.9116 - acc: 0.4082 - val_loss: 2.1338 - val_acc: 0.3828\n",
            "Epoch 58/100\n",
            "7/7 [==============================] - 19s 3s/step - loss: 2.1730 - acc: 0.3242 - val_loss: 2.2743 - val_acc: 0.3125\n",
            "Epoch 59/100\n",
            "7/7 [==============================] - 18s 2s/step - loss: 1.9254 - acc: 0.3770 - val_loss: 1.9858 - val_acc: 0.3984\n",
            "Epoch 60/100\n",
            "7/7 [==============================] - 17s 3s/step - loss: 2.0850 - acc: 0.3555 - val_loss: 2.1516 - val_acc: 0.3203\n",
            "Epoch 61/100\n",
            "7/7 [==============================] - 19s 3s/step - loss: 1.9266 - acc: 0.3887 - val_loss: 2.2256 - val_acc: 0.2891\n",
            "Epoch 62/100\n",
            "7/7 [==============================] - 18s 2s/step - loss: 1.9576 - acc: 0.3594 - val_loss: 2.8221 - val_acc: 0.3594\n",
            "Epoch 63/100\n",
            "7/7 [==============================] - 20s 3s/step - loss: 2.1415 - acc: 0.3418 - val_loss: 1.7613 - val_acc: 0.3750\n",
            "Epoch 64/100\n",
            "7/7 [==============================] - 17s 3s/step - loss: 2.0844 - acc: 0.3086 - val_loss: 1.9110 - val_acc: 0.3281\n",
            "Epoch 65/100\n",
            "7/7 [==============================] - 17s 2s/step - loss: 2.0905 - acc: 0.3379 - val_loss: 1.9798 - val_acc: 0.3047\n",
            "Epoch 66/100\n",
            "7/7 [==============================] - 18s 2s/step - loss: 1.9491 - acc: 0.3633 - val_loss: 1.7993 - val_acc: 0.4375\n",
            "Epoch 67/100\n",
            "7/7 [==============================] - 18s 3s/step - loss: 1.8479 - acc: 0.3926 - val_loss: 2.2528 - val_acc: 0.2656\n",
            "Epoch 68/100\n",
            "7/7 [==============================] - 17s 2s/step - loss: 2.0698 - acc: 0.3320 - val_loss: 2.2208 - val_acc: 0.3438\n",
            "Epoch 69/100\n",
            "7/7 [==============================] - 18s 2s/step - loss: 2.0340 - acc: 0.3574 - val_loss: 1.9466 - val_acc: 0.3672\n",
            "Epoch 70/100\n",
            "7/7 [==============================] - 17s 2s/step - loss: 2.0751 - acc: 0.3457 - val_loss: 1.9816 - val_acc: 0.3438\n",
            "Epoch 71/100\n",
            "7/7 [==============================] - 18s 3s/step - loss: 2.0563 - acc: 0.3516 - val_loss: 1.9227 - val_acc: 0.4609\n",
            "Epoch 72/100\n",
            "7/7 [==============================] - 17s 2s/step - loss: 2.0930 - acc: 0.3574 - val_loss: 2.1945 - val_acc: 0.3047\n",
            "Epoch 73/100\n",
            "7/7 [==============================] - 17s 2s/step - loss: 1.9993 - acc: 0.3438 - val_loss: 2.0240 - val_acc: 0.3672\n",
            "Epoch 74/100\n",
            "7/7 [==============================] - 17s 2s/step - loss: 1.9205 - acc: 0.3672 - val_loss: 2.2588 - val_acc: 0.2109\n",
            "Epoch 75/100\n",
            "7/7 [==============================] - 19s 2s/step - loss: 1.9876 - acc: 0.3359 - val_loss: 1.7221 - val_acc: 0.4062\n",
            "Epoch 76/100\n",
            "7/7 [==============================] - 17s 2s/step - loss: 1.9290 - acc: 0.3750 - val_loss: 2.2728 - val_acc: 0.3203\n",
            "Epoch 77/100\n",
            "7/7 [==============================] - 17s 2s/step - loss: 1.9563 - acc: 0.3672 - val_loss: 2.0811 - val_acc: 0.3281\n",
            "Epoch 78/100\n",
            "7/7 [==============================] - 16s 2s/step - loss: 1.9439 - acc: 0.3652 - val_loss: 2.3086 - val_acc: 0.3047\n",
            "Epoch 79/100\n",
            "7/7 [==============================] - 17s 3s/step - loss: 1.9802 - acc: 0.3555 - val_loss: 2.1157 - val_acc: 0.2969\n",
            "Epoch 80/100\n",
            "7/7 [==============================] - 17s 3s/step - loss: 1.8475 - acc: 0.3867 - val_loss: 1.8467 - val_acc: 0.3672\n",
            "Epoch 81/100\n",
            "7/7 [==============================] - 17s 2s/step - loss: 1.9265 - acc: 0.3574 - val_loss: 1.7701 - val_acc: 0.3906\n",
            "Epoch 82/100\n",
            "7/7 [==============================] - 17s 2s/step - loss: 1.8984 - acc: 0.3711 - val_loss: 2.1005 - val_acc: 0.2891\n",
            "Epoch 83/100\n",
            "7/7 [==============================] - 17s 2s/step - loss: 1.8637 - acc: 0.4023 - val_loss: 1.8896 - val_acc: 0.3750\n",
            "Epoch 84/100\n",
            "7/7 [==============================] - 17s 2s/step - loss: 1.8473 - acc: 0.3555 - val_loss: 2.0874 - val_acc: 0.3750\n",
            "Epoch 85/100\n",
            "7/7 [==============================] - 17s 2s/step - loss: 1.8238 - acc: 0.3789 - val_loss: 2.3616 - val_acc: 0.2891\n",
            "Epoch 86/100\n",
            "7/7 [==============================] - 17s 2s/step - loss: 1.9588 - acc: 0.3809 - val_loss: 2.1909 - val_acc: 0.3047\n",
            "Epoch 87/100\n",
            "7/7 [==============================] - 17s 2s/step - loss: 1.9136 - acc: 0.3379 - val_loss: 1.9887 - val_acc: 0.3672\n",
            "Epoch 88/100\n",
            "7/7 [==============================] - 18s 2s/step - loss: 1.8915 - acc: 0.3750 - val_loss: 2.3870 - val_acc: 0.2969\n",
            "Epoch 89/100\n",
            "7/7 [==============================] - 17s 2s/step - loss: 1.8705 - acc: 0.3828 - val_loss: 1.6591 - val_acc: 0.4766\n",
            "Epoch 90/100\n",
            "7/7 [==============================] - 16s 2s/step - loss: 1.9280 - acc: 0.3457 - val_loss: 1.8101 - val_acc: 0.3750\n",
            "Epoch 91/100\n",
            "7/7 [==============================] - 17s 2s/step - loss: 2.0063 - acc: 0.3691 - val_loss: 2.0955 - val_acc: 0.3984\n",
            "Epoch 92/100\n",
            "7/7 [==============================] - 17s 2s/step - loss: 2.0112 - acc: 0.3281 - val_loss: 2.1800 - val_acc: 0.3516\n",
            "Epoch 93/100\n",
            "7/7 [==============================] - 17s 2s/step - loss: 1.8840 - acc: 0.3438 - val_loss: 1.6339 - val_acc: 0.4219\n",
            "Epoch 94/100\n",
            "7/7 [==============================] - 16s 2s/step - loss: 1.7107 - acc: 0.4121 - val_loss: 1.8286 - val_acc: 0.3906\n",
            "Epoch 95/100\n",
            "7/7 [==============================] - 17s 2s/step - loss: 1.8130 - acc: 0.3574 - val_loss: 2.0478 - val_acc: 0.3359\n",
            "Epoch 96/100\n",
            "7/7 [==============================] - 16s 2s/step - loss: 1.9050 - acc: 0.3770 - val_loss: 2.1466 - val_acc: 0.3125\n",
            "Epoch 97/100\n",
            "7/7 [==============================] - 17s 3s/step - loss: 1.7756 - acc: 0.3828 - val_loss: 1.9730 - val_acc: 0.3906\n",
            "Epoch 98/100\n",
            "7/7 [==============================] - 18s 3s/step - loss: 1.9947 - acc: 0.3379 - val_loss: 2.0681 - val_acc: 0.3281\n",
            "Epoch 99/100\n",
            "7/7 [==============================] - 19s 3s/step - loss: 1.8565 - acc: 0.3789 - val_loss: 1.7781 - val_acc: 0.3906\n",
            "Epoch 100/100\n",
            "7/7 [==============================] - 16s 2s/step - loss: 1.9946 - acc: 0.3887 - val_loss: 2.0762 - val_acc: 0.2969\n"
          ],
          "name": "stdout"
        }
      ]
    },
    {
      "cell_type": "code",
      "metadata": {
        "id": "jxqB-9N6hShu"
      },
      "source": [
        "model.save('FER2013_classifier_VGG16_epoch_model.h5')"
      ],
      "execution_count": 64,
      "outputs": []
    },
    {
      "cell_type": "code",
      "metadata": {
        "colab": {
          "base_uri": "https://localhost:8080/",
          "height": 573
        },
        "id": "19CO9w7fwZhA",
        "outputId": "1cb7924e-9ec3-46bc-aa9e-8a22db2b7a1c"
      },
      "source": [
        "accuracy = fit_history.history['acc']\n",
        "val_accuracy = fit_history.history['val_acc']\n",
        "loss = fit_history.history['loss']\n",
        "val_loss = fit_history.history['val_loss']\n",
        "num_epochs = range(len(accuracy))\n",
        "plt.plot(num_epochs, accuracy, 'r', label='Training acc')\n",
        "plt.plot(num_epochs, val_accuracy, 'b', label='Validation acc')\n",
        "plt.title('Training and validation accuracy')\n",
        "plt.ylabel('accuracy')  \n",
        "plt.xlabel('epoch')\n",
        "plt.legend()\n",
        "plt.figure()\n",
        "plt.plot(num_epochs, loss, 'r', label='Training loss')\n",
        "plt.plot(num_epochs, val_loss, 'b', label='Validation loss')\n",
        "plt.title('Training and validation loss')\n",
        "plt.ylabel('loss')  \n",
        "plt.xlabel('epoch')\n",
        "plt.legend()\n",
        "plt.show()"
      ],
      "execution_count": 68,
      "outputs": [
        {
          "output_type": "display_data",
          "data": {
            "image/png": "[encoded data removed]",
            "text/plain": [
              "<Figure size 432x288 with 1 Axes>"
            ]
          },
          "metadata": {
            "tags": [],
            "needs_background": "light"
          }
        },
        {
          "output_type": "display_data",
          "data": {
            "image/png": "[encoded data removed]",
            "text/plain": [
              "<Figure size 432x288 with 1 Axes>"
            ]
          },
          "metadata": {
            "tags": [],
            "needs_background": "light"
          }
        }
      ]
    }
  ]
}