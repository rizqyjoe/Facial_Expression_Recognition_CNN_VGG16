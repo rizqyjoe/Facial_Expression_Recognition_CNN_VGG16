{
  "nbformat": 4,
  "nbformat_minor": 0,
  "metadata": {
    "colab": {
      "name": "TA_Final",
      "provenance": [],
      "mount_file_id": "1S4fTJPX-RU_RFJpQL9jjO2f5egeDzGOY",
      "authorship_tag": "ABX9TyPHbnWx4lfEGhMfCsJGv7Vy",
      "include_colab_link": true
    },
    "kernelspec": {
      "display_name": "Python 3",
      "name": "python3"
    },
    "language_info": {
      "name": "python"
    }
  },
  "cells": [
    {
      "cell_type": "markdown",
      "metadata": {
        "id": "view-in-github",
        "colab_type": "text"
      },
      "source": [
        "<a href=\"https://colab.research.google.com/github/rizqyjoe/Facial_Expression_Recognition_CNN_VGG16/blob/main/2_35%25_Acc.ipynb\" target=\"_parent\"><img src=\"https://colab.research.google.com/assets/colab-badge.svg\" alt=\"Open In Colab\"/></a>"
      ]
    },
    {
      "cell_type": "code",
      "metadata": {
        "id": "bOt3yEkA4tJ1",
        "colab": {
          "base_uri": "https://localhost:8080/"
        },
        "outputId": "f84f84f6-441d-4aa5-e183-e73e25014aa9"
      },
      "source": [
        "#mount drive\n",
        "from google.colab import drive\n",
        "drive.mount('/content/drive')"
      ],
      "execution_count": 47,
      "outputs": [
        {
          "output_type": "stream",
          "text": [
            "Drive already mounted at /content/drive; to attempt to forcibly remount, call drive.mount(\"/content/drive\", force_remount=True).\n"
          ],
          "name": "stdout"
        }
      ]
    },
    {
      "cell_type": "code",
      "metadata": {
        "id": "qiXLLA2ka-a9",
        "colab": {
          "base_uri": "https://localhost:8080/"
        },
        "outputId": "143d738a-ce4d-49a7-8038-ae123d096870"
      },
      "source": [
        "#Import Libraries\n",
        "from keras.preprocessing.image import ImageDataGenerator\n",
        "import keras\n",
        "from keras.models import Sequential\n",
        "from keras.layers import Input,Dense\n",
        "from keras.applications import VGG16\n",
        "from keras.applications.vgg16 import preprocess_input as pi\n",
        "from keras.optimizers import Adam\n",
        "from keras import optimizers\n",
        "\n",
        "print(keras.__version__)"
      ],
      "execution_count": 48,
      "outputs": [
        {
          "output_type": "stream",
          "text": [
            "2.4.3\n"
          ],
          "name": "stdout"
        }
      ]
    },
    {
      "cell_type": "code",
      "metadata": {
        "id": "GWpF9xzWbD9U"
      },
      "source": [
        "num_classes =7\n",
        "image_resize = 48\n",
        "batch_size_training = 64\n",
        "batch_size_validation = 64\n",
        "\n",
        "path_training = '/content/drive/MyDrive/Dataset/FER2013/images/train'\n",
        "path_validation = '/content/drive/MyDrive/Dataset/FER2013/images/validation'"
      ],
      "execution_count": 49,
      "outputs": []
    },
    {
      "cell_type": "code",
      "metadata": {
        "id": "C0ytmdNTbJQs"
      },
      "source": [
        "data_generator =ImageDataGenerator(\n",
        "    preprocessing_function = pi\n",
        ")"
      ],
      "execution_count": 50,
      "outputs": []
    },
    {
      "cell_type": "code",
      "metadata": {
        "id": "9oOrnuDSbkra",
        "colab": {
          "base_uri": "https://localhost:8080/"
        },
        "outputId": "58471b6e-d003-456a-e48c-4fdddb782646"
      },
      "source": [
        "training_generator = data_generator.flow_from_directory(\n",
        "    path_training,\n",
        "    target_size = (image_resize,image_resize),\n",
        "    batch_size = batch_size_training,\n",
        "    class_mode='categorical')"
      ],
      "execution_count": 51,
      "outputs": [
        {
          "output_type": "stream",
          "text": [
            "Found 28831 images belonging to 7 classes.\n"
          ],
          "name": "stdout"
        }
      ]
    },
    {
      "cell_type": "code",
      "metadata": {
        "id": "AOhcycrUb3Cx",
        "colab": {
          "base_uri": "https://localhost:8080/"
        },
        "outputId": "e5c5148a-33b2-4217-e2a2-9e88f823c6bb"
      },
      "source": [
        "validation_generator = data_generator.flow_from_directory(\n",
        "    path_validation,\n",
        "    target_size = (image_resize,image_resize),\n",
        "    batch_size = batch_size_validation,\n",
        "    class_mode='categorical',\n",
        ")"
      ],
      "execution_count": 52,
      "outputs": [
        {
          "output_type": "stream",
          "text": [
            "Found 7066 images belonging to 7 classes.\n"
          ],
          "name": "stdout"
        }
      ]
    },
    {
      "cell_type": "code",
      "metadata": {
        "id": "AXncJbb8b6UZ"
      },
      "source": [
        "model = Sequential()"
      ],
      "execution_count": 53,
      "outputs": []
    },
    {
      "cell_type": "code",
      "metadata": {
        "id": "LrJpQTswb8Gr"
      },
      "source": [
        "model.add(VGG16(\n",
        "    include_top = False,\n",
        "    pooling='avg',\n",
        "    weights='imagenet',\n",
        "))"
      ],
      "execution_count": 54,
      "outputs": []
    },
    {
      "cell_type": "code",
      "metadata": {
        "id": "FdfWU9lKb-hK"
      },
      "source": [
        "model.add(Dense(num_classes,activation='softmax'))"
      ],
      "execution_count": 55,
      "outputs": []
    },
    {
      "cell_type": "code",
      "metadata": {
        "id": "4RBbSTgCg7mQ",
        "colab": {
          "base_uri": "https://localhost:8080/"
        },
        "outputId": "a0662bc9-186a-442d-e07f-7d24682e7856"
      },
      "source": [
        "model.layers[0].layers"
      ],
      "execution_count": 56,
      "outputs": [
        {
          "output_type": "execute_result",
          "data": {
            "text/plain": [
              "[<tensorflow.python.keras.engine.input_layer.InputLayer at 0x7f9fd74fa250>,\n",
              " <tensorflow.python.keras.layers.convolutional.Conv2D at 0x7f9fe18ddc50>,\n",
              " <tensorflow.python.keras.layers.convolutional.Conv2D at 0x7f9fd7511e90>,\n",
              " <tensorflow.python.keras.layers.pooling.MaxPooling2D at 0x7f9fd750d210>,\n",
              " <tensorflow.python.keras.layers.convolutional.Conv2D at 0x7f9fde85c510>,\n",
              " <tensorflow.python.keras.layers.convolutional.Conv2D at 0x7f9fdb602690>,\n",
              " <tensorflow.python.keras.layers.pooling.MaxPooling2D at 0x7f9fdb679cd0>,\n",
              " <tensorflow.python.keras.layers.convolutional.Conv2D at 0x7f9fde85c3d0>,\n",
              " <tensorflow.python.keras.layers.convolutional.Conv2D at 0x7f9fde9ef910>,\n",
              " <tensorflow.python.keras.layers.convolutional.Conv2D at 0x7f9fdea42610>,\n",
              " <tensorflow.python.keras.layers.pooling.MaxPooling2D at 0x7f9fde9914d0>,\n",
              " <tensorflow.python.keras.layers.convolutional.Conv2D at 0x7f9fdb689b90>,\n",
              " <tensorflow.python.keras.layers.convolutional.Conv2D at 0x7f9fd731d810>,\n",
              " <tensorflow.python.keras.layers.convolutional.Conv2D at 0x7f9fdea3c750>,\n",
              " <tensorflow.python.keras.layers.pooling.MaxPooling2D at 0x7f9fdea07210>,\n",
              " <tensorflow.python.keras.layers.convolutional.Conv2D at 0x7f9fdf4b57d0>,\n",
              " <tensorflow.python.keras.layers.convolutional.Conv2D at 0x7f9fd81eff90>,\n",
              " <tensorflow.python.keras.layers.convolutional.Conv2D at 0x7f9fdf4b5310>,\n",
              " <tensorflow.python.keras.layers.pooling.MaxPooling2D at 0x7f9fd755bbd0>,\n",
              " <tensorflow.python.keras.layers.pooling.GlobalAveragePooling2D at 0x7f9fd82f5fd0>]"
            ]
          },
          "metadata": {
            "tags": []
          },
          "execution_count": 56
        }
      ]
    },
    {
      "cell_type": "code",
      "metadata": {
        "id": "90sEOB4Dg9V3"
      },
      "source": [
        "model.layers[0].trainable = False"
      ],
      "execution_count": 57,
      "outputs": []
    },
    {
      "cell_type": "code",
      "metadata": {
        "id": "PCdOixg7g-o_",
        "colab": {
          "base_uri": "https://localhost:8080/"
        },
        "outputId": "e3cddd96-c2b7-42f8-cb5a-7911dde0b774"
      },
      "source": [
        "model.summary()"
      ],
      "execution_count": 58,
      "outputs": [
        {
          "output_type": "stream",
          "text": [
            "Model: \"sequential_3\"\n",
            "_________________________________________________________________\n",
            "Layer (type)                 Output Shape              Param #   \n",
            "=================================================================\n",
            "vgg16 (Functional)           (None, 512)               14714688  \n",
            "_________________________________________________________________\n",
            "dense_3 (Dense)              (None, 7)                 3591      \n",
            "=================================================================\n",
            "Total params: 14,718,279\n",
            "Trainable params: 3,591\n",
            "Non-trainable params: 14,714,688\n",
            "_________________________________________________________________\n"
          ],
          "name": "stdout"
        }
      ]
    },
    {
      "cell_type": "code",
      "metadata": {
        "id": "9Dpq-c5YhAfn"
      },
      "source": [
        "model.compile(loss='categorical_crossentropy',\n",
        "              optimizer=RMSprop(lr=0.001),\n",
        "              metrics=['acc'])"
      ],
      "execution_count": 59,
      "outputs": []
    },
    {
      "cell_type": "code",
      "metadata": {
        "id": "lDnJ_LcFhC-W"
      },
      "source": [
        "steps_per_epoch_training = len(training_generator)/batch_size_training\n",
        "steps_per_epoch_validation = len(validation_generator)/batch_size_validation\n",
        "num_epochs = 50"
      ],
      "execution_count": 60,
      "outputs": []
    },
    {
      "cell_type": "code",
      "metadata": {
        "id": "tuLQ-HQVhFz3",
        "colab": {
          "base_uri": "https://localhost:8080/"
        },
        "outputId": "75ce3cb1-5735-4b9e-f22e-b63f1f477a5d"
      },
      "source": [
        "fit_history = model.fit(\n",
        "    training_generator,\n",
        "    steps_per_epoch = steps_per_epoch_training,\n",
        "    epochs = num_epochs,\n",
        "    validation_data=validation_generator,\n",
        "    validation_steps = steps_per_epoch_validation,\n",
        "    verbose=1)"
      ],
      "execution_count": 61,
      "outputs": [
        {
          "output_type": "stream",
          "text": [
            "Epoch 1/50\n",
            "7/7 [==============================] - 112s 16s/step - loss: 25.2959 - acc: 0.1065 - val_loss: 14.9931 - val_acc: 0.1641\n",
            "Epoch 2/50\n",
            "7/7 [==============================] - 95s 14s/step - loss: 14.8387 - acc: 0.1456 - val_loss: 15.1755 - val_acc: 0.1172\n",
            "Epoch 3/50\n",
            "7/7 [==============================] - 107s 16s/step - loss: 13.0203 - acc: 0.1887 - val_loss: 10.2267 - val_acc: 0.2500\n",
            "Epoch 4/50\n",
            "7/7 [==============================] - 100s 15s/step - loss: 11.5800 - acc: 0.1947 - val_loss: 9.0695 - val_acc: 0.2109\n",
            "Epoch 5/50\n",
            "7/7 [==============================] - 101s 15s/step - loss: 10.5023 - acc: 0.2139 - val_loss: 8.6796 - val_acc: 0.1953\n",
            "Epoch 6/50\n",
            "7/7 [==============================] - 99s 14s/step - loss: 9.0472 - acc: 0.2218 - val_loss: 8.5915 - val_acc: 0.1953\n",
            "Epoch 7/50\n",
            "7/7 [==============================] - 95s 14s/step - loss: 8.7508 - acc: 0.2186 - val_loss: 9.1900 - val_acc: 0.2734\n",
            "Epoch 8/50\n",
            "7/7 [==============================] - 91s 13s/step - loss: 8.0444 - acc: 0.2475 - val_loss: 6.8610 - val_acc: 0.2500\n",
            "Epoch 9/50\n",
            "7/7 [==============================] - 89s 13s/step - loss: 7.8893 - acc: 0.2298 - val_loss: 9.4943 - val_acc: 0.1953\n",
            "Epoch 10/50\n",
            "7/7 [==============================] - 80s 12s/step - loss: 7.4376 - acc: 0.2542 - val_loss: 7.0109 - val_acc: 0.2734\n",
            "Epoch 11/50\n",
            "7/7 [==============================] - 101s 15s/step - loss: 7.4458 - acc: 0.2469 - val_loss: 6.6445 - val_acc: 0.2656\n",
            "Epoch 12/50\n",
            "7/7 [==============================] - 83s 12s/step - loss: 6.5900 - acc: 0.2921 - val_loss: 7.2182 - val_acc: 0.2188\n",
            "Epoch 13/50\n",
            "7/7 [==============================] - 86s 13s/step - loss: 6.9783 - acc: 0.2812 - val_loss: 6.5318 - val_acc: 0.2812\n",
            "Epoch 14/50\n",
            "7/7 [==============================] - 75s 11s/step - loss: 6.0879 - acc: 0.2577 - val_loss: 6.1151 - val_acc: 0.2891\n",
            "Epoch 15/50\n",
            "7/7 [==============================] - 78s 11s/step - loss: 6.1064 - acc: 0.2921 - val_loss: 5.5580 - val_acc: 0.2891\n",
            "Epoch 16/50\n",
            "7/7 [==============================] - 69s 10s/step - loss: 6.0144 - acc: 0.2568 - val_loss: 6.7762 - val_acc: 0.2656\n",
            "Epoch 17/50\n",
            "7/7 [==============================] - 80s 12s/step - loss: 5.5967 - acc: 0.2805 - val_loss: 5.2718 - val_acc: 0.2734\n",
            "Epoch 18/50\n",
            "7/7 [==============================] - 69s 10s/step - loss: 6.0235 - acc: 0.2503 - val_loss: 5.6912 - val_acc: 0.2734\n",
            "Epoch 19/50\n",
            "7/7 [==============================] - 74s 10s/step - loss: 6.0289 - acc: 0.2640 - val_loss: 4.6900 - val_acc: 0.2969\n",
            "Epoch 20/50\n",
            "7/7 [==============================] - 64s 9s/step - loss: 5.4582 - acc: 0.2779 - val_loss: 5.2112 - val_acc: 0.2812\n",
            "Epoch 21/50\n",
            "7/7 [==============================] - 68s 10s/step - loss: 4.7158 - acc: 0.3417 - val_loss: 5.5348 - val_acc: 0.2344\n",
            "Epoch 22/50\n",
            "7/7 [==============================] - 62s 9s/step - loss: 5.4514 - acc: 0.2518 - val_loss: 4.8886 - val_acc: 0.2656\n",
            "Epoch 23/50\n",
            "7/7 [==============================] - 71s 10s/step - loss: 4.7836 - acc: 0.3229 - val_loss: 4.3422 - val_acc: 0.2891\n",
            "Epoch 24/50\n",
            "7/7 [==============================] - 66s 10s/step - loss: 4.9752 - acc: 0.2760 - val_loss: 4.5274 - val_acc: 0.3672\n",
            "Epoch 25/50\n",
            "7/7 [==============================] - 64s 9s/step - loss: 4.9465 - acc: 0.2406 - val_loss: 4.2706 - val_acc: 0.3594\n",
            "Epoch 26/50\n",
            "7/7 [==============================] - 67s 9s/step - loss: 4.8517 - acc: 0.2595 - val_loss: 3.6769 - val_acc: 0.3516\n",
            "Epoch 27/50\n",
            "7/7 [==============================] - 69s 10s/step - loss: 4.2544 - acc: 0.3367 - val_loss: 4.1886 - val_acc: 0.3594\n",
            "Epoch 28/50\n",
            "7/7 [==============================] - 57s 8s/step - loss: 4.5481 - acc: 0.3010 - val_loss: 4.6823 - val_acc: 0.2891\n",
            "Epoch 29/50\n",
            "7/7 [==============================] - 59s 9s/step - loss: 4.6116 - acc: 0.2841 - val_loss: 3.4799 - val_acc: 0.2969\n",
            "Epoch 30/50\n",
            "7/7 [==============================] - 63s 9s/step - loss: 4.5835 - acc: 0.2677 - val_loss: 3.3976 - val_acc: 0.3828\n",
            "Epoch 31/50\n",
            "7/7 [==============================] - 58s 8s/step - loss: 3.7089 - acc: 0.3645 - val_loss: 4.1199 - val_acc: 0.3359\n",
            "Epoch 32/50\n",
            "7/7 [==============================] - 58s 9s/step - loss: 3.9826 - acc: 0.3149 - val_loss: 3.8907 - val_acc: 0.2891\n",
            "Epoch 33/50\n",
            "7/7 [==============================] - 56s 8s/step - loss: 3.8449 - acc: 0.3293 - val_loss: 3.9330 - val_acc: 0.3750\n",
            "Epoch 34/50\n",
            "7/7 [==============================] - 52s 8s/step - loss: 3.7668 - acc: 0.3230 - val_loss: 3.6789 - val_acc: 0.2656\n",
            "Epoch 35/50\n",
            "7/7 [==============================] - 48s 7s/step - loss: 3.5699 - acc: 0.3319 - val_loss: 4.4522 - val_acc: 0.2500\n",
            "Epoch 36/50\n",
            "7/7 [==============================] - 50s 7s/step - loss: 3.8801 - acc: 0.3266 - val_loss: 3.7508 - val_acc: 0.3594\n",
            "Epoch 37/50\n",
            "7/7 [==============================] - 48s 7s/step - loss: 3.7707 - acc: 0.2968 - val_loss: 3.3082 - val_acc: 0.2656\n",
            "Epoch 38/50\n",
            "7/7 [==============================] - 52s 8s/step - loss: 3.2605 - acc: 0.3263 - val_loss: 4.2619 - val_acc: 0.3047\n",
            "Epoch 39/50\n",
            "7/7 [==============================] - 45s 7s/step - loss: 3.3440 - acc: 0.3030 - val_loss: 2.9951 - val_acc: 0.3828\n",
            "Epoch 40/50\n",
            "7/7 [==============================] - 48s 7s/step - loss: 3.4194 - acc: 0.3235 - val_loss: 3.5783 - val_acc: 0.2734\n",
            "Epoch 41/50\n",
            "7/7 [==============================] - 46s 7s/step - loss: 3.4750 - acc: 0.3000 - val_loss: 2.8426 - val_acc: 0.3750\n",
            "Epoch 42/50\n",
            "7/7 [==============================] - 41s 6s/step - loss: 3.4173 - acc: 0.3055 - val_loss: 3.4871 - val_acc: 0.2656\n",
            "Epoch 43/50\n",
            "7/7 [==============================] - 50s 7s/step - loss: 3.2322 - acc: 0.3532 - val_loss: 3.2981 - val_acc: 0.2578\n",
            "Epoch 44/50\n",
            "7/7 [==============================] - 47s 7s/step - loss: 3.0425 - acc: 0.3117 - val_loss: 3.3721 - val_acc: 0.2422\n",
            "Epoch 45/50\n",
            "7/7 [==============================] - 42s 6s/step - loss: 3.2397 - acc: 0.3499 - val_loss: 3.6477 - val_acc: 0.2266\n",
            "Epoch 46/50\n",
            "7/7 [==============================] - 45s 7s/step - loss: 3.1170 - acc: 0.3259 - val_loss: 3.0805 - val_acc: 0.3281\n",
            "Epoch 47/50\n",
            "7/7 [==============================] - 42s 6s/step - loss: 2.7546 - acc: 0.3304 - val_loss: 3.3362 - val_acc: 0.3672\n",
            "Epoch 48/50\n",
            "7/7 [==============================] - 37s 5s/step - loss: 3.1512 - acc: 0.3035 - val_loss: 3.0787 - val_acc: 0.3672\n",
            "Epoch 49/50\n",
            "7/7 [==============================] - 38s 6s/step - loss: 3.3011 - acc: 0.2351 - val_loss: 2.5309 - val_acc: 0.4297\n",
            "Epoch 50/50\n",
            "7/7 [==============================] - 39s 6s/step - loss: 2.8777 - acc: 0.2954 - val_loss: 2.9156 - val_acc: 0.3047\n"
          ],
          "name": "stdout"
        }
      ]
    },
    {
      "cell_type": "code",
      "metadata": {
        "id": "jxqB-9N6hShu"
      },
      "source": [
        "model.save('FER2013_classifier_VGG16_epoch_model.h5')"
      ],
      "execution_count": 64,
      "outputs": []
    },
    {
      "cell_type": "code",
      "metadata": {
        "colab": {
          "base_uri": "https://localhost:8080/",
          "height": 573
        },
        "id": "19CO9w7fwZhA",
        "outputId": "8ed2ba02-2172-42ac-f446-64029c6d1dd3"
      },
      "source": [
        "accuracy = fit_history.history['acc']\n",
        "val_accuracy = fit_history.history['val_acc']\n",
        "loss = fit_history.history['loss']\n",
        "val_loss = fit_history.history['val_loss']\n",
        "num_epochs = range(len(accuracy))\n",
        "plt.plot(num_epochs, accuracy, 'r', label='Training acc')\n",
        "plt.plot(num_epochs, val_accuracy, 'b', label='Validation acc')\n",
        "plt.title('Training and validation accuracy')\n",
        "plt.ylabel('accuracy')  \n",
        "plt.xlabel('epoch')\n",
        "plt.legend()\n",
        "plt.figure()\n",
        "plt.plot(num_epochs, loss, 'r', label='Training loss')\n",
        "plt.plot(num_epochs, val_loss, 'b', label='Validation loss')\n",
        "plt.title('Training and validation loss')\n",
        "plt.ylabel('loss')  \n",
        "plt.xlabel('epoch')\n",
        "plt.legend()\n",
        "plt.show()"
      ],
      "execution_count": 65,
      "outputs": [
        {
          "output_type": "display_data",
          "data": {
            "image/png": "[encoded data removed]",
            "text/plain": [
              "<Figure size 432x288 with 1 Axes>"
            ]
          },
          "metadata": {
            "tags": [],
            "needs_background": "light"
          }
        },
        {
          "output_type": "display_data",
          "data": {
            "image/png": "[encoded data removed]",
            "text/plain": [
              "<Figure size 432x288 with 1 Axes>"
            ]
          },
          "metadata": {
            "tags": [],
            "needs_background": "light"
          }
        }
      ]
    }
  ]
}