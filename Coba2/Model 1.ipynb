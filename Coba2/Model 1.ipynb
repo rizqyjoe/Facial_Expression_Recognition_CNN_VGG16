{
  "nbformat": 4,
  "nbformat_minor": 0,
  "metadata": {
    "colab": {
      "name": "TA_Final",
      "provenance": []
    },
    "kernelspec": {
      "display_name": "Python 3",
      "name": "python3"
    },
    "language_info": {
      "name": "python"
    },
    "accelerator": "GPU"
  },
  "cells": [
    {
      "cell_type": "code",
      "metadata": {
        "id": "bOt3yEkA4tJ1",
        "colab": {
          "base_uri": "https://localhost:8080/"
        },
        "outputId": "a28bcba7-4912-44b7-9011-213be13346a2"
      },
      "source": [
        "0 #mount drive\n",
        "from google.colab import drive\n",
        "drive.mount('/content/drive')"
      ],
      "execution_count": null,
      "outputs": [
        {
          "output_type": "stream",
          "text": [
            "Mounted at /content/drive\n"
          ],
          "name": "stdout"
        }
      ]
    },
    {
      "cell_type": "code",
      "metadata": {
        "id": "qiXLLA2ka-a9",
        "colab": {
          "base_uri": "https://localhost:8080/"
        },
        "outputId": "e98dd832-003b-4f78-f599-6fadcc598750"
      },
      "source": [
        "#Import Libraries\n",
        "from keras.preprocessing.image import ImageDataGenerator\n",
        "import keras\n",
        "from keras.models import Sequential\n",
        "from keras.layers import Input,Dense,Flatten,Dropout\n",
        "from keras.applications.vgg16 import VGG16\n",
        "from keras.applications.vgg16 import preprocess_input as pi\n",
        "from keras.optimizers import Adam, RMSprop\n",
        "from keras import optimizers\n",
        "\n",
        "print(keras.__version__)"
      ],
      "execution_count": null,
      "outputs": [
        {
          "output_type": "stream",
          "text": [
            "2.5.0\n"
          ],
          "name": "stdout"
        }
      ]
    },
    {
      "cell_type": "code",
      "metadata": {
        "id": "GWpF9xzWbD9U"
      },
      "source": [
        "num_classes =7\n",
        "image_resize = 48\n",
        "batch_size_training = 64\n",
        "batch_size_validation = 64\n",
        "\n",
        "path_training = '/content/drive/MyDrive/Dataset/FER2013/images/train'\n",
        "path_validation = '/content/drive/MyDrive/Dataset/FER2013/images/validation'"
      ],
      "execution_count": null,
      "outputs": []
    },
    {
      "cell_type": "code",
      "metadata": {
        "id": "C0ytmdNTbJQs"
      },
      "source": [
        "data_generator =ImageDataGenerator(\n",
        "    preprocessing_function = pi\n",
        ")"
      ],
      "execution_count": null,
      "outputs": []
    },
    {
      "cell_type": "code",
      "metadata": {
        "id": "9oOrnuDSbkra",
        "colab": {
          "base_uri": "https://localhost:8080/"
        },
        "outputId": "ac8e4bb0-bea9-4983-9114-3781c4bbeebc"
      },
      "source": [
        "training_generator = data_generator.flow_from_directory(\n",
        "    path_training,\n",
        "    target_size = (image_resize,image_resize),\n",
        "    batch_size = batch_size_training,\n",
        "    class_mode='categorical')"
      ],
      "execution_count": null,
      "outputs": [
        {
          "output_type": "stream",
          "text": [
            "Found 28831 images belonging to 7 classes.\n"
          ],
          "name": "stdout"
        }
      ]
    },
    {
      "cell_type": "code",
      "metadata": {
        "id": "AOhcycrUb3Cx",
        "colab": {
          "base_uri": "https://localhost:8080/"
        },
        "outputId": "205bcb58-139b-420e-be32-143c118a8e53"
      },
      "source": [
        "validation_generator = data_generator.flow_from_directory(\n",
        "    path_validation,\n",
        "    target_size = (image_resize,image_resize),\n",
        "    batch_size = batch_size_validation,\n",
        "    class_mode='categorical',\n",
        ")"
      ],
      "execution_count": null,
      "outputs": [
        {
          "output_type": "stream",
          "text": [
            "Found 7066 images belonging to 7 classes.\n"
          ],
          "name": "stdout"
        }
      ]
    },
    {
      "cell_type": "code",
      "metadata": {
        "id": "AXncJbb8b6UZ"
      },
      "source": [
        "model = Sequential()"
      ],
      "execution_count": null,
      "outputs": []
    },
    {
      "cell_type": "code",
      "metadata": {
        "id": "LrJpQTswb8Gr",
        "colab": {
          "base_uri": "https://localhost:8080/"
        },
        "outputId": "53321e76-4273-4d43-c8b0-e257df0b5a2a"
      },
      "source": [
        "model.add(VGG16(\n",
        "    include_top = False,\n",
        "    pooling='avg',\n",
        "    weights='imagenet',\n",
        "))"
      ],
      "execution_count": null,
      "outputs": [
        {
          "output_type": "stream",
          "text": [
            "Downloading data from https://storage.googleapis.com/tensorflow/keras-applications/vgg16/vgg16_weights_tf_dim_ordering_tf_kernels_notop.h5\n",
            "58892288/58889256 [==============================] - 0s 0us/step\n",
            "58900480/58889256 [==============================] - 0s 0us/step\n"
          ],
          "name": "stdout"
        }
      ]
    },
    {
      "cell_type": "code",
      "metadata": {
        "id": "FdfWU9lKb-hK"
      },
      "source": [
        "model.add(Flatten())\n",
        "model.add(Dropout(0.25))\n",
        "model.add(Dense(2048, activation='relu'))\n",
        "model.add(Dropout(0.25))\n",
        "model.add(Dense(1024, activation='relu'))\n",
        "model.add(Dense(num_classes, activation='softmax', name = 'classifer'))"
      ],
      "execution_count": null,
      "outputs": []
    },
    {
      "cell_type": "code",
      "metadata": {
        "id": "4RBbSTgCg7mQ",
        "colab": {
          "base_uri": "https://localhost:8080/"
        },
        "outputId": "03f4c7a0-2970-4bcd-9312-91995a677b5d"
      },
      "source": [
        "model.layers[0].layers"
      ],
      "execution_count": null,
      "outputs": [
        {
          "output_type": "execute_result",
          "data": {
            "text/plain": [
              "[<keras.engine.input_layer.InputLayer at 0x7f1514b1f090>,\n",
              " <keras.layers.convolutional.Conv2D at 0x7f151338bf90>,\n",
              " <keras.layers.convolutional.Conv2D at 0x7f15133120d0>,\n",
              " <keras.layers.pooling.MaxPooling2D at 0x7f1513321a90>,\n",
              " <keras.layers.convolutional.Conv2D at 0x7f1511d5bcd0>,\n",
              " <keras.layers.convolutional.Conv2D at 0x7f1512eeda90>,\n",
              " <keras.layers.pooling.MaxPooling2D at 0x7f1512ef7650>,\n",
              " <keras.layers.convolutional.Conv2D at 0x7f1512ef9dd0>,\n",
              " <keras.layers.convolutional.Conv2D at 0x7f1512f00cd0>,\n",
              " <keras.layers.convolutional.Conv2D at 0x7f1512eed310>,\n",
              " <keras.layers.pooling.MaxPooling2D at 0x7f1512f07f50>,\n",
              " <keras.layers.convolutional.Conv2D at 0x7f1512f0e710>,\n",
              " <keras.layers.convolutional.Conv2D at 0x7f1512f0bc90>,\n",
              " <keras.layers.convolutional.Conv2D at 0x7f1513312e50>,\n",
              " <keras.layers.pooling.MaxPooling2D at 0x7f15133624d0>,\n",
              " <keras.layers.convolutional.Conv2D at 0x7f1512f16a90>,\n",
              " <keras.layers.convolutional.Conv2D at 0x7f1512f079d0>,\n",
              " <keras.layers.convolutional.Conv2D at 0x7f1512f26f10>,\n",
              " <keras.layers.pooling.MaxPooling2D at 0x7f1501516f90>,\n",
              " <keras.layers.pooling.GlobalAveragePooling2D at 0x7f1512f07e10>]"
            ]
          },
          "metadata": {
            "tags": []
          },
          "execution_count": 10
        }
      ]
    },
    {
      "cell_type": "code",
      "metadata": {
        "id": "90sEOB4Dg9V3"
      },
      "source": [
        "model.layers[0].trainable = False"
      ],
      "execution_count": null,
      "outputs": []
    },
    {
      "cell_type": "code",
      "metadata": {
        "id": "PCdOixg7g-o_",
        "colab": {
          "base_uri": "https://localhost:8080/"
        },
        "outputId": "24a5f134-dce8-4dc4-e071-5ac4f51da187"
      },
      "source": [
        "model.summary()"
      ],
      "execution_count": null,
      "outputs": [
        {
          "output_type": "stream",
          "text": [
            "Model: \"sequential\"\n",
            "_________________________________________________________________\n",
            "Layer (type)                 Output Shape              Param #   \n",
            "=================================================================\n",
            "vgg16 (Functional)           (None, 512)               14714688  \n",
            "_________________________________________________________________\n",
            "flatten (Flatten)            (None, 512)               0         \n",
            "_________________________________________________________________\n",
            "dropout (Dropout)            (None, 512)               0         \n",
            "_________________________________________________________________\n",
            "dense (Dense)                (None, 2048)              1050624   \n",
            "_________________________________________________________________\n",
            "dropout_1 (Dropout)          (None, 2048)              0         \n",
            "_________________________________________________________________\n",
            "dense_1 (Dense)              (None, 1024)              2098176   \n",
            "_________________________________________________________________\n",
            "classifer (Dense)            (None, 7)                 7175      \n",
            "=================================================================\n",
            "Total params: 17,870,663\n",
            "Trainable params: 3,155,975\n",
            "Non-trainable params: 14,714,688\n",
            "_________________________________________________________________\n"
          ],
          "name": "stdout"
        }
      ]
    },
    {
      "cell_type": "code",
      "metadata": {
        "id": "9Dpq-c5YhAfn"
      },
      "source": [
        "model.compile(loss='categorical_crossentropy',\n",
        "              optimizer=Adam(),\n",
        "              metrics=['acc'])"
      ],
      "execution_count": null,
      "outputs": []
    },
    {
      "cell_type": "code",
      "metadata": {
        "id": "lDnJ_LcFhC-W",
        "colab": {
          "base_uri": "https://localhost:8080/"
        },
        "outputId": "cc77ae2e-0d8f-4823-fbee-d271e891805e"
      },
      "source": [
        "steps_per_epoch_training = training_generator.n/batch_size_training\n",
        "steps_per_epoch_validation = validation_generator.n/batch_size_validation\n",
        "num_epochs = 50\n",
        "\n",
        "print(steps_per_epoch_training)\n",
        "print(steps_per_epoch_validation)"
      ],
      "execution_count": null,
      "outputs": [
        {
          "output_type": "stream",
          "text": [
            "450.484375\n",
            "110.40625\n"
          ],
          "name": "stdout"
        }
      ]
    },
    {
      "cell_type": "code",
      "metadata": {
        "id": "tuLQ-HQVhFz3",
        "colab": {
          "base_uri": "https://localhost:8080/"
        },
        "outputId": "41b64e6e-e547-4a39-c3b9-6fac5d10c5f7"
      },
      "source": [
        "fit_history = model.fit(\n",
        "    training_generator,\n",
        "    steps_per_epoch = steps_per_epoch_training,\n",
        "    epochs = num_epochs ,\n",
        "    validation_data=validation_generator,\n",
        "    validation_steps = steps_per_epoch_validation,\n",
        "    verbose=1)"
      ],
      "execution_count": null,
      "outputs": [
        {
          "output_type": "stream",
          "text": [
            "Epoch 1/50\n",
            "450/450 [==============================] - 8656s 19s/step - loss: 5.2391 - acc: 0.2893 - val_loss: 1.6012 - val_acc: 0.3780\n",
            "Epoch 2/50\n",
            "450/450 [==============================] - 62s 137ms/step - loss: 1.6129 - acc: 0.3684 - val_loss: 1.5649 - val_acc: 0.4021\n",
            "Epoch 3/50\n",
            "450/450 [==============================] - 61s 136ms/step - loss: 1.5722 - acc: 0.3883 - val_loss: 1.5667 - val_acc: 0.4043\n",
            "Epoch 4/50\n",
            "450/450 [==============================] - 61s 136ms/step - loss: 1.5367 - acc: 0.4080 - val_loss: 1.5313 - val_acc: 0.4234\n",
            "Epoch 5/50\n",
            "450/450 [==============================] - 61s 135ms/step - loss: 1.5167 - acc: 0.4152 - val_loss: 1.5182 - val_acc: 0.4203\n",
            "Epoch 6/50\n",
            "450/450 [==============================] - 61s 134ms/step - loss: 1.4887 - acc: 0.4243 - val_loss: 1.5208 - val_acc: 0.4244\n",
            "Epoch 7/50\n",
            "450/450 [==============================] - 61s 134ms/step - loss: 1.4766 - acc: 0.4306 - val_loss: 1.5188 - val_acc: 0.4233\n",
            "Epoch 8/50\n",
            "450/450 [==============================] - 60s 134ms/step - loss: 1.4460 - acc: 0.4475 - val_loss: 1.5049 - val_acc: 0.4411\n",
            "Epoch 9/50\n",
            "450/450 [==============================] - 61s 135ms/step - loss: 1.4213 - acc: 0.4592 - val_loss: 1.5124 - val_acc: 0.4373\n",
            "Epoch 10/50\n",
            "450/450 [==============================] - 60s 134ms/step - loss: 1.4159 - acc: 0.4570 - val_loss: 1.5093 - val_acc: 0.4265\n",
            "Epoch 11/50\n",
            "450/450 [==============================] - 60s 133ms/step - loss: 1.3875 - acc: 0.4724 - val_loss: 1.5025 - val_acc: 0.4377\n",
            "Epoch 12/50\n",
            "450/450 [==============================] - 60s 134ms/step - loss: 1.3672 - acc: 0.4787 - val_loss: 1.5065 - val_acc: 0.4332\n",
            "Epoch 13/50\n",
            "450/450 [==============================] - 60s 134ms/step - loss: 1.3578 - acc: 0.4853 - val_loss: 1.5099 - val_acc: 0.4343\n",
            "Epoch 14/50\n",
            "450/450 [==============================] - 60s 134ms/step - loss: 1.3327 - acc: 0.4987 - val_loss: 1.5216 - val_acc: 0.4386\n",
            "Epoch 15/50\n",
            "450/450 [==============================] - 60s 134ms/step - loss: 1.3386 - acc: 0.4925 - val_loss: 1.4897 - val_acc: 0.4483\n",
            "Epoch 16/50\n",
            "450/450 [==============================] - 60s 134ms/step - loss: 1.3028 - acc: 0.5080 - val_loss: 1.5011 - val_acc: 0.4502\n",
            "Epoch 17/50\n",
            "450/450 [==============================] - 60s 134ms/step - loss: 1.2812 - acc: 0.5171 - val_loss: 1.5168 - val_acc: 0.4503\n",
            "Epoch 18/50\n",
            "450/450 [==============================] - 60s 134ms/step - loss: 1.2764 - acc: 0.5176 - val_loss: 1.4972 - val_acc: 0.4495\n",
            "Epoch 19/50\n",
            "451/450 [==============================] - ETA: 0s - loss: 1.2697 - acc: 0.5234Epoch 20/50\n",
            "450/450 [==============================] - 60s 134ms/step - loss: 1.2512 - acc: 0.5291 - val_loss: 1.4924 - val_acc: 0.4583\n",
            "Epoch 21/50\n",
            "450/450 [==============================] - 60s 134ms/step - loss: 1.2194 - acc: 0.5397 - val_loss: 1.5060 - val_acc: 0.4598\n",
            "Epoch 22/50\n",
            "450/450 [==============================] - 61s 134ms/step - loss: 1.2224 - acc: 0.5403 - val_loss: 1.5084 - val_acc: 0.4570\n",
            "Epoch 23/50\n",
            "450/450 [==============================] - 60s 134ms/step - loss: 1.2086 - acc: 0.5498 - val_loss: 1.5168 - val_acc: 0.4476\n",
            "Epoch 24/50\n",
            "450/450 [==============================] - 60s 134ms/step - loss: 1.1997 - acc: 0.5511 - val_loss: 1.5043 - val_acc: 0.4595\n",
            "Epoch 25/50\n",
            "450/450 [==============================] - 60s 133ms/step - loss: 1.1900 - acc: 0.5478 - val_loss: 1.5026 - val_acc: 0.4585\n",
            "Epoch 26/50\n",
            "450/450 [==============================] - 60s 133ms/step - loss: 1.1638 - acc: 0.5678 - val_loss: 1.5244 - val_acc: 0.4614\n",
            "Epoch 27/50\n",
            "450/450 [==============================] - 60s 133ms/step - loss: 1.1632 - acc: 0.5633 - val_loss: 1.5237 - val_acc: 0.4631\n",
            "Epoch 28/50\n",
            "450/450 [==============================] - 60s 134ms/step - loss: 1.1520 - acc: 0.5741 - val_loss: 1.5228 - val_acc: 0.4615\n",
            "Epoch 29/50\n",
            "450/450 [==============================] - 60s 133ms/step - loss: 1.1540 - acc: 0.5712 - val_loss: 1.5196 - val_acc: 0.4628\n",
            "Epoch 30/50\n",
            "451/450 [==============================] - ETA: 0s - loss: 1.1238 - acc: 0.5838Epoch 31/50\n",
            "450/450 [==============================] - 60s 132ms/step - loss: 1.1323 - acc: 0.5822 - val_loss: 1.5228 - val_acc: 0.4607\n",
            "Epoch 32/50\n",
            "450/450 [==============================] - 60s 133ms/step - loss: 1.1215 - acc: 0.5853 - val_loss: 1.5539 - val_acc: 0.4650\n",
            "Epoch 33/50\n",
            "450/450 [==============================] - 60s 134ms/step - loss: 1.1001 - acc: 0.5952 - val_loss: 1.5193 - val_acc: 0.4699\n",
            "Epoch 34/50\n",
            "450/450 [==============================] - 60s 134ms/step - loss: 1.0988 - acc: 0.5944 - val_loss: 1.5367 - val_acc: 0.4626\n",
            "Epoch 35/50\n",
            "450/450 [==============================] - 61s 135ms/step - loss: 1.0886 - acc: 0.5994 - val_loss: 1.5535 - val_acc: 0.4621\n",
            "Epoch 36/50\n",
            "450/450 [==============================] - 60s 133ms/step - loss: 1.0864 - acc: 0.5969 - val_loss: 1.5309 - val_acc: 0.4624\n",
            "Epoch 37/50\n",
            "450/450 [==============================] - 60s 134ms/step - loss: 1.0734 - acc: 0.6038 - val_loss: 1.5593 - val_acc: 0.4687\n",
            "Epoch 38/50\n",
            "450/450 [==============================] - 60s 134ms/step - loss: 1.0705 - acc: 0.6049 - val_loss: 1.5536 - val_acc: 0.4682\n",
            "Epoch 39/50\n",
            "450/450 [==============================] - 60s 134ms/step - loss: 1.0678 - acc: 0.6042 - val_loss: 1.5601 - val_acc: 0.4691\n",
            "Epoch 40/50\n",
            "450/450 [==============================] - 60s 134ms/step - loss: 1.0553 - acc: 0.6115 - val_loss: 1.5713 - val_acc: 0.4621\n",
            "Epoch 41/50\n",
            "450/450 [==============================] - 60s 134ms/step - loss: 1.0574 - acc: 0.6061 - val_loss: 1.5817 - val_acc: 0.4680\n",
            "Epoch 42/50\n",
            "450/450 [==============================] - 60s 134ms/step - loss: 1.0306 - acc: 0.6190 - val_loss: 1.5786 - val_acc: 0.4706\n",
            "Epoch 43/50\n",
            "450/450 [==============================] - 60s 134ms/step - loss: 1.0511 - acc: 0.6156 - val_loss: 1.5581 - val_acc: 0.4788\n",
            "Epoch 44/50\n",
            "450/450 [==============================] - 60s 134ms/step - loss: 1.0306 - acc: 0.6186 - val_loss: 1.5542 - val_acc: 0.4710\n",
            "Epoch 45/50\n",
            "450/450 [==============================] - 60s 134ms/step - loss: 1.0206 - acc: 0.6233 - val_loss: 1.5686 - val_acc: 0.4646\n",
            "Epoch 46/50\n",
            "450/450 [==============================] - 60s 134ms/step - loss: 1.0215 - acc: 0.6220 - val_loss: 1.5983 - val_acc: 0.4724\n",
            "Epoch 47/50\n",
            "450/450 [==============================] - 60s 134ms/step - loss: 1.0291 - acc: 0.6183 - val_loss: 1.5832 - val_acc: 0.4672\n",
            "Epoch 48/50\n",
            "450/450 [==============================] - 60s 134ms/step - loss: 1.0158 - acc: 0.6274 - val_loss: 1.6277 - val_acc: 0.4597\n",
            "Epoch 49/50\n",
            "450/450 [==============================] - 60s 134ms/step - loss: 0.9991 - acc: 0.6341 - val_loss: 1.5876 - val_acc: 0.4718\n",
            "Epoch 50/50\n",
            "450/450 [==============================] - 61s 134ms/step - loss: 0.9985 - acc: 0.6370 - val_loss: 1.6004 - val_acc: 0.4724\n"
          ],
          "name": "stdout"
        }
      ]
    },
    {
      "cell_type": "code",
      "metadata": {
        "id": "jxqB-9N6hShu"
      },
      "source": [
        "model.save('Model4_1_VGG_Finetune_Adam0.001.h5')"
      ],
      "execution_count": null,
      "outputs": []
    },
    {
      "cell_type": "code",
      "metadata": {
        "id": "19CO9w7fwZhA",
        "colab": {
          "base_uri": "https://localhost:8080/",
          "height": 573
        },
        "outputId": "f40f8bb8-97e3-4caf-d4da-a9115967f8ec"
      },
      "source": [
        "import matplotlib.pyplot as plt\n",
        "\n",
        "accuracy = fit_history.history['acc']\n",
        "val_accuracy = fit_history.history['val_acc']\n",
        "loss = fit_history.history['loss']\n",
        "val_loss = fit_history.history['val_loss']\n",
        "num_epochs = range(len(accuracy))\n",
        "plt.plot(num_epochs, accuracy, 'r', label='Training acc')\n",
        "plt.plot(num_epochs, val_accuracy, 'b', label='Validation acc')\n",
        "plt.title('Training and validation accuracy')\n",
        "plt.ylabel('accuracy')  \n",
        "plt.xlabel('epoch')\n",
        "plt.legend()\n",
        "plt.figure()\n",
        "plt.plot(num_epochs, loss, 'r', label='Training loss')\n",
        "plt.plot(num_epochs, val_loss, 'b', label='Validation loss')\n",
        "plt.title('Training and validation loss')\n",
        "plt.ylabel('loss')  \n",
        "plt.xlabel('epoch')\n",
        "plt.legend()\n",
        "plt.show()"
      ],
      "execution_count": null,
      "outputs": [
        {
          "output_type": "display_data",
          "data": {
            "image/png": "[encoded data removed]",
            "text/plain": [
              "<Figure size 432x288 with 1 Axes>"
            ]
          },
          "metadata": {
            "tags": [],
            "needs_background": "light"
          }
        },
        {
          "output_type": "display_data",
          "data": {
            "image/png": "[encoded data removed]",
            "text/plain": [
              "<Figure size 432x288 with 1 Axes>"
            ]
          },
          "metadata": {
            "tags": [],
            "needs_background": "light"
          }
        }
      ]
    }
  ]
}