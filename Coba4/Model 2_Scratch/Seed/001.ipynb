{
  "nbformat": 4,
  "nbformat_minor": 0,
  "metadata": {
    "colab": {
      "name": "Coba4.ipynb",
      "provenance": [],
      "collapsed_sections": [],
      "include_colab_link": true
    },
    "kernelspec": {
      "name": "python3",
      "display_name": "Python 3"
    },
    "language_info": {
      "name": "python"
    },
    "accelerator": "GPU"
  },
  "cells": [
    {
      "cell_type": "markdown",
      "metadata": {
        "id": "view-in-github",
        "colab_type": "text"
      },
      "source": [
        "<a href=\"https://colab.research.google.com/github/rizqyjoe/Facial_Expression_Recognition_CNN_VGG16/blob/main/Coba4/Model%202_Scratch/Seed/001.ipynb\" target=\"_parent\"><img src=\"https://colab.research.google.com/assets/colab-badge.svg\" alt=\"Open In Colab\"/></a>"
      ]
    },
    {
      "cell_type": "code",
      "metadata": {
        "id": "sX-0w3h_sh6U",
        "colab": {
          "base_uri": "https://localhost:8080/"
        },
        "outputId": "b8971dbd-d41b-41a5-e03f-85807d5e0df9"
      },
      "source": [
        "#mount drive\n",
        "from google.colab import drive\n",
        "drive.mount('/content/drive')"
      ],
      "execution_count": 1,
      "outputs": [
        {
          "output_type": "stream",
          "text": [
            "Drive already mounted at /content/drive; to attempt to forcibly remount, call drive.mount(\"/content/drive\", force_remount=True).\n"
          ],
          "name": "stdout"
        }
      ]
    },
    {
      "cell_type": "markdown",
      "metadata": {
        "id": "58jrp8yObBBA"
      },
      "source": [
        "# Pre-processing"
      ]
    },
    {
      "cell_type": "code",
      "metadata": {
        "id": "7nrYTmGLrD2A"
      },
      "source": [
        "import tensorflow as tf\n",
        "import keras\n",
        "from keras import backend as K\n",
        "import pandas as pd\n",
        "import numpy as np\n",
        "import matplotlib.pyplot as plt\n",
        "from keras.preprocessing import image\n",
        "from keras.preprocessing.image import ImageDataGenerator\n",
        "from keras import regularizers\n",
        "from keras.utils import np_utils\n",
        "\n",
        "import tensorflow as tf\n",
        "import random\n",
        "\n",
        "tf.random.set_seed(55)\n",
        "np.random.seed(55)\n",
        "\n",
        "from keras.initializers import glorot_uniform"
      ],
      "execution_count": 1,
      "outputs": []
    },
    {
      "cell_type": "code",
      "metadata": {
        "colab": {
          "base_uri": "https://localhost:8080/",
          "height": 204
        },
        "id": "0vTjzHIRrW53",
        "outputId": "2d492e25-923a-454c-c1a7-07b3f94f5d40"
      },
      "source": [
        "#load file\n",
        "data= pd.read_csv('/content/drive/MyDrive/Dataset/fer2013 dataset/fer2013/fer2013.csv')\n",
        "data.head()"
      ],
      "execution_count": 2,
      "outputs": [
        {
          "output_type": "execute_result",
          "data": {
            "text/html": [
              "<div>\n",
              "<style scoped>\n",
              "    .dataframe tbody tr th:only-of-type {\n",
              "        vertical-align: middle;\n",
              "    }\n",
              "\n",
              "    .dataframe tbody tr th {\n",
              "        vertical-align: top;\n",
              "    }\n",
              "\n",
              "    .dataframe thead th {\n",
              "        text-align: right;\n",
              "    }\n",
              "</style>\n",
              "<table border=\"1\" class=\"dataframe\">\n",
              "  <thead>\n",
              "    <tr style=\"text-align: right;\">\n",
              "      <th></th>\n",
              "      <th>emotion</th>\n",
              "      <th>pixels</th>\n",
              "      <th>Usage</th>\n",
              "    </tr>\n",
              "  </thead>\n",
              "  <tbody>\n",
              "    <tr>\n",
              "      <th>0</th>\n",
              "      <td>0</td>\n",
              "      <td>70 80 82 72 58 58 60 63 54 58 60 48 89 115 121...</td>\n",
              "      <td>Training</td>\n",
              "    </tr>\n",
              "    <tr>\n",
              "      <th>1</th>\n",
              "      <td>0</td>\n",
              "      <td>151 150 147 155 148 133 111 140 170 174 182 15...</td>\n",
              "      <td>Training</td>\n",
              "    </tr>\n",
              "    <tr>\n",
              "      <th>2</th>\n",
              "      <td>2</td>\n",
              "      <td>231 212 156 164 174 138 161 173 182 200 106 38...</td>\n",
              "      <td>Training</td>\n",
              "    </tr>\n",
              "    <tr>\n",
              "      <th>3</th>\n",
              "      <td>4</td>\n",
              "      <td>24 32 36 30 32 23 19 20 30 41 21 22 32 34 21 1...</td>\n",
              "      <td>Training</td>\n",
              "    </tr>\n",
              "    <tr>\n",
              "      <th>4</th>\n",
              "      <td>6</td>\n",
              "      <td>4 0 0 0 0 0 0 0 0 0 0 0 3 15 23 28 48 50 58 84...</td>\n",
              "      <td>Training</td>\n",
              "    </tr>\n",
              "  </tbody>\n",
              "</table>\n",
              "</div>"
            ],
            "text/plain": [
              "   emotion                                             pixels     Usage\n",
              "0        0  70 80 82 72 58 58 60 63 54 58 60 48 89 115 121...  Training\n",
              "1        0  151 150 147 155 148 133 111 140 170 174 182 15...  Training\n",
              "2        2  231 212 156 164 174 138 161 173 182 200 106 38...  Training\n",
              "3        4  24 32 36 30 32 23 19 20 30 41 21 22 32 34 21 1...  Training\n",
              "4        6  4 0 0 0 0 0 0 0 0 0 0 0 3 15 23 28 48 50 58 84...  Training"
            ]
          },
          "metadata": {
            "tags": []
          },
          "execution_count": 2
        }
      ]
    },
    {
      "cell_type": "code",
      "metadata": {
        "colab": {
          "base_uri": "https://localhost:8080/"
        },
        "id": "NU40Z0ynrau2",
        "outputId": "117ec7ed-aefa-4992-aa6d-fa1de9fcf5d1"
      },
      "source": [
        "data.emotion.value_counts()"
      ],
      "execution_count": 3,
      "outputs": [
        {
          "output_type": "execute_result",
          "data": {
            "text/plain": [
              "3    8989\n",
              "6    6198\n",
              "4    6077\n",
              "2    5121\n",
              "0    4953\n",
              "5    4002\n",
              "1     547\n",
              "Name: emotion, dtype: int64"
            ]
          },
          "metadata": {
            "tags": []
          },
          "execution_count": 3
        }
      ]
    },
    {
      "cell_type": "code",
      "metadata": {
        "id": "IeBaq6_7rdMu"
      },
      "source": [
        "emotion_labels = [\"Angry\", \"Disgust\", \"Fear\", \"Happy\", \"Sad\", \"Surprise\", \"Neutral\"]\n",
        "labels=np.array((\"Angry\", \"Disgust\", \"Fear\", \"Happy\", \"Sad\", \"Surprise\", \"Neutral\"))"
      ],
      "execution_count": 4,
      "outputs": []
    },
    {
      "cell_type": "code",
      "metadata": {
        "colab": {
          "base_uri": "https://localhost:8080/"
        },
        "id": "8MQKKFDare4e",
        "outputId": "909e7552-41b6-4f2d-d8a9-6fa2288517c1"
      },
      "source": [
        "data.Usage.value_counts()"
      ],
      "execution_count": 5,
      "outputs": [
        {
          "output_type": "execute_result",
          "data": {
            "text/plain": [
              "Training       28709\n",
              "PrivateTest     3589\n",
              "PublicTest      3589\n",
              "Name: Usage, dtype: int64"
            ]
          },
          "metadata": {
            "tags": []
          },
          "execution_count": 5
        }
      ]
    },
    {
      "cell_type": "code",
      "metadata": {
        "id": "RQlblEnwrgkW"
      },
      "source": [
        "#split data \n",
        "train_set = data[(data.Usage == 'Training')] \n",
        "val_set = data[(data.Usage == 'PublicTest')]\n",
        "test_set = data[(data.Usage == 'PrivateTest')] \n",
        "X_train = np.array(list(map(str.split, train_set.pixels)), np.float32) \n",
        "X_val = np.array(list(map(str.split, val_set.pixels)), np.float32) \n",
        "X_test = np.array(list(map(str.split, test_set.pixels)), np.float32) \n",
        "X_train = X_train.reshape(X_train.shape[0], 48, 48, 1) \n",
        "X_val = X_val.reshape(X_val.shape[0], 48, 48, 1)\n",
        "X_test = X_test.reshape(X_test.shape[0], 48, 48, 1)"
      ],
      "execution_count": 6,
      "outputs": []
    },
    {
      "cell_type": "code",
      "metadata": {
        "id": "MVqY8ftoriHW"
      },
      "source": [
        "num_classes = 7\n",
        "\n",
        "y_train = train_set.emotion \n",
        "y_train = np_utils.to_categorical(y_train, num_classes) \n",
        "y_val = val_set.emotion \n",
        "y_val = np_utils.to_categorical(y_val, num_classes) \n",
        "y_test = test_set.emotion \n",
        "y_test = np_utils.to_categorical(y_test, num_classes)"
      ],
      "execution_count": 7,
      "outputs": []
    },
    {
      "cell_type": "code",
      "metadata": {
        "colab": {
          "base_uri": "https://localhost:8080/"
        },
        "id": "WaMwvF5vrju-",
        "outputId": "fe36737a-8143-4838-9fe8-88d8c37f5fc4"
      },
      "source": [
        "print(\"x_train:\",X_train.shape)\n",
        "print(\"y_train:\",y_train.shape)\n",
        "print(\"x_val:\",X_val.shape)\n",
        "print(\"y_val:\",y_val.shape)\n",
        "print(\"x_test:\",X_test.shape)\n",
        "print(\"y_test:\",y_test.shape)"
      ],
      "execution_count": 8,
      "outputs": [
        {
          "output_type": "stream",
          "text": [
            "x_train: (28709, 48, 48, 1)\n",
            "y_train: (28709, 7)\n",
            "x_val: (3589, 48, 48, 1)\n",
            "y_val: (3589, 7)\n",
            "x_test: (3589, 48, 48, 1)\n",
            "y_test: (3589, 7)\n"
          ],
          "name": "stdout"
        }
      ]
    },
    {
      "cell_type": "code",
      "metadata": {
        "id": "DzChH8hGrldw"
      },
      "source": [
        "#data augmentation\n",
        "'''datagen = ImageDataGenerator(rescale=1./255,\n",
        "                             rotation_range = 10,\n",
        "                             horizontal_flip = True,\n",
        "                             width_shift_range=0.1,\n",
        "                             height_shift_range=0.1,\n",
        "                             fill_mode = 'nearest')'''\n",
        "\n",
        "datagen = ImageDataGenerator(rescale=1./255)\n",
        "\n",
        "#testgen = ImageDataGenerator(rescale=1./255)\n",
        "testgen = ImageDataGenerator(rescale=1./255)\n",
        "\n",
        "datagen.fit(X_train)\n",
        "batch_size = 64"
      ],
      "execution_count": 9,
      "outputs": []
    },
    {
      "cell_type": "code",
      "metadata": {
        "id": "d-nkOZUfrm_e"
      },
      "source": [
        "train_flow = datagen.flow(X_train, y_train, batch_size=batch_size) \n",
        "val_flow = testgen.flow(X_val, y_val, batch_size=batch_size) \n",
        "test_flow = testgen.flow(X_test, y_test, batch_size=batch_size)"
      ],
      "execution_count": 10,
      "outputs": []
    },
    {
      "cell_type": "code",
      "metadata": {
        "id": "3u6vR_8CroMG"
      },
      "source": [
        "from tensorflow.keras.utils import plot_model\n",
        "from matplotlib import pyplot"
      ],
      "execution_count": 11,
      "outputs": []
    },
    {
      "cell_type": "code",
      "metadata": {
        "colab": {
          "base_uri": "https://localhost:8080/",
          "height": 248
        },
        "id": "HZ6sB7a0rp0O",
        "outputId": "40cd4c32-94c4-4e1f-a6d1-aa257b9c0d97"
      },
      "source": [
        "#displaying sample images\n",
        "for X_batch, y_batch in datagen.flow(X_train, y_train, batch_size=9):\n",
        "    for i in range(0, 9): \n",
        "        pyplot.axis('off') \n",
        "        pyplot.subplot(330 + 1 + i) \n",
        "        pyplot.imshow(X_batch[i].reshape(48, 48), cmap=pyplot.get_cmap('gray'))\n",
        "    pyplot.axis('off') \n",
        "    pyplot.show() \n",
        "    break"
      ],
      "execution_count": 12,
      "outputs": [
        {
          "output_type": "display_data",
          "data": {
            "image/png": "[encoded data removed]",
            "text/plain": [
              "<Figure size 432x288 with 9 Axes>"
            ]
          },
          "metadata": {
            "tags": [],
            "needs_background": "light"
          }
        }
      ]
    },
    {
      "cell_type": "markdown",
      "metadata": {
        "id": "mH061hQUbJsv"
      },
      "source": [
        "# Training Model"
      ]
    },
    {
      "cell_type": "code",
      "metadata": {
        "id": "CyjVWe3Arsqu"
      },
      "source": [
        "'''from keras.models import Sequential\n",
        "from keras.layers import Input, Dense, Flatten, Dropout, Conv2D, MaxPool2D, BatchNormalization, Activation\n",
        "\n",
        "input_shape = (48, 48, 1)\n",
        "\n",
        "model = Sequential()\n",
        "\n",
        "model.add(Conv2D(filters=64,input_shape=(input_shape),kernel_size=(3,3),padding=\"same\", activation=\"relu\", kernel_initializer = glorot_uniform(seed=1)))\n",
        "model.add(Conv2D(filters=64,kernel_size=(3,3),padding=\"same\", activation=\"relu\", kernel_initializer = glorot_uniform(seed=1)))\n",
        "model.add(MaxPool2D(pool_size=(2,2),strides=(2,2)))\n",
        "model.add(Dropout(0.25))\n",
        "model.add(BatchNormalization())\n",
        "\n",
        "model.add(Conv2D(filters=128, kernel_size=(3,3), padding=\"same\", activation=\"relu\", kernel_initializer = glorot_uniform(seed=1)))\n",
        "model.add(Conv2D(filters=128, kernel_size=(3,3), padding=\"same\", activation=\"relu\", kernel_initializer = glorot_uniform(seed=1)))\n",
        "model.add(MaxPool2D(pool_size=(2,2),strides=(2,2)))\n",
        "model.add(Dropout(0.25))\n",
        "model.add(BatchNormalization())\n",
        "\n",
        "model.add(Conv2D(filters=256, kernel_size=(3,3), padding=\"same\", activation=\"relu\", kernel_initializer = glorot_uniform(seed=1)))\n",
        "model.add(Conv2D(filters=256, kernel_size=(3,3), padding=\"same\", activation=\"relu\", kernel_initializer = glorot_uniform(seed=1)))\n",
        "model.add(Conv2D(filters=256, kernel_size=(3,3), padding=\"same\", activation=\"relu\", kernel_initializer = glorot_uniform(seed=1)))\n",
        "model.add(MaxPool2D(pool_size=(2,2),strides=(2,2)))\n",
        "model.add(Dropout(0.5))\n",
        "model.add(BatchNormalization())\n",
        "\n",
        "model.add(Conv2D(filters=512, kernel_size=(3,3), padding=\"same\", activation=\"relu\", kernel_initializer = glorot_uniform(seed=1)))\n",
        "model.add(Conv2D(filters=512, kernel_size=(3,3), padding=\"same\", activation=\"relu\", kernel_initializer = glorot_uniform(seed=1)))\n",
        "model.add(Conv2D(filters=512, kernel_size=(3,3), padding=\"same\", activation=\"relu\", kernel_initializer = glorot_uniform(seed=1)))\n",
        "model.add(MaxPool2D(pool_size=(2,2),strides=(2,2)))\n",
        "model.add(Dropout(0.5))\n",
        "model.add(BatchNormalization())\n",
        "\n",
        "model.add(Flatten())\n",
        "\n",
        "model.add(Dense(512,activation='relu'))\n",
        "model.add(Dropout(0.5))\n",
        "model.add(Dense(512,activation='relu'))\n",
        "model.add(Dropout(0.5))\n",
        "model.add(Dense(512,activation='relu'))\n",
        "model.add(Dropout(0.5))\n",
        "\n",
        "model.add(Dense(units=num_classes, activation='softmax'))\n",
        "\n",
        "# print the model summary\n",
        "model.summary()"
      ],
      "execution_count": null,
      "outputs": []
    },
    {
      "cell_type": "code",
      "metadata": {
        "colab": {
          "base_uri": "https://localhost:8080/"
        },
        "id": "zSPFODgTCUdB",
        "outputId": "a891ee3d-8a4a-472d-e08b-7993859b726d"
      },
      "source": [
        "from keras.models import Sequential\n",
        "from keras.layers import Input, Dense, Flatten, Dropout, Conv2D, MaxPool2D, BatchNormalization, Activation\n",
        "\n",
        "input_shape = (48, 48, 1)\n",
        "\n",
        "model = Sequential()\n",
        "\n",
        "model.add(Conv2D(filters=64,input_shape=(input_shape),kernel_size=(3,3),padding=\"same\", activation=\"relu\", kernel_initializer = glorot_uniform(seed=1)))\n",
        "model.add(BatchNormalization())\n",
        "model.add(Conv2D(filters=64,kernel_size=(3,3),padding=\"same\", activation=\"relu\", kernel_initializer = glorot_uniform(seed=1)))\n",
        "model.add(BatchNormalization())\n",
        "model.add(MaxPool2D(pool_size=(2,2),strides=(2,2)))\n",
        "model.add(Dropout(0.2))\n",
        "\n",
        "model.add(Conv2D(filters=128, kernel_size=(3,3), padding=\"same\", activation=\"relu\", kernel_initializer = glorot_uniform(seed=1)))\n",
        "model.add(BatchNormalization())\n",
        "model.add(Conv2D(filters=128, kernel_size=(3,3), padding=\"same\", activation=\"relu\", kernel_initializer = glorot_uniform(seed=1)))\n",
        "model.add(BatchNormalization())\n",
        "model.add(MaxPool2D(pool_size=(2,2),strides=(2,2)))\n",
        "model.add(Dropout(0.3))\n",
        "\n",
        "model.add(Conv2D(filters=256, kernel_size=(3,3), padding=\"same\", activation=\"relu\", kernel_initializer = glorot_uniform(seed=1)))\n",
        "model.add(BatchNormalization())\n",
        "model.add(Conv2D(filters=256, kernel_size=(3,3), padding=\"same\", activation=\"relu\", kernel_initializer = glorot_uniform(seed=1)))\n",
        "model.add(BatchNormalization())\n",
        "model.add(Conv2D(filters=256, kernel_size=(3,3), padding=\"same\", activation=\"relu\", kernel_initializer = glorot_uniform(seed=1)))\n",
        "model.add(BatchNormalization())\n",
        "model.add(MaxPool2D(pool_size=(2,2),strides=(2,2)))\n",
        "model.add(Dropout(0.4))\n",
        "\n",
        "model.add(Conv2D(filters=512, kernel_size=(3,3), padding=\"same\", activation=\"relu\", kernel_initializer = glorot_uniform(seed=1)))\n",
        "model.add(BatchNormalization())\n",
        "model.add(Conv2D(filters=512, kernel_size=(3,3), padding=\"same\", activation=\"relu\", kernel_initializer = glorot_uniform(seed=1)))\n",
        "model.add(BatchNormalization())\n",
        "model.add(Conv2D(filters=512, kernel_size=(3,3), padding=\"same\", activation=\"relu\", kernel_initializer = glorot_uniform(seed=1)))\n",
        "model.add(BatchNormalization())\n",
        "model.add(MaxPool2D(pool_size=(2,2),strides=(2,2)))\n",
        "model.add(Dropout(0.5))\n",
        "\n",
        "model.add(Conv2D(filters=512, kernel_size=(3,3), padding=\"same\", activation=\"relu\", kernel_initializer = glorot_uniform(seed=1)))\n",
        "model.add(BatchNormalization())\n",
        "model.add(Conv2D(filters=512, kernel_size=(3,3), padding=\"same\", activation=\"relu\", kernel_initializer = glorot_uniform(seed=1)))\n",
        "model.add(BatchNormalization())\n",
        "model.add(Conv2D(filters=512, kernel_size=(3,3), padding=\"same\", activation=\"relu\", kernel_initializer = glorot_uniform(seed=1)))\n",
        "model.add(BatchNormalization())\n",
        "model.add(MaxPool2D(pool_size=(2,2),strides=(2,2)))\n",
        "model.add(Dropout(0.6))\n",
        "\n",
        "model.add(Flatten())\n",
        "\n",
        "model.add(Dense(512,activation='relu'))\n",
        "model.add(Dropout(0.6))\n",
        "model.add(Dense(512,activation='relu'))\n",
        "model.add(Dropout(0.6))\n",
        "\n",
        "model.add(Dense(units=num_classes, activation='softmax'))\n",
        "\n",
        "# print the model summary\n",
        "model.summary()"
      ],
      "execution_count": 13,
      "outputs": [
        {
          "output_type": "stream",
          "text": [
            "Model: \"sequential\"\n",
            "_________________________________________________________________\n",
            "Layer (type)                 Output Shape              Param #   \n",
            "=================================================================\n",
            "conv2d (Conv2D)              (None, 48, 48, 64)        640       \n",
            "_________________________________________________________________\n",
            "batch_normalization (BatchNo (None, 48, 48, 64)        256       \n",
            "_________________________________________________________________\n",
            "conv2d_1 (Conv2D)            (None, 48, 48, 64)        36928     \n",
            "_________________________________________________________________\n",
            "batch_normalization_1 (Batch (None, 48, 48, 64)        256       \n",
            "_________________________________________________________________\n",
            "max_pooling2d (MaxPooling2D) (None, 24, 24, 64)        0         \n",
            "_________________________________________________________________\n",
            "dropout (Dropout)            (None, 24, 24, 64)        0         \n",
            "_________________________________________________________________\n",
            "conv2d_2 (Conv2D)            (None, 24, 24, 128)       73856     \n",
            "_________________________________________________________________\n",
            "batch_normalization_2 (Batch (None, 24, 24, 128)       512       \n",
            "_________________________________________________________________\n",
            "conv2d_3 (Conv2D)            (None, 24, 24, 128)       147584    \n",
            "_________________________________________________________________\n",
            "batch_normalization_3 (Batch (None, 24, 24, 128)       512       \n",
            "_________________________________________________________________\n",
            "max_pooling2d_1 (MaxPooling2 (None, 12, 12, 128)       0         \n",
            "_________________________________________________________________\n",
            "dropout_1 (Dropout)          (None, 12, 12, 128)       0         \n",
            "_________________________________________________________________\n",
            "conv2d_4 (Conv2D)            (None, 12, 12, 256)       295168    \n",
            "_________________________________________________________________\n",
            "batch_normalization_4 (Batch (None, 12, 12, 256)       1024      \n",
            "_________________________________________________________________\n",
            "conv2d_5 (Conv2D)            (None, 12, 12, 256)       590080    \n",
            "_________________________________________________________________\n",
            "batch_normalization_5 (Batch (None, 12, 12, 256)       1024      \n",
            "_________________________________________________________________\n",
            "conv2d_6 (Conv2D)            (None, 12, 12, 256)       590080    \n",
            "_________________________________________________________________\n",
            "batch_normalization_6 (Batch (None, 12, 12, 256)       1024      \n",
            "_________________________________________________________________\n",
            "max_pooling2d_2 (MaxPooling2 (None, 6, 6, 256)         0         \n",
            "_________________________________________________________________\n",
            "dropout_2 (Dropout)          (None, 6, 6, 256)         0         \n",
            "_________________________________________________________________\n",
            "conv2d_7 (Conv2D)            (None, 6, 6, 512)         1180160   \n",
            "_________________________________________________________________\n",
            "batch_normalization_7 (Batch (None, 6, 6, 512)         2048      \n",
            "_________________________________________________________________\n",
            "conv2d_8 (Conv2D)            (None, 6, 6, 512)         2359808   \n",
            "_________________________________________________________________\n",
            "batch_normalization_8 (Batch (None, 6, 6, 512)         2048      \n",
            "_________________________________________________________________\n",
            "conv2d_9 (Conv2D)            (None, 6, 6, 512)         2359808   \n",
            "_________________________________________________________________\n",
            "batch_normalization_9 (Batch (None, 6, 6, 512)         2048      \n",
            "_________________________________________________________________\n",
            "max_pooling2d_3 (MaxPooling2 (None, 3, 3, 512)         0         \n",
            "_________________________________________________________________\n",
            "dropout_3 (Dropout)          (None, 3, 3, 512)         0         \n",
            "_________________________________________________________________\n",
            "conv2d_10 (Conv2D)           (None, 3, 3, 512)         2359808   \n",
            "_________________________________________________________________\n",
            "batch_normalization_10 (Batc (None, 3, 3, 512)         2048      \n",
            "_________________________________________________________________\n",
            "conv2d_11 (Conv2D)           (None, 3, 3, 512)         2359808   \n",
            "_________________________________________________________________\n",
            "batch_normalization_11 (Batc (None, 3, 3, 512)         2048      \n",
            "_________________________________________________________________\n",
            "conv2d_12 (Conv2D)           (None, 3, 3, 512)         2359808   \n",
            "_________________________________________________________________\n",
            "batch_normalization_12 (Batc (None, 3, 3, 512)         2048      \n",
            "_________________________________________________________________\n",
            "max_pooling2d_4 (MaxPooling2 (None, 1, 1, 512)         0         \n",
            "_________________________________________________________________\n",
            "dropout_4 (Dropout)          (None, 1, 1, 512)         0         \n",
            "_________________________________________________________________\n",
            "flatten (Flatten)            (None, 512)               0         \n",
            "_________________________________________________________________\n",
            "dense (Dense)                (None, 512)               262656    \n",
            "_________________________________________________________________\n",
            "dropout_5 (Dropout)          (None, 512)               0         \n",
            "_________________________________________________________________\n",
            "dense_1 (Dense)              (None, 512)               262656    \n",
            "_________________________________________________________________\n",
            "dropout_6 (Dropout)          (None, 512)               0         \n",
            "_________________________________________________________________\n",
            "dense_2 (Dense)              (None, 7)                 3591      \n",
            "=================================================================\n",
            "Total params: 15,259,335\n",
            "Trainable params: 15,250,887\n",
            "Non-trainable params: 8,448\n",
            "_________________________________________________________________\n"
          ],
          "name": "stdout"
        }
      ]
    },
    {
      "cell_type": "code",
      "metadata": {
        "id": "bziUSilV_y4Z"
      },
      "source": [
        "from keras.optimizers import Adam,SGD,RMSprop"
      ],
      "execution_count": 14,
      "outputs": []
    },
    {
      "cell_type": "code",
      "metadata": {
        "id": "LhxgJX3brul-"
      },
      "source": [
        "#compile model\n",
        "adam = Adam(learning_rate=0.0001)\n",
        "model.compile(loss='categorical_crossentropy', optimizer=adam, metrics=['accuracy'])"
      ],
      "execution_count": 15,
      "outputs": []
    },
    {
      "cell_type": "code",
      "metadata": {
        "colab": {
          "base_uri": "https://localhost:8080/"
        },
        "id": "ljPuPM2iryKG",
        "outputId": "4a818cae-2436-48d6-93ba-dc6a84703066"
      },
      "source": [
        "# fit the model\n",
        "num_epochs = 100\n",
        "history = model.fit(train_flow, \n",
        "                    steps_per_epoch=len(X_train) // batch_size, \n",
        "                    epochs=num_epochs,  \n",
        "                    verbose=1,  \n",
        "                    validation_data=val_flow,  \n",
        "                    validation_steps=len(X_val) // batch_size)"
      ],
      "execution_count": 16,
      "outputs": [
        {
          "output_type": "stream",
          "text": [
            "Epoch 1/100\n",
            "448/448 [==============================] - 54s 76ms/step - loss: 3.5902 - accuracy: 0.1782 - val_loss: 1.8479 - val_accuracy: 0.2494\n",
            "Epoch 2/100\n",
            "448/448 [==============================] - 32s 71ms/step - loss: 1.9856 - accuracy: 0.1975 - val_loss: 1.8333 - val_accuracy: 0.2497\n",
            "Epoch 3/100\n",
            "448/448 [==============================] - 32s 70ms/step - loss: 1.8887 - accuracy: 0.2142 - val_loss: 1.8212 - val_accuracy: 0.2492\n",
            "Epoch 4/100\n",
            "448/448 [==============================] - 32s 71ms/step - loss: 1.8456 - accuracy: 0.2281 - val_loss: 1.8042 - val_accuracy: 0.2494\n",
            "Epoch 5/100\n",
            "448/448 [==============================] - 32s 71ms/step - loss: 1.8273 - accuracy: 0.2319 - val_loss: 1.7924 - val_accuracy: 0.2522\n",
            "Epoch 6/100\n",
            "448/448 [==============================] - 32s 71ms/step - loss: 1.7980 - accuracy: 0.2405 - val_loss: 1.7404 - val_accuracy: 0.2812\n",
            "Epoch 7/100\n",
            "448/448 [==============================] - 32s 71ms/step - loss: 1.7541 - accuracy: 0.2685 - val_loss: 1.6895 - val_accuracy: 0.3072\n",
            "Epoch 8/100\n",
            "448/448 [==============================] - 32s 71ms/step - loss: 1.6831 - accuracy: 0.3093 - val_loss: 1.6820 - val_accuracy: 0.3429\n",
            "Epoch 9/100\n",
            "448/448 [==============================] - 32s 71ms/step - loss: 1.6261 - accuracy: 0.3463 - val_loss: 1.5198 - val_accuracy: 0.4037\n",
            "Epoch 10/100\n",
            "448/448 [==============================] - 32s 71ms/step - loss: 1.5469 - accuracy: 0.3855 - val_loss: 1.4564 - val_accuracy: 0.4255\n",
            "Epoch 11/100\n",
            "448/448 [==============================] - 32s 71ms/step - loss: 1.4905 - accuracy: 0.4113 - val_loss: 1.4126 - val_accuracy: 0.4411\n",
            "Epoch 12/100\n",
            "448/448 [==============================] - 32s 71ms/step - loss: 1.4245 - accuracy: 0.4453 - val_loss: 1.3573 - val_accuracy: 0.4690\n",
            "Epoch 13/100\n",
            "448/448 [==============================] - 32s 71ms/step - loss: 1.3647 - accuracy: 0.4730 - val_loss: 1.3266 - val_accuracy: 0.4838\n",
            "Epoch 14/100\n",
            "448/448 [==============================] - 32s 71ms/step - loss: 1.3161 - accuracy: 0.4983 - val_loss: 1.2608 - val_accuracy: 0.5153\n",
            "Epoch 15/100\n",
            "448/448 [==============================] - 32s 71ms/step - loss: 1.2641 - accuracy: 0.5209 - val_loss: 1.2500 - val_accuracy: 0.5329\n",
            "Epoch 16/100\n",
            "448/448 [==============================] - 32s 71ms/step - loss: 1.2419 - accuracy: 0.5322 - val_loss: 1.2182 - val_accuracy: 0.5393\n",
            "Epoch 17/100\n",
            "448/448 [==============================] - 32s 71ms/step - loss: 1.1990 - accuracy: 0.5513 - val_loss: 1.1879 - val_accuracy: 0.5497\n",
            "Epoch 18/100\n",
            "448/448 [==============================] - 32s 71ms/step - loss: 1.1516 - accuracy: 0.5670 - val_loss: 1.2091 - val_accuracy: 0.5446\n",
            "Epoch 19/100\n",
            "448/448 [==============================] - 32s 71ms/step - loss: 1.1245 - accuracy: 0.5777 - val_loss: 1.1627 - val_accuracy: 0.5650\n",
            "Epoch 20/100\n",
            "448/448 [==============================] - 32s 71ms/step - loss: 1.0793 - accuracy: 0.5978 - val_loss: 1.1474 - val_accuracy: 0.5686\n",
            "Epoch 21/100\n",
            "448/448 [==============================] - 32s 71ms/step - loss: 1.0411 - accuracy: 0.6197 - val_loss: 1.0936 - val_accuracy: 0.5887\n",
            "Epoch 22/100\n",
            "448/448 [==============================] - 32s 71ms/step - loss: 0.9915 - accuracy: 0.6325 - val_loss: 1.0899 - val_accuracy: 0.5915\n",
            "Epoch 23/100\n",
            "448/448 [==============================] - 32s 71ms/step - loss: 0.9657 - accuracy: 0.6471 - val_loss: 1.0913 - val_accuracy: 0.5996\n",
            "Epoch 24/100\n",
            "448/448 [==============================] - 32s 71ms/step - loss: 0.9248 - accuracy: 0.6616 - val_loss: 1.0644 - val_accuracy: 0.6147\n",
            "Epoch 25/100\n",
            "448/448 [==============================] - 32s 71ms/step - loss: 0.8857 - accuracy: 0.6787 - val_loss: 1.0600 - val_accuracy: 0.6099\n",
            "Epoch 26/100\n",
            "448/448 [==============================] - 32s 71ms/step - loss: 0.8495 - accuracy: 0.6927 - val_loss: 1.0504 - val_accuracy: 0.6233\n",
            "Epoch 27/100\n",
            "448/448 [==============================] - 32s 71ms/step - loss: 0.8162 - accuracy: 0.7076 - val_loss: 1.0816 - val_accuracy: 0.6278\n",
            "Epoch 28/100\n",
            "448/448 [==============================] - 32s 71ms/step - loss: 0.7708 - accuracy: 0.7223 - val_loss: 1.0573 - val_accuracy: 0.6275\n",
            "Epoch 29/100\n",
            "448/448 [==============================] - 32s 71ms/step - loss: 0.7374 - accuracy: 0.7345 - val_loss: 1.1039 - val_accuracy: 0.6177\n",
            "Epoch 30/100\n",
            "448/448 [==============================] - 32s 71ms/step - loss: 0.6981 - accuracy: 0.7518 - val_loss: 1.1174 - val_accuracy: 0.6186\n",
            "Epoch 31/100\n",
            "448/448 [==============================] - 32s 71ms/step - loss: 0.6492 - accuracy: 0.7673 - val_loss: 1.0952 - val_accuracy: 0.6359\n",
            "Epoch 32/100\n",
            "448/448 [==============================] - 32s 71ms/step - loss: 0.6184 - accuracy: 0.7867 - val_loss: 1.0821 - val_accuracy: 0.6376\n",
            "Epoch 33/100\n",
            "448/448 [==============================] - 32s 71ms/step - loss: 0.5693 - accuracy: 0.7976 - val_loss: 1.0984 - val_accuracy: 0.6345\n",
            "Epoch 34/100\n",
            "448/448 [==============================] - 32s 71ms/step - loss: 0.5520 - accuracy: 0.8054 - val_loss: 1.2028 - val_accuracy: 0.6267\n",
            "Epoch 35/100\n",
            "448/448 [==============================] - 32s 71ms/step - loss: 0.5209 - accuracy: 0.8160 - val_loss: 1.1754 - val_accuracy: 0.6339\n",
            "Epoch 36/100\n",
            "448/448 [==============================] - 32s 71ms/step - loss: 0.4659 - accuracy: 0.8373 - val_loss: 1.2174 - val_accuracy: 0.6364\n",
            "Epoch 37/100\n",
            "448/448 [==============================] - 32s 71ms/step - loss: 0.4608 - accuracy: 0.8399 - val_loss: 1.2904 - val_accuracy: 0.6233\n",
            "Epoch 38/100\n",
            "448/448 [==============================] - 32s 71ms/step - loss: 0.4146 - accuracy: 0.8584 - val_loss: 1.2352 - val_accuracy: 0.6515\n",
            "Epoch 39/100\n",
            "448/448 [==============================] - 32s 71ms/step - loss: 0.3960 - accuracy: 0.8617 - val_loss: 1.3417 - val_accuracy: 0.6507\n",
            "Epoch 40/100\n",
            "448/448 [==============================] - 32s 71ms/step - loss: 0.3803 - accuracy: 0.8684 - val_loss: 1.3456 - val_accuracy: 0.6403\n",
            "Epoch 41/100\n",
            "448/448 [==============================] - 32s 71ms/step - loss: 0.3400 - accuracy: 0.8821 - val_loss: 1.3546 - val_accuracy: 0.6431\n",
            "Epoch 42/100\n",
            "448/448 [==============================] - 32s 71ms/step - loss: 0.3076 - accuracy: 0.8935 - val_loss: 1.3661 - val_accuracy: 0.6468\n",
            "Epoch 43/100\n",
            "448/448 [==============================] - 32s 71ms/step - loss: 0.2978 - accuracy: 0.8982 - val_loss: 1.3804 - val_accuracy: 0.6406\n",
            "Epoch 44/100\n",
            "448/448 [==============================] - 32s 71ms/step - loss: 0.2821 - accuracy: 0.9024 - val_loss: 1.4764 - val_accuracy: 0.6437\n",
            "Epoch 45/100\n",
            "448/448 [==============================] - 32s 71ms/step - loss: 0.2544 - accuracy: 0.9118 - val_loss: 1.5605 - val_accuracy: 0.6521\n",
            "Epoch 46/100\n",
            "448/448 [==============================] - 32s 71ms/step - loss: 0.2528 - accuracy: 0.9150 - val_loss: 1.4643 - val_accuracy: 0.6482\n",
            "Epoch 47/100\n",
            "448/448 [==============================] - 32s 71ms/step - loss: 0.2252 - accuracy: 0.9251 - val_loss: 1.4159 - val_accuracy: 0.6473\n",
            "Epoch 48/100\n",
            "448/448 [==============================] - 32s 71ms/step - loss: 0.2249 - accuracy: 0.9232 - val_loss: 1.5986 - val_accuracy: 0.6459\n",
            "Epoch 49/100\n",
            "448/448 [==============================] - 32s 71ms/step - loss: 0.2159 - accuracy: 0.9291 - val_loss: 1.5598 - val_accuracy: 0.6417\n",
            "Epoch 50/100\n",
            "448/448 [==============================] - 32s 71ms/step - loss: 0.2014 - accuracy: 0.9331 - val_loss: 1.5832 - val_accuracy: 0.6451\n",
            "Epoch 51/100\n",
            "448/448 [==============================] - 32s 71ms/step - loss: 0.1962 - accuracy: 0.9362 - val_loss: 1.5972 - val_accuracy: 0.6431\n",
            "Epoch 52/100\n",
            "448/448 [==============================] - 32s 71ms/step - loss: 0.1824 - accuracy: 0.9408 - val_loss: 1.6116 - val_accuracy: 0.6482\n",
            "Epoch 53/100\n",
            "448/448 [==============================] - 32s 71ms/step - loss: 0.1699 - accuracy: 0.9406 - val_loss: 1.6917 - val_accuracy: 0.6283\n",
            "Epoch 54/100\n",
            "448/448 [==============================] - 32s 71ms/step - loss: 0.1581 - accuracy: 0.9453 - val_loss: 1.7095 - val_accuracy: 0.6448\n",
            "Epoch 55/100\n",
            "448/448 [==============================] - 32s 71ms/step - loss: 0.1617 - accuracy: 0.9487 - val_loss: 1.8287 - val_accuracy: 0.6429\n",
            "Epoch 56/100\n",
            "448/448 [==============================] - 32s 71ms/step - loss: 0.1523 - accuracy: 0.9512 - val_loss: 1.7311 - val_accuracy: 0.6401\n",
            "Epoch 57/100\n",
            "448/448 [==============================] - 32s 71ms/step - loss: 0.1506 - accuracy: 0.9518 - val_loss: 1.7451 - val_accuracy: 0.6473\n",
            "Epoch 58/100\n",
            "448/448 [==============================] - 32s 71ms/step - loss: 0.1419 - accuracy: 0.9527 - val_loss: 1.7850 - val_accuracy: 0.6431\n",
            "Epoch 59/100\n",
            "448/448 [==============================] - 32s 71ms/step - loss: 0.1417 - accuracy: 0.9526 - val_loss: 1.7867 - val_accuracy: 0.6512\n",
            "Epoch 60/100\n",
            "448/448 [==============================] - 32s 71ms/step - loss: 0.1314 - accuracy: 0.9579 - val_loss: 1.7756 - val_accuracy: 0.6415\n",
            "Epoch 61/100\n",
            "448/448 [==============================] - 32s 71ms/step - loss: 0.1254 - accuracy: 0.9576 - val_loss: 1.7809 - val_accuracy: 0.6484\n",
            "Epoch 62/100\n",
            "448/448 [==============================] - 32s 71ms/step - loss: 0.1256 - accuracy: 0.9598 - val_loss: 1.8391 - val_accuracy: 0.6493\n",
            "Epoch 63/100\n",
            "448/448 [==============================] - 32s 71ms/step - loss: 0.1208 - accuracy: 0.9603 - val_loss: 1.8816 - val_accuracy: 0.6356\n",
            "Epoch 64/100\n",
            "448/448 [==============================] - 32s 71ms/step - loss: 0.1079 - accuracy: 0.9658 - val_loss: 1.8580 - val_accuracy: 0.6359\n",
            "Epoch 65/100\n",
            "448/448 [==============================] - 32s 71ms/step - loss: 0.1175 - accuracy: 0.9625 - val_loss: 1.9119 - val_accuracy: 0.6482\n",
            "Epoch 66/100\n",
            "448/448 [==============================] - 32s 71ms/step - loss: 0.1063 - accuracy: 0.9653 - val_loss: 1.8684 - val_accuracy: 0.6523\n",
            "Epoch 67/100\n",
            "448/448 [==============================] - 32s 71ms/step - loss: 0.1045 - accuracy: 0.9657 - val_loss: 1.8501 - val_accuracy: 0.6409\n",
            "Epoch 68/100\n",
            "448/448 [==============================] - 32s 71ms/step - loss: 0.1024 - accuracy: 0.9665 - val_loss: 1.8985 - val_accuracy: 0.6521\n",
            "Epoch 69/100\n",
            "448/448 [==============================] - 32s 71ms/step - loss: 0.1023 - accuracy: 0.9667 - val_loss: 1.8870 - val_accuracy: 0.6445\n",
            "Epoch 70/100\n",
            "448/448 [==============================] - 32s 71ms/step - loss: 0.1003 - accuracy: 0.9683 - val_loss: 1.9762 - val_accuracy: 0.6454\n",
            "Epoch 71/100\n",
            "448/448 [==============================] - 32s 71ms/step - loss: 0.1013 - accuracy: 0.9660 - val_loss: 1.9423 - val_accuracy: 0.6431\n",
            "Epoch 72/100\n",
            "448/448 [==============================] - 32s 71ms/step - loss: 0.1032 - accuracy: 0.9663 - val_loss: 1.9180 - val_accuracy: 0.6493\n",
            "Epoch 73/100\n",
            "448/448 [==============================] - 32s 71ms/step - loss: 0.0944 - accuracy: 0.9691 - val_loss: 2.0539 - val_accuracy: 0.6437\n",
            "Epoch 74/100\n",
            "448/448 [==============================] - 32s 71ms/step - loss: 0.0902 - accuracy: 0.9696 - val_loss: 1.9722 - val_accuracy: 0.6409\n",
            "Epoch 75/100\n",
            "448/448 [==============================] - 32s 71ms/step - loss: 0.0903 - accuracy: 0.9707 - val_loss: 2.0499 - val_accuracy: 0.6367\n",
            "Epoch 76/100\n",
            "448/448 [==============================] - 32s 71ms/step - loss: 0.0893 - accuracy: 0.9710 - val_loss: 1.9573 - val_accuracy: 0.6370\n",
            "Epoch 77/100\n",
            "448/448 [==============================] - 32s 71ms/step - loss: 0.0838 - accuracy: 0.9722 - val_loss: 1.9699 - val_accuracy: 0.6482\n",
            "Epoch 78/100\n",
            "448/448 [==============================] - 32s 71ms/step - loss: 0.0861 - accuracy: 0.9727 - val_loss: 1.9113 - val_accuracy: 0.6443\n",
            "Epoch 79/100\n",
            "448/448 [==============================] - 32s 71ms/step - loss: 0.0796 - accuracy: 0.9748 - val_loss: 1.9375 - val_accuracy: 0.6434\n",
            "Epoch 80/100\n",
            "448/448 [==============================] - 32s 71ms/step - loss: 0.0768 - accuracy: 0.9751 - val_loss: 1.9139 - val_accuracy: 0.6518\n",
            "Epoch 81/100\n",
            "448/448 [==============================] - 32s 71ms/step - loss: 0.0786 - accuracy: 0.9752 - val_loss: 2.0740 - val_accuracy: 0.6468\n",
            "Epoch 82/100\n",
            "448/448 [==============================] - 32s 71ms/step - loss: 0.0825 - accuracy: 0.9736 - val_loss: 1.9613 - val_accuracy: 0.6509\n",
            "Epoch 83/100\n",
            "448/448 [==============================] - 32s 71ms/step - loss: 0.0850 - accuracy: 0.9726 - val_loss: 1.9873 - val_accuracy: 0.6401\n",
            "Epoch 84/100\n",
            "448/448 [==============================] - 32s 71ms/step - loss: 0.0762 - accuracy: 0.9745 - val_loss: 2.0120 - val_accuracy: 0.6487\n",
            "Epoch 85/100\n",
            "448/448 [==============================] - 32s 71ms/step - loss: 0.0654 - accuracy: 0.9788 - val_loss: 2.0864 - val_accuracy: 0.6456\n",
            "Epoch 86/100\n",
            "448/448 [==============================] - 32s 71ms/step - loss: 0.0752 - accuracy: 0.9756 - val_loss: 2.1095 - val_accuracy: 0.6426\n",
            "Epoch 87/100\n",
            "448/448 [==============================] - 32s 71ms/step - loss: 0.0726 - accuracy: 0.9755 - val_loss: 2.0410 - val_accuracy: 0.6515\n",
            "Epoch 88/100\n",
            "448/448 [==============================] - 32s 71ms/step - loss: 0.0718 - accuracy: 0.9772 - val_loss: 2.1532 - val_accuracy: 0.6493\n",
            "Epoch 89/100\n",
            "448/448 [==============================] - 32s 71ms/step - loss: 0.0683 - accuracy: 0.9768 - val_loss: 1.9026 - val_accuracy: 0.6454\n",
            "Epoch 90/100\n",
            "448/448 [==============================] - 32s 71ms/step - loss: 0.0748 - accuracy: 0.9757 - val_loss: 2.0848 - val_accuracy: 0.6401\n",
            "Epoch 91/100\n",
            "448/448 [==============================] - 32s 71ms/step - loss: 0.0716 - accuracy: 0.9770 - val_loss: 2.0291 - val_accuracy: 0.6468\n",
            "Epoch 92/100\n",
            "448/448 [==============================] - 32s 71ms/step - loss: 0.0719 - accuracy: 0.9770 - val_loss: 2.1866 - val_accuracy: 0.6468\n",
            "Epoch 93/100\n",
            "448/448 [==============================] - 32s 71ms/step - loss: 0.0761 - accuracy: 0.9763 - val_loss: 2.0857 - val_accuracy: 0.6390\n",
            "Epoch 94/100\n",
            "448/448 [==============================] - 32s 71ms/step - loss: 0.0672 - accuracy: 0.9781 - val_loss: 2.0505 - val_accuracy: 0.6429\n",
            "Epoch 95/100\n",
            "448/448 [==============================] - 32s 71ms/step - loss: 0.0593 - accuracy: 0.9810 - val_loss: 2.1122 - val_accuracy: 0.6529\n",
            "Epoch 96/100\n",
            "448/448 [==============================] - 32s 71ms/step - loss: 0.0585 - accuracy: 0.9811 - val_loss: 2.1677 - val_accuracy: 0.6342\n",
            "Epoch 97/100\n",
            "448/448 [==============================] - 32s 71ms/step - loss: 0.0646 - accuracy: 0.9801 - val_loss: 2.2308 - val_accuracy: 0.6420\n",
            "Epoch 98/100\n",
            "448/448 [==============================] - 32s 71ms/step - loss: 0.0632 - accuracy: 0.9789 - val_loss: 2.0885 - val_accuracy: 0.6445\n",
            "Epoch 99/100\n",
            "448/448 [==============================] - 32s 71ms/step - loss: 0.0610 - accuracy: 0.9799 - val_loss: 2.1876 - val_accuracy: 0.6526\n",
            "Epoch 100/100\n",
            "448/448 [==============================] - 32s 71ms/step - loss: 0.0576 - accuracy: 0.9816 - val_loss: 2.2572 - val_accuracy: 0.6470\n"
          ],
          "name": "stdout"
        }
      ]
    },
    {
      "cell_type": "markdown",
      "metadata": {
        "id": "zdn-Ud-Ca4LG"
      },
      "source": [
        "# Evaluate"
      ]
    },
    {
      "cell_type": "code",
      "metadata": {
        "id": "d8D97Qq4bUxn",
        "colab": {
          "base_uri": "https://localhost:8080/",
          "height": 573
        },
        "outputId": "4a56ecc7-42d9-46e7-b86e-10c1a767002e"
      },
      "source": [
        "accuracy = history.history['accuracy']\n",
        "val_accuracy = history.history['val_accuracy']\n",
        "loss = history.history['loss']\n",
        "val_loss = history.history['val_loss']\n",
        "num_epochs = range(len(accuracy))\n",
        "plt.plot(num_epochs, accuracy, 'r', label='Training acc')\n",
        "plt.plot(num_epochs, val_accuracy, 'b', label='Validation acc')\n",
        "plt.title('Training and validation accuracy')\n",
        "plt.ylabel('accuracy')  \n",
        "plt.xlabel('epoch')\n",
        "plt.legend()\n",
        "plt.figure()\n",
        "plt.plot(num_epochs, loss, 'r', label='Training loss')\n",
        "plt.plot(num_epochs, val_loss, 'b', label='Validation loss')\n",
        "plt.title('Training and validation loss')\n",
        "plt.ylabel('loss')  \n",
        "plt.xlabel('epoch')\n",
        "plt.legend()\n",
        "plt.show()"
      ],
      "execution_count": 17,
      "outputs": [
        {
          "output_type": "display_data",
          "data": {
            "image/png": "[encoded data removed]",
            "text/plain": [
              "<Figure size 432x288 with 1 Axes>"
            ]
          },
          "metadata": {
            "tags": [],
            "needs_background": "light"
          }
        },
        {
          "output_type": "display_data",
          "data": {
            "image/png": "[encoded data removed]",
            "text/plain": [
              "<Figure size 432x288 with 1 Axes>"
            ]
          },
          "metadata": {
            "tags": [],
            "needs_background": "light"
          }
        }
      ]
    },
    {
      "cell_type": "code",
      "metadata": {
        "id": "v2FEkE4pr8vN",
        "colab": {
          "base_uri": "https://localhost:8080/"
        },
        "outputId": "bd19e00f-ad4b-4112-c812-9e646f2e865a"
      },
      "source": [
        "trainloss = model.evaluate(train_flow, steps=len(X_train) / batch_size) \n",
        "print(\"Train Loss \" + str(trainloss[0]))\n",
        "print(\"Train Acc: \" + str(trainloss[1]))\n",
        "valloss = model.evaluate(val_flow, steps=len(X_val) / batch_size) \n",
        "print(\"Val Loss \" + str(valloss[0]))\n",
        "print(\"Val Acc: \" + str(valloss[1]))\n",
        "testloss = model.evaluate(test_flow, steps=len(X_test) / batch_size) \n",
        "print(\"Test Loss \" + str(testloss[0]))\n",
        "print(\"Test Acc: \" + str(testloss[1]))"
      ],
      "execution_count": 18,
      "outputs": [
        {
          "output_type": "stream",
          "text": [
            "448/448 [==============================] - 9s 20ms/step - loss: 0.0096 - accuracy: 0.9961\n",
            "Train Loss 0.009647833183407784\n",
            "Train Acc: 0.9961336255073547\n",
            "56/56 [==============================] - 1s 25ms/step - loss: 2.2542 - accuracy: 0.6475\n",
            "Val Loss 2.254235029220581\n",
            "Val Acc: 0.6475341320037842\n",
            "56/56 [==============================] - 1s 20ms/step - loss: 2.0822 - accuracy: 0.6643\n",
            "Test Loss 2.0821547508239746\n",
            "Test Acc: 0.6642518639564514\n"
          ],
          "name": "stdout"
        }
      ]
    },
    {
      "cell_type": "code",
      "metadata": {
        "id": "lzHC1YQabqNF"
      },
      "source": [
        "def plot_confusion_matrix(y_test, y_pred, classes,\n",
        "                          normalize=False,\n",
        "                          title='Unnormalized confusion matrix',\n",
        "                          cmap=plt.cm.Blues):\n",
        "    cm = confusion_matrix(y_test, y_pred)\n",
        "    \n",
        "    if normalize:\n",
        "        cm = np.round(cm.astype('float') / cm.sum(axis=1)[:, np.newaxis], 2)\n",
        "        \n",
        "    np.set_printoptions(precision=2)\n",
        "        \n",
        "    plt.imshow(cm, interpolation='nearest', cmap=cmap)\n",
        "    plt.title(title)\n",
        "    plt.colorbar()\n",
        "    tick_marks = np.arange(len(classes))\n",
        "    plt.xticks(tick_marks, classes, rotation=45)\n",
        "    plt.yticks(tick_marks, classes)\n",
        "\n",
        "    thresh = cm.min() + (cm.max() - cm.min()) / 2.\n",
        "    for i, j in itertools.product(range(cm.shape[0]), range(cm.shape[1])):\n",
        "        plt.text(j, i, cm[i, j],\n",
        "                 horizontalalignment=\"center\",\n",
        "                 color=\"white\" if cm[i, j] > thresh else \"black\")\n",
        "\n",
        "    plt.tight_layout()\n",
        "    plt.ylabel('True expression')\n",
        "    plt.xlabel('Predicted expression')\n",
        "    plt.show()"
      ],
      "execution_count": 19,
      "outputs": []
    },
    {
      "cell_type": "code",
      "metadata": {
        "colab": {
          "base_uri": "https://localhost:8080/"
        },
        "id": "moInw8fjbqNF",
        "outputId": "cf2b022c-ffbd-4a89-e72d-d2e6d7c488ab"
      },
      "source": [
        "y_pred_ = model.predict(X_test/255., verbose=1)\n",
        "y_pred = np.argmax(y_pred_, axis=1)\n",
        "t_te = np.argmax(y_test, axis=1)"
      ],
      "execution_count": 20,
      "outputs": [
        {
          "output_type": "stream",
          "text": [
            "113/113 [==============================] - 3s 12ms/step\n"
          ],
          "name": "stdout"
        }
      ]
    },
    {
      "cell_type": "code",
      "metadata": {
        "colab": {
          "base_uri": "https://localhost:8080/",
          "height": 311
        },
        "id": "espEQdo8bqNG",
        "outputId": "7078b765-4536-4aa1-ce45-d48c021b049e"
      },
      "source": [
        "from sklearn.metrics import confusion_matrix, classification_report\n",
        "import itertools\n",
        "\n",
        "fig = plot_confusion_matrix(y_test=t_te, y_pred=y_pred,\n",
        "                      classes=labels,\n",
        "                      normalize=True,\n",
        "                      cmap=plt.cm.Blues,\n",
        "                      title='Average accuracy: ' + str(np.sum(y_pred == t_te)/len(t_te)) + '\\n')"
      ],
      "execution_count": 21,
      "outputs": [
        {
          "output_type": "display_data",
          "data": {
            "image/png": "[encoded data removed]",
            "text/plain": [
              "<Figure size 432x288 with 2 Axes>"
            ]
          },
          "metadata": {
            "tags": [],
            "needs_background": "light"
          }
        }
      ]
    },
    {
      "cell_type": "code",
      "metadata": {
        "colab": {
          "base_uri": "https://localhost:8080/"
        },
        "id": "4vauS7IKbqNG",
        "outputId": "cd36fcf3-51be-414b-ea81-d359541b87dd"
      },
      "source": [
        "emotions = {0: 'Angry', 1: 'Disgust', 2: 'Fear', 3: 'Happy', 4: 'Sad', 5: 'Surprise', 6: 'Neutral'}\n",
        "print(classification_report(t_te, y_pred, target_names=emotions.values()))"
      ],
      "execution_count": 22,
      "outputs": [
        {
          "output_type": "stream",
          "text": [
            "              precision    recall  f1-score   support\n",
            "\n",
            "       Angry       0.59      0.52      0.55       491\n",
            "     Disgust       0.73      0.69      0.71        55\n",
            "        Fear       0.57      0.46      0.51       528\n",
            "       Happy       0.86      0.86      0.86       879\n",
            "         Sad       0.50      0.59      0.54       594\n",
            "    Surprise       0.81      0.79      0.80       416\n",
            "     Neutral       0.60      0.66      0.63       626\n",
            "\n",
            "    accuracy                           0.66      3589\n",
            "   macro avg       0.67      0.65      0.66      3589\n",
            "weighted avg       0.67      0.66      0.66      3589\n",
            "\n"
          ],
          "name": "stdout"
        }
      ]
    },
    {
      "cell_type": "code",
      "metadata": {
        "colab": {
          "base_uri": "https://localhost:8080/"
        },
        "id": "KKWxaaYRba3j",
        "outputId": "1ebc7182-a0cf-48c5-8a14-1df92147ce6d"
      },
      "source": [
        "model.save(\"/content/drive/MyDrive/Colab Notebooks/Model/Coba4_Model2_Seed_noAug.h5\")\n",
        "print(\"saved\")"
      ],
      "execution_count": 23,
      "outputs": [
        {
          "output_type": "stream",
          "text": [
            "saved\n"
          ],
          "name": "stdout"
        }
      ]
    },
    {
      "cell_type": "markdown",
      "metadata": {
        "id": "aqLRhlr4b7t5"
      },
      "source": [
        "#Load Model"
      ]
    },
    {
      "cell_type": "code",
      "metadata": {
        "colab": {
          "base_uri": "https://localhost:8080/"
        },
        "id": "J45lyUtcJ-6F",
        "outputId": "e97b7062-b3f2-4b84-80b4-92f547e40aed"
      },
      "source": [
        "from keras.models import load_model\n",
        "model_load = load_model('/content/drive/MyDrive/Colab Notebooks/Model/Coba4_Model2 _Seed_noAug.h5')\n",
        "\n",
        "model_load.summary()"
      ],
      "execution_count": 24,
      "outputs": [
        {
          "output_type": "stream",
          "text": [
            "Model: \"sequential\"\n",
            "_________________________________________________________________\n",
            "Layer (type)                 Output Shape              Param #   \n",
            "=================================================================\n",
            "conv2d (Conv2D)              (None, 48, 48, 64)        640       \n",
            "_________________________________________________________________\n",
            "conv2d_1 (Conv2D)            (None, 48, 48, 64)        36928     \n",
            "_________________________________________________________________\n",
            "max_pooling2d (MaxPooling2D) (None, 24, 24, 64)        0         \n",
            "_________________________________________________________________\n",
            "dropout (Dropout)            (None, 24, 24, 64)        0         \n",
            "_________________________________________________________________\n",
            "batch_normalization (BatchNo (None, 24, 24, 64)        256       \n",
            "_________________________________________________________________\n",
            "conv2d_2 (Conv2D)            (None, 24, 24, 128)       73856     \n",
            "_________________________________________________________________\n",
            "conv2d_3 (Conv2D)            (None, 24, 24, 128)       147584    \n",
            "_________________________________________________________________\n",
            "max_pooling2d_1 (MaxPooling2 (None, 12, 12, 128)       0         \n",
            "_________________________________________________________________\n",
            "dropout_1 (Dropout)          (None, 12, 12, 128)       0         \n",
            "_________________________________________________________________\n",
            "batch_normalization_1 (Batch (None, 12, 12, 128)       512       \n",
            "_________________________________________________________________\n",
            "conv2d_4 (Conv2D)            (None, 12, 12, 256)       295168    \n",
            "_________________________________________________________________\n",
            "conv2d_5 (Conv2D)            (None, 12, 12, 256)       590080    \n",
            "_________________________________________________________________\n",
            "conv2d_6 (Conv2D)            (None, 12, 12, 256)       590080    \n",
            "_________________________________________________________________\n",
            "max_pooling2d_2 (MaxPooling2 (None, 6, 6, 256)         0         \n",
            "_________________________________________________________________\n",
            "dropout_2 (Dropout)          (None, 6, 6, 256)         0         \n",
            "_________________________________________________________________\n",
            "batch_normalization_2 (Batch (None, 6, 6, 256)         1024      \n",
            "_________________________________________________________________\n",
            "conv2d_7 (Conv2D)            (None, 6, 6, 512)         1180160   \n",
            "_________________________________________________________________\n",
            "conv2d_8 (Conv2D)            (None, 6, 6, 512)         2359808   \n",
            "_________________________________________________________________\n",
            "conv2d_9 (Conv2D)            (None, 6, 6, 512)         2359808   \n",
            "_________________________________________________________________\n",
            "max_pooling2d_3 (MaxPooling2 (None, 3, 3, 512)         0         \n",
            "_________________________________________________________________\n",
            "dropout_3 (Dropout)          (None, 3, 3, 512)         0         \n",
            "_________________________________________________________________\n",
            "batch_normalization_3 (Batch (None, 3, 3, 512)         2048      \n",
            "_________________________________________________________________\n",
            "flatten (Flatten)            (None, 4608)              0         \n",
            "_________________________________________________________________\n",
            "dense (Dense)                (None, 512)               2359808   \n",
            "_________________________________________________________________\n",
            "dropout_4 (Dropout)          (None, 512)               0         \n",
            "_________________________________________________________________\n",
            "dense_1 (Dense)              (None, 512)               262656    \n",
            "_________________________________________________________________\n",
            "dropout_5 (Dropout)          (None, 512)               0         \n",
            "_________________________________________________________________\n",
            "dense_2 (Dense)              (None, 512)               262656    \n",
            "_________________________________________________________________\n",
            "dropout_6 (Dropout)          (None, 512)               0         \n",
            "_________________________________________________________________\n",
            "dense_3 (Dense)              (None, 7)                 3591      \n",
            "=================================================================\n",
            "Total params: 10,526,663\n",
            "Trainable params: 10,524,743\n",
            "Non-trainable params: 1,920\n",
            "_________________________________________________________________\n"
          ],
          "name": "stdout"
        }
      ]
    },
    {
      "cell_type": "code",
      "metadata": {
        "colab": {
          "base_uri": "https://localhost:8080/"
        },
        "id": "nQd7m45qfWBW",
        "outputId": "b81220da-2640-42d4-f0bb-37d2964f92c2"
      },
      "source": [
        "trainloss = model_load.evaluate(train_flow, steps=len(X_train) / batch_size) \n",
        "print(\"Train Loss \" + str(trainloss[0]))\n",
        "print(\"Train Acc: \" + str(trainloss[1]))\n",
        "valloss = model_load.evaluate(val_flow, steps=len(X_val) / batch_size) \n",
        "print(\"Val Loss \" + str(valloss[0]))\n",
        "print(\"Val Acc: \" + str(valloss[1]))\n",
        "testloss = model_load.evaluate(test_flow, steps=len(X_test) / batch_size) \n",
        "print(\"Test Loss \" + str(testloss[0]))\n",
        "print(\"Test Acc: \" + str(testloss[1]))"
      ],
      "execution_count": 25,
      "outputs": [
        {
          "output_type": "stream",
          "text": [
            "448/448 [==============================] - 8s 16ms/step - loss: 0.0688 - accuracy: 0.9912\n",
            "Train Loss 0.06881003826856613\n",
            "Train Acc: 0.9912222623825073\n",
            "56/56 [==============================] - 1s 17ms/step - loss: 1.3086 - accuracy: 0.6573\n",
            "Val Loss 1.3085988759994507\n",
            "Val Acc: 0.6572861671447754\n",
            "56/56 [==============================] - 1s 16ms/step - loss: 1.2263 - accuracy: 0.6712\n",
            "Test Loss 1.226300835609436\n",
            "Test Acc: 0.6712176203727722\n"
          ],
          "name": "stdout"
        }
      ]
    },
    {
      "cell_type": "code",
      "metadata": {
        "id": "t87NY2ZdFwVP"
      },
      "source": [
        "def plot_confusion_matrix(y_test, y_pred, classes,\n",
        "                          normalize=False,\n",
        "                          title='Unnormalized confusion matrix',\n",
        "                          cmap=plt.cm.Blues):\n",
        "    cm = confusion_matrix(y_test, y_pred)\n",
        "    \n",
        "    if normalize:\n",
        "        cm = np.round(cm.astype('float') / cm.sum(axis=1)[:, np.newaxis], 2)\n",
        "        \n",
        "    np.set_printoptions(precision=2)\n",
        "        \n",
        "    plt.imshow(cm, interpolation='nearest', cmap=cmap)\n",
        "    plt.title(title)\n",
        "    plt.colorbar()\n",
        "    tick_marks = np.arange(len(classes))\n",
        "    plt.xticks(tick_marks, classes, rotation=45)\n",
        "    plt.yticks(tick_marks, classes)\n",
        "\n",
        "    thresh = cm.min() + (cm.max() - cm.min()) / 2.\n",
        "    for i, j in itertools.product(range(cm.shape[0]), range(cm.shape[1])):\n",
        "        plt.text(j, i, cm[i, j],\n",
        "                 horizontalalignment=\"center\",\n",
        "                 color=\"white\" if cm[i, j] > thresh else \"black\")\n",
        "\n",
        "    plt.tight_layout()\n",
        "    plt.ylabel('True expression')\n",
        "    plt.xlabel('Predicted expression')\n",
        "    plt.show()"
      ],
      "execution_count": 26,
      "outputs": []
    },
    {
      "cell_type": "code",
      "metadata": {
        "colab": {
          "base_uri": "https://localhost:8080/"
        },
        "id": "Tc5JLl9HGFmh",
        "outputId": "69b5b461-cd6e-44e8-fbe7-6daad9003b61"
      },
      "source": [
        "y_pred_ = model_load.predict(X_test/255., verbose=1)\n",
        "y_pred = np.argmax(y_pred_, axis=1)\n",
        "t_te = np.argmax(y_test, axis=1)"
      ],
      "execution_count": 27,
      "outputs": [
        {
          "output_type": "stream",
          "text": [
            "113/113 [==============================] - 2s 9ms/step\n"
          ],
          "name": "stdout"
        }
      ]
    },
    {
      "cell_type": "code",
      "metadata": {
        "colab": {
          "base_uri": "https://localhost:8080/",
          "height": 311
        },
        "id": "WUeZP3q-GJrl",
        "outputId": "da3138d2-c2a5-4537-9e87-0da694480ccc"
      },
      "source": [
        "from sklearn.metrics import confusion_matrix, classification_report\n",
        "import itertools\n",
        "\n",
        "fig = plot_confusion_matrix(y_test=t_te, y_pred=y_pred,\n",
        "                      classes=labels,\n",
        "                      normalize=True,\n",
        "                      cmap=plt.cm.Blues,\n",
        "                      title='Average accuracy: ' + str(np.sum(y_pred == t_te)/len(t_te)) + '\\n')"
      ],
      "execution_count": 28,
      "outputs": [
        {
          "output_type": "display_data",
          "data": {
            "image/png": "[encoded data removed]",
            "text/plain": [
              "<Figure size 432x288 with 2 Axes>"
            ]
          },
          "metadata": {
            "tags": [],
            "needs_background": "light"
          }
        }
      ]
    },
    {
      "cell_type": "code",
      "metadata": {
        "colab": {
          "base_uri": "https://localhost:8080/"
        },
        "id": "qes0jsNJG8TF",
        "outputId": "ec9315c5-d039-4b0f-8fb0-7af37a48168b"
      },
      "source": [
        "emotions = {0: 'Angry', 1: 'Disgust', 2: 'Fear', 3: 'Happy', 4: 'Sad', 5: 'Surprise', 6: 'Neutral'}\n",
        "print(classification_report(t_te, y_pred, target_names=emotions.values()))"
      ],
      "execution_count": 29,
      "outputs": [
        {
          "output_type": "stream",
          "text": [
            "              precision    recall  f1-score   support\n",
            "\n",
            "       Angry       0.65      0.53      0.58       491\n",
            "     Disgust       0.79      0.67      0.73        55\n",
            "        Fear       0.60      0.48      0.53       528\n",
            "       Happy       0.81      0.89      0.85       879\n",
            "         Sad       0.56      0.49      0.52       594\n",
            "    Surprise       0.80      0.79      0.79       416\n",
            "     Neutral       0.56      0.74      0.64       626\n",
            "\n",
            "    accuracy                           0.67      3589\n",
            "   macro avg       0.68      0.65      0.66      3589\n",
            "weighted avg       0.67      0.67      0.67      3589\n",
            "\n"
          ],
          "name": "stdout"
        }
      ]
    },
    {
      "cell_type": "markdown",
      "metadata": {
        "id": "VveOAjyz-GGm"
      },
      "source": [
        "# Predict"
      ]
    },
    {
      "cell_type": "code",
      "metadata": {
        "id": "EhKtgt6gsIc2",
        "colab": {
          "base_uri": "https://localhost:8080/",
          "height": 408
        },
        "outputId": "2df2d8d3-37f0-40c4-d427-2b1a73cf48db"
      },
      "source": [
        "from skimage import io\n",
        "img = image.load_img('/content/drive/My Drive/s.jpg', grayscale=True, target_size=(48, 48))\n",
        "show_img=image.load_img('/content/drive/My Drive/s.jpg', grayscale=False, target_size=(200, 200))\n",
        "x = image.img_to_array(img)\n",
        "x = np.expand_dims(x, axis = 0)\n",
        "\n",
        "x /= 255\n",
        "\n",
        "custom = model.predict(x)\n",
        "#print(custom[0])\n",
        "emotion_analysis(custom[0])\n",
        "\n",
        "x = np.array(x, 'float32')\n",
        "x = x.reshape([48, 48]);\n",
        "\n",
        "plt.gray()\n",
        "plt.imshow(show_img)\n",
        "plt.show()\n",
        "\n",
        "m=0.000000000000000000001\n",
        "a=custom[0]\n",
        "for i in range(0,len(a)):\n",
        "    if a[i]>m:\n",
        "        m=a[i]\n",
        "        ind=i\n",
        "        \n",
        "print('Expression Prediction:',emotions_lab[ind])"
      ],
      "execution_count": 30,
      "outputs": [
        {
          "output_type": "stream",
          "text": [
            "/usr/local/lib/python3.7/dist-packages/keras_preprocessing/image/utils.py:107: UserWarning: grayscale is deprecated. Please use color_mode = \"grayscale\"\n",
            "  warnings.warn('grayscale is deprecated. Please use '\n"
          ],
          "name": "stderr"
        },
        {
          "output_type": "error",
          "ename": "FileNotFoundError",
          "evalue": "ignored",
          "traceback": [
            "\u001b[0;31m---------------------------------------------------------------------------\u001b[0m",
            "\u001b[0;31mFileNotFoundError\u001b[0m                         Traceback (most recent call last)",
            "\u001b[0;32m<ipython-input-30-171835f33581>\u001b[0m in \u001b[0;36m<module>\u001b[0;34m()\u001b[0m\n\u001b[1;32m      1\u001b[0m \u001b[0;32mfrom\u001b[0m \u001b[0mskimage\u001b[0m \u001b[0;32mimport\u001b[0m \u001b[0mio\u001b[0m\u001b[0;34m\u001b[0m\u001b[0;34m\u001b[0m\u001b[0m\n\u001b[0;32m----> 2\u001b[0;31m \u001b[0mimg\u001b[0m \u001b[0;34m=\u001b[0m \u001b[0mimage\u001b[0m\u001b[0;34m.\u001b[0m\u001b[0mload_img\u001b[0m\u001b[0;34m(\u001b[0m\u001b[0;34m'/content/drive/My Drive/s.jpg'\u001b[0m\u001b[0;34m,\u001b[0m \u001b[0mgrayscale\u001b[0m\u001b[0;34m=\u001b[0m\u001b[0;32mTrue\u001b[0m\u001b[0;34m,\u001b[0m \u001b[0mtarget_size\u001b[0m\u001b[0;34m=\u001b[0m\u001b[0;34m(\u001b[0m\u001b[0;36m48\u001b[0m\u001b[0;34m,\u001b[0m \u001b[0;36m48\u001b[0m\u001b[0;34m)\u001b[0m\u001b[0;34m)\u001b[0m\u001b[0;34m\u001b[0m\u001b[0;34m\u001b[0m\u001b[0m\n\u001b[0m\u001b[1;32m      3\u001b[0m \u001b[0mshow_img\u001b[0m\u001b[0;34m=\u001b[0m\u001b[0mimage\u001b[0m\u001b[0;34m.\u001b[0m\u001b[0mload_img\u001b[0m\u001b[0;34m(\u001b[0m\u001b[0;34m'/content/drive/My Drive/s.jpg'\u001b[0m\u001b[0;34m,\u001b[0m \u001b[0mgrayscale\u001b[0m\u001b[0;34m=\u001b[0m\u001b[0;32mFalse\u001b[0m\u001b[0;34m,\u001b[0m \u001b[0mtarget_size\u001b[0m\u001b[0;34m=\u001b[0m\u001b[0;34m(\u001b[0m\u001b[0;36m200\u001b[0m\u001b[0;34m,\u001b[0m \u001b[0;36m200\u001b[0m\u001b[0;34m)\u001b[0m\u001b[0;34m)\u001b[0m\u001b[0;34m\u001b[0m\u001b[0;34m\u001b[0m\u001b[0m\n\u001b[1;32m      4\u001b[0m \u001b[0mx\u001b[0m \u001b[0;34m=\u001b[0m \u001b[0mimage\u001b[0m\u001b[0;34m.\u001b[0m\u001b[0mimg_to_array\u001b[0m\u001b[0;34m(\u001b[0m\u001b[0mimg\u001b[0m\u001b[0;34m)\u001b[0m\u001b[0;34m\u001b[0m\u001b[0;34m\u001b[0m\u001b[0m\n\u001b[1;32m      5\u001b[0m \u001b[0mx\u001b[0m \u001b[0;34m=\u001b[0m \u001b[0mnp\u001b[0m\u001b[0;34m.\u001b[0m\u001b[0mexpand_dims\u001b[0m\u001b[0;34m(\u001b[0m\u001b[0mx\u001b[0m\u001b[0;34m,\u001b[0m \u001b[0maxis\u001b[0m \u001b[0;34m=\u001b[0m \u001b[0;36m0\u001b[0m\u001b[0;34m)\u001b[0m\u001b[0;34m\u001b[0m\u001b[0;34m\u001b[0m\u001b[0m\n",
            "\u001b[0;32m/usr/local/lib/python3.7/dist-packages/keras/preprocessing/image.py\u001b[0m in \u001b[0;36mload_img\u001b[0;34m(path, grayscale, color_mode, target_size, interpolation)\u001b[0m\n\u001b[1;32m    291\u001b[0m   \"\"\"\n\u001b[1;32m    292\u001b[0m   return image.load_img(path, grayscale=grayscale, color_mode=color_mode,\n\u001b[0;32m--> 293\u001b[0;31m                         target_size=target_size, interpolation=interpolation)\n\u001b[0m\u001b[1;32m    294\u001b[0m \u001b[0;34m\u001b[0m\u001b[0m\n\u001b[1;32m    295\u001b[0m \u001b[0;34m\u001b[0m\u001b[0m\n",
            "\u001b[0;32m/usr/local/lib/python3.7/dist-packages/keras_preprocessing/image/utils.py\u001b[0m in \u001b[0;36mload_img\u001b[0;34m(path, grayscale, color_mode, target_size, interpolation)\u001b[0m\n\u001b[1;32m    111\u001b[0m         raise ImportError('Could not import PIL.Image. '\n\u001b[1;32m    112\u001b[0m                           'The use of `load_img` requires PIL.')\n\u001b[0;32m--> 113\u001b[0;31m     \u001b[0;32mwith\u001b[0m \u001b[0mopen\u001b[0m\u001b[0;34m(\u001b[0m\u001b[0mpath\u001b[0m\u001b[0;34m,\u001b[0m \u001b[0;34m'rb'\u001b[0m\u001b[0;34m)\u001b[0m \u001b[0;32mas\u001b[0m \u001b[0mf\u001b[0m\u001b[0;34m:\u001b[0m\u001b[0;34m\u001b[0m\u001b[0;34m\u001b[0m\u001b[0m\n\u001b[0m\u001b[1;32m    114\u001b[0m         \u001b[0mimg\u001b[0m \u001b[0;34m=\u001b[0m \u001b[0mpil_image\u001b[0m\u001b[0;34m.\u001b[0m\u001b[0mopen\u001b[0m\u001b[0;34m(\u001b[0m\u001b[0mio\u001b[0m\u001b[0;34m.\u001b[0m\u001b[0mBytesIO\u001b[0m\u001b[0;34m(\u001b[0m\u001b[0mf\u001b[0m\u001b[0;34m.\u001b[0m\u001b[0mread\u001b[0m\u001b[0;34m(\u001b[0m\u001b[0;34m)\u001b[0m\u001b[0;34m)\u001b[0m\u001b[0;34m)\u001b[0m\u001b[0;34m\u001b[0m\u001b[0;34m\u001b[0m\u001b[0m\n\u001b[1;32m    115\u001b[0m         \u001b[0;32mif\u001b[0m \u001b[0mcolor_mode\u001b[0m \u001b[0;34m==\u001b[0m \u001b[0;34m'grayscale'\u001b[0m\u001b[0;34m:\u001b[0m\u001b[0;34m\u001b[0m\u001b[0;34m\u001b[0m\u001b[0m\n",
            "\u001b[0;31mFileNotFoundError\u001b[0m: [Errno 2] No such file or directory: '/content/drive/My Drive/s.jpg'"
          ]
        }
      ]
    }
  ]
}