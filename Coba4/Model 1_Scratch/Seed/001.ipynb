{
  "nbformat": 4,
  "nbformat_minor": 0,
  "metadata": {
    "colab": {
      "name": "Coba4.ipynb",
      "provenance": [],
      "collapsed_sections": [],
      "include_colab_link": true
    },
    "kernelspec": {
      "name": "python3",
      "display_name": "Python 3"
    },
    "language_info": {
      "name": "python"
    },
    "accelerator": "GPU"
  },
  "cells": [
    {
      "cell_type": "markdown",
      "metadata": {
        "id": "view-in-github",
        "colab_type": "text"
      },
      "source": [
        "<a href=\"https://colab.research.google.com/github/rizqyjoe/Facial_Expression_Recognition_CNN_VGG16/blob/main/Coba4/Model%201_Scratch/Seed/001.ipynb\" target=\"_parent\"><img src=\"https://colab.research.google.com/assets/colab-badge.svg\" alt=\"Open In Colab\"/></a>"
      ]
    },
    {
      "cell_type": "code",
      "metadata": {
        "id": "sX-0w3h_sh6U",
        "colab": {
          "base_uri": "https://localhost:8080/"
        },
        "outputId": "b8971dbd-d41b-41a5-e03f-85807d5e0df9"
      },
      "source": [
        "#mount drive\n",
        "from google.colab import drive\n",
        "drive.mount('/content/drive')"
      ],
      "execution_count": 1,
      "outputs": [
        {
          "output_type": "stream",
          "text": [
            "Drive already mounted at /content/drive; to attempt to forcibly remount, call drive.mount(\"/content/drive\", force_remount=True).\n"
          ],
          "name": "stdout"
        }
      ]
    },
    {
      "cell_type": "markdown",
      "metadata": {
        "id": "58jrp8yObBBA"
      },
      "source": [
        "# Pre-processing"
      ]
    },
    {
      "cell_type": "code",
      "metadata": {
        "id": "7nrYTmGLrD2A"
      },
      "source": [
        "import tensorflow as tf\n",
        "import keras\n",
        "from keras import backend as K\n",
        "import pandas as pd\n",
        "import numpy as np\n",
        "import matplotlib.pyplot as plt\n",
        "from keras.preprocessing import image\n",
        "from keras.preprocessing.image import ImageDataGenerator\n",
        "from keras import regularizers\n",
        "from keras.utils import np_utils\n",
        "\n",
        "import tensorflow as tf\n",
        "import random\n",
        "\n",
        "tf.random.set_seed(55)\n",
        "np.random.seed(55)\n",
        "\n",
        "from keras.initializers import glorot_uniform"
      ],
      "execution_count": 2,
      "outputs": []
    },
    {
      "cell_type": "code",
      "metadata": {
        "colab": {
          "base_uri": "https://localhost:8080/",
          "height": 204
        },
        "id": "0vTjzHIRrW53",
        "outputId": "3fcea909-1547-466c-bd79-d91eecf9c52b"
      },
      "source": [
        "#load file\n",
        "data= pd.read_csv('/content/drive/MyDrive/Dataset/fer2013 dataset/fer2013/fer2013.csv')\n",
        "data.head()"
      ],
      "execution_count": 3,
      "outputs": [
        {
          "output_type": "execute_result",
          "data": {
            "text/html": [
              "<div>\n",
              "<style scoped>\n",
              "    .dataframe tbody tr th:only-of-type {\n",
              "        vertical-align: middle;\n",
              "    }\n",
              "\n",
              "    .dataframe tbody tr th {\n",
              "        vertical-align: top;\n",
              "    }\n",
              "\n",
              "    .dataframe thead th {\n",
              "        text-align: right;\n",
              "    }\n",
              "</style>\n",
              "<table border=\"1\" class=\"dataframe\">\n",
              "  <thead>\n",
              "    <tr style=\"text-align: right;\">\n",
              "      <th></th>\n",
              "      <th>emotion</th>\n",
              "      <th>pixels</th>\n",
              "      <th>Usage</th>\n",
              "    </tr>\n",
              "  </thead>\n",
              "  <tbody>\n",
              "    <tr>\n",
              "      <th>0</th>\n",
              "      <td>0</td>\n",
              "      <td>70 80 82 72 58 58 60 63 54 58 60 48 89 115 121...</td>\n",
              "      <td>Training</td>\n",
              "    </tr>\n",
              "    <tr>\n",
              "      <th>1</th>\n",
              "      <td>0</td>\n",
              "      <td>151 150 147 155 148 133 111 140 170 174 182 15...</td>\n",
              "      <td>Training</td>\n",
              "    </tr>\n",
              "    <tr>\n",
              "      <th>2</th>\n",
              "      <td>2</td>\n",
              "      <td>231 212 156 164 174 138 161 173 182 200 106 38...</td>\n",
              "      <td>Training</td>\n",
              "    </tr>\n",
              "    <tr>\n",
              "      <th>3</th>\n",
              "      <td>4</td>\n",
              "      <td>24 32 36 30 32 23 19 20 30 41 21 22 32 34 21 1...</td>\n",
              "      <td>Training</td>\n",
              "    </tr>\n",
              "    <tr>\n",
              "      <th>4</th>\n",
              "      <td>6</td>\n",
              "      <td>4 0 0 0 0 0 0 0 0 0 0 0 3 15 23 28 48 50 58 84...</td>\n",
              "      <td>Training</td>\n",
              "    </tr>\n",
              "  </tbody>\n",
              "</table>\n",
              "</div>"
            ],
            "text/plain": [
              "   emotion                                             pixels     Usage\n",
              "0        0  70 80 82 72 58 58 60 63 54 58 60 48 89 115 121...  Training\n",
              "1        0  151 150 147 155 148 133 111 140 170 174 182 15...  Training\n",
              "2        2  231 212 156 164 174 138 161 173 182 200 106 38...  Training\n",
              "3        4  24 32 36 30 32 23 19 20 30 41 21 22 32 34 21 1...  Training\n",
              "4        6  4 0 0 0 0 0 0 0 0 0 0 0 3 15 23 28 48 50 58 84...  Training"
            ]
          },
          "metadata": {
            "tags": []
          },
          "execution_count": 3
        }
      ]
    },
    {
      "cell_type": "code",
      "metadata": {
        "colab": {
          "base_uri": "https://localhost:8080/"
        },
        "id": "NU40Z0ynrau2",
        "outputId": "29be77bd-5cf0-4f92-bb98-f7c44a1c52c0"
      },
      "source": [
        "data.emotion.value_counts()"
      ],
      "execution_count": 4,
      "outputs": [
        {
          "output_type": "execute_result",
          "data": {
            "text/plain": [
              "3    8989\n",
              "6    6198\n",
              "4    6077\n",
              "2    5121\n",
              "0    4953\n",
              "5    4002\n",
              "1     547\n",
              "Name: emotion, dtype: int64"
            ]
          },
          "metadata": {
            "tags": []
          },
          "execution_count": 4
        }
      ]
    },
    {
      "cell_type": "code",
      "metadata": {
        "id": "IeBaq6_7rdMu"
      },
      "source": [
        "emotion_labels = [\"Angry\", \"Disgust\", \"Fear\", \"Happy\", \"Sad\", \"Surprise\", \"Neutral\"]\n",
        "labels=np.array((\"Angry\", \"Disgust\", \"Fear\", \"Happy\", \"Sad\", \"Surprise\", \"Neutral\"))"
      ],
      "execution_count": 5,
      "outputs": []
    },
    {
      "cell_type": "code",
      "metadata": {
        "colab": {
          "base_uri": "https://localhost:8080/"
        },
        "id": "8MQKKFDare4e",
        "outputId": "9f70153d-8e3e-432e-99ea-d1cb6af8ac75"
      },
      "source": [
        "data.Usage.value_counts()"
      ],
      "execution_count": 6,
      "outputs": [
        {
          "output_type": "execute_result",
          "data": {
            "text/plain": [
              "Training       28709\n",
              "PrivateTest     3589\n",
              "PublicTest      3589\n",
              "Name: Usage, dtype: int64"
            ]
          },
          "metadata": {
            "tags": []
          },
          "execution_count": 6
        }
      ]
    },
    {
      "cell_type": "code",
      "metadata": {
        "id": "RQlblEnwrgkW"
      },
      "source": [
        "#split data \n",
        "train_set = data[(data.Usage == 'Training')] \n",
        "val_set = data[(data.Usage == 'PublicTest')]\n",
        "test_set = data[(data.Usage == 'PrivateTest')] \n",
        "X_train = np.array(list(map(str.split, train_set.pixels)), np.float32) \n",
        "X_val = np.array(list(map(str.split, val_set.pixels)), np.float32) \n",
        "X_test = np.array(list(map(str.split, test_set.pixels)), np.float32) \n",
        "X_train = X_train.reshape(X_train.shape[0], 48, 48, 1) \n",
        "X_val = X_val.reshape(X_val.shape[0], 48, 48, 1)\n",
        "X_test = X_test.reshape(X_test.shape[0], 48, 48, 1)"
      ],
      "execution_count": 7,
      "outputs": []
    },
    {
      "cell_type": "code",
      "metadata": {
        "id": "MVqY8ftoriHW"
      },
      "source": [
        "num_classes = 7\n",
        "\n",
        "y_train = train_set.emotion \n",
        "y_train = np_utils.to_categorical(y_train, num_classes) \n",
        "y_val = val_set.emotion \n",
        "y_val = np_utils.to_categorical(y_val, num_classes) \n",
        "y_test = test_set.emotion \n",
        "y_test = np_utils.to_categorical(y_test, num_classes)"
      ],
      "execution_count": 8,
      "outputs": []
    },
    {
      "cell_type": "code",
      "metadata": {
        "colab": {
          "base_uri": "https://localhost:8080/"
        },
        "id": "WaMwvF5vrju-",
        "outputId": "9749177e-dbc5-464e-80b1-fc2fd0af04db"
      },
      "source": [
        "print(\"x_train:\",X_train.shape)\n",
        "print(\"y_train:\",y_train.shape)\n",
        "print(\"x_val:\",X_val.shape)\n",
        "print(\"y_val:\",y_val.shape)\n",
        "print(\"x_test:\",X_test.shape)\n",
        "print(\"y_test:\",y_test.shape)"
      ],
      "execution_count": 9,
      "outputs": [
        {
          "output_type": "stream",
          "text": [
            "x_train: (28709, 48, 48, 1)\n",
            "y_train: (28709, 7)\n",
            "x_val: (3589, 48, 48, 1)\n",
            "y_val: (3589, 7)\n",
            "x_test: (3589, 48, 48, 1)\n",
            "y_test: (3589, 7)\n"
          ],
          "name": "stdout"
        }
      ]
    },
    {
      "cell_type": "code",
      "metadata": {
        "id": "DzChH8hGrldw"
      },
      "source": [
        "#data augmentation\n",
        "'''datagen = ImageDataGenerator(rescale=1./255,\n",
        "                             rotation_range = 10,\n",
        "                             horizontal_flip = True,\n",
        "                             width_shift_range=0.1,\n",
        "                             height_shift_range=0.1,\n",
        "                             fill_mode = 'nearest')'''\n",
        "\n",
        "datagen = ImageDataGenerator(rescale=1./255)\n",
        "\n",
        "#testgen = ImageDataGenerator(rescale=1./255)\n",
        "testgen = ImageDataGenerator(rescale=1./255)\n",
        "\n",
        "datagen.fit(X_train)\n",
        "batch_size = 64"
      ],
      "execution_count": 10,
      "outputs": []
    },
    {
      "cell_type": "code",
      "metadata": {
        "id": "d-nkOZUfrm_e"
      },
      "source": [
        "train_flow = datagen.flow(X_train, y_train, batch_size=batch_size) \n",
        "val_flow = testgen.flow(X_val, y_val, batch_size=batch_size) \n",
        "test_flow = testgen.flow(X_test, y_test, batch_size=batch_size)"
      ],
      "execution_count": 11,
      "outputs": []
    },
    {
      "cell_type": "code",
      "metadata": {
        "id": "3u6vR_8CroMG"
      },
      "source": [
        "from tensorflow.keras.utils import plot_model\n",
        "from matplotlib import pyplot"
      ],
      "execution_count": 12,
      "outputs": []
    },
    {
      "cell_type": "code",
      "metadata": {
        "colab": {
          "base_uri": "https://localhost:8080/",
          "height": 248
        },
        "id": "HZ6sB7a0rp0O",
        "outputId": "1dc2ebb8-6212-41b8-93e8-398156eaf844"
      },
      "source": [
        "#displaying sample images\n",
        "for X_batch, y_batch in datagen.flow(X_train, y_train, batch_size=9):\n",
        "    for i in range(0, 9): \n",
        "        pyplot.axis('off') \n",
        "        pyplot.subplot(330 + 1 + i) \n",
        "        pyplot.imshow(X_batch[i].reshape(48, 48), cmap=pyplot.get_cmap('gray'))\n",
        "    pyplot.axis('off') \n",
        "    pyplot.show() \n",
        "    break"
      ],
      "execution_count": 13,
      "outputs": [
        {
          "output_type": "display_data",
          "data": {
            "image/png": "[encoded data removed]",
            "text/plain": [
              "<Figure size 432x288 with 9 Axes>"
            ]
          },
          "metadata": {
            "tags": [],
            "needs_background": "light"
          }
        }
      ]
    },
    {
      "cell_type": "markdown",
      "metadata": {
        "id": "mH061hQUbJsv"
      },
      "source": [
        "# Training Model"
      ]
    },
    {
      "cell_type": "code",
      "metadata": {
        "colab": {
          "base_uri": "https://localhost:8080/"
        },
        "id": "CyjVWe3Arsqu",
        "outputId": "f480de2c-321a-43f0-b139-3e6d71c58e52"
      },
      "source": [
        "from keras.models import Sequential\n",
        "from keras.layers import Input, Dense, Flatten, Dropout, Conv2D, MaxPool2D, BatchNormalization, Activation\n",
        "\n",
        "input_shape = (48, 48, 1)\n",
        "\n",
        "model = Sequential()\n",
        "\n",
        "model.add(Conv2D(filters=64,input_shape=(input_shape),kernel_size=(3,3),padding=\"same\", activation=\"relu\", kernel_initializer = glorot_uniform(seed=1)))\n",
        "model.add(Conv2D(filters=64,kernel_size=(3,3),padding=\"same\", activation=\"relu\", kernel_initializer = glorot_uniform(seed=1)))\n",
        "model.add(MaxPool2D(pool_size=(2,2),strides=(2,2)))\n",
        "model.add(Dropout(0.25))\n",
        "model.add(BatchNormalization())\n",
        "\n",
        "model.add(Conv2D(filters=128, kernel_size=(3,3), padding=\"same\", activation=\"relu\", kernel_initializer = glorot_uniform(seed=1)))\n",
        "model.add(Conv2D(filters=128, kernel_size=(3,3), padding=\"same\", activation=\"relu\", kernel_initializer = glorot_uniform(seed=1)))\n",
        "model.add(MaxPool2D(pool_size=(2,2),strides=(2,2)))\n",
        "model.add(Dropout(0.25))\n",
        "model.add(BatchNormalization())\n",
        "\n",
        "model.add(Conv2D(filters=256, kernel_size=(3,3), padding=\"same\", activation=\"relu\", kernel_initializer = glorot_uniform(seed=1)))\n",
        "model.add(Conv2D(filters=256, kernel_size=(3,3), padding=\"same\", activation=\"relu\", kernel_initializer = glorot_uniform(seed=1)))\n",
        "model.add(Conv2D(filters=256, kernel_size=(3,3), padding=\"same\", activation=\"relu\", kernel_initializer = glorot_uniform(seed=1)))\n",
        "model.add(MaxPool2D(pool_size=(2,2),strides=(2,2)))\n",
        "model.add(Dropout(0.5))\n",
        "model.add(BatchNormalization())\n",
        "\n",
        "model.add(Conv2D(filters=512, kernel_size=(3,3), padding=\"same\", activation=\"relu\", kernel_initializer = glorot_uniform(seed=1)))\n",
        "model.add(Conv2D(filters=512, kernel_size=(3,3), padding=\"same\", activation=\"relu\", kernel_initializer = glorot_uniform(seed=1)))\n",
        "model.add(Conv2D(filters=512, kernel_size=(3,3), padding=\"same\", activation=\"relu\", kernel_initializer = glorot_uniform(seed=1)))\n",
        "model.add(MaxPool2D(pool_size=(2,2),strides=(2,2)))\n",
        "model.add(Dropout(0.5))\n",
        "model.add(BatchNormalization())\n",
        "\n",
        "model.add(Flatten())\n",
        "\n",
        "model.add(Dense(512,activation='relu'))\n",
        "model.add(Dropout(0.5))\n",
        "model.add(Dense(512,activation='relu'))\n",
        "model.add(Dropout(0.5))\n",
        "model.add(Dense(512,activation='relu'))\n",
        "model.add(Dropout(0.5))\n",
        "\n",
        "model.add(Dense(units=num_classes, activation='softmax'))\n",
        "\n",
        "# print the model summary\n",
        "model.summary()"
      ],
      "execution_count": 14,
      "outputs": [
        {
          "output_type": "stream",
          "text": [
            "Model: \"sequential\"\n",
            "_________________________________________________________________\n",
            "Layer (type)                 Output Shape              Param #   \n",
            "=================================================================\n",
            "conv2d (Conv2D)              (None, 48, 48, 64)        640       \n",
            "_________________________________________________________________\n",
            "conv2d_1 (Conv2D)            (None, 48, 48, 64)        36928     \n",
            "_________________________________________________________________\n",
            "max_pooling2d (MaxPooling2D) (None, 24, 24, 64)        0         \n",
            "_________________________________________________________________\n",
            "dropout (Dropout)            (None, 24, 24, 64)        0         \n",
            "_________________________________________________________________\n",
            "batch_normalization (BatchNo (None, 24, 24, 64)        256       \n",
            "_________________________________________________________________\n",
            "conv2d_2 (Conv2D)            (None, 24, 24, 128)       73856     \n",
            "_________________________________________________________________\n",
            "conv2d_3 (Conv2D)            (None, 24, 24, 128)       147584    \n",
            "_________________________________________________________________\n",
            "max_pooling2d_1 (MaxPooling2 (None, 12, 12, 128)       0         \n",
            "_________________________________________________________________\n",
            "dropout_1 (Dropout)          (None, 12, 12, 128)       0         \n",
            "_________________________________________________________________\n",
            "batch_normalization_1 (Batch (None, 12, 12, 128)       512       \n",
            "_________________________________________________________________\n",
            "conv2d_4 (Conv2D)            (None, 12, 12, 256)       295168    \n",
            "_________________________________________________________________\n",
            "conv2d_5 (Conv2D)            (None, 12, 12, 256)       590080    \n",
            "_________________________________________________________________\n",
            "conv2d_6 (Conv2D)            (None, 12, 12, 256)       590080    \n",
            "_________________________________________________________________\n",
            "max_pooling2d_2 (MaxPooling2 (None, 6, 6, 256)         0         \n",
            "_________________________________________________________________\n",
            "dropout_2 (Dropout)          (None, 6, 6, 256)         0         \n",
            "_________________________________________________________________\n",
            "batch_normalization_2 (Batch (None, 6, 6, 256)         1024      \n",
            "_________________________________________________________________\n",
            "conv2d_7 (Conv2D)            (None, 6, 6, 512)         1180160   \n",
            "_________________________________________________________________\n",
            "conv2d_8 (Conv2D)            (None, 6, 6, 512)         2359808   \n",
            "_________________________________________________________________\n",
            "conv2d_9 (Conv2D)            (None, 6, 6, 512)         2359808   \n",
            "_________________________________________________________________\n",
            "max_pooling2d_3 (MaxPooling2 (None, 3, 3, 512)         0         \n",
            "_________________________________________________________________\n",
            "dropout_3 (Dropout)          (None, 3, 3, 512)         0         \n",
            "_________________________________________________________________\n",
            "batch_normalization_3 (Batch (None, 3, 3, 512)         2048      \n",
            "_________________________________________________________________\n",
            "flatten (Flatten)            (None, 4608)              0         \n",
            "_________________________________________________________________\n",
            "dense (Dense)                (None, 512)               2359808   \n",
            "_________________________________________________________________\n",
            "dropout_4 (Dropout)          (None, 512)               0         \n",
            "_________________________________________________________________\n",
            "dense_1 (Dense)              (None, 512)               262656    \n",
            "_________________________________________________________________\n",
            "dropout_5 (Dropout)          (None, 512)               0         \n",
            "_________________________________________________________________\n",
            "dense_2 (Dense)              (None, 512)               262656    \n",
            "_________________________________________________________________\n",
            "dropout_6 (Dropout)          (None, 512)               0         \n",
            "_________________________________________________________________\n",
            "dense_3 (Dense)              (None, 7)                 3591      \n",
            "=================================================================\n",
            "Total params: 10,526,663\n",
            "Trainable params: 10,524,743\n",
            "Non-trainable params: 1,920\n",
            "_________________________________________________________________\n"
          ],
          "name": "stdout"
        }
      ]
    },
    {
      "cell_type": "code",
      "metadata": {
        "id": "bziUSilV_y4Z"
      },
      "source": [
        "from keras.optimizers import Adam,SGD,RMSprop"
      ],
      "execution_count": 15,
      "outputs": []
    },
    {
      "cell_type": "code",
      "metadata": {
        "id": "LhxgJX3brul-"
      },
      "source": [
        "#compile model\n",
        "adam = Adam(learning_rate=0.0001)\n",
        "model.compile(loss='categorical_crossentropy', optimizer=adam, metrics=['accuracy'])"
      ],
      "execution_count": 16,
      "outputs": []
    },
    {
      "cell_type": "code",
      "metadata": {
        "colab": {
          "base_uri": "https://localhost:8080/"
        },
        "id": "ljPuPM2iryKG",
        "outputId": "00b88e53-5075-49fd-ae66-3a26d647da65"
      },
      "source": [
        "# fit the model\n",
        "num_epochs = 100\n",
        "history = model.fit(train_flow, \n",
        "                    steps_per_epoch=len(X_train) // batch_size, \n",
        "                    epochs=num_epochs,  \n",
        "                    verbose=1,  \n",
        "                    validation_data=val_flow,  \n",
        "                    validation_steps=len(X_val) // batch_size)"
      ],
      "execution_count": 17,
      "outputs": [
        {
          "output_type": "stream",
          "text": [
            "Epoch 1/100\n",
            "448/448 [==============================] - 45s 58ms/step - loss: 2.1398 - accuracy: 0.1913 - val_loss: 1.8432 - val_accuracy: 0.2494\n",
            "Epoch 2/100\n",
            "448/448 [==============================] - 24s 54ms/step - loss: 1.8431 - accuracy: 0.2301 - val_loss: 1.8412 - val_accuracy: 0.2497\n",
            "Epoch 3/100\n",
            "448/448 [==============================] - 24s 53ms/step - loss: 1.8252 - accuracy: 0.2335 - val_loss: 1.8727 - val_accuracy: 0.2447\n",
            "Epoch 4/100\n",
            "448/448 [==============================] - 24s 53ms/step - loss: 1.8204 - accuracy: 0.2342 - val_loss: 1.8997 - val_accuracy: 0.2492\n",
            "Epoch 5/100\n",
            "448/448 [==============================] - 24s 54ms/step - loss: 1.8093 - accuracy: 0.2369 - val_loss: 1.8881 - val_accuracy: 0.2494\n",
            "Epoch 6/100\n",
            "448/448 [==============================] - 24s 53ms/step - loss: 1.7988 - accuracy: 0.2470 - val_loss: 1.8794 - val_accuracy: 0.2494\n",
            "Epoch 7/100\n",
            "448/448 [==============================] - 24s 54ms/step - loss: 1.7532 - accuracy: 0.2800 - val_loss: 1.6907 - val_accuracy: 0.3105\n",
            "Epoch 8/100\n",
            "448/448 [==============================] - 24s 53ms/step - loss: 1.6618 - accuracy: 0.3193 - val_loss: 1.5898 - val_accuracy: 0.3538\n",
            "Epoch 9/100\n",
            "448/448 [==============================] - 24s 54ms/step - loss: 1.5696 - accuracy: 0.3730 - val_loss: 1.4524 - val_accuracy: 0.4166\n",
            "Epoch 10/100\n",
            "448/448 [==============================] - 24s 53ms/step - loss: 1.5068 - accuracy: 0.4069 - val_loss: 1.4305 - val_accuracy: 0.4383\n",
            "Epoch 11/100\n",
            "448/448 [==============================] - 24s 54ms/step - loss: 1.4454 - accuracy: 0.4189 - val_loss: 1.3617 - val_accuracy: 0.4467\n",
            "Epoch 12/100\n",
            "448/448 [==============================] - 24s 53ms/step - loss: 1.3958 - accuracy: 0.4356 - val_loss: 1.3518 - val_accuracy: 0.4475\n",
            "Epoch 13/100\n",
            "448/448 [==============================] - 24s 53ms/step - loss: 1.3646 - accuracy: 0.4504 - val_loss: 1.2893 - val_accuracy: 0.4863\n",
            "Epoch 14/100\n",
            "448/448 [==============================] - 24s 53ms/step - loss: 1.3286 - accuracy: 0.4677 - val_loss: 1.2908 - val_accuracy: 0.4838\n",
            "Epoch 15/100\n",
            "448/448 [==============================] - 24s 54ms/step - loss: 1.3012 - accuracy: 0.4893 - val_loss: 1.2380 - val_accuracy: 0.5190\n",
            "Epoch 16/100\n",
            "448/448 [==============================] - 24s 53ms/step - loss: 1.2624 - accuracy: 0.5097 - val_loss: 1.2541 - val_accuracy: 0.4994\n",
            "Epoch 17/100\n",
            "448/448 [==============================] - 24s 54ms/step - loss: 1.2315 - accuracy: 0.5218 - val_loss: 1.2299 - val_accuracy: 0.5198\n",
            "Epoch 18/100\n",
            "448/448 [==============================] - 24s 53ms/step - loss: 1.1971 - accuracy: 0.5387 - val_loss: 1.2834 - val_accuracy: 0.5011\n",
            "Epoch 19/100\n",
            "448/448 [==============================] - 24s 53ms/step - loss: 1.1830 - accuracy: 0.5464 - val_loss: 1.1773 - val_accuracy: 0.5522\n",
            "Epoch 20/100\n",
            "448/448 [==============================] - 24s 54ms/step - loss: 1.1663 - accuracy: 0.5525 - val_loss: 1.1408 - val_accuracy: 0.5575\n",
            "Epoch 21/100\n",
            "448/448 [==============================] - 24s 53ms/step - loss: 1.1422 - accuracy: 0.5661 - val_loss: 1.1841 - val_accuracy: 0.5438\n",
            "Epoch 22/100\n",
            "448/448 [==============================] - 24s 53ms/step - loss: 1.1101 - accuracy: 0.5767 - val_loss: 1.1451 - val_accuracy: 0.5734\n",
            "Epoch 23/100\n",
            "448/448 [==============================] - 24s 54ms/step - loss: 1.0958 - accuracy: 0.5834 - val_loss: 1.0983 - val_accuracy: 0.5871\n",
            "Epoch 24/100\n",
            "448/448 [==============================] - 24s 53ms/step - loss: 1.0642 - accuracy: 0.5979 - val_loss: 1.1755 - val_accuracy: 0.5516\n",
            "Epoch 25/100\n",
            "448/448 [==============================] - 24s 53ms/step - loss: 1.0421 - accuracy: 0.6079 - val_loss: 1.0945 - val_accuracy: 0.5921\n",
            "Epoch 26/100\n",
            "448/448 [==============================] - 24s 54ms/step - loss: 1.0265 - accuracy: 0.6154 - val_loss: 1.0964 - val_accuracy: 0.5890\n",
            "Epoch 27/100\n",
            "448/448 [==============================] - 24s 53ms/step - loss: 1.0089 - accuracy: 0.6215 - val_loss: 1.0562 - val_accuracy: 0.6038\n",
            "Epoch 28/100\n",
            "448/448 [==============================] - 24s 54ms/step - loss: 0.9914 - accuracy: 0.6317 - val_loss: 1.0621 - val_accuracy: 0.6002\n",
            "Epoch 29/100\n",
            "448/448 [==============================] - 24s 53ms/step - loss: 0.9733 - accuracy: 0.6336 - val_loss: 1.0769 - val_accuracy: 0.6113\n",
            "Epoch 30/100\n",
            "448/448 [==============================] - 24s 53ms/step - loss: 0.9462 - accuracy: 0.6461 - val_loss: 1.0474 - val_accuracy: 0.6069\n",
            "Epoch 31/100\n",
            "448/448 [==============================] - 24s 53ms/step - loss: 0.9300 - accuracy: 0.6545 - val_loss: 1.0349 - val_accuracy: 0.6130\n",
            "Epoch 32/100\n",
            "448/448 [==============================] - 24s 53ms/step - loss: 0.9054 - accuracy: 0.6650 - val_loss: 1.0316 - val_accuracy: 0.6133\n",
            "Epoch 33/100\n",
            "448/448 [==============================] - 24s 54ms/step - loss: 0.8934 - accuracy: 0.6680 - val_loss: 1.0328 - val_accuracy: 0.6186\n",
            "Epoch 34/100\n",
            "448/448 [==============================] - 24s 53ms/step - loss: 0.8776 - accuracy: 0.6760 - val_loss: 1.0468 - val_accuracy: 0.6124\n",
            "Epoch 35/100\n",
            "448/448 [==============================] - 24s 54ms/step - loss: 0.8643 - accuracy: 0.6789 - val_loss: 1.0539 - val_accuracy: 0.6108\n",
            "Epoch 36/100\n",
            "448/448 [==============================] - 24s 53ms/step - loss: 0.8301 - accuracy: 0.6933 - val_loss: 1.0172 - val_accuracy: 0.6208\n",
            "Epoch 37/100\n",
            "448/448 [==============================] - 24s 53ms/step - loss: 0.8123 - accuracy: 0.6983 - val_loss: 1.0146 - val_accuracy: 0.6295\n",
            "Epoch 38/100\n",
            "448/448 [==============================] - 24s 54ms/step - loss: 0.7933 - accuracy: 0.7059 - val_loss: 1.1552 - val_accuracy: 0.5898\n",
            "Epoch 39/100\n",
            "448/448 [==============================] - 24s 53ms/step - loss: 0.7886 - accuracy: 0.7097 - val_loss: 1.0627 - val_accuracy: 0.6228\n",
            "Epoch 40/100\n",
            "448/448 [==============================] - 24s 53ms/step - loss: 0.7668 - accuracy: 0.7199 - val_loss: 1.0160 - val_accuracy: 0.6303\n",
            "Epoch 41/100\n",
            "448/448 [==============================] - 24s 54ms/step - loss: 0.7501 - accuracy: 0.7254 - val_loss: 1.0046 - val_accuracy: 0.6359\n",
            "Epoch 42/100\n",
            "448/448 [==============================] - 24s 53ms/step - loss: 0.7336 - accuracy: 0.7272 - val_loss: 1.0191 - val_accuracy: 0.6345\n",
            "Epoch 43/100\n",
            "448/448 [==============================] - 24s 54ms/step - loss: 0.7207 - accuracy: 0.7404 - val_loss: 1.0134 - val_accuracy: 0.6323\n",
            "Epoch 44/100\n",
            "448/448 [==============================] - 24s 53ms/step - loss: 0.7139 - accuracy: 0.7401 - val_loss: 1.0083 - val_accuracy: 0.6370\n",
            "Epoch 45/100\n",
            "448/448 [==============================] - 24s 54ms/step - loss: 0.6842 - accuracy: 0.7510 - val_loss: 1.0121 - val_accuracy: 0.6406\n",
            "Epoch 46/100\n",
            "448/448 [==============================] - 24s 53ms/step - loss: 0.6566 - accuracy: 0.7608 - val_loss: 0.9992 - val_accuracy: 0.6387\n",
            "Epoch 47/100\n",
            "448/448 [==============================] - 24s 54ms/step - loss: 0.6507 - accuracy: 0.7640 - val_loss: 0.9981 - val_accuracy: 0.6448\n",
            "Epoch 48/100\n",
            "448/448 [==============================] - 24s 53ms/step - loss: 0.6430 - accuracy: 0.7693 - val_loss: 1.0242 - val_accuracy: 0.6443\n",
            "Epoch 49/100\n",
            "448/448 [==============================] - 24s 53ms/step - loss: 0.6294 - accuracy: 0.7704 - val_loss: 1.0014 - val_accuracy: 0.6468\n",
            "Epoch 50/100\n",
            "448/448 [==============================] - 24s 54ms/step - loss: 0.6111 - accuracy: 0.7759 - val_loss: 1.0324 - val_accuracy: 0.6443\n",
            "Epoch 51/100\n",
            "448/448 [==============================] - 24s 53ms/step - loss: 0.6036 - accuracy: 0.7805 - val_loss: 1.0099 - val_accuracy: 0.6498\n",
            "Epoch 52/100\n",
            "448/448 [==============================] - 24s 53ms/step - loss: 0.5803 - accuracy: 0.7928 - val_loss: 1.0904 - val_accuracy: 0.6186\n",
            "Epoch 53/100\n",
            "448/448 [==============================] - 24s 54ms/step - loss: 0.5690 - accuracy: 0.7970 - val_loss: 1.0562 - val_accuracy: 0.6348\n",
            "Epoch 54/100\n",
            "448/448 [==============================] - 24s 53ms/step - loss: 0.5551 - accuracy: 0.7996 - val_loss: 1.0075 - val_accuracy: 0.6487\n",
            "Epoch 55/100\n",
            "448/448 [==============================] - 24s 54ms/step - loss: 0.5380 - accuracy: 0.8052 - val_loss: 1.0464 - val_accuracy: 0.6454\n",
            "Epoch 56/100\n",
            "448/448 [==============================] - 24s 53ms/step - loss: 0.5205 - accuracy: 0.8117 - val_loss: 1.0899 - val_accuracy: 0.6214\n",
            "Epoch 57/100\n",
            "448/448 [==============================] - 24s 53ms/step - loss: 0.5257 - accuracy: 0.8138 - val_loss: 1.0513 - val_accuracy: 0.6490\n",
            "Epoch 58/100\n",
            "448/448 [==============================] - 24s 53ms/step - loss: 0.5014 - accuracy: 0.8204 - val_loss: 1.0549 - val_accuracy: 0.6482\n",
            "Epoch 59/100\n",
            "448/448 [==============================] - 24s 54ms/step - loss: 0.4940 - accuracy: 0.8279 - val_loss: 1.0167 - val_accuracy: 0.6496\n",
            "Epoch 60/100\n",
            "448/448 [==============================] - 24s 53ms/step - loss: 0.4745 - accuracy: 0.8317 - val_loss: 1.0560 - val_accuracy: 0.6504\n",
            "Epoch 61/100\n",
            "448/448 [==============================] - 24s 53ms/step - loss: 0.4722 - accuracy: 0.8305 - val_loss: 1.0782 - val_accuracy: 0.6440\n",
            "Epoch 62/100\n",
            "448/448 [==============================] - 24s 53ms/step - loss: 0.4556 - accuracy: 0.8396 - val_loss: 1.0760 - val_accuracy: 0.6484\n",
            "Epoch 63/100\n",
            "448/448 [==============================] - 24s 54ms/step - loss: 0.4458 - accuracy: 0.8399 - val_loss: 1.0586 - val_accuracy: 0.6490\n",
            "Epoch 64/100\n",
            "448/448 [==============================] - 24s 54ms/step - loss: 0.4344 - accuracy: 0.8478 - val_loss: 1.0556 - val_accuracy: 0.6532\n",
            "Epoch 65/100\n",
            "448/448 [==============================] - 24s 53ms/step - loss: 0.4304 - accuracy: 0.8484 - val_loss: 1.0772 - val_accuracy: 0.6582\n",
            "Epoch 66/100\n",
            "448/448 [==============================] - 24s 53ms/step - loss: 0.4072 - accuracy: 0.8592 - val_loss: 1.0530 - val_accuracy: 0.6621\n",
            "Epoch 67/100\n",
            "448/448 [==============================] - 24s 53ms/step - loss: 0.4114 - accuracy: 0.8548 - val_loss: 1.0576 - val_accuracy: 0.6546\n",
            "Epoch 68/100\n",
            "448/448 [==============================] - 24s 53ms/step - loss: 0.3904 - accuracy: 0.8636 - val_loss: 1.0927 - val_accuracy: 0.6579\n",
            "Epoch 69/100\n",
            "448/448 [==============================] - 24s 54ms/step - loss: 0.3836 - accuracy: 0.8657 - val_loss: 1.0933 - val_accuracy: 0.6579\n",
            "Epoch 70/100\n",
            "448/448 [==============================] - 24s 53ms/step - loss: 0.3696 - accuracy: 0.8705 - val_loss: 1.1517 - val_accuracy: 0.6403\n",
            "Epoch 71/100\n",
            "448/448 [==============================] - 24s 54ms/step - loss: 0.3609 - accuracy: 0.8730 - val_loss: 1.1021 - val_accuracy: 0.6468\n",
            "Epoch 72/100\n",
            "448/448 [==============================] - 24s 53ms/step - loss: 0.3537 - accuracy: 0.8762 - val_loss: 1.0692 - val_accuracy: 0.6493\n",
            "Epoch 73/100\n",
            "448/448 [==============================] - 24s 53ms/step - loss: 0.3454 - accuracy: 0.8810 - val_loss: 1.0836 - val_accuracy: 0.6579\n",
            "Epoch 74/100\n",
            "448/448 [==============================] - 24s 53ms/step - loss: 0.3406 - accuracy: 0.8847 - val_loss: 1.0920 - val_accuracy: 0.6501\n",
            "Epoch 75/100\n",
            "448/448 [==============================] - 24s 54ms/step - loss: 0.3374 - accuracy: 0.8841 - val_loss: 1.0817 - val_accuracy: 0.6557\n",
            "Epoch 76/100\n",
            "448/448 [==============================] - 24s 53ms/step - loss: 0.3179 - accuracy: 0.8884 - val_loss: 1.1446 - val_accuracy: 0.6462\n",
            "Epoch 77/100\n",
            "448/448 [==============================] - 24s 54ms/step - loss: 0.3196 - accuracy: 0.8905 - val_loss: 1.1607 - val_accuracy: 0.6582\n",
            "Epoch 78/100\n",
            "448/448 [==============================] - 24s 53ms/step - loss: 0.3054 - accuracy: 0.8940 - val_loss: 1.2491 - val_accuracy: 0.6560\n",
            "Epoch 79/100\n",
            "448/448 [==============================] - 24s 54ms/step - loss: 0.3060 - accuracy: 0.8937 - val_loss: 1.1421 - val_accuracy: 0.6445\n",
            "Epoch 80/100\n",
            "448/448 [==============================] - 24s 53ms/step - loss: 0.3008 - accuracy: 0.8952 - val_loss: 1.1904 - val_accuracy: 0.6582\n",
            "Epoch 81/100\n",
            "448/448 [==============================] - 24s 53ms/step - loss: 0.2935 - accuracy: 0.8991 - val_loss: 1.1206 - val_accuracy: 0.6590\n",
            "Epoch 82/100\n",
            "448/448 [==============================] - 24s 54ms/step - loss: 0.2975 - accuracy: 0.9009 - val_loss: 1.1232 - val_accuracy: 0.6646\n",
            "Epoch 83/100\n",
            "448/448 [==============================] - 24s 53ms/step - loss: 0.2844 - accuracy: 0.9048 - val_loss: 1.1720 - val_accuracy: 0.6543\n",
            "Epoch 84/100\n",
            "448/448 [==============================] - 24s 54ms/step - loss: 0.2776 - accuracy: 0.9058 - val_loss: 1.1521 - val_accuracy: 0.6579\n",
            "Epoch 85/100\n",
            "448/448 [==============================] - 24s 54ms/step - loss: 0.2665 - accuracy: 0.9103 - val_loss: 1.1982 - val_accuracy: 0.6579\n",
            "Epoch 86/100\n",
            "448/448 [==============================] - 24s 54ms/step - loss: 0.2635 - accuracy: 0.9077 - val_loss: 1.2208 - val_accuracy: 0.6423\n",
            "Epoch 87/100\n",
            "448/448 [==============================] - 24s 54ms/step - loss: 0.2557 - accuracy: 0.9124 - val_loss: 1.2830 - val_accuracy: 0.6479\n",
            "Epoch 88/100\n",
            "448/448 [==============================] - 24s 53ms/step - loss: 0.2568 - accuracy: 0.9136 - val_loss: 1.2318 - val_accuracy: 0.6557\n",
            "Epoch 89/100\n",
            "448/448 [==============================] - 24s 54ms/step - loss: 0.2565 - accuracy: 0.9129 - val_loss: 1.2875 - val_accuracy: 0.6392\n",
            "Epoch 90/100\n",
            "448/448 [==============================] - 24s 53ms/step - loss: 0.2410 - accuracy: 0.9183 - val_loss: 1.2980 - val_accuracy: 0.6574\n",
            "Epoch 91/100\n",
            "448/448 [==============================] - 24s 53ms/step - loss: 0.2395 - accuracy: 0.9207 - val_loss: 1.2243 - val_accuracy: 0.6549\n",
            "Epoch 92/100\n",
            "448/448 [==============================] - 24s 54ms/step - loss: 0.2338 - accuracy: 0.9199 - val_loss: 1.2800 - val_accuracy: 0.6521\n",
            "Epoch 93/100\n",
            "448/448 [==============================] - 24s 53ms/step - loss: 0.2248 - accuracy: 0.9191 - val_loss: 1.2185 - val_accuracy: 0.6568\n",
            "Epoch 94/100\n",
            "448/448 [==============================] - 24s 53ms/step - loss: 0.2252 - accuracy: 0.9243 - val_loss: 1.1867 - val_accuracy: 0.6613\n",
            "Epoch 95/100\n",
            "448/448 [==============================] - 24s 54ms/step - loss: 0.2232 - accuracy: 0.9237 - val_loss: 1.2394 - val_accuracy: 0.6596\n",
            "Epoch 96/100\n",
            "448/448 [==============================] - 24s 54ms/step - loss: 0.2138 - accuracy: 0.9306 - val_loss: 1.2109 - val_accuracy: 0.6638\n",
            "Epoch 97/100\n",
            "448/448 [==============================] - 24s 53ms/step - loss: 0.2153 - accuracy: 0.9266 - val_loss: 1.2758 - val_accuracy: 0.6632\n",
            "Epoch 98/100\n",
            "448/448 [==============================] - 24s 54ms/step - loss: 0.2065 - accuracy: 0.9314 - val_loss: 1.2765 - val_accuracy: 0.6523\n",
            "Epoch 99/100\n",
            "448/448 [==============================] - 24s 53ms/step - loss: 0.2149 - accuracy: 0.9311 - val_loss: 1.2516 - val_accuracy: 0.6629\n",
            "Epoch 100/100\n",
            "448/448 [==============================] - 24s 54ms/step - loss: 0.2037 - accuracy: 0.9311 - val_loss: 1.3097 - val_accuracy: 0.6571\n"
          ],
          "name": "stdout"
        }
      ]
    },
    {
      "cell_type": "markdown",
      "metadata": {
        "id": "zdn-Ud-Ca4LG"
      },
      "source": [
        "# Evaluate"
      ]
    },
    {
      "cell_type": "code",
      "metadata": {
        "id": "d8D97Qq4bUxn",
        "colab": {
          "base_uri": "https://localhost:8080/",
          "height": 573
        },
        "outputId": "785333da-06d3-4a4e-fca5-4a9deac91b68"
      },
      "source": [
        "accuracy = history.history['accuracy']\n",
        "val_accuracy = history.history['val_accuracy']\n",
        "loss = history.history['loss']\n",
        "val_loss = history.history['val_loss']\n",
        "num_epochs = range(len(accuracy))\n",
        "plt.plot(num_epochs, accuracy, 'r', label='Training acc')\n",
        "plt.plot(num_epochs, val_accuracy, 'b', label='Validation acc')\n",
        "plt.title('Training and validation accuracy')\n",
        "plt.ylabel('accuracy')  \n",
        "plt.xlabel('epoch')\n",
        "plt.legend()\n",
        "plt.figure()\n",
        "plt.plot(num_epochs, loss, 'r', label='Training loss')\n",
        "plt.plot(num_epochs, val_loss, 'b', label='Validation loss')\n",
        "plt.title('Training and validation loss')\n",
        "plt.ylabel('loss')  \n",
        "plt.xlabel('epoch')\n",
        "plt.legend()\n",
        "plt.show()"
      ],
      "execution_count": 18,
      "outputs": [
        {
          "output_type": "display_data",
          "data": {
            "image/png": "[encoded data removed]",
            "text/plain": [
              "<Figure size 432x288 with 1 Axes>"
            ]
          },
          "metadata": {
            "tags": [],
            "needs_background": "light"
          }
        },
        {
          "output_type": "display_data",
          "data": {
            "image/png": "[encoded data removed]",
            "text/plain": [
              "<Figure size 432x288 with 1 Axes>"
            ]
          },
          "metadata": {
            "tags": [],
            "needs_background": "light"
          }
        }
      ]
    },
    {
      "cell_type": "code",
      "metadata": {
        "id": "v2FEkE4pr8vN",
        "colab": {
          "base_uri": "https://localhost:8080/"
        },
        "outputId": "ae68f951-61ce-4602-abe9-ab520ae91563"
      },
      "source": [
        "trainloss = model.evaluate(train_flow, steps=len(X_train) / batch_size) \n",
        "print(\"Train Loss \" + str(trainloss[0]))\n",
        "print(\"Train Acc: \" + str(trainloss[1]))\n",
        "valloss = model.evaluate(val_flow, steps=len(X_val) / batch_size) \n",
        "print(\"Val Loss \" + str(valloss[0]))\n",
        "print(\"Val Acc: \" + str(valloss[1]))\n",
        "testloss = model.evaluate(test_flow, steps=len(X_test) / batch_size) \n",
        "print(\"Test Loss \" + str(testloss[0]))\n",
        "print(\"Test Acc: \" + str(testloss[1]))"
      ],
      "execution_count": 19,
      "outputs": [
        {
          "output_type": "stream",
          "text": [
            "448/448 [==============================] - 7s 16ms/step - loss: 0.0688 - accuracy: 0.9912\n",
            "Train Loss 0.06881000846624374\n",
            "Train Acc: 0.9912222623825073\n",
            "56/56 [==============================] - 1s 20ms/step - loss: 1.3086 - accuracy: 0.6573\n",
            "Val Loss 1.3085987567901611\n",
            "Val Acc: 0.6572861671447754\n",
            "56/56 [==============================] - 1s 16ms/step - loss: 1.2263 - accuracy: 0.6712\n",
            "Test Loss 1.2263013124465942\n",
            "Test Acc: 0.6712176203727722\n"
          ],
          "name": "stdout"
        }
      ]
    },
    {
      "cell_type": "code",
      "metadata": {
        "id": "lzHC1YQabqNF"
      },
      "source": [
        "def plot_confusion_matrix(y_test, y_pred, classes,\n",
        "                          normalize=False,\n",
        "                          title='Unnormalized confusion matrix',\n",
        "                          cmap=plt.cm.Blues):\n",
        "    cm = confusion_matrix(y_test, y_pred)\n",
        "    \n",
        "    if normalize:\n",
        "        cm = np.round(cm.astype('float') / cm.sum(axis=1)[:, np.newaxis], 2)\n",
        "        \n",
        "    np.set_printoptions(precision=2)\n",
        "        \n",
        "    plt.imshow(cm, interpolation='nearest', cmap=cmap)\n",
        "    plt.title(title)\n",
        "    plt.colorbar()\n",
        "    tick_marks = np.arange(len(classes))\n",
        "    plt.xticks(tick_marks, classes, rotation=45)\n",
        "    plt.yticks(tick_marks, classes)\n",
        "\n",
        "    thresh = cm.min() + (cm.max() - cm.min()) / 2.\n",
        "    for i, j in itertools.product(range(cm.shape[0]), range(cm.shape[1])):\n",
        "        plt.text(j, i, cm[i, j],\n",
        "                 horizontalalignment=\"center\",\n",
        "                 color=\"white\" if cm[i, j] > thresh else \"black\")\n",
        "\n",
        "    plt.tight_layout()\n",
        "    plt.ylabel('True expression')\n",
        "    plt.xlabel('Predicted expression')\n",
        "    plt.show()"
      ],
      "execution_count": 20,
      "outputs": []
    },
    {
      "cell_type": "code",
      "metadata": {
        "colab": {
          "base_uri": "https://localhost:8080/"
        },
        "id": "moInw8fjbqNF",
        "outputId": "105d7c9a-48c4-4fe6-e5d3-e373f45932b4"
      },
      "source": [
        "y_pred_ = model.predict(X_test/255., verbose=1)\n",
        "y_pred = np.argmax(y_pred_, axis=1)\n",
        "t_te = np.argmax(y_test, axis=1)"
      ],
      "execution_count": 21,
      "outputs": [
        {
          "output_type": "stream",
          "text": [
            "113/113 [==============================] - 2s 9ms/step\n"
          ],
          "name": "stdout"
        }
      ]
    },
    {
      "cell_type": "code",
      "metadata": {
        "colab": {
          "base_uri": "https://localhost:8080/",
          "height": 311
        },
        "id": "espEQdo8bqNG",
        "outputId": "3f51743e-cd39-4442-a1bf-cf5b4fb13e83"
      },
      "source": [
        "from sklearn.metrics import confusion_matrix, classification_report\n",
        "import itertools\n",
        "\n",
        "fig = plot_confusion_matrix(y_test=t_te, y_pred=y_pred,\n",
        "                      classes=labels,\n",
        "                      normalize=True,\n",
        "                      cmap=plt.cm.Blues,\n",
        "                      title='Average accuracy: ' + str(np.sum(y_pred == t_te)/len(t_te)) + '\\n')"
      ],
      "execution_count": 22,
      "outputs": [
        {
          "output_type": "display_data",
          "data": {
            "image/png": "[encoded data removed]",
            "text/plain": [
              "<Figure size 432x288 with 2 Axes>"
            ]
          },
          "metadata": {
            "tags": [],
            "needs_background": "light"
          }
        }
      ]
    },
    {
      "cell_type": "code",
      "metadata": {
        "colab": {
          "base_uri": "https://localhost:8080/"
        },
        "id": "4vauS7IKbqNG",
        "outputId": "766c71d2-4249-41a1-fc11-a991b49cd05e"
      },
      "source": [
        "emotions = {0: 'Angry', 1: 'Disgust', 2: 'Fear', 3: 'Happy', 4: 'Sad', 5: 'Surprise', 6: 'Neutral'}\n",
        "print(classification_report(t_te, y_pred, target_names=emotions.values()))"
      ],
      "execution_count": 23,
      "outputs": [
        {
          "output_type": "stream",
          "text": [
            "              precision    recall  f1-score   support\n",
            "\n",
            "       Angry       0.65      0.53      0.58       491\n",
            "     Disgust       0.79      0.67      0.73        55\n",
            "        Fear       0.60      0.48      0.53       528\n",
            "       Happy       0.81      0.89      0.85       879\n",
            "         Sad       0.56      0.49      0.52       594\n",
            "    Surprise       0.80      0.79      0.79       416\n",
            "     Neutral       0.56      0.74      0.64       626\n",
            "\n",
            "    accuracy                           0.67      3589\n",
            "   macro avg       0.68      0.65      0.66      3589\n",
            "weighted avg       0.67      0.67      0.67      3589\n",
            "\n"
          ],
          "name": "stdout"
        }
      ]
    },
    {
      "cell_type": "code",
      "metadata": {
        "colab": {
          "base_uri": "https://localhost:8080/"
        },
        "id": "KKWxaaYRba3j",
        "outputId": "8d69e624-858a-4f97-b003-6f66c8b61453"
      },
      "source": [
        "model.save(\"/content/drive/MyDrive/Colab Notebooks/Model/Coba4_Model1_Seed_noAug.h5\")\n",
        "print(\"saved\")"
      ],
      "execution_count": 24,
      "outputs": [
        {
          "output_type": "stream",
          "text": [
            "saved\n"
          ],
          "name": "stdout"
        }
      ]
    },
    {
      "cell_type": "markdown",
      "metadata": {
        "id": "aqLRhlr4b7t5"
      },
      "source": [
        "#Load Model"
      ]
    },
    {
      "cell_type": "code",
      "metadata": {
        "colab": {
          "base_uri": "https://localhost:8080/"
        },
        "id": "J45lyUtcJ-6F",
        "outputId": "6780260f-effe-4524-b590-6acb8ec35f64"
      },
      "source": [
        "from keras.models import load_model\n",
        "model_load = load_model('/content/drive/MyDrive/Colab Notebooks/Model/Coba4_Model1_Seed_noAug.h5')\n",
        "\n",
        "model_load.summary()"
      ],
      "execution_count": 25,
      "outputs": [
        {
          "output_type": "stream",
          "text": [
            "Model: \"sequential\"\n",
            "_________________________________________________________________\n",
            "Layer (type)                 Output Shape              Param #   \n",
            "=================================================================\n",
            "conv2d (Conv2D)              (None, 48, 48, 64)        640       \n",
            "_________________________________________________________________\n",
            "conv2d_1 (Conv2D)            (None, 48, 48, 64)        36928     \n",
            "_________________________________________________________________\n",
            "max_pooling2d (MaxPooling2D) (None, 24, 24, 64)        0         \n",
            "_________________________________________________________________\n",
            "dropout (Dropout)            (None, 24, 24, 64)        0         \n",
            "_________________________________________________________________\n",
            "batch_normalization (BatchNo (None, 24, 24, 64)        256       \n",
            "_________________________________________________________________\n",
            "conv2d_2 (Conv2D)            (None, 24, 24, 128)       73856     \n",
            "_________________________________________________________________\n",
            "conv2d_3 (Conv2D)            (None, 24, 24, 128)       147584    \n",
            "_________________________________________________________________\n",
            "max_pooling2d_1 (MaxPooling2 (None, 12, 12, 128)       0         \n",
            "_________________________________________________________________\n",
            "dropout_1 (Dropout)          (None, 12, 12, 128)       0         \n",
            "_________________________________________________________________\n",
            "batch_normalization_1 (Batch (None, 12, 12, 128)       512       \n",
            "_________________________________________________________________\n",
            "conv2d_4 (Conv2D)            (None, 12, 12, 256)       295168    \n",
            "_________________________________________________________________\n",
            "conv2d_5 (Conv2D)            (None, 12, 12, 256)       590080    \n",
            "_________________________________________________________________\n",
            "conv2d_6 (Conv2D)            (None, 12, 12, 256)       590080    \n",
            "_________________________________________________________________\n",
            "max_pooling2d_2 (MaxPooling2 (None, 6, 6, 256)         0         \n",
            "_________________________________________________________________\n",
            "dropout_2 (Dropout)          (None, 6, 6, 256)         0         \n",
            "_________________________________________________________________\n",
            "batch_normalization_2 (Batch (None, 6, 6, 256)         1024      \n",
            "_________________________________________________________________\n",
            "conv2d_7 (Conv2D)            (None, 6, 6, 512)         1180160   \n",
            "_________________________________________________________________\n",
            "conv2d_8 (Conv2D)            (None, 6, 6, 512)         2359808   \n",
            "_________________________________________________________________\n",
            "conv2d_9 (Conv2D)            (None, 6, 6, 512)         2359808   \n",
            "_________________________________________________________________\n",
            "max_pooling2d_3 (MaxPooling2 (None, 3, 3, 512)         0         \n",
            "_________________________________________________________________\n",
            "dropout_3 (Dropout)          (None, 3, 3, 512)         0         \n",
            "_________________________________________________________________\n",
            "batch_normalization_3 (Batch (None, 3, 3, 512)         2048      \n",
            "_________________________________________________________________\n",
            "flatten (Flatten)            (None, 4608)              0         \n",
            "_________________________________________________________________\n",
            "dense (Dense)                (None, 512)               2359808   \n",
            "_________________________________________________________________\n",
            "dropout_4 (Dropout)          (None, 512)               0         \n",
            "_________________________________________________________________\n",
            "dense_1 (Dense)              (None, 512)               262656    \n",
            "_________________________________________________________________\n",
            "dropout_5 (Dropout)          (None, 512)               0         \n",
            "_________________________________________________________________\n",
            "dense_2 (Dense)              (None, 512)               262656    \n",
            "_________________________________________________________________\n",
            "dropout_6 (Dropout)          (None, 512)               0         \n",
            "_________________________________________________________________\n",
            "dense_3 (Dense)              (None, 7)                 3591      \n",
            "=================================================================\n",
            "Total params: 10,526,663\n",
            "Trainable params: 10,524,743\n",
            "Non-trainable params: 1,920\n",
            "_________________________________________________________________\n"
          ],
          "name": "stdout"
        }
      ]
    },
    {
      "cell_type": "code",
      "metadata": {
        "colab": {
          "base_uri": "https://localhost:8080/"
        },
        "id": "nQd7m45qfWBW",
        "outputId": "d73bda85-6d2f-4fb0-c3c8-ae93aef00f89"
      },
      "source": [
        "trainloss = model_load.evaluate(train_flow, steps=len(X_train) / batch_size) \n",
        "print(\"Train Loss \" + str(trainloss[0]))\n",
        "print(\"Train Acc: \" + str(trainloss[1]))\n",
        "valloss = model_load.evaluate(val_flow, steps=len(X_val) / batch_size) \n",
        "print(\"Val Loss \" + str(valloss[0]))\n",
        "print(\"Val Acc: \" + str(valloss[1]))\n",
        "testloss = model_load.evaluate(test_flow, steps=len(X_test) / batch_size) \n",
        "print(\"Test Loss \" + str(testloss[0]))\n",
        "print(\"Test Acc: \" + str(testloss[1]))"
      ],
      "execution_count": 26,
      "outputs": [
        {
          "output_type": "stream",
          "text": [
            "448/448 [==============================] - 8s 16ms/step - loss: 0.0688 - accuracy: 0.9912\n",
            "Train Loss 0.06881003826856613\n",
            "Train Acc: 0.9912222623825073\n",
            "56/56 [==============================] - 1s 16ms/step - loss: 1.3086 - accuracy: 0.6573\n",
            "Val Loss 1.3085988759994507\n",
            "Val Acc: 0.6572861671447754\n",
            "56/56 [==============================] - 1s 16ms/step - loss: 1.2263 - accuracy: 0.6712\n",
            "Test Loss 1.226300835609436\n",
            "Test Acc: 0.6712176203727722\n"
          ],
          "name": "stdout"
        }
      ]
    },
    {
      "cell_type": "code",
      "metadata": {
        "id": "t87NY2ZdFwVP"
      },
      "source": [
        "def plot_confusion_matrix(y_test, y_pred, classes,\n",
        "                          normalize=False,\n",
        "                          title='Unnormalized confusion matrix',\n",
        "                          cmap=plt.cm.Blues):\n",
        "    cm = confusion_matrix(y_test, y_pred)\n",
        "    \n",
        "    if normalize:\n",
        "        cm = np.round(cm.astype('float') / cm.sum(axis=1)[:, np.newaxis], 2)\n",
        "        \n",
        "    np.set_printoptions(precision=2)\n",
        "        \n",
        "    plt.imshow(cm, interpolation='nearest', cmap=cmap)\n",
        "    plt.title(title)\n",
        "    plt.colorbar()\n",
        "    tick_marks = np.arange(len(classes))\n",
        "    plt.xticks(tick_marks, classes, rotation=45)\n",
        "    plt.yticks(tick_marks, classes)\n",
        "\n",
        "    thresh = cm.min() + (cm.max() - cm.min()) / 2.\n",
        "    for i, j in itertools.product(range(cm.shape[0]), range(cm.shape[1])):\n",
        "        plt.text(j, i, cm[i, j],\n",
        "                 horizontalalignment=\"center\",\n",
        "                 color=\"white\" if cm[i, j] > thresh else \"black\")\n",
        "\n",
        "    plt.tight_layout()\n",
        "    plt.ylabel('True expression')\n",
        "    plt.xlabel('Predicted expression')\n",
        "    plt.show()"
      ],
      "execution_count": 27,
      "outputs": []
    },
    {
      "cell_type": "code",
      "metadata": {
        "colab": {
          "base_uri": "https://localhost:8080/"
        },
        "id": "Tc5JLl9HGFmh",
        "outputId": "c5eb1f66-fccd-40da-f744-9ca13cbf5c5d"
      },
      "source": [
        "y_pred_ = model_load.predict(X_test/255., verbose=1)\n",
        "y_pred = np.argmax(y_pred_, axis=1)\n",
        "t_te = np.argmax(y_test, axis=1)"
      ],
      "execution_count": 28,
      "outputs": [
        {
          "output_type": "stream",
          "text": [
            "113/113 [==============================] - 2s 9ms/step\n"
          ],
          "name": "stdout"
        }
      ]
    },
    {
      "cell_type": "code",
      "metadata": {
        "colab": {
          "base_uri": "https://localhost:8080/",
          "height": 311
        },
        "id": "WUeZP3q-GJrl",
        "outputId": "04a4ffe8-26e5-425d-f4d0-5e7ef810a51a"
      },
      "source": [
        "from sklearn.metrics import confusion_matrix, classification_report\n",
        "import itertools\n",
        "\n",
        "fig = plot_confusion_matrix(y_test=t_te, y_pred=y_pred,\n",
        "                      classes=labels,\n",
        "                      normalize=True,\n",
        "                      cmap=plt.cm.Blues,\n",
        "                      title='Average accuracy: ' + str(np.sum(y_pred == t_te)/len(t_te)) + '\\n')"
      ],
      "execution_count": 29,
      "outputs": [
        {
          "output_type": "display_data",
          "data": {
            "image/png": "[encoded data removed]",
            "text/plain": [
              "<Figure size 432x288 with 2 Axes>"
            ]
          },
          "metadata": {
            "tags": [],
            "needs_background": "light"
          }
        }
      ]
    },
    {
      "cell_type": "code",
      "metadata": {
        "colab": {
          "base_uri": "https://localhost:8080/"
        },
        "id": "qes0jsNJG8TF",
        "outputId": "5c19bd27-6cc4-4fd7-cfe0-ba32b0cc513f"
      },
      "source": [
        "emotions = {0: 'Angry', 1: 'Disgust', 2: 'Fear', 3: 'Happy', 4: 'Sad', 5: 'Surprise', 6: 'Neutral'}\n",
        "print(classification_report(t_te, y_pred, target_names=emotions.values()))"
      ],
      "execution_count": 30,
      "outputs": [
        {
          "output_type": "stream",
          "text": [
            "              precision    recall  f1-score   support\n",
            "\n",
            "       Angry       0.65      0.53      0.58       491\n",
            "     Disgust       0.79      0.67      0.73        55\n",
            "        Fear       0.60      0.48      0.53       528\n",
            "       Happy       0.81      0.89      0.85       879\n",
            "         Sad       0.56      0.49      0.52       594\n",
            "    Surprise       0.80      0.79      0.79       416\n",
            "     Neutral       0.56      0.74      0.64       626\n",
            "\n",
            "    accuracy                           0.67      3589\n",
            "   macro avg       0.68      0.65      0.66      3589\n",
            "weighted avg       0.67      0.67      0.67      3589\n",
            "\n"
          ],
          "name": "stdout"
        }
      ]
    },
    {
      "cell_type": "markdown",
      "metadata": {
        "id": "VveOAjyz-GGm"
      },
      "source": [
        "# Predict"
      ]
    },
    {
      "cell_type": "code",
      "metadata": {
        "id": "EhKtgt6gsIc2"
      },
      "source": [
        "from skimage import io\n",
        "img = image.load_img('/content/drive/My Drive/s.jpg', grayscale=True, target_size=(48, 48))\n",
        "show_img=image.load_img('/content/drive/My Drive/s.jpg', grayscale=False, target_size=(200, 200))\n",
        "x = image.img_to_array(img)\n",
        "x = np.expand_dims(x, axis = 0)\n",
        "\n",
        "x /= 255\n",
        "\n",
        "custom = model.predict(x)\n",
        "#print(custom[0])\n",
        "emotion_analysis(custom[0])\n",
        "\n",
        "x = np.array(x, 'float32')\n",
        "x = x.reshape([48, 48]);\n",
        "\n",
        "plt.gray()\n",
        "plt.imshow(show_img)\n",
        "plt.show()\n",
        "\n",
        "m=0.000000000000000000001\n",
        "a=custom[0]\n",
        "for i in range(0,len(a)):\n",
        "    if a[i]>m:\n",
        "        m=a[i]\n",
        "        ind=i\n",
        "        \n",
        "print('Expression Prediction:',emotions_lab[ind])"
      ],
      "execution_count": null,
      "outputs": []
    }
  ]
}