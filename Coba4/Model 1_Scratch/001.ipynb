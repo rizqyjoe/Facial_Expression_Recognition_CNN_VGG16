{
  "nbformat": 4,
  "nbformat_minor": 0,
  "metadata": {
    "colab": {
      "name": "Coba4.ipynb",
      "provenance": [],
      "collapsed_sections": [],
      "mount_file_id": "1_rgziFB4kExVGx-rL854lyxoGkEynmZJ",
      "authorship_tag": "ABX9TyNbos7tej8gZvqOzy72qgzM",
      "include_colab_link": true
    },
    "kernelspec": {
      "name": "python3",
      "display_name": "Python 3"
    },
    "language_info": {
      "name": "python"
    },
    "accelerator": "GPU"
  },
  "cells": [
    {
      "cell_type": "markdown",
      "metadata": {
        "id": "view-in-github",
        "colab_type": "text"
      },
      "source": [
        "<a href=\"https://colab.research.google.com/github/rizqyjoe/Facial_Expression_Recognition_CNN_VGG16/blob/main/Coba4/Model%201_Scratch/001.ipynb\" target=\"_parent\"><img src=\"https://colab.research.google.com/assets/colab-badge.svg\" alt=\"Open In Colab\"/></a>"
      ]
    },
    {
      "cell_type": "code",
      "metadata": {
        "id": "sX-0w3h_sh6U"
      },
      "source": [
        "#mount drive\n",
        "from google.colab import drive\n",
        "drive.mount('/content/drive')"
      ],
      "execution_count": null,
      "outputs": []
    },
    {
      "cell_type": "markdown",
      "metadata": {
        "id": "58jrp8yObBBA"
      },
      "source": [
        "# Pre-processing"
      ]
    },
    {
      "cell_type": "code",
      "metadata": {
        "id": "7nrYTmGLrD2A"
      },
      "source": [
        "import tensorflow as tf\n",
        "import keras\n",
        "from keras import backend as K\n",
        "import pandas as pd\n",
        "import numpy as np\n",
        "import matplotlib.pyplot as plt\n",
        "from keras.preprocessing import image\n",
        "from keras.preprocessing.image import ImageDataGenerator\n",
        "from keras import regularizers\n",
        "from keras.utils import np_utils"
      ],
      "execution_count": 1,
      "outputs": []
    },
    {
      "cell_type": "code",
      "metadata": {
        "colab": {
          "base_uri": "https://localhost:8080/",
          "height": 204
        },
        "id": "0vTjzHIRrW53",
        "outputId": "0ada61c6-d39b-4f54-df3c-e39d6b599757"
      },
      "source": [
        "#load file\n",
        "data= pd.read_csv('/content/drive/MyDrive/Dataset/fer2013 dataset/fer2013/fer2013.csv')\n",
        "data.head()"
      ],
      "execution_count": 2,
      "outputs": [
        {
          "output_type": "execute_result",
          "data": {
            "text/html": [
              "<div>\n",
              "<style scoped>\n",
              "    .dataframe tbody tr th:only-of-type {\n",
              "        vertical-align: middle;\n",
              "    }\n",
              "\n",
              "    .dataframe tbody tr th {\n",
              "        vertical-align: top;\n",
              "    }\n",
              "\n",
              "    .dataframe thead th {\n",
              "        text-align: right;\n",
              "    }\n",
              "</style>\n",
              "<table border=\"1\" class=\"dataframe\">\n",
              "  <thead>\n",
              "    <tr style=\"text-align: right;\">\n",
              "      <th></th>\n",
              "      <th>emotion</th>\n",
              "      <th>pixels</th>\n",
              "      <th>Usage</th>\n",
              "    </tr>\n",
              "  </thead>\n",
              "  <tbody>\n",
              "    <tr>\n",
              "      <th>0</th>\n",
              "      <td>0</td>\n",
              "      <td>70 80 82 72 58 58 60 63 54 58 60 48 89 115 121...</td>\n",
              "      <td>Training</td>\n",
              "    </tr>\n",
              "    <tr>\n",
              "      <th>1</th>\n",
              "      <td>0</td>\n",
              "      <td>151 150 147 155 148 133 111 140 170 174 182 15...</td>\n",
              "      <td>Training</td>\n",
              "    </tr>\n",
              "    <tr>\n",
              "      <th>2</th>\n",
              "      <td>2</td>\n",
              "      <td>231 212 156 164 174 138 161 173 182 200 106 38...</td>\n",
              "      <td>Training</td>\n",
              "    </tr>\n",
              "    <tr>\n",
              "      <th>3</th>\n",
              "      <td>4</td>\n",
              "      <td>24 32 36 30 32 23 19 20 30 41 21 22 32 34 21 1...</td>\n",
              "      <td>Training</td>\n",
              "    </tr>\n",
              "    <tr>\n",
              "      <th>4</th>\n",
              "      <td>6</td>\n",
              "      <td>4 0 0 0 0 0 0 0 0 0 0 0 3 15 23 28 48 50 58 84...</td>\n",
              "      <td>Training</td>\n",
              "    </tr>\n",
              "  </tbody>\n",
              "</table>\n",
              "</div>"
            ],
            "text/plain": [
              "   emotion                                             pixels     Usage\n",
              "0        0  70 80 82 72 58 58 60 63 54 58 60 48 89 115 121...  Training\n",
              "1        0  151 150 147 155 148 133 111 140 170 174 182 15...  Training\n",
              "2        2  231 212 156 164 174 138 161 173 182 200 106 38...  Training\n",
              "3        4  24 32 36 30 32 23 19 20 30 41 21 22 32 34 21 1...  Training\n",
              "4        6  4 0 0 0 0 0 0 0 0 0 0 0 3 15 23 28 48 50 58 84...  Training"
            ]
          },
          "metadata": {
            "tags": []
          },
          "execution_count": 2
        }
      ]
    },
    {
      "cell_type": "code",
      "metadata": {
        "colab": {
          "base_uri": "https://localhost:8080/"
        },
        "id": "NU40Z0ynrau2",
        "outputId": "a3a02f83-60c8-43a2-ac0e-4df645254fce"
      },
      "source": [
        "data.emotion.value_counts()"
      ],
      "execution_count": 3,
      "outputs": [
        {
          "output_type": "execute_result",
          "data": {
            "text/plain": [
              "3    8989\n",
              "6    6198\n",
              "4    6077\n",
              "2    5121\n",
              "0    4953\n",
              "5    4002\n",
              "1     547\n",
              "Name: emotion, dtype: int64"
            ]
          },
          "metadata": {
            "tags": []
          },
          "execution_count": 3
        }
      ]
    },
    {
      "cell_type": "code",
      "metadata": {
        "id": "IeBaq6_7rdMu"
      },
      "source": [
        "emotion_labels = [\"Angry\", \"Disgust\", \"Fear\", \"Happy\", \"Sad\", \"Surprise\", \"Neutral\"]\n",
        "labels=np.array((\"Angry\", \"Disgust\", \"Fear\", \"Happy\", \"Sad\", \"Surprise\", \"Neutral\"))"
      ],
      "execution_count": 4,
      "outputs": []
    },
    {
      "cell_type": "code",
      "metadata": {
        "colab": {
          "base_uri": "https://localhost:8080/"
        },
        "id": "8MQKKFDare4e",
        "outputId": "86ef056a-56ce-46a5-c5be-54f340a2122e"
      },
      "source": [
        "data.Usage.value_counts()"
      ],
      "execution_count": 5,
      "outputs": [
        {
          "output_type": "execute_result",
          "data": {
            "text/plain": [
              "Training       28709\n",
              "PublicTest      3589\n",
              "PrivateTest     3589\n",
              "Name: Usage, dtype: int64"
            ]
          },
          "metadata": {
            "tags": []
          },
          "execution_count": 5
        }
      ]
    },
    {
      "cell_type": "code",
      "metadata": {
        "id": "RQlblEnwrgkW"
      },
      "source": [
        "#split data \n",
        "train_set = data[(data.Usage == 'Training')] \n",
        "val_set = data[(data.Usage == 'PublicTest')]\n",
        "test_set = data[(data.Usage == 'PrivateTest')] \n",
        "X_train = np.array(list(map(str.split, train_set.pixels)), np.float32) \n",
        "X_val = np.array(list(map(str.split, val_set.pixels)), np.float32) \n",
        "X_test = np.array(list(map(str.split, test_set.pixels)), np.float32) \n",
        "X_train = X_train.reshape(X_train.shape[0], 48, 48, 1) \n",
        "X_val = X_val.reshape(X_val.shape[0], 48, 48, 1)\n",
        "X_test = X_test.reshape(X_test.shape[0], 48, 48, 1)"
      ],
      "execution_count": 6,
      "outputs": []
    },
    {
      "cell_type": "code",
      "metadata": {
        "id": "MVqY8ftoriHW"
      },
      "source": [
        "num_classes = 7\n",
        "\n",
        "y_train = train_set.emotion \n",
        "y_train = np_utils.to_categorical(y_train, num_classes) \n",
        "y_val = val_set.emotion \n",
        "y_val = np_utils.to_categorical(y_val, num_classes) \n",
        "y_test = test_set.emotion \n",
        "y_test = np_utils.to_categorical(y_test, num_classes)"
      ],
      "execution_count": 7,
      "outputs": []
    },
    {
      "cell_type": "code",
      "metadata": {
        "colab": {
          "base_uri": "https://localhost:8080/"
        },
        "id": "WaMwvF5vrju-",
        "outputId": "17222c13-1f1f-4ffd-c7f1-ed31d839a978"
      },
      "source": [
        "print(\"x_train:\",X_train.shape)\n",
        "print(\"y_train:\",y_train.shape)\n",
        "print(\"x_val:\",X_val.shape)\n",
        "print(\"y_val:\",y_val.shape)\n",
        "print(\"x_test:\",X_test.shape)\n",
        "print(\"y_test:\",y_test.shape)"
      ],
      "execution_count": 8,
      "outputs": [
        {
          "output_type": "stream",
          "text": [
            "x_train: (28709, 48, 48, 1)\n",
            "y_train: (28709, 7)\n",
            "x_val: (3589, 48, 48, 1)\n",
            "y_val: (3589, 7)\n",
            "x_test: (3589, 48, 48, 1)\n",
            "y_test: (3589, 7)\n"
          ],
          "name": "stdout"
        }
      ]
    },
    {
      "cell_type": "code",
      "metadata": {
        "id": "DzChH8hGrldw"
      },
      "source": [
        "#data augmentation\n",
        "datagen = ImageDataGenerator(rescale=1./255,\n",
        "                             rotation_range = 10,\n",
        "                             horizontal_flip = True,\n",
        "                             width_shift_range=0.1,\n",
        "                             height_shift_range=0.1,\n",
        "                             fill_mode = 'nearest')\n",
        "\n",
        "testgen = ImageDataGenerator(rescale=1./255)\n",
        "\n",
        "datagen.fit(X_train)\n",
        "batch_size = 64"
      ],
      "execution_count": 9,
      "outputs": []
    },
    {
      "cell_type": "code",
      "metadata": {
        "id": "d-nkOZUfrm_e"
      },
      "source": [
        "train_flow = datagen.flow(X_train, y_train, batch_size=batch_size) \n",
        "val_flow = testgen.flow(X_val, y_val, batch_size=batch_size) \n",
        "test_flow = testgen.flow(X_test, y_test, batch_size=batch_size)"
      ],
      "execution_count": 10,
      "outputs": []
    },
    {
      "cell_type": "code",
      "metadata": {
        "id": "3u6vR_8CroMG"
      },
      "source": [
        "from tensorflow.keras.utils import plot_model\n",
        "from matplotlib import pyplot"
      ],
      "execution_count": 11,
      "outputs": []
    },
    {
      "cell_type": "code",
      "metadata": {
        "colab": {
          "base_uri": "https://localhost:8080/",
          "height": 248
        },
        "id": "HZ6sB7a0rp0O",
        "outputId": "c8877027-3950-4dc8-88fe-d738a8a7d6ef"
      },
      "source": [
        "#displaying sample images\n",
        "for X_batch, y_batch in datagen.flow(X_train, y_train, batch_size=9):\n",
        "    for i in range(0, 9): \n",
        "        pyplot.axis('off') \n",
        "        pyplot.subplot(330 + 1 + i) \n",
        "        pyplot.imshow(X_batch[i].reshape(48, 48), cmap=pyplot.get_cmap('gray'))\n",
        "    pyplot.axis('off') \n",
        "    pyplot.show() \n",
        "    break"
      ],
      "execution_count": 12,
      "outputs": [
        {
          "output_type": "display_data",
          "data": {
            "image/png": "[encoded data removed]",
            "text/plain": [
              "<Figure size 432x288 with 9 Axes>"
            ]
          },
          "metadata": {
            "tags": [],
            "needs_background": "light"
          }
        }
      ]
    },
    {
      "cell_type": "markdown",
      "metadata": {
        "id": "mH061hQUbJsv"
      },
      "source": [
        "# Training Model"
      ]
    },
    {
      "cell_type": "code",
      "metadata": {
        "colab": {
          "base_uri": "https://localhost:8080/"
        },
        "id": "CyjVWe3Arsqu",
        "outputId": "170b05a7-1a78-4b38-b82c-46a5e97cbeba"
      },
      "source": [
        "from keras.models import Sequential\n",
        "from keras.layers import Input, Dense, Flatten, Dropout, Conv2D, MaxPool2D, BatchNormalization, Activation\n",
        "\n",
        "input_shape = (48, 48, 1)\n",
        "\n",
        "model = Sequential()\n",
        "\n",
        "model.add(Conv2D(filters=64,input_shape=(input_shape),kernel_size=(3,3),padding=\"same\", activation=\"relu\"))\n",
        "model.add(Conv2D(filters=64,kernel_size=(3,3),padding=\"same\", activation=\"relu\"))\n",
        "model.add(MaxPool2D(pool_size=(2,2),strides=(2,2)))\n",
        "model.add(Dropout(0.25))\n",
        "model.add(BatchNormalization())\n",
        "\n",
        "model.add(Conv2D(filters=128, kernel_size=(3,3), padding=\"same\", activation=\"relu\"))\n",
        "model.add(Conv2D(filters=128, kernel_size=(3,3), padding=\"same\", activation=\"relu\"))\n",
        "model.add(MaxPool2D(pool_size=(2,2),strides=(2,2)))\n",
        "model.add(Dropout(0.25))\n",
        "model.add(BatchNormalization())\n",
        "\n",
        "model.add(Conv2D(filters=256, kernel_size=(3,3), padding=\"same\", activation=\"relu\"))\n",
        "model.add(Conv2D(filters=256, kernel_size=(3,3), padding=\"same\", activation=\"relu\"))\n",
        "model.add(Conv2D(filters=256, kernel_size=(3,3), padding=\"same\", activation=\"relu\"))\n",
        "model.add(MaxPool2D(pool_size=(2,2),strides=(2,2)))\n",
        "model.add(Dropout(0.5))\n",
        "model.add(BatchNormalization())\n",
        "\n",
        "model.add(Conv2D(filters=512, kernel_size=(3,3), padding=\"same\", activation=\"relu\"))\n",
        "model.add(Conv2D(filters=512, kernel_size=(3,3), padding=\"same\", activation=\"relu\"))\n",
        "model.add(Conv2D(filters=512, kernel_size=(3,3), padding=\"same\", activation=\"relu\"))\n",
        "model.add(MaxPool2D(pool_size=(2,2),strides=(2,2)))\n",
        "model.add(Dropout(0.5))\n",
        "model.add(BatchNormalization())\n",
        "\n",
        "model.add(Flatten())\n",
        "\n",
        "model.add(Dense(512,activation='relu'))\n",
        "model.add(Dropout(0.5))\n",
        "model.add(Dense(512,activation='relu'))\n",
        "model.add(Dropout(0.5))\n",
        "model.add(Dense(512,activation='relu'))\n",
        "model.add(Dropout(0.5))\n",
        "\n",
        "model.add(Dense(units=num_classes, activation='softmax'))\n",
        "\n",
        "# print the model summary\n",
        "model.summary()"
      ],
      "execution_count": 13,
      "outputs": [
        {
          "output_type": "stream",
          "text": [
            "Model: \"sequential\"\n",
            "_________________________________________________________________\n",
            "Layer (type)                 Output Shape              Param #   \n",
            "=================================================================\n",
            "conv2d (Conv2D)              (None, 48, 48, 64)        640       \n",
            "_________________________________________________________________\n",
            "conv2d_1 (Conv2D)            (None, 48, 48, 64)        36928     \n",
            "_________________________________________________________________\n",
            "max_pooling2d (MaxPooling2D) (None, 24, 24, 64)        0         \n",
            "_________________________________________________________________\n",
            "dropout (Dropout)            (None, 24, 24, 64)        0         \n",
            "_________________________________________________________________\n",
            "batch_normalization (BatchNo (None, 24, 24, 64)        256       \n",
            "_________________________________________________________________\n",
            "conv2d_2 (Conv2D)            (None, 24, 24, 128)       73856     \n",
            "_________________________________________________________________\n",
            "conv2d_3 (Conv2D)            (None, 24, 24, 128)       147584    \n",
            "_________________________________________________________________\n",
            "max_pooling2d_1 (MaxPooling2 (None, 12, 12, 128)       0         \n",
            "_________________________________________________________________\n",
            "dropout_1 (Dropout)          (None, 12, 12, 128)       0         \n",
            "_________________________________________________________________\n",
            "batch_normalization_1 (Batch (None, 12, 12, 128)       512       \n",
            "_________________________________________________________________\n",
            "conv2d_4 (Conv2D)            (None, 12, 12, 256)       295168    \n",
            "_________________________________________________________________\n",
            "conv2d_5 (Conv2D)            (None, 12, 12, 256)       590080    \n",
            "_________________________________________________________________\n",
            "conv2d_6 (Conv2D)            (None, 12, 12, 256)       590080    \n",
            "_________________________________________________________________\n",
            "max_pooling2d_2 (MaxPooling2 (None, 6, 6, 256)         0         \n",
            "_________________________________________________________________\n",
            "dropout_2 (Dropout)          (None, 6, 6, 256)         0         \n",
            "_________________________________________________________________\n",
            "batch_normalization_2 (Batch (None, 6, 6, 256)         1024      \n",
            "_________________________________________________________________\n",
            "conv2d_7 (Conv2D)            (None, 6, 6, 512)         1180160   \n",
            "_________________________________________________________________\n",
            "conv2d_8 (Conv2D)            (None, 6, 6, 512)         2359808   \n",
            "_________________________________________________________________\n",
            "conv2d_9 (Conv2D)            (None, 6, 6, 512)         2359808   \n",
            "_________________________________________________________________\n",
            "max_pooling2d_3 (MaxPooling2 (None, 3, 3, 512)         0         \n",
            "_________________________________________________________________\n",
            "dropout_3 (Dropout)          (None, 3, 3, 512)         0         \n",
            "_________________________________________________________________\n",
            "batch_normalization_3 (Batch (None, 3, 3, 512)         2048      \n",
            "_________________________________________________________________\n",
            "flatten (Flatten)            (None, 4608)              0         \n",
            "_________________________________________________________________\n",
            "dense (Dense)                (None, 512)               2359808   \n",
            "_________________________________________________________________\n",
            "dropout_4 (Dropout)          (None, 512)               0         \n",
            "_________________________________________________________________\n",
            "dense_1 (Dense)              (None, 512)               262656    \n",
            "_________________________________________________________________\n",
            "dropout_5 (Dropout)          (None, 512)               0         \n",
            "_________________________________________________________________\n",
            "dense_2 (Dense)              (None, 512)               262656    \n",
            "_________________________________________________________________\n",
            "dropout_6 (Dropout)          (None, 512)               0         \n",
            "_________________________________________________________________\n",
            "dense_3 (Dense)              (None, 7)                 3591      \n",
            "=================================================================\n",
            "Total params: 10,526,663\n",
            "Trainable params: 10,524,743\n",
            "Non-trainable params: 1,920\n",
            "_________________________________________________________________\n"
          ],
          "name": "stdout"
        }
      ]
    },
    {
      "cell_type": "code",
      "metadata": {
        "id": "bziUSilV_y4Z"
      },
      "source": [
        "from keras.optimizers import Adam,SGD,RMSprop"
      ],
      "execution_count": 14,
      "outputs": []
    },
    {
      "cell_type": "code",
      "metadata": {
        "id": "LhxgJX3brul-"
      },
      "source": [
        "#compile model\n",
        "adam = Adam(learning_rate=0.0001)\n",
        "model.compile(loss='categorical_crossentropy', optimizer=adam, metrics=['accuracy'])"
      ],
      "execution_count": 15,
      "outputs": []
    },
    {
      "cell_type": "code",
      "metadata": {
        "colab": {
          "base_uri": "https://localhost:8080/"
        },
        "id": "ljPuPM2iryKG",
        "outputId": "b9d3a91c-d675-465d-c258-9d755526da14"
      },
      "source": [
        "# fit the model\n",
        "num_epochs = 100\n",
        "history = model.fit(train_flow, \n",
        "                    steps_per_epoch=len(X_train) // batch_size, \n",
        "                    epochs=num_epochs,  \n",
        "                    verbose=1,  \n",
        "                    validation_data=val_flow,  \n",
        "                    validation_steps=len(X_val) // batch_size)"
      ],
      "execution_count": 16,
      "outputs": [
        {
          "output_type": "stream",
          "text": [
            "Epoch 1/100\n",
            "448/448 [==============================] - 72s 56ms/step - loss: 2.1583 - accuracy: 0.1894 - val_loss: 1.8332 - val_accuracy: 0.2494\n",
            "Epoch 2/100\n",
            "448/448 [==============================] - 24s 53ms/step - loss: 1.8481 - accuracy: 0.2248 - val_loss: 1.8620 - val_accuracy: 0.2492\n",
            "Epoch 3/100\n",
            "448/448 [==============================] - 24s 54ms/step - loss: 1.8319 - accuracy: 0.2255 - val_loss: 1.8909 - val_accuracy: 0.2497\n",
            "Epoch 4/100\n",
            "448/448 [==============================] - 25s 55ms/step - loss: 1.8271 - accuracy: 0.2333 - val_loss: 1.8859 - val_accuracy: 0.2497\n",
            "Epoch 5/100\n",
            "448/448 [==============================] - 25s 55ms/step - loss: 1.8200 - accuracy: 0.2318 - val_loss: 1.8594 - val_accuracy: 0.2492\n",
            "Epoch 6/100\n",
            "448/448 [==============================] - 25s 55ms/step - loss: 1.8165 - accuracy: 0.2368 - val_loss: 1.8760 - val_accuracy: 0.2494\n",
            "Epoch 7/100\n",
            "448/448 [==============================] - 25s 55ms/step - loss: 1.8100 - accuracy: 0.2379 - val_loss: 1.8430 - val_accuracy: 0.2489\n",
            "Epoch 8/100\n",
            "448/448 [==============================] - 25s 55ms/step - loss: 1.8044 - accuracy: 0.2480 - val_loss: 1.9139 - val_accuracy: 0.2492\n",
            "Epoch 9/100\n",
            "448/448 [==============================] - 25s 55ms/step - loss: 1.7830 - accuracy: 0.2600 - val_loss: 1.7124 - val_accuracy: 0.3058\n",
            "Epoch 10/100\n",
            "448/448 [==============================] - 25s 55ms/step - loss: 1.7053 - accuracy: 0.3036 - val_loss: 1.6128 - val_accuracy: 0.3376\n",
            "Epoch 11/100\n",
            "448/448 [==============================] - 24s 54ms/step - loss: 1.6445 - accuracy: 0.3245 - val_loss: 1.5603 - val_accuracy: 0.4012\n",
            "Epoch 12/100\n",
            "448/448 [==============================] - 25s 55ms/step - loss: 1.5661 - accuracy: 0.3765 - val_loss: 1.4267 - val_accuracy: 0.4383\n",
            "Epoch 13/100\n",
            "448/448 [==============================] - 25s 55ms/step - loss: 1.5004 - accuracy: 0.4022 - val_loss: 1.4710 - val_accuracy: 0.4107\n",
            "Epoch 14/100\n",
            "448/448 [==============================] - 25s 55ms/step - loss: 1.4586 - accuracy: 0.4159 - val_loss: 1.3914 - val_accuracy: 0.4386\n",
            "Epoch 15/100\n",
            "448/448 [==============================] - 24s 54ms/step - loss: 1.4179 - accuracy: 0.4362 - val_loss: 1.4433 - val_accuracy: 0.4381\n",
            "Epoch 16/100\n",
            "448/448 [==============================] - 25s 55ms/step - loss: 1.3989 - accuracy: 0.4369 - val_loss: 1.2903 - val_accuracy: 0.4833\n",
            "Epoch 17/100\n",
            "448/448 [==============================] - 24s 54ms/step - loss: 1.3541 - accuracy: 0.4613 - val_loss: 1.3443 - val_accuracy: 0.5014\n",
            "Epoch 18/100\n",
            "448/448 [==============================] - 24s 54ms/step - loss: 1.3454 - accuracy: 0.4741 - val_loss: 1.2483 - val_accuracy: 0.5190\n",
            "Epoch 19/100\n",
            "448/448 [==============================] - 25s 55ms/step - loss: 1.3088 - accuracy: 0.4909 - val_loss: 1.2894 - val_accuracy: 0.4872\n",
            "Epoch 20/100\n",
            "448/448 [==============================] - 24s 55ms/step - loss: 1.2798 - accuracy: 0.5066 - val_loss: 1.2128 - val_accuracy: 0.5229\n",
            "Epoch 21/100\n",
            "448/448 [==============================] - 24s 54ms/step - loss: 1.2729 - accuracy: 0.5100 - val_loss: 1.1900 - val_accuracy: 0.5435\n",
            "Epoch 22/100\n",
            "448/448 [==============================] - 25s 55ms/step - loss: 1.2551 - accuracy: 0.5172 - val_loss: 1.2262 - val_accuracy: 0.5421\n",
            "Epoch 23/100\n",
            "448/448 [==============================] - 24s 54ms/step - loss: 1.2423 - accuracy: 0.5277 - val_loss: 1.1799 - val_accuracy: 0.5508\n",
            "Epoch 24/100\n",
            "448/448 [==============================] - 24s 54ms/step - loss: 1.2167 - accuracy: 0.5388 - val_loss: 1.1304 - val_accuracy: 0.5714\n",
            "Epoch 25/100\n",
            "448/448 [==============================] - 24s 54ms/step - loss: 1.1886 - accuracy: 0.5494 - val_loss: 1.1418 - val_accuracy: 0.5742\n",
            "Epoch 26/100\n",
            "448/448 [==============================] - 25s 55ms/step - loss: 1.1794 - accuracy: 0.5570 - val_loss: 1.1534 - val_accuracy: 0.5513\n",
            "Epoch 27/100\n",
            "448/448 [==============================] - 24s 54ms/step - loss: 1.1713 - accuracy: 0.5574 - val_loss: 1.1824 - val_accuracy: 0.5449\n",
            "Epoch 28/100\n",
            "448/448 [==============================] - 25s 55ms/step - loss: 1.1477 - accuracy: 0.5662 - val_loss: 1.1308 - val_accuracy: 0.5742\n",
            "Epoch 29/100\n",
            "448/448 [==============================] - 24s 54ms/step - loss: 1.1471 - accuracy: 0.5716 - val_loss: 1.1255 - val_accuracy: 0.5698\n",
            "Epoch 30/100\n",
            "448/448 [==============================] - 24s 54ms/step - loss: 1.1314 - accuracy: 0.5757 - val_loss: 1.0956 - val_accuracy: 0.5915\n",
            "Epoch 31/100\n",
            "448/448 [==============================] - 24s 54ms/step - loss: 1.1202 - accuracy: 0.5826 - val_loss: 1.0644 - val_accuracy: 0.6016\n",
            "Epoch 32/100\n",
            "448/448 [==============================] - 25s 55ms/step - loss: 1.1066 - accuracy: 0.5929 - val_loss: 1.1084 - val_accuracy: 0.5759\n",
            "Epoch 33/100\n",
            "448/448 [==============================] - 25s 55ms/step - loss: 1.0919 - accuracy: 0.5945 - val_loss: 1.1006 - val_accuracy: 0.5890\n",
            "Epoch 34/100\n",
            "448/448 [==============================] - 24s 54ms/step - loss: 1.0964 - accuracy: 0.5940 - val_loss: 1.0931 - val_accuracy: 0.5977\n",
            "Epoch 35/100\n",
            "448/448 [==============================] - 25s 55ms/step - loss: 1.0836 - accuracy: 0.5958 - val_loss: 1.0711 - val_accuracy: 0.6049\n",
            "Epoch 36/100\n",
            "448/448 [==============================] - 24s 54ms/step - loss: 1.0744 - accuracy: 0.6055 - val_loss: 1.0835 - val_accuracy: 0.6116\n",
            "Epoch 37/100\n",
            "448/448 [==============================] - 25s 55ms/step - loss: 1.0593 - accuracy: 0.6044 - val_loss: 1.1015 - val_accuracy: 0.6063\n",
            "Epoch 38/100\n",
            "448/448 [==============================] - 25s 55ms/step - loss: 1.0412 - accuracy: 0.6114 - val_loss: 1.0553 - val_accuracy: 0.6010\n",
            "Epoch 39/100\n",
            "448/448 [==============================] - 25s 55ms/step - loss: 1.0404 - accuracy: 0.6136 - val_loss: 1.0441 - val_accuracy: 0.6150\n",
            "Epoch 40/100\n",
            "448/448 [==============================] - 24s 54ms/step - loss: 1.0404 - accuracy: 0.6130 - val_loss: 1.0293 - val_accuracy: 0.6225\n",
            "Epoch 41/100\n",
            "448/448 [==============================] - 25s 55ms/step - loss: 1.0302 - accuracy: 0.6202 - val_loss: 1.0198 - val_accuracy: 0.6376\n",
            "Epoch 42/100\n",
            "448/448 [==============================] - 25s 55ms/step - loss: 1.0142 - accuracy: 0.6274 - val_loss: 1.0258 - val_accuracy: 0.6300\n",
            "Epoch 43/100\n",
            "448/448 [==============================] - 25s 55ms/step - loss: 1.0040 - accuracy: 0.6293 - val_loss: 1.0215 - val_accuracy: 0.6292\n",
            "Epoch 44/100\n",
            "448/448 [==============================] - 24s 55ms/step - loss: 0.9900 - accuracy: 0.6311 - val_loss: 1.0348 - val_accuracy: 0.6164\n",
            "Epoch 45/100\n",
            "448/448 [==============================] - 25s 55ms/step - loss: 0.9998 - accuracy: 0.6304 - val_loss: 1.0206 - val_accuracy: 0.6359\n",
            "Epoch 46/100\n",
            "448/448 [==============================] - 24s 54ms/step - loss: 0.9747 - accuracy: 0.6406 - val_loss: 1.0006 - val_accuracy: 0.6390\n",
            "Epoch 47/100\n",
            "448/448 [==============================] - 25s 55ms/step - loss: 0.9837 - accuracy: 0.6394 - val_loss: 1.0022 - val_accuracy: 0.6331\n",
            "Epoch 48/100\n",
            "448/448 [==============================] - 25s 55ms/step - loss: 0.9737 - accuracy: 0.6366 - val_loss: 0.9984 - val_accuracy: 0.6256\n",
            "Epoch 49/100\n",
            "448/448 [==============================] - 24s 54ms/step - loss: 0.9670 - accuracy: 0.6458 - val_loss: 1.0007 - val_accuracy: 0.6309\n",
            "Epoch 50/100\n",
            "448/448 [==============================] - 24s 54ms/step - loss: 0.9657 - accuracy: 0.6433 - val_loss: 0.9928 - val_accuracy: 0.6348\n",
            "Epoch 51/100\n",
            "448/448 [==============================] - 25s 55ms/step - loss: 0.9437 - accuracy: 0.6476 - val_loss: 0.9787 - val_accuracy: 0.6420\n",
            "Epoch 52/100\n",
            "448/448 [==============================] - 25s 55ms/step - loss: 0.9419 - accuracy: 0.6533 - val_loss: 1.0002 - val_accuracy: 0.6334\n",
            "Epoch 53/100\n",
            "448/448 [==============================] - 24s 54ms/step - loss: 0.9359 - accuracy: 0.6547 - val_loss: 0.9803 - val_accuracy: 0.6448\n",
            "Epoch 54/100\n",
            "448/448 [==============================] - 24s 54ms/step - loss: 0.9392 - accuracy: 0.6503 - val_loss: 0.9973 - val_accuracy: 0.6334\n",
            "Epoch 55/100\n",
            "448/448 [==============================] - 25s 56ms/step - loss: 0.9239 - accuracy: 0.6561 - val_loss: 0.9821 - val_accuracy: 0.6437\n",
            "Epoch 56/100\n",
            "448/448 [==============================] - 24s 54ms/step - loss: 0.9189 - accuracy: 0.6601 - val_loss: 0.9695 - val_accuracy: 0.6454\n",
            "Epoch 57/100\n",
            "448/448 [==============================] - 25s 55ms/step - loss: 0.9269 - accuracy: 0.6588 - val_loss: 0.9839 - val_accuracy: 0.6270\n",
            "Epoch 58/100\n",
            "448/448 [==============================] - 25s 55ms/step - loss: 0.9103 - accuracy: 0.6660 - val_loss: 0.9607 - val_accuracy: 0.6437\n",
            "Epoch 59/100\n",
            "448/448 [==============================] - 25s 55ms/step - loss: 0.8869 - accuracy: 0.6753 - val_loss: 0.9646 - val_accuracy: 0.6504\n",
            "Epoch 60/100\n",
            "448/448 [==============================] - 25s 55ms/step - loss: 0.8991 - accuracy: 0.6662 - val_loss: 0.9666 - val_accuracy: 0.6568\n",
            "Epoch 61/100\n",
            "448/448 [==============================] - 25s 55ms/step - loss: 0.8994 - accuracy: 0.6703 - val_loss: 0.9878 - val_accuracy: 0.6311\n",
            "Epoch 62/100\n",
            "448/448 [==============================] - 24s 55ms/step - loss: 0.8903 - accuracy: 0.6740 - val_loss: 0.9494 - val_accuracy: 0.6498\n",
            "Epoch 63/100\n",
            "448/448 [==============================] - 24s 54ms/step - loss: 0.8837 - accuracy: 0.6761 - val_loss: 0.9927 - val_accuracy: 0.6537\n",
            "Epoch 64/100\n",
            "448/448 [==============================] - 25s 55ms/step - loss: 0.8703 - accuracy: 0.6821 - val_loss: 0.9783 - val_accuracy: 0.6417\n",
            "Epoch 65/100\n",
            "448/448 [==============================] - 25s 55ms/step - loss: 0.8606 - accuracy: 0.6832 - val_loss: 0.9770 - val_accuracy: 0.6401\n",
            "Epoch 66/100\n",
            "448/448 [==============================] - 24s 54ms/step - loss: 0.8600 - accuracy: 0.6844 - val_loss: 0.9883 - val_accuracy: 0.6445\n",
            "Epoch 67/100\n",
            "448/448 [==============================] - 25s 55ms/step - loss: 0.8578 - accuracy: 0.6841 - val_loss: 0.9398 - val_accuracy: 0.6579\n",
            "Epoch 68/100\n",
            "448/448 [==============================] - 25s 55ms/step - loss: 0.8478 - accuracy: 0.6849 - val_loss: 0.9635 - val_accuracy: 0.6378\n",
            "Epoch 69/100\n",
            "448/448 [==============================] - 25s 55ms/step - loss: 0.8571 - accuracy: 0.6903 - val_loss: 0.9483 - val_accuracy: 0.6554\n",
            "Epoch 70/100\n",
            "448/448 [==============================] - 24s 55ms/step - loss: 0.8360 - accuracy: 0.6935 - val_loss: 0.9237 - val_accuracy: 0.6635\n",
            "Epoch 71/100\n",
            "448/448 [==============================] - 25s 55ms/step - loss: 0.8450 - accuracy: 0.6887 - val_loss: 0.9650 - val_accuracy: 0.6434\n",
            "Epoch 72/100\n",
            "448/448 [==============================] - 25s 55ms/step - loss: 0.8320 - accuracy: 0.6932 - val_loss: 0.9451 - val_accuracy: 0.6482\n",
            "Epoch 73/100\n",
            "448/448 [==============================] - 25s 55ms/step - loss: 0.8254 - accuracy: 0.6977 - val_loss: 0.9739 - val_accuracy: 0.6289\n",
            "Epoch 74/100\n",
            "448/448 [==============================] - 25s 55ms/step - loss: 0.8295 - accuracy: 0.6950 - val_loss: 0.9385 - val_accuracy: 0.6523\n",
            "Epoch 75/100\n",
            "448/448 [==============================] - 25s 55ms/step - loss: 0.8114 - accuracy: 0.7063 - val_loss: 0.9444 - val_accuracy: 0.6426\n",
            "Epoch 76/100\n",
            "448/448 [==============================] - 24s 55ms/step - loss: 0.8118 - accuracy: 0.7001 - val_loss: 0.9638 - val_accuracy: 0.6459\n",
            "Epoch 77/100\n",
            "448/448 [==============================] - 24s 54ms/step - loss: 0.8148 - accuracy: 0.7001 - val_loss: 0.9485 - val_accuracy: 0.6468\n",
            "Epoch 78/100\n",
            "448/448 [==============================] - 25s 55ms/step - loss: 0.7993 - accuracy: 0.7054 - val_loss: 0.9784 - val_accuracy: 0.6479\n",
            "Epoch 79/100\n",
            "448/448 [==============================] - 25s 56ms/step - loss: 0.7942 - accuracy: 0.7091 - val_loss: 0.9395 - val_accuracy: 0.6493\n",
            "Epoch 80/100\n",
            "448/448 [==============================] - 24s 54ms/step - loss: 0.7965 - accuracy: 0.7110 - val_loss: 0.9377 - val_accuracy: 0.6565\n",
            "Epoch 81/100\n",
            "448/448 [==============================] - 25s 55ms/step - loss: 0.7944 - accuracy: 0.7131 - val_loss: 0.9478 - val_accuracy: 0.6535\n",
            "Epoch 82/100\n",
            "448/448 [==============================] - 24s 54ms/step - loss: 0.7724 - accuracy: 0.7178 - val_loss: 0.9585 - val_accuracy: 0.6445\n",
            "Epoch 83/100\n",
            "448/448 [==============================] - 25s 55ms/step - loss: 0.7773 - accuracy: 0.7148 - val_loss: 0.9419 - val_accuracy: 0.6403\n",
            "Epoch 84/100\n",
            "448/448 [==============================] - 25s 55ms/step - loss: 0.7796 - accuracy: 0.7140 - val_loss: 0.9298 - val_accuracy: 0.6518\n",
            "Epoch 85/100\n",
            "448/448 [==============================] - 25s 56ms/step - loss: 0.7726 - accuracy: 0.7175 - val_loss: 0.9351 - val_accuracy: 0.6565\n",
            "Epoch 86/100\n",
            "448/448 [==============================] - 25s 55ms/step - loss: 0.7680 - accuracy: 0.7218 - val_loss: 0.9513 - val_accuracy: 0.6496\n",
            "Epoch 87/100\n",
            "448/448 [==============================] - 24s 55ms/step - loss: 0.7619 - accuracy: 0.7208 - val_loss: 0.9092 - val_accuracy: 0.6691\n",
            "Epoch 88/100\n",
            "448/448 [==============================] - 25s 55ms/step - loss: 0.7653 - accuracy: 0.7179 - val_loss: 0.9189 - val_accuracy: 0.6599\n",
            "Epoch 89/100\n",
            "448/448 [==============================] - 25s 55ms/step - loss: 0.7462 - accuracy: 0.7289 - val_loss: 0.9254 - val_accuracy: 0.6602\n",
            "Epoch 90/100\n",
            "448/448 [==============================] - 25s 55ms/step - loss: 0.7484 - accuracy: 0.7282 - val_loss: 0.9347 - val_accuracy: 0.6462\n",
            "Epoch 91/100\n",
            "448/448 [==============================] - 24s 54ms/step - loss: 0.7420 - accuracy: 0.7323 - val_loss: 0.9551 - val_accuracy: 0.6518\n",
            "Epoch 92/100\n",
            "448/448 [==============================] - 25s 56ms/step - loss: 0.7329 - accuracy: 0.7290 - val_loss: 0.9035 - val_accuracy: 0.6705\n",
            "Epoch 93/100\n",
            "448/448 [==============================] - 25s 55ms/step - loss: 0.7241 - accuracy: 0.7354 - val_loss: 0.9259 - val_accuracy: 0.6646\n",
            "Epoch 94/100\n",
            "448/448 [==============================] - 25s 55ms/step - loss: 0.7236 - accuracy: 0.7358 - val_loss: 0.9213 - val_accuracy: 0.6582\n",
            "Epoch 95/100\n",
            "448/448 [==============================] - 25s 56ms/step - loss: 0.7169 - accuracy: 0.7394 - val_loss: 0.9380 - val_accuracy: 0.6596\n",
            "Epoch 96/100\n",
            "448/448 [==============================] - 25s 55ms/step - loss: 0.7219 - accuracy: 0.7409 - val_loss: 0.9416 - val_accuracy: 0.6571\n",
            "Epoch 97/100\n",
            "448/448 [==============================] - 25s 56ms/step - loss: 0.7247 - accuracy: 0.7373 - val_loss: 0.9400 - val_accuracy: 0.6616\n",
            "Epoch 98/100\n",
            "448/448 [==============================] - 25s 55ms/step - loss: 0.7180 - accuracy: 0.7421 - val_loss: 0.9566 - val_accuracy: 0.6521\n",
            "Epoch 99/100\n",
            "448/448 [==============================] - 24s 54ms/step - loss: 0.7051 - accuracy: 0.7467 - val_loss: 0.9309 - val_accuracy: 0.6571\n",
            "Epoch 100/100\n",
            "448/448 [==============================] - 25s 56ms/step - loss: 0.7015 - accuracy: 0.7456 - val_loss: 0.9161 - val_accuracy: 0.6696\n"
          ],
          "name": "stdout"
        }
      ]
    },
    {
      "cell_type": "code",
      "metadata": {
        "id": "0ctDQw9ur7Qe",
        "colab": {
          "base_uri": "https://localhost:8080/"
        },
        "outputId": "073bd789-3776-44a5-cabe-4f2020bdd6b7"
      },
      "source": [
        "model.save(\"/content/drive/MyDrive/Colab Notebooks/Model/VGG16_Model4_Fix.h5\")\n",
        "print(\"saved\")"
      ],
      "execution_count": 17,
      "outputs": [
        {
          "output_type": "stream",
          "text": [
            "saved\n"
          ],
          "name": "stdout"
        }
      ]
    },
    {
      "cell_type": "markdown",
      "metadata": {
        "id": "zdn-Ud-Ca4LG"
      },
      "source": [
        "# Evaluate"
      ]
    },
    {
      "cell_type": "code",
      "metadata": {
        "colab": {
          "base_uri": "https://localhost:8080/",
          "height": 573
        },
        "id": "d8D97Qq4bUxn",
        "outputId": "b900ad16-d6a1-459f-9bae-c716769191b7"
      },
      "source": [
        "accuracy = history.history['accuracy']\n",
        "val_accuracy = history.history['val_accuracy']\n",
        "loss = history.history['loss']\n",
        "val_loss = history.history['val_loss']\n",
        "num_epochs = range(len(accuracy))\n",
        "plt.plot(num_epochs, accuracy, 'r', label='Training acc')\n",
        "plt.plot(num_epochs, val_accuracy, 'b', label='Validation acc')\n",
        "plt.title('Training and validation accuracy')\n",
        "plt.ylabel('accuracy')  \n",
        "plt.xlabel('epoch')\n",
        "plt.legend()\n",
        "plt.figure()\n",
        "plt.plot(num_epochs, loss, 'r', label='Training loss')\n",
        "plt.plot(num_epochs, val_loss, 'b', label='Validation loss')\n",
        "plt.title('Training and validation loss')\n",
        "plt.ylabel('loss')  \n",
        "plt.xlabel('epoch')\n",
        "plt.legend()\n",
        "plt.show()"
      ],
      "execution_count": 18,
      "outputs": [
        {
          "output_type": "display_data",
          "data": {
            "image/png": "[encoded data removed]",
            "text/plain": [
              "<Figure size 432x288 with 1 Axes>"
            ]
          },
          "metadata": {
            "tags": [],
            "needs_background": "light"
          }
        },
        {
          "output_type": "display_data",
          "data": {
            "image/png": "[encoded data removed]",
            "text/plain": [
              "<Figure size 432x288 with 1 Axes>"
            ]
          },
          "metadata": {
            "tags": [],
            "needs_background": "light"
          }
        }
      ]
    },
    {
      "cell_type": "code",
      "metadata": {
        "colab": {
          "base_uri": "https://localhost:8080/"
        },
        "id": "v2FEkE4pr8vN",
        "outputId": "71f08093-0c74-4a84-a334-6fb2804a4562"
      },
      "source": [
        "trainloss = model.evaluate(train_flow, steps=len(X_train) / batch_size) \n",
        "print(\"Train Loss \" + str(trainloss[0]))\n",
        "print(\"Train Acc: \" + str(trainloss[1]))\n",
        "valloss = model.evaluate(val_flow, steps=len(X_val) / batch_size) \n",
        "print(\"Val Loss \" + str(valloss[0]))\n",
        "print(\"Val Acc: \" + str(valloss[1]))\n",
        "testloss = model.evaluate(test_flow, steps=len(X_test) / batch_size) \n",
        "print(\"Test Loss \" + str(testloss[0]))\n",
        "print(\"Test Acc: \" + str(testloss[1]))"
      ],
      "execution_count": 27,
      "outputs": [
        {
          "output_type": "stream",
          "text": [
            "448/448 [==============================] - 11s 25ms/step - loss: 0.6424 - accuracy: 0.7826\n",
            "Train Loss 0.6424481868743896\n",
            "Train Acc: 0.7825769186019897\n",
            "56/56 [==============================] - 1s 16ms/step - loss: 0.9164 - accuracy: 0.6695\n",
            "Val Loss 0.916361927986145\n",
            "Val Acc: 0.6695458292961121\n",
            "56/56 [==============================] - 1s 16ms/step - loss: 0.8892 - accuracy: 0.6765\n",
            "Test Loss 0.8892428278923035\n",
            "Test Acc: 0.6765115857124329\n"
          ],
          "name": "stdout"
        }
      ]
    },
    {
      "cell_type": "code",
      "metadata": {
        "colab": {
          "base_uri": "https://localhost:8080/"
        },
        "id": "NmtatApLJEvG",
        "outputId": "c2022000-eae8-4815-9147-e745dde2467e"
      },
      "source": [
        "from sklearn.metrics import confusion_matrix, classification_report\n",
        "from mlxtend.plotting import plot_confusion_matrix\n",
        "\n",
        "test_prob = model.predict(X_test)\n",
        "test_pred = np.argmax(test_prob, axis=1)\n",
        "test_accuracy = np.mean(test_pred == y_test)\n",
        "\n",
        "print(test_accuracy)"
      ],
      "execution_count": 23,
      "outputs": [
        {
          "output_type": "stream",
          "text": [
            "0.0\n"
          ],
          "name": "stdout"
        },
        {
          "output_type": "stream",
          "text": [
            "/usr/local/lib/python3.7/dist-packages/ipykernel_launcher.py:6: DeprecationWarning: elementwise comparison failed; this will raise an error in the future.\n",
            "  \n"
          ],
          "name": "stderr"
        }
      ]
    },
    {
      "cell_type": "code",
      "metadata": {
        "id": "WAwhHp32Zqbo"
      },
      "source": [
        "emotions = {0: 'Angry', 1: 'Disgust', 2: 'Fear', 3: 'Happy', 4: 'Sad', 5: 'Surprise', 6: 'Neutral'}\n",
        "\n",
        "conf_mat = confusion_matrix(y_test, test_pred)\n",
        "pd.DataFrame(conf_mat, columns=emotions.values(), index=emotions.values())\n",
        "\n",
        "fig, ax = plot_confusion_matrix(conf_mat=conf_mat,show_normed=True,show_absolute=False,figsize=(8, 8))\n",
        "fig.show()"
      ],
      "execution_count": null,
      "outputs": []
    },
    {
      "cell_type": "markdown",
      "metadata": {
        "id": "aqLRhlr4b7t5"
      },
      "source": [
        "#Load Model"
      ]
    },
    {
      "cell_type": "code",
      "metadata": {
        "colab": {
          "base_uri": "https://localhost:8080/"
        },
        "id": "J45lyUtcJ-6F",
        "outputId": "a43e7a97-ea08-48d5-dc5e-e16763d27a98"
      },
      "source": [
        "from keras.models import load_model\n",
        "model_load = load_model('/content/drive/MyDrive/Colab Notebooks/Model/VGG16_Model4_Fix.h5')\n",
        "\n",
        "model_load.summary()"
      ],
      "execution_count": 24,
      "outputs": [
        {
          "output_type": "stream",
          "text": [
            "Model: \"sequential\"\n",
            "_________________________________________________________________\n",
            "Layer (type)                 Output Shape              Param #   \n",
            "=================================================================\n",
            "conv2d (Conv2D)              (None, 48, 48, 64)        640       \n",
            "_________________________________________________________________\n",
            "conv2d_1 (Conv2D)            (None, 48, 48, 64)        36928     \n",
            "_________________________________________________________________\n",
            "max_pooling2d (MaxPooling2D) (None, 24, 24, 64)        0         \n",
            "_________________________________________________________________\n",
            "dropout (Dropout)            (None, 24, 24, 64)        0         \n",
            "_________________________________________________________________\n",
            "batch_normalization (BatchNo (None, 24, 24, 64)        256       \n",
            "_________________________________________________________________\n",
            "conv2d_2 (Conv2D)            (None, 24, 24, 128)       73856     \n",
            "_________________________________________________________________\n",
            "conv2d_3 (Conv2D)            (None, 24, 24, 128)       147584    \n",
            "_________________________________________________________________\n",
            "max_pooling2d_1 (MaxPooling2 (None, 12, 12, 128)       0         \n",
            "_________________________________________________________________\n",
            "dropout_1 (Dropout)          (None, 12, 12, 128)       0         \n",
            "_________________________________________________________________\n",
            "batch_normalization_1 (Batch (None, 12, 12, 128)       512       \n",
            "_________________________________________________________________\n",
            "conv2d_4 (Conv2D)            (None, 12, 12, 256)       295168    \n",
            "_________________________________________________________________\n",
            "conv2d_5 (Conv2D)            (None, 12, 12, 256)       590080    \n",
            "_________________________________________________________________\n",
            "conv2d_6 (Conv2D)            (None, 12, 12, 256)       590080    \n",
            "_________________________________________________________________\n",
            "max_pooling2d_2 (MaxPooling2 (None, 6, 6, 256)         0         \n",
            "_________________________________________________________________\n",
            "dropout_2 (Dropout)          (None, 6, 6, 256)         0         \n",
            "_________________________________________________________________\n",
            "batch_normalization_2 (Batch (None, 6, 6, 256)         1024      \n",
            "_________________________________________________________________\n",
            "conv2d_7 (Conv2D)            (None, 6, 6, 512)         1180160   \n",
            "_________________________________________________________________\n",
            "conv2d_8 (Conv2D)            (None, 6, 6, 512)         2359808   \n",
            "_________________________________________________________________\n",
            "conv2d_9 (Conv2D)            (None, 6, 6, 512)         2359808   \n",
            "_________________________________________________________________\n",
            "max_pooling2d_3 (MaxPooling2 (None, 3, 3, 512)         0         \n",
            "_________________________________________________________________\n",
            "dropout_3 (Dropout)          (None, 3, 3, 512)         0         \n",
            "_________________________________________________________________\n",
            "batch_normalization_3 (Batch (None, 3, 3, 512)         2048      \n",
            "_________________________________________________________________\n",
            "flatten (Flatten)            (None, 4608)              0         \n",
            "_________________________________________________________________\n",
            "dense (Dense)                (None, 512)               2359808   \n",
            "_________________________________________________________________\n",
            "dropout_4 (Dropout)          (None, 512)               0         \n",
            "_________________________________________________________________\n",
            "dense_1 (Dense)              (None, 512)               262656    \n",
            "_________________________________________________________________\n",
            "dropout_5 (Dropout)          (None, 512)               0         \n",
            "_________________________________________________________________\n",
            "dense_2 (Dense)              (None, 512)               262656    \n",
            "_________________________________________________________________\n",
            "dropout_6 (Dropout)          (None, 512)               0         \n",
            "_________________________________________________________________\n",
            "dense_3 (Dense)              (None, 7)                 3591      \n",
            "=================================================================\n",
            "Total params: 10,526,663\n",
            "Trainable params: 10,524,743\n",
            "Non-trainable params: 1,920\n",
            "_________________________________________________________________\n"
          ],
          "name": "stdout"
        }
      ]
    },
    {
      "cell_type": "code",
      "metadata": {
        "colab": {
          "base_uri": "https://localhost:8080/"
        },
        "id": "nQd7m45qfWBW",
        "outputId": "61e930c0-23d9-4fcf-b7de-56ab2d1b9e32"
      },
      "source": [
        "trainloss = model_load.evaluate(train_flow, steps=len(X_train) / batch_size) \n",
        "print(\"Train Loss \" + str(trainloss[0]))\n",
        "print(\"Train Acc: \" + str(trainloss[1]))\n",
        "valloss = model_load.evaluate(val_flow, steps=len(X_val) / batch_size) \n",
        "print(\"Val Loss \" + str(valloss[0]))\n",
        "print(\"Val Acc: \" + str(valloss[1]))\n",
        "testloss = model_load.evaluate(test_flow, steps=len(X_test) / batch_size) \n",
        "print(\"Test Loss \" + str(testloss[0]))\n",
        "print(\"Test Acc: \" + str(testloss[1]))"
      ],
      "execution_count": 26,
      "outputs": [
        {
          "output_type": "stream",
          "text": [
            "448/448 [==============================] - 11s 25ms/step - loss: 0.6418 - accuracy: 0.7840\n",
            "Train Loss 0.6417677402496338\n",
            "Train Acc: 0.7840398550033569\n",
            "56/56 [==============================] - 1s 16ms/step - loss: 0.9164 - accuracy: 0.6695\n",
            "Val Loss 0.9163621664047241\n",
            "Val Acc: 0.6695458292961121\n",
            "56/56 [==============================] - 1s 16ms/step - loss: 0.8892 - accuracy: 0.6765\n",
            "Test Loss 0.8892430067062378\n",
            "Test Acc: 0.6765115857124329\n"
          ],
          "name": "stdout"
        }
      ]
    },
    {
      "cell_type": "code",
      "metadata": {
        "colab": {
          "base_uri": "https://localhost:8080/"
        },
        "id": "Wt_L9dXqfjWT",
        "outputId": "2e0d2884-9e1c-440f-8b9e-7950d3979fb6"
      },
      "source": [
        "from sklearn.metrics import confusion_matrix, classification_report\n",
        "from mlxtend.plotting import plot_confusion_matrix\n",
        "\n",
        "test_prob = model_load.predict(X_test)\n",
        "test_pred = np.argmax(test_prob, axis=1)\n",
        "test_accuracy = np.mean(test_pred == y_test)\n",
        "\n",
        "print(test_accuracy)"
      ],
      "execution_count": 40,
      "outputs": [
        {
          "output_type": "stream",
          "text": [
            "False\n",
            "0.0\n"
          ],
          "name": "stdout"
        },
        {
          "output_type": "stream",
          "text": [
            "/usr/local/lib/python3.7/dist-packages/ipykernel_launcher.py:11: DeprecationWarning: elementwise comparison failed; this will raise an error in the future.\n",
            "  # This is added back by InteractiveShellApp.init_path()\n"
          ],
          "name": "stderr"
        }
      ]
    },
    {
      "cell_type": "code",
      "metadata": {
        "id": "Qd3n73LGJjr8"
      },
      "source": [
        "emotions = {0: 'Angry', 1: 'Disgust', 2: 'Fear', 3: 'Happy', 4: 'Sad', 5: 'Surprise', 6: 'Neutral'}\n",
        "\n",
        "conf_mat = confusion_matrix(y_test, test_pred)\n",
        "pd.DataFrame(conf_mat, columns=emotions.values(), index=emotions.values())\n",
        "\n",
        "fig, ax = plot_confusion_matrix(conf_mat=conf_mat,show_normed=True,show_absolute=False,figsize=(8, 8))\n",
        "fig.show()"
      ],
      "execution_count": null,
      "outputs": []
    },
    {
      "cell_type": "code",
      "metadata": {
        "colab": {
          "base_uri": "https://localhost:8080/",
          "height": 163
        },
        "id": "h3kZXDkZJ3E7",
        "outputId": "b8962e58-240c-4123-dd74-d1fa0ad5b52e"
      },
      "source": [
        "print(classification_report(y_test, test_pred, target_names=emotions.values()))"
      ],
      "execution_count": 31,
      "outputs": [
        {
          "output_type": "error",
          "ename": "NameError",
          "evalue": "ignored",
          "traceback": [
            "\u001b[0;31m---------------------------------------------------------------------------\u001b[0m",
            "\u001b[0;31mNameError\u001b[0m                                 Traceback (most recent call last)",
            "\u001b[0;32m<ipython-input-31-fc0d0a3db01d>\u001b[0m in \u001b[0;36m<module>\u001b[0;34m()\u001b[0m\n\u001b[0;32m----> 1\u001b[0;31m \u001b[0mprint\u001b[0m\u001b[0;34m(\u001b[0m\u001b[0mclassification_report\u001b[0m\u001b[0;34m(\u001b[0m\u001b[0mytest\u001b[0m\u001b[0;34m,\u001b[0m \u001b[0mtest_pred\u001b[0m\u001b[0;34m,\u001b[0m \u001b[0mtarget_names\u001b[0m\u001b[0;34m=\u001b[0m\u001b[0memotions\u001b[0m\u001b[0;34m.\u001b[0m\u001b[0mvalues\u001b[0m\u001b[0;34m(\u001b[0m\u001b[0;34m)\u001b[0m\u001b[0;34m)\u001b[0m\u001b[0;34m)\u001b[0m\u001b[0;34m\u001b[0m\u001b[0;34m\u001b[0m\u001b[0m\n\u001b[0m",
            "\u001b[0;31mNameError\u001b[0m: name 'ytest' is not defined"
          ]
        }
      ]
    },
    {
      "cell_type": "markdown",
      "metadata": {
        "id": "VveOAjyz-GGm"
      },
      "source": [
        "# Predict"
      ]
    },
    {
      "cell_type": "code",
      "metadata": {
        "id": "EhKtgt6gsIc2"
      },
      "source": [
        "from skimage import io\n",
        "img = image.load_img('/content/drive/My Drive/s.jpg', grayscale=True, target_size=(48, 48))\n",
        "show_img=image.load_img('/content/drive/My Drive/s.jpg', grayscale=False, target_size=(200, 200))\n",
        "x = image.img_to_array(img)\n",
        "x = np.expand_dims(x, axis = 0)\n",
        "\n",
        "x /= 255\n",
        "\n",
        "custom = model.predict(x)\n",
        "#print(custom[0])\n",
        "emotion_analysis(custom[0])\n",
        "\n",
        "x = np.array(x, 'float32')\n",
        "x = x.reshape([48, 48]);\n",
        "\n",
        "plt.gray()\n",
        "plt.imshow(show_img)\n",
        "plt.show()\n",
        "\n",
        "m=0.000000000000000000001\n",
        "a=custom[0]\n",
        "for i in range(0,len(a)):\n",
        "    if a[i]>m:\n",
        "        m=a[i]\n",
        "        ind=i\n",
        "        \n",
        "print('Expression Prediction:',emotions_lab[ind])"
      ],
      "execution_count": null,
      "outputs": []
    }
  ]
}